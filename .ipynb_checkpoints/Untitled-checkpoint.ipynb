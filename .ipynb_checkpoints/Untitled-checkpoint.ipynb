{
 "cells": [
  {
   "cell_type": "code",
   "execution_count": 13,
   "metadata": {},
   "outputs": [],
   "source": [
    "from bs4 import BeautifulSoup\n",
    "import requests"
   ]
  },
  {
   "cell_type": "code",
   "execution_count": 12,
   "metadata": {},
   "outputs": [
    {
     "data": {
      "text/plain": [
       "bs4.BeautifulSoup"
      ]
     },
     "execution_count": 12,
     "metadata": {},
     "output_type": "execute_result"
    }
   ],
   "source": [
    "BeautifulSoup"
   ]
  },
  {
   "cell_type": "code",
   "execution_count": 220,
   "metadata": {},
   "outputs": [],
   "source": [
    "res = requests.get('https://nba.udn.com/nba/cate/6754/-1/newest/2')"
   ]
  },
  {
   "cell_type": "code",
   "execution_count": 221,
   "metadata": {},
   "outputs": [
    {
     "data": {
      "text/plain": [
       "<Response [200]>"
      ]
     },
     "execution_count": 221,
     "metadata": {},
     "output_type": "execute_result"
    }
   ],
   "source": [
    "res"
   ]
  },
  {
   "cell_type": "code",
   "execution_count": 222,
   "metadata": {
    "scrolled": true
   },
   "outputs": [
    {
     "data": {
      "text/plain": [
       "'<!DOCTYPE html><html lang=\"zh-TW\"><!--total：0.0016--><head><meta http-equiv=\"X-UA-Compatible\" content=\"IE=edge\"><meta name=\"viewport\" content=\"width=device-width, initial-scale=1.0, maximum-scale=1.0, minimum-scale=1.0\"/><meta charset=\"utf-8\" /><!-- favicon --><link rel=\"shortcut icon\" type=\"image/x-icon\" href=\"/favicon.ico\" /><link rel=\"icon\" type=\"image/x-icon\" href=\"/favicon.ico\" /><link rel=\"apple-touch-icon\" href=\"/favicon.ico\" /><!-- for twitter--><meta name=\"twitter:card\" content=\"summary\" /><!-- for Facebook --><meta property=\"og:title\" content=\"新聞 | NBA 台灣\"/><meta property=\"og:type\" content=\"website\"/><meta property=\"og:url\" content=\"https://nba.udn.com/nba/cate/6754\"/><meta property=\"og:image\" content=\"https://nba.udn.com/img/udn_nba.png\"/><meta property=\"og:site_name\" content=\"NBA 台灣\"/><meta property=\"og:description\" content=\"最詳盡的賽前分析與即時的賽後報導，完整的球員動態與第一手的球隊消息等內容，都在NBA Taiwan News。\"/><meta property=\"fb:admins\" content=\"100002847892748\" /><meta property=\"fb:app_id\" content=\"834325726586022\" /><meta property=\"fb:pages\"content=\"1376695819294068\" /><!-- for Google --><meta name=\"description\" content=\"最詳盡的賽前分析與即時的賽後報導，完整的球員動態與第一手的球隊消息等內容，都在NBA Taiwan News。\" /><meta name=\"author\" content=\"聯合新聞網\" /><meta name=\"copyright\" content=\"聯合新聞網\" /><meta name=\"application-name\" content=\"NBA 台灣\" /><meta property=\"og:image:width\" content=\"1500\"/><meta property=\"og:image:height\" content=\"1500\"/><meta property=\"article:author\" content=\"https://www.facebook.com/nba.taiwan/\" /><meta property=\"article:publisher\" content=\"https://www.facebook.com/nba.taiwan/\" /><meta name=\"URL\" content=\"https://nba.udn.com/nba/cate/6754\"/><meta name=\"date\" content=\"2019-10-26\"><meta name=\"channel_id\" content=\"2000\"/><meta name=\"cate_id\" content=\"6754\"/><link rel=\"canonical\" href=\"https://nba.udn.com/nba/cate/6754\"/><link rel=\"prev\" href=\"https://nba.udn.com/nba/cate/6754/-1/newest/1\"><link rel=\"next\" href=\"https://nba.udn.com/nba/cate/6754/-1/newest/3\"><title>新聞 | NBA 台灣</title><link rel=\"manifest\" href=\"//udn.com/upf/static/fcm/manifest.json\"><link rel=\"stylesheet\" href=\"https://s.udn.com.tw/static/font-icons/css/fontello.css\"><link rel=\"stylesheet\" href=\"/css/news.min.css?20190828\"><script src=\"https://www.gstatic.com/firebasejs/4.8.1/firebase.js?t=20180816\"></script><script src=\"https://udn.com/upf/static/fcm/nba/fcm_init.js?t=201703081428\"></script><script> //<![CDATA[\\n if (top.location != location && document.referrer.search(\"google.com\") < 0 && document.referrer.search(/\\\\.udn\\\\.com/) < 0) {\\n top.location.href = location.href;\\n }\\n //]]></script><!-- Google Tag Manager --><script>(function(w,d,s,l,i){w[l]=w[l]||[];w[l].push({\\'gtm.start\\':\\nnew Date().getTime(),event:\\'gtm.js\\'});var f=d.getElementsByTagName(s)[0],\\nj=d.createElement(s),dl=l!=\\'dataLayer\\'?\\'&l=\\'+l:\\'\\';j.async=true;j.src=\\n\\'https://www.googletagmanager.com/gtm.js?id=\\'+i+dl;f.parentNode.insertBefore(j,f);\\n})(window,document,\\'script\\',\\'dataLayer\\',\\'GTM-K7QR4WP\\');</script><!-- End Google Tag Manager --><!-- google analytics--><script>(function(i,s,o,g,r,a,m){i[\\'GoogleAnalyticsObject\\']=r;i[r]=i[r]||function(){\\n (i[r].q=i[r].q||[]).push(arguments)},i[r].l=1*new Date();a=s.createElement(o),\\n m=s.getElementsByTagName(o)[0];a.async=1;a.src=g;m.parentNode.insertBefore(a,m)\\n })(window,document,\\'script\\',\\'//www.google-analytics.com/analytics.js\\',\\'ga\\');</script><!-- google analytics--><!-- Begin comScore Tag --><script>var _comscore = _comscore || [];\\n_comscore.push({ c1: \"2\", c2: \"7390954\" });\\n(function() {\\nvar s = document.createElement(\"script\"), el = document.getElementsByTagName(\"script\")[0]; s.async = true;\\ns.src = (document.location.protocol == \"https:\" ? \"https://sb\" : \"http://b\") + \".scorecardresearch.com/beacon.js\";\\nel.parentNode.insertBefore(s, el);\\n})();</script><noscript><img src=\"//b.scorecardresearch.com/p?c1=2&c2=7390954&cv=2.0&cj=1\" /></noscript><!-- End comScore Tag --><script>/*!\\n * domready (c) Dustin Diaz 2012 - License MIT\\n */\\n!function(e,t){typeof module!=\"undefined\"?module.exports=t():typeof define==\"function\"&&typeof define.amd==\"object\"?define(t):this[e]=t()}(\"domready\",function(e){function p(e){h=1;while(e=t.shift())e()}var t=[],n,r=!1,i=document,s=i.documentElement,o=s.doScroll,u=\"DOMContentLoaded\",a=\"addEventListener\",f=\"onreadystatechange\",l=\"readyState\",c=o?/^loaded|^c/:/^loaded|c/,h=c.test(i[l]);return i[a]&&i[a](u,n=function(){i.removeEventListener(u,n,r),p()},r),o&&i.attachEvent(f,n=function(){/^c/.test(i[l])&&(i.detachEvent(f,n),p())}),e=o?function(n){self!=top?h?n():t.push(n):function(){try{s.doScroll(\"left\")}catch(t){return setTimeout(function(){e(n)},50)}n()}()}:function(e){h?e():t.push(e)}})</script><script>/* etu 專用 */\\nfunction GetCkValue(name) {\\nvar dc = document.cookie;\\nvar prefix = name + \"=\";\\nvar begin = dc.indexOf(\"; \" + prefix);\\nif (begin == -1) begin = dc.indexOf(prefix);\\nelse begin += 2;\\nif (begin == -1) return \"\";\\nvar end = document.cookie.indexOf(\";\", begin);\\nif (end == -1) end = dc.length;\\nreturn dc.substring(begin + prefix.length, end);\\n}</script><script>rId = function(){\\nreturn ;\\n}</script><!-- ETU --><script id=\"etu-recommender\" type=\"text/javascript\">function getLocation(){\\n if (navigator.geolocation){\\n navigator.geolocation.getCurrentPosition(getCurrentPosition, errorCallback ,positionOptions);\\n }else{\\n //alert(\"此瀏覽器不支援 Geolocation\");\\n return;\\n }\\n }\\n var ua = navigator.userAgent || navigator.vendor || window.opera;\\n if ( (ua.indexOf(\"FBAN\") > -1) || (ua.indexOf(\"FBAV\") > -1) ) {}\\n else if ( ua.indexOf(\"Twitter\") > -1 ) {}\\n else if ( ua.indexOf(\"Line\") > -1 ) {}\\n else if ( ua.indexOf(\"Safari\") > -1 && ua.indexOf(\"Chrome\") == -1) {}\\n else getLocation();\\n var latitude = \\'\\';\\n var longitude = \\'\\';\\n var latCookieName = \\'latitude\\';\\n var lonCookieName = \\'longitude\\';\\n var latValue = GetCkValue(latCookieName);\\n var lonValue = GetCkValue(lonCookieName);\\n if(latValue != null && latValue.length > 0){\\n latitude = latValue;\\n }\\n if(lonValue != null && lonValue > 0){\\n longitude = lonValue;\\n }\\n function getCurrentPosition(position){\\n console.log(\"pos:\"+position);\\n latitude = position.coords.latitude;\\n longitude = position.coords.longitude;\\n domready(function() {\\n $.cookie(latCookieName, latitude, { path: \\'/\\', expires: 1/24/2});\\n $.cookie(lonCookieName, longitude, { path: \\'/\\', expires: 1/24/2});\\n });\\n }\\n //選用項目\\n var positionOptions = {\\n enableHighAccuracy: false,//高準確度\\n timeout: 15000, //瀏覽器判斷位置時可用的時間長短。\\n maximumAge: 0 //瀏覽器必需重新計算位置的最大時限\\n };\\n //錯誤處理器\\n function errorCallback( error ) {\\n // 不處理\\n //console.log(\"position:\"+error);\\n }\\n var sereff = \\'\\';\\n if (document.referrer != \"http://\"+location.host+\"/\" || document.referrer != \"http://\"+location.host+\"/index.html\") {\\n sereff = document.referrer;\\n }\\n else {\\n sereff = GetCkValue(\\'dreffer\\');\\n }\\n console.log(\\'referrer: \\'+sereff);\\nvar atid = rId();\\nvar account = null;\\nvar sLogin = GetCkValue(\"udnmember\");\\nvar erUrlPrefix = \\'https://rec.udn.com/\\';\\nvar _qevents = _qevents || [];\\n_qevents.push({\\n cid : \\'udn_soft\\',\\n act : \\'view\\',\\n cat : [\\'nba\\',\\'cms\\',\\'6754,新聞\\',\\'6754,新聞\\',\\'6754,新聞\\'],\\n uid : sLogin,\\n bid : account,\\n pid : atid,\\n page :\\'CATEGORY\\',\\n Rank_cat:\\'17\\',\\n Rank_pid:\\'0\\',\\n title: \\'\\',\\n tag:[],\\n keywords: [],\\n group : \\'udn\\',\\n referral : sereff,\\n lat : GetCkValue(latCookieName),\\n lon : GetCkValue(lonCookieName)\\n});\\n(function() {\\nvar er = document.createElement(\\'script\\');\\ner.type = \\'text/javascript\\';\\ner.async = true;\\ner.src = erUrlPrefix + \\'er.js?\\' + (new Date().getTime());\\nvar currentJs = document.getElementById(\\'etu-recommender\\');\\ncurrentJs.parentNode.insertBefore(er, currentJs);\\n})();</script>\\n <!-- #Location: /inc/meta/trace --><!-- #Location: /inc/meta/structured --><!-- adobe digitalData --><script>var digitalData = {\"page\":{\"pageInfo\":{\"pageName\":\"tw:news:main\",\"language\":\"chinese\",\"partner\":\"udn\"},\"category\":{\"primaryCategory\":\"taiwan\",\"subCategory1\":\"tw:news\",\"subCategory2\":\"taiwan|nba tw|news|main\"}},\"content\":{\"type\":\"news\"}};</script><!-- adobe digitalData --><script src=\"//assets.adobedtm.com/launch-ENf3a5eb5de5de40d787976f9eed9d236e.min.js\" async></script><!--123456789，我是天天兒--><!-- #Location: /inc/ads/top_of_the_top_world/top_of_the_top_world_text_all --><!--天天兒2--><!-- #Location: /inc/ads/top_of_the_top_world/top_of_the_top_world_text_all --><!-- #Location: /inc/meta -->\\n  <script>!function(){function o(n,i){if(n&&i)for(var r in i)i.hasOwnProperty(r)&&(void 0===n[r]?n[r]=i[r]:n[r].constructor===Object&&i[r].constructor===Object?o(n[r],i[r]):n[r]=i[r])}try{var n=decodeURIComponent(\"\");if(n.length>0&&window.JSON&&\"function\"==typeof window.JSON.parse){var i=JSON.parse(n);void 0!==window.BOOMR_config?o(window.BOOMR_config,i):window.BOOMR_config=i}}catch(r){window.console&&\"function\"==typeof window.console.error&&console.error(\"mPulse: Could not parse configuration\",r)}}();</script>\\n  <script>!function(a){var e=\"https://s.go-mpulse.net/boomerang/\",t=\"addEventListener\";if(\"False\"==\"True\")a.BOOMR_config=a.BOOMR_config||{},a.BOOMR_config.PageParams=a.BOOMR_config.PageParams||{},a.BOOMR_config.PageParams.pci=!0,e=\"https://s2.go-mpulse.net/boomerang/\";if(function(){function n(e){a.BOOMR_onload=e&&e.timeStamp||(new Date).getTime()}if(!a.BOOMR||!a.BOOMR.version&&!a.BOOMR.snippetExecuted){a.BOOMR=a.BOOMR||{},a.BOOMR.snippetExecuted=!0;var i,o,r,O=document.createElement(\"iframe\");if(a[t])a[t](\"load\",n,!1);else if(a.attachEvent)a.attachEvent(\"onload\",n);O.src=\"javascript:void(0)\",O.title=\"\",O.role=\"presentation\",(O.frameElement||O).style.cssText=\"width:0;height:0;border:0;display:none;\",r=document.getElementsByTagName(\"script\")[0],r.parentNode.insertBefore(O,r);try{o=O.contentWindow.document}catch(_){i=document.domain,O.src=\"javascript:var d=document.open();d.domain=\\'\"+i+\"\\';void(0);\",o=O.contentWindow.document}o.open()._l=function(){var a=this.createElement(\"script\");if(i)this.domain=i;a.id=\"boomr-if-as\",a.src=e+\"XMGC2-D82B2-CJF9K-2Y8UH-9Q9ZE\",BOOMR_lstart=(new Date).getTime(),this.body.appendChild(a)},o.write(\"<bo\"+\\'dy onload=\"document._l();\">\\'),o.close()}}(),\"\".length>0)if(a&&\"performance\"in a&&a.performance&&\"function\"==typeof a.performance.setResourceTimingBufferSize)a.performance.setResourceTimingBufferSize();!function(){if(BOOMR=a.BOOMR||{},BOOMR.plugins=BOOMR.plugins||{},!BOOMR.plugins.AK){var e=\"\"==\"true\"?1:0,t=\"\",n=\"oisoamaxfgbmuxntdumq-f-524a92c4c-clientnsv4-s.akamaihd.net\",i={\"ak.v\":23,\"ak.cp\":\"488808\",\"ak.ai\":parseInt(\"316845\",10),\"ak.ol\":\"0\",\"ak.cr\":28,\"ak.ipv\":4,\"ak.proto\":\"\",\"ak.rid\":\"67511b6\",\"ak.r\":10046,\"ak.a2\":e,\"ak.m\":\"b\",\"ak.n\":\"essl\",\"ak.bpcip\":\"114.36.224.0\",\"ak.cport\":64367,\"ak.gh\":\"203.69.138.130\",\"ak.quicv\":\"\",\"ak.tlsv\":\"tls1.2\",\"ak.0rtt\":\"\",\"ak.csrc\":\"-\",\"ak.acc\":\"reno\",\"ak.t\":\"1572019481\"};if(\"\"!==t)i[\"ak.ruds\"]=t;var o={i:!1,av:function(e){var t=\"http.initiator\";if(e&&(!e[t]||\"spa_hard\"===e[t]))i[\"ak.feo\"]=void 0!==a.aFeoApplied?1:0,BOOMR.addVar(i)},rv:function(){var a=[\"ak.bpcip\",\"ak.cport\",\"ak.cr\",\"ak.csrc\",\"ak.gh\",\"ak.ipv\",\"ak.m\",\"ak.n\",\"ak.ol\",\"ak.proto\",\"ak.quicv\",\"ak.tlsv\",\"ak.0rtt\",\"ak.r\",\"ak.acc\",\"ak.t\"];BOOMR.removeVar(a)}};BOOMR.plugins.AK={akVars:i,akDNSPreFetchDomain:n,init:function(){if(!o.i){var a=BOOMR.subscribe;a(\"before_beacon\",o.av,null,null),a(\"onbeacon\",o.rv,null,null),o.i=!0}return this},is_complete:function(){return!0}}}}()}(window);</script></head><body class=\"category news_index\"><!-- Google Tag Manager (noscript) --><noscript><iframe src=\"https://www.googletagmanager.com/ns.html?id=GTM-K7QR4WP\"\\nheight=\"0\" width=\"0\" style=\"display:none;visibility:hidden\"></iframe></noscript><!-- End Google Tag Manager (noscript) --><!-- 20180717 要塞進DFP key-value 的client id --><script>function getCookie(name) {\\n var value = \"; \" + document.cookie;\\n var parts = value.split(\"; \" + name + \"=\");\\n if (parts.length == 2) return parts.pop().split(\";\").shift();\\n }\\n var clientId = getCookie(\\'_ga\\').split(\\'.\\')[2]+\\'.\\'+getCookie(\\'_ga\\').split(\\'.\\')[3];</script><script type=\\'text/javascript\\'> var googletag = googletag || {};\\n googletag.cmd = googletag.cmd || [];\\n (function() {\\n var gads = document.createElement(\\'script\\');\\n gads.async = true;\\n gads.type = \\'text/javascript\\';\\n var useSSL = \\'https:\\' == document.location.protocol;\\n gads.src = (useSSL ? \\'https:\\' : \\'http:\\') +\\n \\'//securepubads.g.doubleclick.net/tag/js/gpt.js\\';\\n var node = document.getElementsByTagName(\\'script\\')[0];\\n node.parentNode.insertBefore(gads, node);\\n })();</script><script type=\\'text/javascript\\'> ga(function(tracker) {\\n var clientId = tracker.get(\\'clientId\\');\\n console.log(\\'clientId: \\'+clientId);\\n });\\ngoogletag.cmd.push(function() {\\n/* 尺寸設定 */\\n/* 手機及網頁皆呈現 */\\nvar nba_web_mobile = googletag.sizeMapping().addSize([1000, 200], [[970, 90], [1000, 92], [728, 90], [970, 250]]).addSize([0, 0], [320, 100]).build();\\n/* 唯網頁呈現 */\\nvar nba_webonly_300x250 = googletag.sizeMapping().addSize([1000, 200], [300, 250]).addSize([0, 0], []).build();\\nvar nba_webonly_300x100 = googletag.sizeMapping().addSize([1000, 200], [300, 100]).addSize([0, 0], []).build();\\nvar nba_webonly_1000x200 = googletag.sizeMapping().addSize([1000, 200], [1000, 200]).addSize([0, 0], []).build();\\nvar nba_webonly_1000x92 = googletag.sizeMapping().addSize([1000, 200], [[1000, 92], [728, 90], [970, 90], [970, 250]]).addSize([0, 0], []).build();\\nvar nba_webonly_520x290 = googletag.sizeMapping().addSize([1000, 200], [\\'fluid\\', [520, 290]]).addSize([0, 0], []).build();\\nvar nba_webonly_Native_popular_334 = googletag.sizeMapping().addSize([1000, 200], [\\'fluid\\', [334, 80]]).addSize([0, 0], []).build();\\nvar nba_webonly_Native_extend_3_6 = googletag.sizeMapping().addSize([1000, 200], [\\'fluid\\', [241, 209]]).addSize([0, 0], []).build();\\nvar nba_webonly_Native_latest_3_6 = googletag.sizeMapping().addSize([1000, 200], [\\'fluid\\', [241, 209]]).addSize([0, 0], []).build();\\nvar nba_webonly_Native_popular_3_6 = googletag.sizeMapping().addSize([1000, 200], [\\'fluid\\', [241, 209]]).addSize([0, 0], []).build();\\nvar nba_webonly_EbarVideo = googletag.sizeMapping().addSize([1000, 200], [1, 1]).addSize([0, 0], []).build();\\n/* 唯手機呈現 */\\nvar nba_mobileonly_320x480 = googletag.sizeMapping().addSize([750, 200], []).addSize([0, 0], [\\'fluid\\', [1, 1], [320, 480]]).build();\\nvar nba_mobileonly = googletag.sizeMapping().addSize([1000, 200], []).addSize([0, 0], [300, 250]).build();\\n//var nba_mobileonly_300x250 = googletag.sizeMapping().addSize([1000, 200], []).addSize([0, 0], [[300, 250], [336, 280]]).build();\\nvar nba_mobileonly_300x250 = googletag.sizeMapping().addSize([1000, 200], []).addSize([0, 0], [\\'fluid\\', [300, 250], [336, 280], [300, 100]]).build();\\nvar nba_mobileonly_300x250_inline = googletag.sizeMapping().addSize([1000, 200], []).addSize([0, 0], [\\'fluid\\', [300, 250], [336, 280], [1, 1]]).build();\\nvar nba_mobileonly_Native_extend_3_6 = googletag.sizeMapping().addSize([1000, 200], []).addSize([0, 0], [\\'fluid\\', [241, 209]]).build();\\nvar nba_mobileonly_Native_latest_3_6 = googletag.sizeMapping().addSize([1000, 200], []).addSize([0, 0], [\\'fluid\\', [241, 209]]).build();\\nvar nba_mobileonly_Native_popular_3_6 = googletag.sizeMapping().addSize([1000, 200], []).addSize([0, 0], [\\'fluid\\', [241, 209]]).build();\\nvar mobileonly_320x50 = googletag.sizeMapping().addSize([1000, 200], []).addSize([0, 0], [\\'fluid\\', [320, 50],[320, 100],[1, 1]]).build();\\n/* 網頁及手機皆呈現 */\\nvar web_mobile_txtdown = googletag.sizeMapping().addSize([750, 200], [241, 209]).addSize([0, 0], [241, 209]).build();\\nvar nba_web_mobile_focus = googletag.sizeMapping().addSize([750, 200], [\\'fluid\\', [241, 209]]).addSize([0, 0], [\\'fluid\\', [241, 209]]).build();\\n\\n/* 參數定義 */\\n /* 網頁 --【NBA】業務部廣告 1000*92 (首頁) */\\n /* 網頁 --【NBA】業務部廣告 1000*92 (MENU列下方) */\\n /* (nba_webonly_1000x92) */\\n googletag.defineSlot(\\'/129853887/udn.com/NBA/Web/1000*92\\', [[1000, 92], [728, 90], [970, 90], [970, 250]], \\'div-gpt-ad-1452074421939-0\\').defineSizeMapping(nba_webonly_1000x92).setCollapseEmptyDiv(true).addService(googletag.pubads());\\n /* 網頁 --【NBA】業務部廣告 300*250 (首頁) */\\n /* 網頁 --【NBA】業務部廣告 300*250 (右側欄) */\\n /* (nba_webonly_300x250) */\\n googletag.defineSlot(\\'/129853887/udn.com/NBA/Web/300*250\\', [300, 250], \\'div-gpt-ad-1443763782750-2\\').defineSizeMapping(nba_webonly_300x250).setCollapseEmptyDiv(true).addService(googletag.pubads());\\n /* 網頁 --【NBA】KIA 業務部廣告 300*250 (右側欄) */\\n googletag.defineSlot(\\'/129853887/udn.com/NBA/KIA/web300*250\\', [300, 250], \\'div-gpt-ad-1453951165886-3\\').defineSizeMapping(nba_webonly_300x250).setCollapseEmptyDiv(true).addService(googletag.pubads());\\n /* 網頁 --【NBA】業務部廣告 300*100 (首頁) */\\n /* 網頁 --【NBA】業務部廣告 300*100 (右側欄)+圖輯 */\\n /* 20180129改300*250*/\\n /* DFP 免費版 code */\\n /* (nba_webonly_300x100) */\\n /* (nba_webonly_300x250) */\\n googletag.defineSlot(\\'/4576170/NBA_web_300*100\\', [300, 250], \\'div-gpt-ad-1443766449322-0\\').defineSizeMapping(nba_webonly_300x250).setCollapseEmptyDiv(true).addService(googletag.pubads());\\n /* 網頁 --【NBA】KIA 業務部廣告 300*100 (右側欄) */\\n googletag.defineSlot(\\'/129853887/udn.com/NBA/KIA/web300*100\\', [300, 100], \\'div-gpt-ad-1453951165886-2\\').defineSizeMapping(nba_webonly_300x100).setCollapseEmptyDiv(true).addService(googletag.pubads());\\n /* 網頁 --【NBA業務部】內頁文尾520*290 */\\n /* (nba_webonly_520x290) */\\n googletag.defineSlot(\\'/4576170/NBA_520*290\\', [\\'fluid\\', [520, 290]], \\'div-gpt-ad-1511773097110-0\\').defineSizeMapping(nba_webonly_520x290).setCollapseEmptyDiv(true).addService(googletag.pubads());\\n /* (nba_webonly_EbarVideo) */\\n /* 網頁 -- 【NBA】E-barVideo廣告 (google拆code) */\\n googletag.defineSlot(\\'/4576170/NBA_EbarVideo\\', [1, 1], \\'div-gpt-ad-1564037406744-0\\').defineSizeMapping(nba_webonly_EbarVideo).setCollapseEmptyDiv(true).addService(googletag.pubads());\\n /* 手機及網頁 --【NBA業務部】文尾文字 (PC + mobile) */\\n /* (web_mobile_txtdown) */\\n googletag.defineSlot(\\'/4576170/NBA_txtdown\\', [241, 209], \\'div-gpt-ad-1511773219373-0\\').defineSizeMapping(web_mobile_txtdown).setCollapseEmptyDiv(true).addService(googletag.pubads());\\n /* 手機 --【NBA】業務部廣告 手機版300*100 (首頁) XXXXXXX */\\n /* 手機 --【NBA_Mobile】業務部廣告_300*250 (MENU列下方) */\\n /* (nba_mobileonly_300x250) */\\n googletag.defineSlot(\\'/129853887/udn.com/NBA/Mobile/320*50-1\\', [\\'fluid\\', [300, 250], [336, 280]], \\'div-gpt-ad-1456911575971-0\\').defineSizeMapping(nba_mobileonly_300x250).setCollapseEmptyDiv(true).addService(googletag.pubads());\\n /* 手機 --【NBA_Mobile】業務部廣告_300*250 (內文頁廣告區塊) */\\n /* 手機 --【NBA_Mobile】業務部廣告_焦點新聞下方_300*250 */\\n /* 新版改位置 , 內文頁廣告區塊 改 內文下方 */\\n /* 手機 --【NBA_Mobile】業務部廣告_300*250 (內文下方) */\\n /* (nba_mobileonly_300x250) */\\n //googletag.defineSlot(\\'/129853887/udn.com/NBA/Mobile/300*250\\', [[300, 250], [336, 280]] \\'div-gpt-ad-1446174283555-0\\').defineSizeMapping(nba_mobileonly_300x250).setCollapseEmptyDiv(true).addService(googletag.pubads());\\n /* (nba_mobileonly) */\\n googletag.defineSlot(\\'/129853887/udn.com/NBA/Mobile/300*250\\', [[300, 250], [300, 100]], \\'div-gpt-ad-1446174283555-0\\').defineSizeMapping(nba_mobileonly_300x250).setCollapseEmptyDiv(true).addService(googletag.pubads());\\n /* 手機及網頁 --【NBA】KIA業務部廣告 1000*92 + 手機320*100第一個 (MENU列下方) */\\n googletag.defineSlot(\\'/129853887/udn.com/NBA/KIA/1000*92_320*100\\', [[728, 90], [1000, 92], [970, 90], [320, 50], [320, 100]], \\'div-gpt-ad-1453951165886-1\\').defineSizeMapping(nba_web_mobile).setCollapseEmptyDiv(true).addService(googletag.pubads());\\n /* (nba_webonly_1000x200) */\\n /* 網頁 --KIA 1000x200 */\\n googletag.defineSlot(\\'/129853887/udn.com/NBA/KIA/web1000*200\\', [1000, 200], \\'div-gpt-ad-1453951165886-0\\').defineSizeMapping(nba_webonly_1000x200).setCollapseEmptyDiv(true).addService(googletag.pubads());\\n /* (nba_mobileonly_320x480) */\\n /* 先用 News 覆蓋的 Div id div-gpt-ad-1496826774110-0 */\\n /* googletag.defineSlot(\\'/129853887/udn.com/NBA/Mobile/320*480-1\\', [\\'fluid\\', [1, 1], [320, 480]], \\'div-gpt-ad-1496906126686-0\\').defineSizeMapping(nba_mobileonly_320x480).setCollapseEmptyDiv(true).addService(googletag.pubads()); */\\n googletag.defineSlot(\\'/129853887/udn.com/NBA/Mobile/320*480-1\\', [\\'fluid\\', [1, 1], [320, 480]], \\'div-gpt-ad-1496826774110-0\\').defineSizeMapping(nba_mobileonly_320x480).setCollapseEmptyDiv(true).addService(googletag.pubads());\\n /* 新開 NBA 新開 */\\n /* 新開 NBA 新開 */\\n /* 新開 NBA 新開 */\\n /* 原生廣告 */\\n /* (nba_webonly_Native_extend_3_6) */\\n /* 網頁 -- 【NBA】延伸閱讀 第三則 (Desktop) google拆code [免費版] */\\n googletag.defineSlot(\\'/4576170/NBA_extend_Native3\\', [\\'fluid\\', [241, 209]], \\'div-gpt-ad-1515658508416-2\\').defineSizeMapping(nba_webonly_Native_extend_3_6).setCollapseEmptyDiv(true).addService(googletag.pubads());\\n /* 網頁 -- 【NBA】延伸閱讀 第六則 (Desktop) google拆code [免費版] */\\n googletag.defineSlot(\\'/4576170/NBA_extend_Native6\\', [\\'fluid\\', [241, 209]], \\'div-gpt-ad-1515658508416-3\\').defineSizeMapping(nba_webonly_Native_extend_3_6).setCollapseEmptyDiv(true).addService(googletag.pubads());\\n /* (nba_webonly_Native_latest_3_6) */\\n /* 網頁 -- 【NBA】最新文章 第三則 (Desktop) google拆code [免費版] */\\n googletag.defineSlot(\\'/4576170/NBA_latest_Native3\\', [\\'fluid\\', [241, 209]], \\'div-gpt-ad-1515658508416-6\\').defineSizeMapping(nba_webonly_Native_latest_3_6).setCollapseEmptyDiv(false).addService(googletag.pubads());\\n /* 網頁 -- 【NBA】最新文章 第六則 (Desktop) google拆code [免費版] */\\n googletag.defineSlot(\\'/4576170/NBA_latest_Native6\\', [\\'fluid\\', [241, 209]], \\'div-gpt-ad-1515658508416-7\\').defineSizeMapping(nba_webonly_Native_latest_3_6).setCollapseEmptyDiv(false).addService(googletag.pubads());\\n /* (nba_webonly_Native_popular_3_6) */\\n /* 網頁 -- 【NBA】熱門文章 第三則 (Desktop) google拆code [免費版] */\\n googletag.defineSlot(\\'/4576170/NBA_popular_Native3\\', [\\'fluid\\', [241, 209]], \\'div-gpt-ad-1515658508416-12\\').defineSizeMapping(nba_webonly_Native_popular_3_6).setCollapseEmptyDiv(false).addService(googletag.pubads());\\n /* 網頁 -- 【NBA】熱門文章 第六則 (Desktop) google拆code [免費版] */\\n googletag.defineSlot(\\'/4576170/NBA_popular_Native6\\', [\\'fluid\\', [241, 209]], \\'div-gpt-ad-1515658508416-13\\').defineSizeMapping(nba_webonly_Native_popular_3_6).setCollapseEmptyDiv(false).addService(googletag.pubads());\\n /* 原生廣告 */\\n /* (nba_mobileonly_Native_extend_3_6) */\\n /* 手機 -- 【NBA】延伸閱讀 第三則 (Mobile) google拆code [免費版] */\\n googletag.defineSlot(\\'/4576170/NBA_extend_Native3_Mobile\\', [\\'fluid\\', [241, 209]], \\'div-gpt-ad-1515658508416-0\\').defineSizeMapping(nba_mobileonly_Native_extend_3_6).setCollapseEmptyDiv(true).addService(googletag.pubads());\\n /* 手機 -- 【NBA】延伸閱讀 第六則 (Mobile) google拆code [免費版] */\\n googletag.defineSlot(\\'/4576170/NBA_extend_Native6_Mobile\\', [\\'fluid\\', [241, 209]], \\'div-gpt-ad-1515658508416-1\\').defineSizeMapping(nba_mobileonly_Native_extend_3_6).setCollapseEmptyDiv(true).addService(googletag.pubads());\\n /* (nba_mobileonly_Native_latest_3_6) */\\n /* 手機 -- 【NBA】最新文章 第三則 (Mobile) google拆code [免費版] */\\n googletag.defineSlot(\\'/4576170/NBA_latest_Native3_Mobile\\', [\\'fluid\\', [241, 209]], \\'div-gpt-ad-1515658508416-4\\').defineSizeMapping(nba_mobileonly_Native_latest_3_6).setCollapseEmptyDiv(false).addService(googletag.pubads());\\n /* 手機 -- 【NBA】最新文章 第六則 (Mobile) google拆code [免費版] */\\n googletag.defineSlot(\\'/4576170/NBA_latest_Native6_Mobile\\', [\\'fluid\\', [241, 209]], \\'div-gpt-ad-1515658508416-5\\').defineSizeMapping(nba_mobileonly_Native_latest_3_6).setCollapseEmptyDiv(false).addService(googletag.pubads());\\n /* (nba_mobileonly_Native_popular_3_6) */\\n /* 手機 -- 【NBA】熱門文章 第三則 (Mobile) google拆code [免費版] */\\n googletag.defineSlot(\\'/4576170/NBA_popular_Native6_Mobile\\', [\\'fluid\\', [241, 209]], \\'div-gpt-ad-1515658508416-10\\').defineSizeMapping(nba_mobileonly_Native_popular_3_6).setCollapseEmptyDiv(false).addService(googletag.pubads());\\n /* 手機 -- 【NBA】熱門文章 第六則 (Mobile) google拆code [免費版] */\\n googletag.defineSlot(\\'/4576170/NBA_popular_Native3_Mobile\\', [\\'fluid\\', [241, 209]], \\'div-gpt-ad-1515658508416-11\\').defineSizeMapping(nba_mobileonly_Native_popular_3_6).setCollapseEmptyDiv(false).addService(googletag.pubads());\\n /* (nba_webonly_300x250) */\\n /* 網頁 -- 【NBA】閒置頁面300x250 (google拆code) */\\n window.idle_slot = googletag.defineSlot(\\'/4576170/NBA_idle_300*250\\', [300, 250], \\'div-gpt-ad-1515658508416-8\\').defineSizeMapping(nba_webonly_300x250).setCollapseEmptyDiv(true).addService(googletag.pubads());\\n /* (nba_webonly_Native_popular_334) */\\n /* 網頁 -- 【NBA】閒置頁面圖文廣告第三則 (google拆code) */\\n window.idle_slot2 = googletag.defineSlot(\\'/4576170/NBA_idle_Native\\', [\\'fluid\\', [334, 80]], \\'div-gpt-ad-1515658508416-9\\').defineSizeMapping(nba_webonly_Native_popular_334).setCollapseEmptyDiv(true).addService(googletag.pubads());\\n /* (nba_mobileonly_300x250_inline) */\\n /* 手機 -- 【NBA】Mobile文中大佈告300*250廣告 (google拆code) [免費版] */\\n /* googletag.defineSlot(\\'/4576170/NBA_Mobile_300*250_inline\\', [\\'fluid\\', [300, 250], [336, 280], [1, 1]], \\'div-gpt-ad-1516178094684-0\\').defineSizeMapping(nba_mobileonly_300x250).setCollapseEmptyDiv(true).addService(googletag.pubads()); */\\n googletag.defineSlot(\\'/4576170/NBA_Mobile_300*250_inline\\', [\\'fluid\\', [300, 250], [336, 280], [1, 1]], \\'div-gpt-ad-1503996040247-0\\').defineSizeMapping(nba_mobileonly_300x250_inline).setCollapseEmptyDiv(true).addService(googletag.pubads());\\n /* (nba_mobileonly_300x250) */\\n /* 手機 -- 【NBA】Mobile最新文章大佈告300*250廣告 (google拆code) [免費版] */\\n googletag.defineSlot(\\'/4576170/NBA_Mobile_300*250_latest\\', [[300, 250], [336, 280]], \\'div-gpt-ad-1516609054623-0\\').defineSizeMapping(nba_mobileonly_300x250).setCollapseEmptyDiv(true).addService(googletag.pubads());\\n /* 手機 -- 【NBA】Mobile熱門文章大佈告300*250廣告 (google拆code) [免費版] */\\n googletag.defineSlot(\\'/4576170/NBA_Mobile_300*250_popular\\', [[300, 250], [336, 280]], \\'div-gpt-ad-1516609054623-1\\').defineSizeMapping(nba_mobileonly_300x250).setCollapseEmptyDiv(true).addService(googletag.pubads());\\n /* (nba_web_mobile_focus) */\\n /* 網頁及手機 -- 【NBA】焦點新聞 第四則 (PC+Mobile) google拆code [免費版] */\\n googletag.defineSlot(\\'/4576170/NBA_focus_Native\\', [\\'fluid\\', [241, 209]], \\'div-gpt-ad-1532663627862-0\\').defineSizeMapping(nba_web_mobile_focus).setCollapseEmptyDiv(true).addService(googletag.pubads());\\n /* (mobileonly_320x50) */\\n /* 手機 -- 【NBA】Mobile置底廣告320*50 (google拆code) */\\n googletag.defineSlot(\\'/4576170/NBA_Mobile_float\\', [\\'fluid\\', [320, 100], [1, 1], [320, 50]], \\'div-gpt-ad-1438159466246-0\\').defineSizeMapping(mobileonly_320x50).setCollapseEmptyDiv(true).addService(googletag.pubads());\\n googletag.pubads().enableSingleRequest();\\n googletag.pubads().setTargeting(\"eruid\", GetCkValue(\"__eruid\"));\\n googletag.pubads().setTargeting(\"clientId\", clientId);\\n googletag.pubads().setTargeting(\"cat\", [\\'2000\\',\\'NBA 台灣\\',\\'6754\\',\\'新聞\\',\\'\\',\\'\\']);\\ngoogletag.pubads().setTargeting(\"aid\", \\'null\\');\\ngoogletag.pubads().setTargeting(\"page\", \\'CATEGORY\\');\\ngoogletag.pubads().setTargeting(\"tag\", null);\\ngoogletag.enableServices();\\n/* #Location: inc/meta/skytop_dfp */\\n setInterval(function() {\\n googletag.pubads().refresh([idle_slot2]);\\n }, 60000)\\n });</script><!-- #Location: /inc/ads/top_of_the_world/top_of_the_world_text_all --><div id=\"sb-site\"><!-- 更新提醒視窗 --><div id=\"browser-update\"><a href=\"\" target=\"_blank\">親愛的網友：<br>為確保您享有最佳的瀏覽體驗，建議您提升您的 IE 瀏覽器至<span>最新版本</span>，感謝您的配合。</a><div class=\"close\">✕</div></div><!-- /更新提醒視窗 --><div id=\"container\" ><!-- start global header --><div id=\"header\"><div id=\"global-nav\"><div id=\"edition_wrapper\"><div id=\"edition\" class=\"edition_open\"><form name=\"editionForm\" class=\"hidden-sm\"><div class=\"rule\"></div><span class=\"choose-edition\">請選擇您的預設語言</span><span class=\"controls\"><label><input type=\"radio\" name=\"edition\" value=\"zh_TW\" class=\"set_HP_default\">繁體中文</label><label><input type=\"radio\" name=\"edition\" value=\"us\" class=\"set_HP_default\">US</label></span></form><div id=\"edition-mobile\" class=\"visible-sm\"><span class=\"edition-label\">預設語言: </span><select id=\"edition-select\" name=\"us\"><option value=\"us\" selected=\"selected\">US</option><option value=\"zh_TW\">繁體中文</option></select><div class=\"edition-go\">Go</div></div></div><div id=\"edition_message\" class=\"edition_closed\"><span class=\"edition-message\">已設定預設語言，有效期為一周</span></div></div><div class=\"container\"><div><div class=\"nav-collapse global-nav-collapse\"><ul id=\"global-nav-1\" class=\"nav navbar-nav\"><li class=\"nba-site\"><a href=\"#\" id=\"redirectNBA\">NBA.COM</a></li><li class=\" hidden-sm dropdown\"><a class=\"dropdown-toggle\" data-toggle=\"dropdown\">球隊</a><ul class=\"dropdown-menu\"><li><a target=\"_blank\" href=\"http://www.nba.com/hawks/\">Atlanta</a></li><li><a target=\"_blank\" href=\"http://www.nba.com/celtics/\">Boston</a></li><li><a target=\"_blank\" href=\"http://www.nba.com/nets/\">Brooklyn</a></li><li><a target=\"_blank\" href=\"http://www.nba.com/bobcats/\">Charlotte</a></li><li><a target=\"_blank\" href=\"http://www.nba.com/bulls/\">Chicago</a></li><li><a target=\"_blank\" href=\"http://www.nba.com/cavaliers/\">Cleveland</a></li><li><a target=\"_blank\" href=\"http://www.nba.com/mavericks/\">Dallas</a></li><li><a target=\"_blank\" href=\"http://www.nba.com/nuggets/\">Denver</a></li><li><a target=\"_blank\" href=\"http://www.nba.com/pistons/\">Detroit</a></li><li><a target=\"_blank\" href=\"http://www.nba.com/warriors/\">Golden State</a></li><li><a target=\"_blank\" href=\"http://www.nba.com/rockets/\">Houston</a></li><li><a target=\"_blank\" href=\"http://www.nba.com/pacers/\">Indiana</a></li><li><a target=\"_blank\" href=\"http://www.nba.com/clippers/\">LA Clippers</a></li><li><a target=\"_blank\" href=\"http://www.nba.com/lakers/\">LA Lakers</a></li><li><a target=\"_blank\" href=\"http://www.nba.com/grizzlies/\">Memphis</a></li><li><a target=\"_blank\" href=\"http://www.nba.com/heat/\">Miami</a></li><li><a target=\"_blank\" href=\"http://www.nba.com/bucks/\">Milwaukee</a></li><li><a target=\"_blank\" href=\"http://www.nba.com/timberwolves/\">Minnesota</a></li><li><a target=\"_blank\" href=\"http://www.nba.com/hornets/\">New Orleans</a></li><li><a target=\"_blank\" href=\"http://www.nba.com/knicks/\">New York</a></li><li><a target=\"_blank\" href=\"http://www.nba.com/thunder/\">Oklahoma City</a></li><li><a target=\"_blank\" href=\"http://www.nba.com/magic/\">Orlando</a></li><li><a target=\"_blank\" href=\"http://www.nba.com/sixers/\">Philadelphia</a></li><li><a target=\"_blank\" href=\"http://www.nba.com/suns/\">Phoenix</a></li><li><a target=\"_blank\" href=\"http://www.nba.com/blazers/\">Portland</a></li><li><a target=\"_blank\" href=\"http://www.nba.com/kings/\">Sacramento</a></li><li><a target=\"_blank\" href=\"http://www.nba.com/spurs/\">San Antonio</a></li><li><a target=\"_blank\" href=\"http://www.nba.com/raptors/\">Toronto</a></li><li><a target=\"_blank\" href=\"http://www.nba.com/jazz/\">Utah</a></li><li><a target=\"_blank\" href=\"http://www.nba.com/wizards/\">Washington</a></li></ul></li><li class=\"hidden-sm dropdown\"><a class=\"dropdown-toggle\" data-toggle=\"dropdown\">全球 NBA</a><ul class=\"dropdown-menu\"><!-- <li><a target=\"_blank\" href=\"http://www.nba.com/africa\">Africa</a></li> --><li><a target=\"_blank\" href=\"http://www.nba.com/argentina\">Argentina</a></li><li><a target=\"_blank\" href=\"http://www.nba.com/australia\">Australia</a></li><li><a target=\"_blank\" href=\"http://www.nba.com/belarus\">Belarus</a></li><li><a target=\"_blank\" href=\"http://www.nba.com/brasil\">Brasil</a></li><li><a target=\"_blank\" href=\"http://www.nba.com/canada\">Canada</a></li><li><a target=\"_blank\" href=\"http://www.nba.com/china\">中国</a></li><li><a target=\"_blank\" href=\"http://www.nba.com/enebea\">Enebea</a></li><li><a target=\"_blank\" href=\"http://www.nba.com/france\">France</a></li><li><a target=\"_blank\" href=\"http://www.nba.com/germany\">Germany</a></li><!-- <li><a target=\"_blank\" href=\"http://www.nba.com/greece\">Greece</a></li> --><li><a target=\"_blank\" href=\"http://www.nba.com/india\">India</a></li><li><a target=\"_blank\" href=\"http://www.nba.com/israel\">Israel</a></li><li><a target=\"_blank\" href=\"http://www.nba.com/italy\">Italy</a></li><li><a target=\"_blank\" href=\"http://www.nba.com/japan\">日本</a></li><li><a target=\"_blank\" href=\"http://www.nba.com/lithuania\">Lithuania</a></li><li><a target=\"_blank\" href=\"http://www.nba.com/arabic\">MENA</a></li><li><a target=\"_blank\" href=\"http://www.nba.com/mexico\">Mexico</a></li><!-- <li><a target=\"_blank\" href=\"http://www.nba.com/newzealand \">New Zealand</a></li> --><li><a target=\"_blank\" href=\"http://www.nba.com/philippines\">Philippines</a></li><li><a target=\"_blank\" href=\"http://www.nba.com/russia\">Russia</a></li><li><a target=\"_blank\" href=\"http://www.nba.com/spain\">Spain</a></li><li><a target=\"_blank\" href=\"http://www.nba.com/taiwan\">Taiwan</a></li><li><a target=\"_blank\" href=\"http://www.nba.com/turkey\">Turkey</a></li><li><a target=\"_blank\" href=\"http://www.nba.com/uk\">United Kingdom</a></li><li><a target=\"_blank\" href=\"http://www.nba.com/ukraine\">Ukraine</a></li></ul></li><li class=\"edition-site visible-desktop\"><a data-track=\"click\" data-type=\"set default edition\" class=\"setEdition\" data-id=\"taiwan.nba.com\" href=\"#\">設定預設語言</a></li></ul></div><!--/.nav-collapse --></div></div><!-- /#global-nav --></div><!-- /#global-nav --><div id=\"header_body\"><a id=\"header_menu_btn\" class=\"sb-toggle-left\" href=\"#header_menu_area\"></a><div class=\"udn_logo\"><a href=\"https://udn.com/news/index\" title=\"回聯合新聞網首頁\" target=\"_blank\"><img src=\"//s.udn.com.tw/static/img/logo_mark.svg\"></a><a href=\"https://udn.com/news/index\" title=\"回聯合新聞網首頁\" target=\"_blank\"><img src=\"/img/logo_name.svg\"></a><a href=\"https://nba.udn.com/nba/index\"><img src=\"/img/logo_nba.svg\"></a></div><a id=\"header_family_udn\" href=\"https://udn.com\" target=\"_blank\">獨家授權</a><div id=\"header_ad\" class=\"only_web ad\"><!--<iframe src=\"/ad2015/ad_160x50.html\" width=\"160\" height=\"50\" frameborder=\"0\" scrolling=\"no\"></iframe>--></div><!-- /#header_ad --><div id=\"header_family\"><a class=\"only_web\" id=\"leaguepass\" href=\"http://watch.nba.com/packages?ls=leaguepass:localsite:tw:udn:topnav\" target=\"_blank\">League Pass</a><a href=\"https://www.facebook.com/nba.taiwan\" target=\"_blank\" id=\"facebook\">facebook</a><a id=\"line\" href=\"https://line.me/R/ti/p/%40nba_taiwan\" target=\"_blank\">Line</a><a class=\"only_mobile\" id=\"nbastore\" href=\"http://www.nbastore.tw\">nba store</a></div><!-- /#header_family --><div class=\"header_search\"><form id=\"sform1\" name=\"sform1\"><input type=\"text\" name=\"q\" class=\"header_search_kw\" value=\"季後賽\"></form><a class=\"header_search_submit\" href=\"#\"></a></div><!-- /#header_search --></div><!-- /#header_body --></div><!-- /#header --><!-- end global header --><!-- start menu --><div id=\"menu\" class=\"menu\"><div id=\"menu_body\"><div class=\"horizon-swiper\"><div class=\"horizon-item \"><a href=\"//tw.global.nba.com/scores/\" >比分</a></div><div class=\"horizon-item \"><a href=\"//tw.global.nba.com/schedule/#!/7\" >賽程</a><ul><li><a href=\"https://nba.udn.com/nba/story/6780/4071379\" target=\"_blank\">重要日</a></li></ul></div><div class=\"only_mobile horizon-item\"><a href=\"https://nba.udn.com/nba/story/6780/4071379\" target=\"_blank\">重要日</a></div><div class=\"horizon-item \"><a href=\"https://nba.udn.com/nba/videos/\">影音</a></div><div class=\"horizon-item on\"><a href=\"https://nba.udn.com/nba/news/\">新聞</a><ul><li><a href=\"https://nba.udn.com/nba/cate/6754/6780\">NBA戰況</a></li><li><a href=\"https://nba.udn.com/nba/cate/6754/6779\">傷兵情報</a></li></ul></div><div class=\"horizon-item \"><a href=\"https://nba.udn.com/nba/review/\">球評</a><ul><li><a href=\"https://nba.udn.com/nba/cate/6755/8885\">monmo</a></li><li><a href=\"https://nba.udn.com/nba/cate/6755/7792\">Anfernee</a></li><li><a href=\"https://nba.udn.com/nba/cate/6755/7791\">Marion</a></li><li><a href=\"https://nba.udn.com/nba/cate/6755/12013\">yushi</a></li><li><a href=\"https://nba.udn.com/nba/cate/6755/12714\">手紙虎</a></li><li><a href=\"https://nba.udn.com/nba/cate/6755/12608\">Thousand</a></li><li><a href=\"https://nba.udn.com/nba/cate/6755/10718\">李亦伸</a></li><li><a href=\"https://nba.udn.com/nba/cate/6755/7445\">周汶昊</a></li><li><a href=\"https://nba.udn.com/nba/cate/6755/7444\">林文</a></li><li><a href=\"https://nba.udn.com/nba/cate/6755/8886\">Phatmen</a></li><li><a href=\"https://nba.udn.com/nba/cate/6755/8017\">AhUtopian </a></li><li><a href=\"https://nba.udn.com/nba/cate/6755/7790\">heartnsoul</a></li><li><a href=\"https://nba.udn.com/nba/cate/6755/12075\">美國職籃戰國策</a></li><li><a href=\"https://nba.udn.com/nba/cate/6755/9599\">林煒珽</a></li><li><a href=\"https://nba.udn.com/nba/cate/6755/7756\">梁起華</a></li><li><a href=\"https://nba.udn.com/nba/cate/6755/7442\">王老吉</a></li><li><a href=\"https://nba.udn.com/nba/cate/6755/7440\">朱子</a></li><li><a href=\"https://nba.udn.com/nba/cate/6755/8941\">基本工事</a></li><li><a href=\"https://nba.udn.com/nba/cate/6755/8855\">費恩斯</a></li><li><a href=\"https://nba.udn.com/nba/cate/6755/7789\">李修涵</a></li><li><a href=\"https://nba.udn.com/nba/cate/6755/7446\">jabbar</a></li><li><a href=\"https://nba.udn.com/nba/cate/6755/8189\">飛貓</a></li></ul></div><div class=\"horizon-item \"><a href=\"https://nba.udn.com/photos/index/\" target=\\'_blank\\'>圖輯</a></div><div class=\"horizon-item \"><a href=\"//tw.global.nba.com/standings/\" >戰績</a><ul><li><a href=\"https://tw.global.nba.com/playoffpicture/\" target=\"_blank\">季後賽對戰表</a></li><li><a href=\"https://tw.global.nba.com/draft/\" target=\"_blank\">選秀順位表</a></li></ul></div><div class=\"only_mobile horizon-item\"><a href=\"https://tw.global.nba.com/playoffpicture/\" target=\"_blank\">季後賽對戰表</a></div><div class=\"only_mobile horizon-item\"><a href=\"https://tw.global.nba.com/draft/\" target=\"_blank\">選秀順位表</a></div><div class=\"horizon-item \"><a href=\"https://nba.udn.com/nba/hot_player/\">焦點球星</a><ul><li><a href=\"https://nba.udn.com/nba/cate/7460/10239\">Russell Westbrook</a></li><li><a href=\"https://nba.udn.com/nba/cate/7460/7566\">Stephen Curry</a></li><li><a href=\"https://nba.udn.com/nba/cate/7460/7463\">LeBron James</a></li><li><a href=\"https://nba.udn.com/nba/cate/7460/7788\">James Harden</a></li></ul></div><div class=\"horizon-item \"><a href=\"//tw.global.nba.com/teamindex/\" >球隊</a><ul class=\"towrow\"><li><h2 class=\"menu-title\">東區</h2><ul><li><h3 class=\"menu-title-sub\">大西洋組</h3><ul><li><a target=\"_blank\" href=\"//tw.global.nba.com/teams/#!/celtics\" class=\"Boston\">波士頓塞爾蒂克</a></li><li><a target=\"_blank\" href=\"//tw.global.nba.com/teams/#!/nets\" class=\"Brooklyn\">布魯克林籃網</a></li><li><a target=\"_blank\" href=\"//tw.global.nba.com/teams/#!/knicks\" class=\"NY\">紐約尼克</a></li><li><a target=\"_blank\" href=\"//tw.global.nba.com/teams/#!/sixers\"\\n class=\"Philadelphia\">費城76人</a></li><li><a target=\"_blank\" href=\"//tw.global.nba.com/teams/#!/raptors\" class=\"Toronto\">多倫多暴龍</a></li></ul></li><li><h3 class=\"menu-title-sub\">中央組</h3><ul><li><a target=\"_blank\" href=\"//tw.global.nba.com/teams/#!/bulls\" class=\"Chicago\">芝加哥公牛</a></li><li><a target=\"_blank\" href=\"//tw.global.nba.com/teams/#!/cavaliers\"\\n class=\"Cleveland\">克里夫蘭騎士</a></li><li><a target=\"_blank\" href=\"//tw.global.nba.com/teams/#!/pistons\" class=\"Detroit\">底特律活塞</a></li><li><a target=\"_blank\" href=\"//tw.global.nba.com/teams/#!/pacers\" class=\"Indiana\">印第安納溜馬</a></li><li><a target=\"_blank\" href=\"//tw.global.nba.com/teams/#!/bucks\" class=\"Milwaukee\">密爾瓦基公鹿</a></li></ul></li><li><h3 class=\"menu-title-sub\">東南組</h3><ul><li><a target=\"_blank\" href=\"//tw.global.nba.com/teams/#!/hawks\" class=\"Atlanta\">亞特蘭大老鷹</a></li><li><a target=\"_blank\" href=\"//tw.global.nba.com/teams/#!/hornets\"\\n class=\"Charlotte\">夏洛特黃蜂</a></li><li><a target=\"_blank\" href=\"//tw.global.nba.com/teams/#!/heat\" class=\"Miami\">邁阿密熱火</a></li><li><a target=\"_blank\" href=\"//tw.global.nba.com/teams/#!/magic\" class=\"Orlando\">奧蘭多魔術</a></li><li><a target=\"_blank\" href=\"//tw.global.nba.com/teams/#!/wizards\"\\n class=\"Washington\">華盛頓巫師</a></li></ul></li></ul></li><li><h2 class=\"menu-title\">西區</h2><ul><li><h3 class=\"menu-title-sub\">西南組</h3><ul><li><a target=\"_blank\" href=\"//tw.global.nba.com/teams/#!/mavericks\" class=\"Dallas\">達拉斯獨行俠</a></li><li><a target=\"_blank\" href=\"//tw.global.nba.com/teams/#!/rockets\" class=\"Houston\">休士頓火箭</a></li><li><a target=\"_blank\" href=\"//tw.global.nba.com/teams/#!/grizzlies\"\\n class=\"Memphis\">曼斐斯灰熊</a></li><li><a target=\"_blank\" href=\"//tw.global.nba.com/teams/#!/pelicans\" class=\"NO\">紐奧良鵜鶘</a></li><li><a target=\"_blank\" href=\"//tw.global.nba.com/teams/#!/spurs\" class=\"San\">聖安東尼奧馬刺</a></li></ul></li><li><h3 class=\"menu-title-sub\">西北組</h3><ul><li><a target=\"_blank\" href=\"//tw.global.nba.com/teams/#!/nuggets\" class=\"Denver\">丹佛金塊</a></li><li><a target=\"_blank\" href=\"//tw.global.nba.com/teams/#!/timberwolves\" class=\"Minnesota\">明尼蘇達灰狼</a></li><li><a target=\"_blank\" href=\"//tw.global.nba.com/teams/#!/thunder\"\\n class=\"Oklahoma\">奧克拉荷馬雷霆</a></li><li><a target=\"_blank\" href=\"//tw.global.nba.com/teams/#!/blazers\"\\n class=\"Portland\">波特蘭拓荒者</a></li><li><a target=\"_blank\" href=\"//tw.global.nba.com/teams/#!/jazz\" class=\"Utah\">猶他爵士</a></li></ul></li><li><h3 class=\"menu-title-sub\">太平洋組</h3><ul><li><a target=\"_blank\" href=\"//tw.global.nba.com/teams/#!/warriors\" class=\"Golden\">金州勇士</a></li><li><a target=\"_blank\" href=\"//tw.global.nba.com/teams/#!/clippers\" class=\"LAC\">洛杉磯快艇</a></li><li><a target=\"_blank\" href=\"//tw.global.nba.com/teams/#!/lakers\" class=\"LAL\">洛杉磯湖人</a></li><li><a target=\"_blank\" href=\"//tw.global.nba.com/teams/#!/suns\" class=\"Phoenix\">鳳凰城太陽</a></li><li><a target=\"_blank\" href=\"//tw.global.nba.com/teams/#!/kings\" class=\"Sacramento\">沙加緬度國王</a></li></ul></li></ul></li> </ul></div><div class=\"horizon-item \"><a href=\"//tw.global.nba.com/playerindex/\" >球員</a></div><div class=\"horizon-item \"><a href=\"//tw.global.nba.com/statistics/\" >數據</a><ul><li><a href=\"//tw.global.nba.com/statistics/leagueleaders/\" target=\"_blank\">球員數據</a></li><li><a href=\"//tw.global.nba.com/statistics/teamstats/\" target=\"_blank\">球隊數據</a></li></ul></div><div class=\"only_mobile horizon-item\"><a href=\"//tw.global.nba.com/statistics/leagueleaders/\" target=\"_blank\">球員數據</a></div><div class=\"only_mobile horizon-item\"><a href=\"//tw.global.nba.com/statistics/teamstats/\" target=\"_blank\">球隊數據</a></div><div class=\"horizon-item \"><a href=\"//nba.udn.com/nba/event\" >活動</a></div><div class=\"only_web horizon-item\"><a href=\"http://www.nbastore.tw\" target=\"_blank\"><img src=\"/img/nbastore.png?20180820\"></a></div><div class=\"os only_mobile horizon-item\"><a href=\"http://watch.nba.com/packages?ls=leaguepass:localsite:taiwan:generic:banner\" target=\"_blank\">League Pass</a></div></div></div><!-- /#menu_body --></div><!-- /#menu --><div class=\"ad only_web\"><!-- /129853887/udn.com/NBA/Web/1000*92 --><style> #div-gpt-ad-1452074421939-0 iframe { margin:auto; }\\n #div-gpt-ad-1452074421939-0 > div { margin: auto; display: block !important; }</style><div id=\\'div-gpt-ad-1452074421939-0\\'><script type=\\'text/javascript\\'>googletag.cmd.push(function() { googletag.display(\\'div-gpt-ad-1452074421939-0\\'); });</script></div></div><!-- #Location: /inc/ads/page_neck/text_desktop --><div class=\"ad only_mobile\"><!-- /129853887/udn.com/NBA/Mobile/320*50-1 --><style> #div-gpt-ad-1456911575971-0 iframe { margin:auto; }\\n #div-gpt-ad-1456911575971-0 > div { margin: auto; display: block !important; }</style><div id=\\'div-gpt-ad-1456911575971-0\\' style=\\'margin:10px auto;\\'><script type=\\'text/javascript\\'>googletag.cmd.push(function() { googletag.display(\\'div-gpt-ad-1456911575971-0\\'); });</script></div></div><!-- #Location: /inc/ads/page_neck/text_mobile --><div id=\"wrapper\"><div id=\"mainbar\"><div id=\"featured\" class=\"box\"><h1 class=\"box-title\">編輯精選</h1><div id=\"featured_body\" class=\"box_body\"><dl> <dt><a href=\"https://nba.udn.com/nba/video/97/942371\"><img src=\"https://pgw.udn.com.tw/gw/photo.php?u=https://uc.udn.com.tw/photo/2018/09/17/99/5277022.jpg&x=0&y=0&sw=0&sh=0&sl=W&fw=1050&exp=3600\"><span class=\"wmark\"></span><h3> Dwyane Wade的籃球旅程</h3></a></dt> <dt><a href=\"https://nba.udn.com/nba/video/97/745111\"><img src=\"https://pgw.udn.com.tw/gw/photo.php?u=https://uc.udn.com.tw/photo/2017/10/27/99/4166540.jpg&x=0&y=0&sw=0&sh=0&exp=3600\"><span class=\"wmark\"></span><h3> 柯瑞的跳投藝術</h3></a></dt></div><!-- /#featured_body --></div><!-- /#featured --><!-- #Laction: /inc/ads/tab_bottom --><div id=\"news_list\" class=\"box\"><h1 class=\"box-title\">NBA 新聞</h1><div class=\"list_toggle\"><a class=\"active\">最新</a><a data-track=\"click\" data-type=\"tabs\" data-id=\"hottest\" href=\"/nba/cate/6754/-1/hottest\">熱門</a></div><!-- #news_list_body --><div id=\"news_list_body\" class=\"box_body\"><dl><dt><a href=\"/nba/story/6780/4124903\"><span class=\"img-boxs\"><img data-sizes=\"auto\" class=\"lazyload\" data-src=\"https://pgw.udn.com.tw/gw/photo.php?u=https://uc.udn.com.tw/photo/2019/10/25/1/6984442.jpg&x=0&y=0&sw=0&sh=0&sl=W&fw=220&exp=3600\"></span><h3>「Logo Shot」長射連發 楊恩飆38分退活塞</h3><b class=\"h24\">13小時 以前</b><p>亞特蘭大老鷹今天（25號）球隊開幕戰中出戰底特律活塞，靠著主控楊恩（Trae Young）全場投進...</p></a></dt><dt><a href=\"/nba/story/6780/4124853\"><span class=\"img-boxs\"><img data-sizes=\"auto\" class=\"lazyload\" data-src=\"https://pgw.udn.com.tw/gw/photo.php?u=https://uc.udn.com.tw/photo/2019/10/25/1/6984351.jpg&x=0&y=0&sw=0&sh=0&sl=W&fw=220&exp=3600\"></span><h3>搶奪伊古達拉大作戰 數位球員爆料湖人將是首選</h3><b class=\"h24\">13小時 以前</b><p>儘管已經是35歲的屆退老將，但曾拿下過總冠軍賽MVP的前金州勇士搖擺人伊古達拉（Andre Igu...</p></a></dt><dt><a href=\"/nba/story/6779/4124860\"><span class=\"img-boxs\"><img data-sizes=\"auto\" class=\"lazyload\" data-src=\"https://pgw.udn.com.tw/gw/photo.php?u=https://uc.udn.com.tw/photo/2019/10/25/99/6984330.jpg&x=0&y=0&sw=0&sh=0&sl=W&fw=220&exp=3600\"></span><h3>頭撞天花板進傷兵名單 7呎5吋佛爾遇巨人煩惱</h3><b class=\"h24\">13小時 以前</b><p>塞爾蒂克官方公佈體測數據顯示，菜鳥大個子佛爾（Tacko Fall）有7呎5吋高、310磅重，日前...</p></a></dt><dt><a href=\"/nba/story/6780/4124825\"><span class=\"img-boxs\"><img data-sizes=\"auto\" class=\"lazyload\" data-src=\"https://pgw.udn.com.tw/gw/photo.php?u=https://uc.udn.com.tw/photo/2019/10/25/1/6984268.jpg&x=0&y=0&sw=0&sh=0&sl=W&fw=220&exp=3600\"></span><h3>詹皇代班控球任務結束？ 教頭擬讓朗多重回先發</h3><b class=\"h24\">14小時 以前</b><p>在開幕戰短暫代班控球工作後，洛杉磯湖人詹姆斯（LeBron James）將很快回到他最熟悉的前鋒位...</p></a></dt><dt><a href=\"/nba/story/6780/4124837\"><span class=\"img-boxs\"><img data-sizes=\"auto\" class=\"lazyload\" data-src=\"https://pgw.udn.com.tw/gw/photo.php?u=https://uc.udn.com.tw/photo/2019/10/25/99/6984265.jpg&x=0&y=0&sw=0&sh=0&sl=W&fw=220&exp=3600\"></span><h3>傳騎士與歐斯曼達協議 4年3100萬提前續約留人 </h3><b class=\"h24\">14小時 以前</b><p>根據《紐約時報》記者史坦（Marc Stein）報導，騎士與陣中土耳其前鋒歐斯曼（Cedi Osm...</p></a></dt><dt><a href=\"/nba/story/6780/4124819\"><span class=\"img-boxs\"><img data-sizes=\"auto\" class=\"lazyload\" data-src=\"https://pgw.udn.com.tw/gw/photo.php?u=https://uc.udn.com.tw/photo/2019/10/25/99/6984191.jpg&x=0&y=0&sw=0&sh=0&sl=W&fw=220&exp=3600\"></span><h3>艾頓經查違反藥檢規定 恐面臨25場禁賽處分</h3><b class=\"h24\">14小時 以前</b><p>根據《ESPN》記者沃納羅斯基（Adrian Wojnarowski）最新消息指出，太陽中鋒艾頓（...</p></a></dt><dt><a href=\"/nba/story/6779/4124809\"><span class=\"img-boxs\"><img data-sizes=\"auto\" class=\"lazyload\" data-src=\"https://pgw.udn.com.tw/gw/photo.php?u=https://uc.udn.com.tw/photo/2019/10/25/99/6984181.jpg&x=0&y=0&sw=0&sh=0&sl=W&fw=220&exp=3600\"></span><h3>右拇指非移位性骨折 巴格利預計缺賽4至6周</h3><b class=\"h24\">14小時 以前</b><p>因為昨日（24號）對太陽賽事弄傷右手拇指，國王官方新聞稿指出，2年級長人巴格利（Marvin Ba...</p></a></dt><dt><a href=\"/nba/story/6780/4124602\"><span class=\"img-boxs\"><img data-sizes=\"auto\" class=\"lazyload\" data-src=\"https://pgw.udn.com.tw/gw/photo.php?u=https://uc.udn.com.tw/photo/2019/10/25/1/6984122.jpg&x=0&y=0&sw=0&sh=0&sl=W&fw=220&exp=3600\"></span><h3>轉隊首戰狂飆50分 厄文：沒贏就不重要</h3><b class=\"h24\">15小時 以前</b><p>今夏轉戰籃網隊的厄文（Kyrie Irving）昨（24號）在為新東家效力首戰就有爆炸性演出，繳出...</p></a></dt><dt><a href=\"/nba/story/6780/4123779\"><span class=\"img-boxs\"><img data-sizes=\"auto\" class=\"lazyload\" data-src=\"https://pgw.udn.com.tw/gw/photo.php?u=https://uc.udn.com.tw/photo/2019/10/24/99/6981976.jpg&x=0&y=0&sw=0&sh=0&sl=W&fw=220&exp=3600\"></span><h3>回應喬丹評論 柯瑞：自己還有很多需要證明</h3><b class=\"h24\">2019-10-24</b><p>傳奇巨星喬丹（Michael Jordan）先前的在接受採訪時，表示柯瑞（Stephen Curr...</p></a></dt><dt><a href=\"/nba/story/6780/4123716\"><span class=\"img-boxs\"><img data-sizes=\"auto\" class=\"lazyload\" data-src=\"https://pgw.udn.com.tw/gw/photo.php?u=https://uc.udn.com.tw/photo/2019/10/24/99/6981841.jpg&x=0&y=0&sw=0&sh=0&sl=W&fw=220&exp=3600\"></span><h3>終結拓荒者主場開幕戰18連勝 金塊教頭難掩興奮</h3><b class=\"h24\">2019-10-24</b><p>在約柯奇（Nikola Jokic）第四節的帶領之下，金塊在波特蘭力壓地主拓荒者，除了拿下賽季首勝...</p></a></dt></dl></div><!-- /#news_list_body --> <div class=\"pagelink\"><goBack> <a data-track=\"click\" data-type=\"pagination\" data-id=\"first\" href=\"/nba/cate/6754/-1/newest/1\">最前頁</a><a data-track=\"click\" data-type=\"pagination\" data-id=\"left\" href=\"/nba/cate/6754/-1/newest/1\">上一頁</a></goBack><!-- 頁首按鈕 --><!-- 頁中按鈕 --><goPage><a data-track=\"click\" data-type=\"pagination\" data-id=\"1\" href=\"/nba/cate/6754/-1/newest/1\">1</a><a data-track=\"click\" data-type=\"pagination\" data-id=\"2\" class=\"on\">2</a><a data-track=\"click\" data-type=\"pagination\" data-id=\"3\" href=\"/nba/cate/6754/-1/newest/3\">3</a><a data-track=\"click\" data-type=\"pagination\" data-id=\"4\" href=\"/nba/cate/6754/-1/newest/4\">4</a><a data-track=\"click\" data-type=\"pagination\" data-id=\"5\" href=\"/nba/cate/6754/-1/newest/5\">5</a><span style=\"padding:4px 6px\"> … </span></goPage><!-- 頁尾按鈕 --><goNext> <a data-track=\"click\" data-type=\"pagination\" data-id=\"right\" href=\"/nba/cate/6754/-1/newest/3\">下一頁</a> <a data-track=\"click\" data-type=\"pagination\" data-id=\"last\" href=\"/nba/cate/6754/-1/newest/2496\">最後頁</a></goNext> <span class=\"total\">共 2496 頁</span> </div></div><!-- /#news_list --></div><div id=\"sidebar\"><div class=\"ad only_web\"><!-- /129853887/udn.com/NBA/Web/300*250 --><div id=\"google_ad\"><div id=\\'div-gpt-ad-1443763782750-2\\' style=\\'height:250px; width:300px;\\'><script type=\\'text/javascript\\'>googletag.cmd.push(function() { googletag.display(\\'div-gpt-ad-1443763782750-2\\'); });</script></div></div></div><!-- #Location: /inc/ads/page_right/text_desktop --><div class=\"ad\"><!-- /4576170/NBA_web_300*100 --><div id=\"google_ad\"><div id=\\'div-gpt-ad-1443766449322-0\\' style=\\'height:250px; width:300px;\\'><script type=\\'text/javascript\\'>googletag.cmd.push(function() { googletag.display(\\'div-gpt-ad-1443766449322-0\\'); });</script></div></div></div><!-- #Location: /inc/ads/page_right/text_all --><div id=\"hot_articles\" class=\"box only_web\"><div class=\"box-title\">熱門文章</div><div id=\"hot_articles_body\" class=\"box_body\"><dl><dt><a href=\"/nba/story/6780/4112270\">湖人執行球隊選項 庫茲瑪：我有錢了</a></dt><dt><a href=\"/nba/story/6780/4121038\">雷納德聯手板凳暴徒 快艇首戰衝破湖人</a></dt><dt><a href=\"/nba/story/6780/4118614\">稱柯瑞更勝衛少 杜蘭特：哈登沒去火箭無法成MVP</a></dt><dt><a href=\"/nba/story/10718/4111080\">勇士攻守面臨挑戰 柯瑞表現將牽動全隊</a></dt><dt><a href=\"/nba/story/6780/4125370\">全員發揮狂轟141分 快艇快意客場踢館大勝勇士</a></dt></dl></div><!-- /#hot_articles_body --></div><!-- /#hot_articles --><!-- #Location: temp/inc/ads/page_right/story_hot --><div id=\"hot_video\" class=\"box only_web\"><div class=\"box-title\">最新影音</div> <div id=\"hot_video_body\" class=\"box_body\"> <dl><dt><a href=\"/nba/video/98/1158309\" target=\"_blank\"><span class=\"icon_v\"></span><img src=\"https://cdn.udn.com/img/480/photo/web/news/20191025/1158309_6b298bf205e557bf_o.jpg\" width=\"300\"><span class=\"wmark\"></span><h3 style=\"width:280px\">賽事懶人包 (10月25日)</h3><b>01:31</b></a></dt><dt><a href=\"/nba/video/96/1158305\" target=\"_blank\"><span class=\"icon_v\"></span><img src=\"https://cdn.udn.com/img/480/photo/web/news/20191025/1158305_cea63f0528d10d25_o.jpg\" width=\"300\"><span class=\"wmark\"></span><h3 style=\"width:280px\">今日五大好球 (10月25日)</h3><b>01:06</b></a></dt></dl>\\n </div> <!-- /#hot_video_body --></div><!-- /#hot_video --><!-- #Location: /inc/ads/page_right/story_video --></div></div><div id=\"footer\"><div id=\"footer_head\"><dl><dt><a href=\"//tw.global.nba.com/scores/\" >比分</a></dt><dt><a href=\"//tw.global.nba.com/schedule/#!/7\" >賽程</a></dt><dt><a href=\"https://nba.udn.com/nba/cate/6756\">影音</a></dt><dt><a href=\"https://nba.udn.com/nba/cate/6754\">新聞</a></dt><dt><a href=\"https://nba.udn.com/nba/cate/6755\">球評</a></dt><dt><a href=\"https://nba.udn.com/photos/index/\" target=\\'_blank\\'>圖輯</a></dt><dt><a href=\"//tw.global.nba.com/standings/\" >戰績</a></dt><dt><a href=\"https://nba.udn.com/nba/cate/7460\">焦點球星</a></dt><dt><a href=\"//tw.global.nba.com/teamindex/\" >球隊</a></dt><dt><a href=\"//tw.global.nba.com/playerindex/\" >球員</a></dt><dt><a href=\"//tw.global.nba.com/statistics/\" >數據</a></dt><dt><a href=\"//nba.udn.com/nba/event\" >活動</a></dt><dt class=\"os\"><a href=\"http://watch.nba.com/packages?ls=leaguepass:localsite:tw:udn:topnav\" target=\"_blank\">League Pass</a></dt></dl></div><!-- /#footer_head --><div id=\\'footer_wrapper\\'> <div id=\\'footer_wrapper_links\\' class=\\'only_web\\'><a href=\"http://event.udn.com/AD/\" target=\"_blank\">刊登網站廣告</a> ︱<a href=\\'http://udn.com/page/topic/496\\' target=\"_blank\">網站總覽</a> ︱ <a href=\\'http://udn.com/page/topic/184\\' target=\"_blank\"> FAQ</a>‧<a href=\\'http://co.udn.com/co/contactus\\' target=\"_blank\">客服</a> ︱ <a href=\\'http://udndata.com/udnauthority.html\\' target=\"_blank\">新聞授權</a> ︱ <a href=\\'https://member.udn.com/member/rule.jsp\\' target=\"_blank\">服務條款</a>‧<a href=\\'http://udn.com/page/topic/495\\' target=\"_blank\">著作權</a>‧<a href=\\'http://www.udngroup.com/members/udn_privacy\\' target=\"_blank\">隱私權聲明</a> ︱ <a href=\\'http://www.udngroup.com/\\' target=\"_blank\"> 聯合報系</a> ︱ <a href=\\'http://www.udngroup.com/activies/subscription_info\\' target=\"_blank\"> 訂報紙</a> ︱ <a href=\\'http://co.udn.com/\\' target=\"_blank\">關於我們</a> ︱ <a href=\\'http://co.udn.com/CORP/job.html\\' target=\"_blank\"> 招募夥伴</a> </div><!-- /#footer_wrapper_links --> <b>聯合線上公司 著作權所有 &copy; udn.com All Rights Reserved.</b> </div> <!-- /#footer_wrapper --><style>#sb-site .sticky-ads.native.visible {\\n bottom: 40px;\\ntext-align: center;\\n}\\n\\n@media (max-width: 766px) {\\n#gotop {\\n bottom: 120px;\\n}\\n}</style><div id=\"div-gpt-ad-1438159466246-0\" class=\"sticky-ads\"> <script> googletag.cmd.push(function() {\\n googletag.display(\"div-gpt-ad-1438159466246-0\");\\n });\\n </script></div><script src=\"https://p.udn.com.tw/upf/static/common/scroll-lock.js\"></script><script>console.log(\\'bottom test\\')</script><link rel=\"stylesheet\" href=\"https://p.udn.com.tw/upf/static/common/google-dfp-native.css?4\"><script src=\"https://p.udn.com.tw/upf/static/common/google-dfp-native.js?28\"></script><!-- #Location: /inc/ads/page_bottom --></div><!-- /#footer --><a id=\"gotop\" href=\\'javascript:void(0);\\'><i class=\"i-gotop\"></i></a><!-- /#gotop --><!-- temp/inc/content_html5 --></div></div><!-- /#sb-site --><div class=\"sb-slidebar sb-left\"><ul class=\"list-slidebar\"><li><a href=\"//udn.com\">今日新聞</a></li><li><a href=\"//udn.com/weather/\">生活資訊</a></li><li><a href=\"//vision.udn.com\">願景工程</a></li><li><a href=\"//money.udn.com\">經濟日報網</a></li><li><a href=\"//stars.udn.com\">噓!星聞</a></li><li><a href=\"//style.udn.com\">udnSTYLE</a></li><li><a href=\"//autos.udn.com\">發燒車訊</a></li><li><a href=\"//nba.udn.com\">NBA台灣</a></li><li><a href=\"//game.udn.com\">遊戲角落</a></li><li><a href=\"//global.udn.com\">轉角國際</a></li><li><a href=\"//opinion.udn.com\">鳴人堂</a></li><li><a href=\"//oops.udn.com\">Oops!新鮮事</a></li><li><a href=\"//udn.com/umedia\">u值媒</a></li><li><a href=\"http://blog.udn.com\">udn 部落格</a></li><li><a href=\"//health.udn.com\">元氣網</a></li><li><a href=\"//theme.udn.com\">時事話題</a></li><li><a href=\"//ubrand.udn.com\">倡議家</a></li><li><a href=\"//reading.udn.com\">讀書吧</a></li><li><a href=\"//story.udn.com/dcstore/StoreIndex.do?\">讀小說</a></li><li><a href=\"//story.udn.com/dcstore/Index.do?\">讀創故事</a></li><li><a href=\"//p.udn.com.tw/upf/upeople/index.html\">優人物</a></li><li><a href=\"//udndata.com/ndapp/Index\">知識庫</a></li><li><a href=\"http://paper.udn.com\">電子報</a></li><li><a href=\"//fund.udn.com\">基金</a></li><li><a href=\"//house.udn.com/\">房地產</a></li><li><a href=\"//video.udn.com\">影音網</a></li><li><a href=\"https://udncollege.udn.com\">聯合學苑</a></li><li><a href=\"https://pse.is/CEB8J\">U 利點數</a></li><li><a href=\"https://udn.com/mypage/slist\">我的新聞</a></li><li><a href=\"https://mobile.udn.com/web/app.html\">udn APP</a></li><li><a href=\"https://udn.com/page/topic/496\">網站總覽</a></li><li><a href=\"https://udn.com/page/topic/185\">服務條款</a></li><li><a href=\"https://udn.com/page/topic/871\">刊登網站廣告</a></li></ul></div><!-- #Location: /temp/inc/sb-site --><!-- Slidebars --><!-- page bottom --><div id=\"show_box\"></div><div class=\"only_mobile\">123456mobile-in-bottom</div><!-- #Location: /inc/ads/mobile_in_bottom/text_mobile --><script src=\"/js/bundle.cate.js?2019042201\" ></script><script>// $(function(){\\n // $.fn.show_box = function ( url ) {\\n // $(\\'#show_box\\').stop(true, true).load( url , function() {\\n // $(\\'#show_box .close\\').click(function ()\\n // {\\n // $(\\'#show_box\\').stop(true, true).fadeOut();\\n ////$(\"#menu_mark\").stop(true, true).fadeOut();\\n // });\\n // });\\n // $(\\'#show_box\\').fadeIn();\\n // }\\n // });\\n // var timeoutHandle = null;\\n // if( $(window).width() > 749 )\\n // {\\n // idleState = false;\\n // idleWait = 300000; /* 5\\'m */\\n ////idleWait = 1000; /* 1\\'s */\\n // $(\\'body\\').bind(\\'mousemove click keydown scroll\\', function ()\\n // {\\n // clearTimeout(timeoutHandle);\\n // timeoutHandle = setTimeout(function() {\\n // var channel_id = $(\\'meta[name=\"channel_id\"]\\').attr(\\'content\\');\\n // var cate_id = $(\\'meta[name=\"cate_id\"]\\').attr(\\'content\\');\\n // $( this ).show_box( \\'/common/threemin/\\' + channel_id + \\'/\\' + cate_id );\\n // ga(\\'send\\', \\'event\\', \\'Idlepage_\\' + channel_id, \\'popup\\', {\\'page\\': \\'/common/threemin/\\' + channel_id + \\'/\\' + cate_id});\\n // }, idleWait);\\n // });\\n // $(\"body\").trigger(\"mousemove\");\\n // }</script></body></html>'"
      ]
     },
     "execution_count": 222,
     "metadata": {},
     "output_type": "execute_result"
    }
   ],
   "source": [
    "res.text"
   ]
  },
  {
   "cell_type": "code",
   "execution_count": 223,
   "metadata": {},
   "outputs": [],
   "source": [
    "soup = BeautifulSoup(res.text,'html.parser')"
   ]
  },
  {
   "cell_type": "code",
   "execution_count": 224,
   "metadata": {
    "scrolled": true
   },
   "outputs": [
    {
     "name": "stdout",
     "output_type": "stream",
     "text": [
      "https://nba.udn.com//nba/story/6780/4124903\n",
      "https://nba.udn.com//nba/story/6780/4124853\n",
      "https://nba.udn.com//nba/story/6779/4124860\n",
      "https://nba.udn.com//nba/story/6780/4124825\n",
      "https://nba.udn.com//nba/story/6780/4124837\n",
      "https://nba.udn.com//nba/story/6780/4124819\n",
      "https://nba.udn.com//nba/story/6779/4124809\n",
      "https://nba.udn.com//nba/story/6780/4124602\n",
      "https://nba.udn.com//nba/story/6780/4123779\n",
      "https://nba.udn.com//nba/story/6780/4123716\n",
      "https://nba.udn.com//nba/story/6780/4112270\n",
      "https://nba.udn.com//nba/story/6780/4121038\n",
      "https://nba.udn.com//nba/story/6780/4118614\n",
      "https://nba.udn.com//nba/story/10718/4111080\n",
      "https://nba.udn.com//nba/story/6780/4125370\n"
     ]
    }
   ],
   "source": [
    "a_tag= soup.select('div.box_body > dl > dt > a ')\n",
    "news_url=[]\n",
    "\n",
    "for a in a_tag:\n",
    "    if(a.get('src') == None  ):\n",
    "        if(a.get('href')[0] != 'h' and 'story' in a.get('href') ):\n",
    "            news_url.append('https://nba.udn.com/'+a.get('href'))\n",
    "            print('https://nba.udn.com/'+a.get('href'))"
   ]
  },
  {
   "cell_type": "code",
   "execution_count": 225,
   "metadata": {},
   "outputs": [
    {
     "data": {
      "text/plain": [
       "['https://nba.udn.com//nba/story/6780/4124903',\n",
       " 'https://nba.udn.com//nba/story/6780/4124853',\n",
       " 'https://nba.udn.com//nba/story/6779/4124860',\n",
       " 'https://nba.udn.com//nba/story/6780/4124825',\n",
       " 'https://nba.udn.com//nba/story/6780/4124837',\n",
       " 'https://nba.udn.com//nba/story/6780/4124819',\n",
       " 'https://nba.udn.com//nba/story/6779/4124809',\n",
       " 'https://nba.udn.com//nba/story/6780/4124602',\n",
       " 'https://nba.udn.com//nba/story/6780/4123779',\n",
       " 'https://nba.udn.com//nba/story/6780/4123716',\n",
       " 'https://nba.udn.com//nba/story/6780/4112270',\n",
       " 'https://nba.udn.com//nba/story/6780/4121038',\n",
       " 'https://nba.udn.com//nba/story/6780/4118614',\n",
       " 'https://nba.udn.com//nba/story/10718/4111080',\n",
       " 'https://nba.udn.com//nba/story/6780/4125370']"
      ]
     },
     "execution_count": 225,
     "metadata": {},
     "output_type": "execute_result"
    }
   ],
   "source": [
    "news_url"
   ]
  },
  {
   "cell_type": "code",
   "execution_count": 262,
   "metadata": {},
   "outputs": [],
   "source": [
    "from IPython.core.display import HTML"
   ]
  },
  {
   "cell_type": "code",
   "execution_count": 271,
   "metadata": {
    "scrolled": true
   },
   "outputs": [
    {
     "data": {
      "text/html": [
       "<h1>「Logo Shot」長射連發 楊恩飆38分退活塞</h1>"
      ],
      "text/plain": [
       "<IPython.core.display.HTML object>"
      ]
     },
     "metadata": {},
     "output_type": "display_data"
    },
    {
     "data": {
      "text/html": [
       "<span style=\"color:blue\">2019-10-25 10:43</span>"
      ],
      "text/plain": [
       "<IPython.core.display.HTML object>"
      ]
     },
     "metadata": {},
     "output_type": "display_data"
    },
    {
     "name": "stdout",
     "output_type": "stream",
     "text": [
      "亞特蘭大老鷹今天（25號）球隊開幕戰中出戰底特律活塞，靠著主控楊恩（Trae Young）全場投進六顆三分球拿下38分，與連續兩場比賽都打出亮眼的表現的活塞羅斯（Derrick Rose）分庭抗禮，最終老鷹在全隊四人得分上雙下，以117：100輕取活塞，搶下新賽季首勝。\n",
      "\n",
      "在上賽季就定下以楊恩為核心的建隊方向後，老鷹在季後補強上並沒有太多大動作，反倒與42歲的「老飛人」卡特（Vince Cater）簽下可能是他生涯的最後一張合約，並在今天出戰活塞的比賽中，讓他以連續征戰22個賽季成為聯盟史上第一人。\n",
      "\n",
      "談到自己所寫下的紀錄，卡特在賽前說：「其實我和教練聊過這件事，他說『你打球的時間比我們球隊上一些球員的年齡都還要長』，不過對我來說，我已經感覺不到這件事，這段時間真的經歷了很多，但這就是我的職業，或許在創造歷史的那一刻我會有某種情緒產生，但我還是要先做好出賽的準備，再去想這件事。」\n",
      "\n",
      "儘管在今天出戰活塞的比賽中，卡特替補上陣10分鐘且一分未得，不過小老弟楊恩卻是從開賽就火力全開想要為老大哥送上賀禮，他在上半場就投進了五顆三分球拿下26分外帶6助攻，不過活塞31歲後衛羅斯表現也不惶多讓，上半場就拿下15分，助活塞上半場打完還保持領先。\n",
      "\n",
      "不過下半場本賽季披上老鷹戰袍的帕克（Jabari Parker）也加入搶分行列，幫助老鷹在下半場逆轉並拉大領先差距，儘管末節一度出現計時器故障的狀況，但終場老鷹仍以17分差大勝活塞，收下新賽季首勝。\n",
      "\n",
      "老鷹以楊恩的38分表現最佳，柯林斯（John Collins）與帕克都有18分進帳，至於今年選秀首輪第四順位新秀杭特（DeAndre Hunter）則有14分進帳，第十順位的雷迪許（Cameron Reddish）全場出手6次全數落空，活塞羅斯則是拿下全隊最高的27分。\n",
      "Trae just casually pulling up from the Pistons' logo 🤯 pic.twitter.com/keaoQOODoc— Atlanta Hawks (@ATLHawks) 2019年10月24日\n",
      "\n",
      "\n",
      "---------------------------------------\n"
     ]
    },
    {
     "data": {
      "text/html": [
       "<h1>搶奪伊古達拉大作戰 數位球員爆料湖人將是首選</h1>"
      ],
      "text/plain": [
       "<IPython.core.display.HTML object>"
      ]
     },
     "metadata": {},
     "output_type": "display_data"
    },
    {
     "data": {
      "text/html": [
       "<span style=\"color:blue\">2019-10-25 10:10</span>"
      ],
      "text/plain": [
       "<IPython.core.display.HTML object>"
      ]
     },
     "metadata": {},
     "output_type": "display_data"
    },
    {
     "name": "stdout",
     "output_type": "stream",
     "text": [
      "儘管已經是35歲的屆退老將，但曾拿下過總冠軍賽MVP的前金州勇士搖擺人伊古達拉（Andre Iguodala）的動向仍讓不少聯盟球隊掛心，昨天（24號）傳出有記者預測他有可能在下賽季重新披上勇士戰袍後，今天則是有美國媒體指出，假使伊古達拉在本賽季就遭到新東家曼菲斯灰熊買斷，季中與洛杉磯湖人簽約的可能性仍舊相當高。\n",
      "\n",
      "伊古達拉在過去五年來三度幫助勇士奪下冠軍，並在2015年榮獲總冠軍賽MVP，今年季後在勇士陣容大重整的情況下被交易到灰熊，不過從季前訓練營到新賽季開幕戰中，伊古達拉始終不見人影，讓灰熊可能交易或是買斷伊古達拉的消息甚囂塵上。\n",
      "\n",
      "不過在不少球隊都表達願意簽下伊古達拉後，昨天紐約記者先是大膽預測，假使灰熊無法在本賽季交易大限前將他交易出去，那身為前勇士精神領袖的伊古達拉，已做好準備在賽季結束成為自由球員後，重新披上老東家戰袍。\n",
      "\n",
      "但《ESPN》記者麥克姆蘭（Jackie MacMullan）在近日錄製節目時更指出，已有至少四名球員向他透露，伊古達拉如果能在季中與灰熊達成買斷合約的協議，那他將會把與湖人簽約列為優先選項。\n",
      "\n",
      "湖人今年夏天雖然在團隊戰力上大手筆補強，包括找來布萊德利（Avery Bradley）、格林（Danny Green）等側翼球員加入，不過在開幕首戰面對上賽季總冠軍賽MVP雷納德（Kawhi Leonard）領軍的快艇，卻遭對手不斷撕裂防線。\n",
      "\n",
      "其中雷納德就斬獲30分6籃板5助攻，在喬治（Paul George）尚未歸隊的情況下率領快艇擊敗湖人，這也顯示出湖人如想跨過快艇從西區出線，勢必需要更強力的側翼防守表現，而擁有豐富防守與季後賽經驗的伊古達拉，毫無疑問將會是首要選擇。\n",
      "\n",
      "---------------------------------------\n"
     ]
    },
    {
     "data": {
      "text/html": [
       "<h1>頭撞天花板進傷兵名單 7呎5吋佛爾遇巨人煩惱</h1>"
      ],
      "text/plain": [
       "<IPython.core.display.HTML object>"
      ]
     },
     "metadata": {},
     "output_type": "display_data"
    },
    {
     "data": {
      "text/html": [
       "<span style=\"color:blue\">2019-10-25 10:05</span>"
      ],
      "text/plain": [
       "<IPython.core.display.HTML object>"
      ]
     },
     "metadata": {},
     "output_type": "display_data"
    },
    {
     "name": "stdout",
     "output_type": "stream",
     "text": [
      "塞爾蒂克官方公佈體測數據顯示，菜鳥大個子佛爾（Tacko Fall）有7呎5吋高、310磅重，日前他傳出因為腦震盪進入傷兵名單消息，而本人也向波士頓當地媒體證實，原因真的出在是自己實在長太高。\n",
      "\n",
      "原來佛爾在自家練習場館訓練結束後，到一旁去準備要洗手卻沒注意到天花板一處較矮一處，不小心就一頭撞上，本來他覺得自己並無大礙，甚至之後還去參加球隊公益活動還又回到場館練投，可是隔天一早卻覺得有些頭暈。\n",
      "\n",
      "於是乎塞爾蒂克基於謹慎考量，將佛爾進入腦震盪檢驗程序，暫且名列傷兵名單之中，不過總教練史蒂文斯（Brad Stevens）強調，佛爾非常接近回歸，但是簽下雙向合約的他短時間內應不會是綠衫軍大名單成員。\n",
      "\n",
      "---------------------------------------\n"
     ]
    },
    {
     "data": {
      "text/html": [
       "<h1>詹皇代班控球任務結束？ 教頭擬讓朗多重回先發</h1>"
      ],
      "text/plain": [
       "<IPython.core.display.HTML object>"
      ]
     },
     "metadata": {},
     "output_type": "display_data"
    },
    {
     "data": {
      "text/html": [
       "<span style=\"color:blue\">2019-10-25 09:48</span>"
      ],
      "text/plain": [
       "<IPython.core.display.HTML object>"
      ]
     },
     "metadata": {},
     "output_type": "display_data"
    },
    {
     "name": "stdout",
     "output_type": "stream",
     "text": [
      "在開幕戰短暫代班控球工作後，洛杉磯湖人詹姆斯（LeBron James）將很快回到他最熟悉的前鋒位置上，並由傷癒復出後的朗多（Rajon Rondo）重掌控球工作，希望能擺脫開幕首戰攻勢不穩的狀況，讓球隊盡快回到正軌上。\n",
      "\n",
      "湖人在開幕戰與快艇的洛城內戰中，排出了詹姆斯主控，搭配布萊德利（Avery Bradley）、格林（Danny Green）的先發後場陣容，不過效果並不如預期，湖人全場雖有20次助攻但也發生14次失誤，其中詹姆斯一人就包辦了五次，且團隊攻勢不如快艇來得流暢，讓湖人主帥佛蓋爾（Frank Vogel）今天（25號）受訪時透露，在朗多傷癒歸隊後，將會讓他回到先發主控的行列。\n",
      "\n",
      "「我考慮了很多面向，並準備讓他回到我們的先發行列，他將會在接下來許多的比賽中扮演我們先發控球的角色」，佛蓋爾在談到首戰因傷缺陣的朗多定位時說：「朗多目前狀況看起來很不錯，不過是否會在下一戰就復出還要再觀察。」\n",
      "\n",
      "朗多上賽季代表湖人出賽繳出平均9.2分8助攻5籃板的數據，雖然今年開季前就得知將與詹姆斯一同分享控球工作，不過朗多強調自己並不介意，「我更想要做好佛蓋爾教練要我做的事情，所以我並不在意是要先發上場還是替補。不過讓我打先發控球是一個很好的選擇，我的生涯中也很擅長做這件事，但就像我說的，我願意配合球隊找出最好的搭配」。\n",
      "\n",
      "---------------------------------------\n"
     ]
    },
    {
     "data": {
      "text/html": [
       "<h1>傳騎士與歐斯曼達協議 4年3100萬提前續約留人 </h1>"
      ],
      "text/plain": [
       "<IPython.core.display.HTML object>"
      ]
     },
     "metadata": {},
     "output_type": "display_data"
    },
    {
     "data": {
      "text/html": [
       "<span style=\"color:blue\">2019-10-25 09:44</span>"
      ],
      "text/plain": [
       "<IPython.core.display.HTML object>"
      ]
     },
     "metadata": {},
     "output_type": "display_data"
    },
    {
     "name": "stdout",
     "output_type": "stream",
     "text": [
      "根據《紐約時報》記者史坦（Marc Stein）報導，騎士與陣中土耳其前鋒歐斯曼（Cedi Osman）提前達成續約協議，合約價碼預計是4年3100萬美元。\n",
      "\n",
      "歐斯曼是2015年選秀會時被灰狼選中隨即交易至騎士，他之後在土耳其職籃又待了2年才赴美加入球隊，2017年當時簽下了3年830萬美元合約。\n",
      "\n",
      "《Cleveland.com》記者費德（Chris Fedor）過去9月就曾透露，騎士一直與歐斯曼有進行續約談判，如今雙方終於達成了共識。\n",
      "\n",
      "此外《ESPN》記者溫德霍斯特（Brian Windhorst）進一步補充，歐斯曼新的4年合約中最後1年為非保障，而該季年薪為860萬美元。\n",
      "\n",
      "---------------------------------------\n"
     ]
    },
    {
     "data": {
      "text/html": [
       "<h1>艾頓經查違反藥檢規定 恐面臨25場禁賽處分</h1>"
      ],
      "text/plain": [
       "<IPython.core.display.HTML object>"
      ]
     },
     "metadata": {},
     "output_type": "display_data"
    },
    {
     "data": {
      "text/html": [
       "<span style=\"color:blue\">2019-10-25 09:25</span>"
      ],
      "text/plain": [
       "<IPython.core.display.HTML object>"
      ]
     },
     "metadata": {},
     "output_type": "display_data"
    },
    {
     "name": "stdout",
     "output_type": "stream",
     "text": [
      "根據《ESPN》記者沃納羅斯基（Adrian Wojnarowski）最新消息指出，太陽中鋒艾頓（Deandre Ayton）經查違反禁藥相關規定，恐怕必須面臨25場禁賽處分。\n",
      "\n",
      "沃納羅斯基提到，艾頓服用了含有利尿劑成份不符規定物質，不過進一步檢驗並沒有發現其他違反禁藥相關規定的藥物反應。\n",
      "\n",
      "因此NBA球員工會很可能出面協助仲裁，以勞資規定中的「不經意誤食」減免條款，來請求聯盟官方減少艾頓需禁賽場次。\n",
      "\n",
      "值得一提的是，籃網前鋒錢德勒（Wilson Chandler）也因藥檢沒過判25場禁賽，他同樣聲稱自己是「不經意誤食」，但其所驗出的是違規程度較嚴重的興奮劑。\n",
      "\n",
      "---------------------------------------\n"
     ]
    },
    {
     "data": {
      "text/html": [
       "<h1>右拇指非移位性骨折 巴格利預計缺賽4至6周</h1>"
      ],
      "text/plain": [
       "<IPython.core.display.HTML object>"
      ]
     },
     "metadata": {},
     "output_type": "display_data"
    },
    {
     "data": {
      "text/html": [
       "<span style=\"color:blue\">2019-10-25 09:11</span>"
      ],
      "text/plain": [
       "<IPython.core.display.HTML object>"
      ]
     },
     "metadata": {},
     "output_type": "display_data"
    },
    {
     "name": "stdout",
     "output_type": "stream",
     "text": [
      "因為昨日（24號）對太陽賽事弄傷右手拇指，國王官方新聞稿指出，2年級長人巴格利（Marvin Bagley III）預計將缺賽4到6周時間。\n",
      "\n",
      "巴格利前役擔任先發並上場28分鐘，繳出14分、10籃板的「雙十」成績，而今日透過核磁共振檢查確認，他的右拇指出現非移位性骨折的症狀。\n",
      "\n",
      "國王在巴格利缺賽期間很可能讓巴恩斯（Harrison Barnes）重返大前鋒位置，此外今夏自由球員市場補進3位球員扮演的角色勢必也會提升。\n",
      "\n",
      "亞瑞查（Trevor Ariza）有望分擔巴恩斯原先設定的3號位，戴德蒙（Dewayne Dedmon）與荷姆斯（Richaun Holmes）則是將頂起禁區戰力。\n",
      "\n",
      "---------------------------------------\n"
     ]
    },
    {
     "data": {
      "text/html": [
       "<h1>轉隊首戰狂飆50分 厄文：沒贏就不重要</h1>"
      ],
      "text/plain": [
       "<IPython.core.display.HTML object>"
      ]
     },
     "metadata": {},
     "output_type": "display_data"
    },
    {
     "data": {
      "text/html": [
       "<span style=\"color:blue\">2019-10-25 08:37</span>"
      ],
      "text/plain": [
       "<IPython.core.display.HTML object>"
      ]
     },
     "metadata": {},
     "output_type": "display_data"
    },
    {
     "name": "stdout",
     "output_type": "stream",
     "text": [
      "今夏轉戰籃網隊的厄文（Kyrie Irving）昨（24號）在為新東家效力首戰就有爆炸性演出，繳出五十分、八籃板、七助攻的成績，無奈球隊最終仍在延長賽以一二六比一二七輸灰狼隊，讓他惋惜地說：「若不能贏下比賽，這些就不重要了。」\n",
      "\n",
      "在隊友杜蘭特（Kevin Durant）因傷恐整季報銷情況下，籃網攻勢只靠厄文一人支撐，他此役卅三投十七中，包含命中七顆三分球。厄文也寫下多項紀錄，包括刷新馬布瑞（Stephon Marbury）所保持的籃網隊史開幕戰卅九分得分紀錄，也創下加盟新球隊後首戰的最高得分紀錄，還成為ＮＢＡ史上第五位在開幕戰至少拿到五十分的球員。\n",
      "\n",
      "儘管寫下多項紀錄，但球隊最終沒能取勝也讓厄文的紀錄夜留下些許遺憾，「這是個很棒的起點，當然你最想要的還是在主場球迷面前贏得比賽，周六還是有機會，這五十分只是個數據罷了，它是有其價值，但若你沒能贏球這些就不重要了」。\n",
      "\n",
      "厄文也強調，這只是例行賽中的其中一場比賽，「我們還有八十一場比賽在等著我們，我們會從失敗中學習，也一定會變得更好」。灰狼則以唐斯（Karl-Anthony Towns）卅六分、十四籃板，另助攻、抄截、阻攻各三的全能數據最為突出。\n",
      "\n",
      "---------------------------------------\n"
     ]
    },
    {
     "data": {
      "text/html": [
       "<h1>回應喬丹評論 柯瑞：自己還有很多需要證明</h1>"
      ],
      "text/plain": [
       "<IPython.core.display.HTML object>"
      ]
     },
     "metadata": {},
     "output_type": "display_data"
    },
    {
     "data": {
      "text/html": [
       "<span style=\"color:blue\">2019-10-24 17:16</span>"
      ],
      "text/plain": [
       "<IPython.core.display.HTML object>"
      ]
     },
     "metadata": {},
     "output_type": "display_data"
    },
    {
     "name": "stdout",
     "output_type": "stream",
     "text": [
      "\n",
      "傳奇巨星喬丹（Michael Jordan）先前的在接受採訪時，表示柯瑞（Stephen Curry）現階段是非常出色的球員，但還沒有到名人堂等級，這番說法也引發後續不少討論。柯瑞近日在訪談中也回應了喬丹，他認為自己還有很多東西需要去證明。\n",
      "\n",
      "「我認為我很好，但我不會因此而自滿，」柯瑞說，「我知道我還需要更多地去證明自己。當你聽到歷史最佳球員對你的評論，這其實很有趣。」\n",
      "\n",
      "「自從我們進入NBA之後，經常會聽到許多退役的球員談論這個時代的籃球員，他們評估我們的天賦，並說著他們那個時代的球員要比現在這時代的球員更好之類的話。對球迷來說，這是一個很棒的話題。」\n",
      "\n",
      "喬丹的好友魔術強森（Magic Johnson）針對這件事情也在推特上發表看法。他說道：「大家輕鬆一點，我們都知道，柯瑞未來是一位名人堂球員，喬丹不能這樣說出來，因為他會被聯盟罰款，」\n",
      "\n",
      "至於喬丹昔日隊友、同時也是勇士主帥的柯爾（Steve Kerr）則是開玩笑地說：「我認為MJ腦中有一個名人堂，是按他的標準。」\n",
      "\n",
      "\n",
      "---------------------------------------\n"
     ]
    },
    {
     "data": {
      "text/html": [
       "<h1>終結拓荒者主場開幕戰18連勝 金塊教頭難掩興奮</h1>"
      ],
      "text/plain": [
       "<IPython.core.display.HTML object>"
      ]
     },
     "metadata": {},
     "output_type": "display_data"
    },
    {
     "data": {
      "text/html": [
       "<span style=\"color:blue\">2019-10-24 17:12</span>"
      ],
      "text/plain": [
       "<IPython.core.display.HTML object>"
      ]
     },
     "metadata": {},
     "output_type": "display_data"
    },
    {
     "name": "stdout",
     "output_type": "stream",
     "text": [
      "\n",
      "在約柯奇（Nikola Jokic）第四節的帶領之下，金塊在波特蘭力壓地主拓荒者，除了拿下賽季首勝，這也是拓荒者自2000-01年賽季以來，首次在例行賽主場開幕戰中吞下敗仗，終結18連勝。\n",
      "\n",
      "拓荒者在2000-01年賽季的開幕戰中面對強敵洛杉磯湖人，該場比賽，歐尼爾（Shaquille O'Neal）狂攻36分11籃板5助攻4阻攻，帶領湖人在客場以96比86拿下勝利。從那一場比賽過後，拓荒者主場開幕戰取得18連勝。\n",
      "\n",
      "對於這場難得的勝利，金塊總教練馬龍（Michael Malone）賽後也難掩興奮，他在休息室說道：「你們可能不知道，拓荒者這18年來從未在自家開幕戰輸球，而我們今天終結這項紀錄。」\n",
      "\n",
      "「我們的防守迫使他們投籃命中率僅41%，三分球命中率更只有25%，這是我們第一場勝利，繼續加油！」\n",
      "\n",
      "\n",
      "---------------------------------------\n"
     ]
    },
    {
     "data": {
      "text/html": [
       "<h1>湖人執行球隊選項 庫茲瑪：我有錢了</h1>"
      ],
      "text/plain": [
       "<IPython.core.display.HTML object>"
      ]
     },
     "metadata": {},
     "output_type": "display_data"
    },
    {
     "data": {
      "text/html": [
       "<span style=\"color:blue\">2019-10-18 15:49</span>"
      ],
      "text/plain": [
       "<IPython.core.display.HTML object>"
      ]
     },
     "metadata": {},
     "output_type": "display_data"
    },
    {
     "name": "stdout",
     "output_type": "stream",
     "text": [
      "\n",
      "洛杉磯湖人官方宣佈，已經決定執行庫茲瑪（Kyle Kuzma）新秀合約第4年（2020-21賽季）的球隊選項，年薪為356萬美元。\n",
      "\n",
      "庫茲瑪是在2017年選秀會上以首輪第27順位被籃網選中，隨即被交易到湖人。身高6呎9吋的他，迅速成為球隊年輕核心之一，甚至在今年戴維斯（Anthony Davis）的交易案中，湖人送走多位年輕好手，唯獨庫茲瑪是被留下。\n",
      "\n",
      "庫茲瑪上季總共出賽70場，場均得到18.7分5.5籃板2.5助攻。\n",
      "\n",
      "在得知湖人執行選項後，庫茲瑪也不忘在推特上表達興奮之意。「350萬！我有錢了。」\n",
      "\n",
      "3.5m’s I’m rich!!!!🙏🏽🤣🤣🤣 https://t.co/Dk898nfLpe— kuz (@kylekuzma) October 17, 2019 \n",
      "---------------------------------------\n"
     ]
    },
    {
     "data": {
      "text/html": [
       "<h1>雷納德聯手板凳暴徒 快艇首戰衝破湖人</h1>"
      ],
      "text/plain": [
       "<IPython.core.display.HTML object>"
      ]
     },
     "metadata": {},
     "output_type": "display_data"
    },
    {
     "data": {
      "text/html": [
       "<span style=\"color:blue\">2019-10-23 13:29</span>"
      ],
      "text/plain": [
       "<IPython.core.display.HTML object>"
      ]
     },
     "metadata": {},
     "output_type": "display_data"
    },
    {
     "name": "stdout",
     "output_type": "stream",
     "text": [
      "\n",
      "眾所矚目的「洛城大戰」在今天點燃戰火，雷納德（Kawhi Leonard）全場攻下30分6籃板5助攻，快艇板凳部隊則是合力砍下60分。快艇在第二節逐漸掌握優勢，雖然第三節尾聲一波亂流讓湖人追平，但第四節穩住陣腳，又將分數拉開，最終以112比102擊敗湖人，取得開季首勝。\n",
      "\n",
      "這場比賽雙方都有主力球員面臨傷病麻煩，快艇傷了喬治（Paul George），湖人則是庫茲瑪（Kyle Kuzma）。一開賽湖人就展現猛烈攻勢，開局打了13比2的攻勢，在比賽中先聲奪人，首節取得領先優勢；不過快艇板凳部隊隨即發揮，加上雷納德精準中距離跳投，快艇第二節砍進40分，反而在上半場以62比54領先湖人。\n",
      "\n",
      "快艇的快節奏配合在下半場讓湖人難以應付，一度取得兩位數領先；不過接下來快艇外線命中率下滑，湖人在詹姆斯（LeBron James）場邊休息之際，反倒殺出一波15比3攻勢，三節結束雙方戰成平手。\n",
      "\n",
      "第四節之初，快艇找回手感，先是打了一波7比0的進攻，湖人不甘示弱連追兩球，快艇替補球員再度發威，又殺出一波11比2的攻勢，比分再度拉開。雷納德掌控節奏，哈瑞爾（Montrezl Harrell）也趁虛籃下建功，湖人反撲無力，只能目送快艇揚長而去。\n",
      "\n",
      "上季決賽MVP雷納德重返故鄉，此役上場32分鐘，雖然出現6次失誤還吞下5犯，但全場19投10中，還是砍下30分6籃板5助攻2抄截。\n",
      "\n",
      "以威廉斯（Lou Williams）為首的快艇板凳暴徒依舊強悍，威廉斯14投8中，拿下21分7助攻5籃板，哈瑞爾11投7中，得到17分7籃板4助攻，哈克雷斯（Moe Harkless）10分4籃板4抄截2阻攻，格林（JaMychal Green）12分6籃板。\n",
      "\n",
      "戴維斯披上湖人戰袍的首場正式比賽，21投8中，包括14罰9中，獨拿25分10籃板5助攻2阻攻1抄截；詹姆斯19投7中，得到18分9籃板8助攻。\n",
      "\n",
      "格林可說是湖人可以咬住比分的關鍵，全場14投10中，三分球9投7中，攻下全隊最高28分，外加7籃板2抄截，其中第三節獨拿18分。湖人陣中除了這3人之外，無人得分超過雙位數。\n",
      "\n",
      "---------------------------------------\n"
     ]
    },
    {
     "data": {
      "text/html": [
       "<h1>稱柯瑞更勝衛少 杜蘭特：哈登沒去火箭無法成MVP</h1>"
      ],
      "text/plain": [
       "<IPython.core.display.HTML object>"
      ]
     },
     "metadata": {},
     "output_type": "display_data"
    },
    {
     "data": {
      "text/html": [
       "<span style=\"color:blue\">2019-10-22 12:51</span>"
      ],
      "text/plain": [
       "<IPython.core.display.HTML object>"
      ]
     },
     "metadata": {},
     "output_type": "display_data"
    },
    {
     "name": "stdout",
     "output_type": "stream",
     "text": [
      "儘管在即將開打的新賽季中可能因傷全面缺陣，但今夏轉披布魯克林籃網戰袍的明星前鋒杜蘭特（Kevin Durant）製造話題的功力依舊，他在近日與前奧克拉荷馬雷霆隊友伊巴卡（Serge Ibaka）一同錄製網路節目時，被問到兩名合作過的後衛柯瑞（Stephen Curry）與衛斯特布魯克（Russell Westbrook）誰更好時，杜蘭特卻毫不猶疑地選擇了前者。\n",
      "\n",
      "杜蘭特在今年夏天透過先簽後換的方式轉戰籃網，儘管受到傷勢影響本賽季可能無法如願披上籃網戰袍登場，不過近日他在與前隊友伊巴卡錄製網路節目「How Hungry Are You?」時，再度靠著犀利回答搶佔媒體版面。\n",
      "\n",
      "其中在上賽季代表暴龍出賽的伊巴卡，先是問到了杜蘭特是否認為，假使自己沒有發生受傷狀況，勇士最終能否擊敗暴龍時，杜蘭特則是回答毫無疑問：「因為如果我在上場的話，你們是不可能在家擊敗我們的。」\n",
      "\n",
      "對於過去與哈登和衛斯特布魯克一起被稱作雷霆四少，杜蘭特與伊巴卡也談論到了兩名也都已經不在雷霆的前隊友們，兩人皆認為如果當年哈登未離開雷霆轉戰火箭，將無法達成拿下年度MVP的成就，而雷霆四少也有機會在相當年輕的情況下就挺進總冠軍賽。\n",
      "\n",
      "不過當伊巴卡問到，杜蘭特的兩位前搭擋柯瑞與衛斯特布魯克誰更好時，杜蘭特卻毫不猶豫地選擇了柯瑞，並認為兩者的差別就在於外線投射能力上，不過有趣的是，杜蘭特在轉戰籃網後將與另外一位聯盟頂尖控球後衛厄文（Kyrie Irving）攜手奮戰，屆時他又會如何評比這三名生涯合作過的頂尖後衛，也讓人相當好奇。\n",
      "\n",
      "---------------------------------------\n"
     ]
    },
    {
     "data": {
      "text/html": [
       "<h1>勇士攻守面臨挑戰 柯瑞表現將牽動全隊</h1>"
      ],
      "text/plain": [
       "<IPython.core.display.HTML object>"
      ]
     },
     "metadata": {},
     "output_type": "display_data"
    },
    {
     "data": {
      "text/html": [
       "<span style=\"color:blue\">2019-10-18 07:00</span>"
      ],
      "text/plain": [
       "<IPython.core.display.HTML object>"
      ]
     },
     "metadata": {},
     "output_type": "display_data"
    },
    {
     "name": "stdout",
     "output_type": "stream",
     "text": [
      "\n",
      "沒有柯瑞的勇士季前熱身賽93：126再次被湖人狠狠痛宰，熱身賽勇士打湖人，三場全敗。一旦柯瑞不在場上，勇士就沒有人能掌控比賽節奏，沒有人擁有足夠組織力和牽制力，也沒有人能拉開空間。今年夏天才加盟勇士的後衛羅素，能打出自己的狀況就屬萬幸，他帶不動球隊，幫不了隊友，他還很難成為勇士核心球員。\n",
      "\n",
      "勇士大前鋒格林進攻端的拙劣，因為沒有柯瑞被更加放大，三分外線都是賭手氣，沒有低位進攻、不會背框單打，格林最常出現在高位的傳球，也因為湯普森傷停，柯瑞沒有出賽，幾乎失去作用和牽制力。當柯瑞不在家，格林連帶動防守節奏和氣勢都打了折扣。沒有柯瑞的勇士就是一支樂透區的爛隊。\n",
      "\n",
      "當核心球星柯瑞不在，勇士所有球員，不分主副手或主配角，全都成烏合之眾。這是勇士今年賽季極大危機，除了主力傷病問題，如何克服柯瑞不在場上或輪休，以及狀況不好的時間，這是勇士教練柯爾必須要儘快解決的困境。\n",
      "\n",
      "柯爾已經做出兩個重要調整和準備\n",
      "\n",
      "第一、格林必須在防守帶動和氣勢上灌注全隊，不管柯瑞在不在場上，有沒有出賽，勇士都必須要打出最有衝擊力的防守和強度，同時鞏固籃板和禁區。打好防守才是戰力基石。\n",
      "\n",
      "柯爾特別強調，格林必須對年輕球員和新進球員多一些耐心，因為他們的防守能力和經驗、默契都不是一蹴可幾，需要用更多溝通和耐心去建立完整防守體系。\n",
      "\n",
      "第二、如何將柯瑞的進攻、投籃、擋拆和外線、組織力最大化，展現最高效率，這是過去五年勇士不曾遇上的問題。新賽季湯普森傷停到明年三月，杜蘭特、伊古達拉、伯加特、李文斯頓、庫克、貝爾全部離隊，柯瑞必須要承擔更多進攻得分和組織，他也會面臨更多包夾和防守壓力。\n",
      "\n",
      "如何釋放柯瑞，帶動團隊，讓柯瑞打出最高效率進攻和團隊籃球，柯瑞得更堅韌聰明，柯爾也要有錦囊妙計和戰術設計。\n",
      "\n",
      "湖人在季前熱身賽打出重要指標，他們想要贏球，打好防守，全力以赴的決心，已經很明顯展現出來，只要詹姆斯+戴維斯同時上場先發，湖人的防守、企圖心和開局都很有緊迫感。\n",
      "\n",
      "勇士在熱身賽發現208公分大前鋒克里斯能用，成為目前勇士兩大主要內線之一，這是重大驚喜，更是勇士意外收穫。另外就是196公分菜鳥射手普爾將可以進入輪換，補上很重要的外線火力，至於小羅賓森不管是先發、替補，都能扛上小前鋒位置。\n",
      "\n",
      "但如果沒有柯瑞當家，勇士很容易一籌莫展，打不出合理團隊和競爭力，對湖人熱身賽三連敗已經敲響勇士警鐘。過去五年勇士擁有滿滿天賦、球星雲集，張張都是好牌，今年勇士只剩下一張王牌柯瑞，其他都是副牌或小配菜，這副牌柯爾如何打出勇士氣勢和戰力，不只是柯瑞、柯爾，格林在防守端的付出和帶動能力同樣關鍵。\n",
      "\n",
      "勇士球迷要有心理準備，勇士應該還是季後賽球隊，但所有希望全都押在柯瑞身上，他必須打得完美、出色又很健康。\n",
      "\n",
      "\n",
      "---------------------------------------\n"
     ]
    },
    {
     "data": {
      "text/html": [
       "<h1>全員發揮狂轟141分 快艇快意客場踢館大勝勇士</h1>"
      ],
      "text/plain": [
       "<IPython.core.display.HTML object>"
      ]
     },
     "metadata": {},
     "output_type": "display_data"
    },
    {
     "data": {
      "text/html": [
       "<span style=\"color:blue\">2019-10-25 13:18</span>"
      ],
      "text/plain": [
       "<IPython.core.display.HTML object>"
      ]
     },
     "metadata": {},
     "output_type": "display_data"
    },
    {
     "name": "stdout",
     "output_type": "stream",
     "text": [
      "新賽季首戰就在「洛城內戰」中拔得頭籌，快艇今日（25號）又大勝勇士，終場141以122比再下一城，全隊整體命中率高達62.5%，三分線外也有54.5%高水準發揮，讓對手新主場初亮相就踢到鐵板。\n",
      "\n",
      "快艇一開賽就展現力壓對手的如虹氣勢，前3分多鐘打出14比0攻勢，且勇士防守中樞格林（Draymond Green）更因掩護時弄傷手肘，一度退場接受治療，所幸球隊靠羅素（D'Angelo Russell）、柯瑞（Stephen Curry）接力飆分及時止血。\n",
      "\n",
      "打完上半場之後，快艇暫握有11分領先，只是到了第三節攻勢如同水壩潰堤傾瀉而出，單節狠狠灌下46分讓勇士毫無招架之力，沙米特（Landry Shamet）與派特森（Patrick Patterson）各砍進3記三分球，比賽勝負自此底定。\n",
      "\n",
      "快艇此役讓一度落後多達31分的勇士全場未曾有任何翻轉機會，其中得分最高者為攻下22分的超級替補威廉斯（Lou Williams），雷納德（Kawhi Leonard）則有21分、9助攻進帳。\n",
      "\n",
      "此外，快艇2位先發長人表現也不俗，派特森得到20分，包括6記三分球，而祖巴茲（Ivica Zubac）繳出16分、10籃板雙十成績。勇士方面，柯瑞拿到23分，但個人出現8失誤且三分僅11投2中，羅素另挹注20分、8助攻。\n",
      "\n",
      "---------------------------------------\n"
     ]
    }
   ],
   "source": [
    "for url in news_url:\n",
    "    res=requests.get(url)\n",
    "    soup = BeautifulSoup(res.text,'html.parser')\n",
    "    title=soup.select('div#story_body_content > h1.story_art_title  ')\n",
    "    content = soup.select('div#story_body_content > span > p ')\n",
    "    time=soup.select('div.shareBar__info--author > span')\n",
    "    display(HTML('<h1>'+title[0].text+'</h1>'))\n",
    "    display(HTML(f'<span style=\"color:blue\">{time[0].text}</span>'))\n",
    "    for cont in content[1:]:\n",
    "        print(cont.text)\n",
    "    \n",
    "    print('---------------------------------------')\n",
    "    "
   ]
  },
  {
   "cell_type": "code",
   "execution_count": 272,
   "metadata": {},
   "outputs": [],
   "source": [
    "def NBANews(urls):\n",
    "    res = requests.get(urls)\n",
    "    soup = BeautifulSoup(res.text,'html.parser')\n",
    "    a_tag= soup.select('div.box_body > dl > dt > a ')\n",
    "    news_url=[]\n",
    "\n",
    "    for a in a_tag:\n",
    "        if(a.get('src') == None  ):\n",
    "            if(a.get('href')[0] != 'h' and 'story' in a.get('href') ):\n",
    "                news_url.append('https://nba.udn.com/'+a.get('href'))\n",
    "                \n",
    "    for url in news_url:\n",
    "        res=requests.get(url)\n",
    "        soup = BeautifulSoup(res.text,'html.parser')\n",
    "        title=soup.select('div#story_body_content > h1.story_art_title  ')\n",
    "        content = soup.select('div#story_body_content > span > p ')\n",
    "        time=soup.select('div.shareBar__info--author > span')\n",
    "        display(HTML('<h1>'+title[0].text+'</h1>'))\n",
    "        display(HTML(f'<span style=\"color:blue\">{time[0].text}</span>'))\n",
    "        for cont in content[1:]:\n",
    "            print(cont.text)\n",
    "\n",
    "        print('---------------------------------------')\n",
    "    "
   ]
  },
  {
   "cell_type": "code",
   "execution_count": 273,
   "metadata": {
    "scrolled": true
   },
   "outputs": [
    {
     "data": {
      "text/html": [
       "<h1>「Logo Shot」長射連發 楊恩飆38分退活塞</h1>"
      ],
      "text/plain": [
       "<IPython.core.display.HTML object>"
      ]
     },
     "metadata": {},
     "output_type": "display_data"
    },
    {
     "data": {
      "text/html": [
       "<span style=\"color:blue\">2019-10-25 10:43</span>"
      ],
      "text/plain": [
       "<IPython.core.display.HTML object>"
      ]
     },
     "metadata": {},
     "output_type": "display_data"
    },
    {
     "name": "stdout",
     "output_type": "stream",
     "text": [
      "亞特蘭大老鷹今天（25號）球隊開幕戰中出戰底特律活塞，靠著主控楊恩（Trae Young）全場投進六顆三分球拿下38分，與連續兩場比賽都打出亮眼的表現的活塞羅斯（Derrick Rose）分庭抗禮，最終老鷹在全隊四人得分上雙下，以117：100輕取活塞，搶下新賽季首勝。\n",
      "\n",
      "在上賽季就定下以楊恩為核心的建隊方向後，老鷹在季後補強上並沒有太多大動作，反倒與42歲的「老飛人」卡特（Vince Cater）簽下可能是他生涯的最後一張合約，並在今天出戰活塞的比賽中，讓他以連續征戰22個賽季成為聯盟史上第一人。\n",
      "\n",
      "談到自己所寫下的紀錄，卡特在賽前說：「其實我和教練聊過這件事，他說『你打球的時間比我們球隊上一些球員的年齡都還要長』，不過對我來說，我已經感覺不到這件事，這段時間真的經歷了很多，但這就是我的職業，或許在創造歷史的那一刻我會有某種情緒產生，但我還是要先做好出賽的準備，再去想這件事。」\n",
      "\n",
      "儘管在今天出戰活塞的比賽中，卡特替補上陣10分鐘且一分未得，不過小老弟楊恩卻是從開賽就火力全開想要為老大哥送上賀禮，他在上半場就投進了五顆三分球拿下26分外帶6助攻，不過活塞31歲後衛羅斯表現也不惶多讓，上半場就拿下15分，助活塞上半場打完還保持領先。\n",
      "\n",
      "不過下半場本賽季披上老鷹戰袍的帕克（Jabari Parker）也加入搶分行列，幫助老鷹在下半場逆轉並拉大領先差距，儘管末節一度出現計時器故障的狀況，但終場老鷹仍以17分差大勝活塞，收下新賽季首勝。\n",
      "\n",
      "老鷹以楊恩的38分表現最佳，柯林斯（John Collins）與帕克都有18分進帳，至於今年選秀首輪第四順位新秀杭特（DeAndre Hunter）則有14分進帳，第十順位的雷迪許（Cameron Reddish）全場出手6次全數落空，活塞羅斯則是拿下全隊最高的27分。\n",
      "Trae just casually pulling up from the Pistons' logo 🤯 pic.twitter.com/keaoQOODoc— Atlanta Hawks (@ATLHawks) 2019年10月24日\n",
      "\n",
      "\n",
      "---------------------------------------\n"
     ]
    },
    {
     "data": {
      "text/html": [
       "<h1>搶奪伊古達拉大作戰 數位球員爆料湖人將是首選</h1>"
      ],
      "text/plain": [
       "<IPython.core.display.HTML object>"
      ]
     },
     "metadata": {},
     "output_type": "display_data"
    },
    {
     "data": {
      "text/html": [
       "<span style=\"color:blue\">2019-10-25 10:10</span>"
      ],
      "text/plain": [
       "<IPython.core.display.HTML object>"
      ]
     },
     "metadata": {},
     "output_type": "display_data"
    },
    {
     "name": "stdout",
     "output_type": "stream",
     "text": [
      "儘管已經是35歲的屆退老將，但曾拿下過總冠軍賽MVP的前金州勇士搖擺人伊古達拉（Andre Iguodala）的動向仍讓不少聯盟球隊掛心，昨天（24號）傳出有記者預測他有可能在下賽季重新披上勇士戰袍後，今天則是有美國媒體指出，假使伊古達拉在本賽季就遭到新東家曼菲斯灰熊買斷，季中與洛杉磯湖人簽約的可能性仍舊相當高。\n",
      "\n",
      "伊古達拉在過去五年來三度幫助勇士奪下冠軍，並在2015年榮獲總冠軍賽MVP，今年季後在勇士陣容大重整的情況下被交易到灰熊，不過從季前訓練營到新賽季開幕戰中，伊古達拉始終不見人影，讓灰熊可能交易或是買斷伊古達拉的消息甚囂塵上。\n",
      "\n",
      "不過在不少球隊都表達願意簽下伊古達拉後，昨天紐約記者先是大膽預測，假使灰熊無法在本賽季交易大限前將他交易出去，那身為前勇士精神領袖的伊古達拉，已做好準備在賽季結束成為自由球員後，重新披上老東家戰袍。\n",
      "\n",
      "但《ESPN》記者麥克姆蘭（Jackie MacMullan）在近日錄製節目時更指出，已有至少四名球員向他透露，伊古達拉如果能在季中與灰熊達成買斷合約的協議，那他將會把與湖人簽約列為優先選項。\n",
      "\n",
      "湖人今年夏天雖然在團隊戰力上大手筆補強，包括找來布萊德利（Avery Bradley）、格林（Danny Green）等側翼球員加入，不過在開幕首戰面對上賽季總冠軍賽MVP雷納德（Kawhi Leonard）領軍的快艇，卻遭對手不斷撕裂防線。\n",
      "\n",
      "其中雷納德就斬獲30分6籃板5助攻，在喬治（Paul George）尚未歸隊的情況下率領快艇擊敗湖人，這也顯示出湖人如想跨過快艇從西區出線，勢必需要更強力的側翼防守表現，而擁有豐富防守與季後賽經驗的伊古達拉，毫無疑問將會是首要選擇。\n",
      "\n",
      "---------------------------------------\n"
     ]
    },
    {
     "data": {
      "text/html": [
       "<h1>頭撞天花板進傷兵名單 7呎5吋佛爾遇巨人煩惱</h1>"
      ],
      "text/plain": [
       "<IPython.core.display.HTML object>"
      ]
     },
     "metadata": {},
     "output_type": "display_data"
    },
    {
     "data": {
      "text/html": [
       "<span style=\"color:blue\">2019-10-25 10:05</span>"
      ],
      "text/plain": [
       "<IPython.core.display.HTML object>"
      ]
     },
     "metadata": {},
     "output_type": "display_data"
    },
    {
     "name": "stdout",
     "output_type": "stream",
     "text": [
      "塞爾蒂克官方公佈體測數據顯示，菜鳥大個子佛爾（Tacko Fall）有7呎5吋高、310磅重，日前他傳出因為腦震盪進入傷兵名單消息，而本人也向波士頓當地媒體證實，原因真的出在是自己實在長太高。\n",
      "\n",
      "原來佛爾在自家練習場館訓練結束後，到一旁去準備要洗手卻沒注意到天花板一處較矮一處，不小心就一頭撞上，本來他覺得自己並無大礙，甚至之後還去參加球隊公益活動還又回到場館練投，可是隔天一早卻覺得有些頭暈。\n",
      "\n",
      "於是乎塞爾蒂克基於謹慎考量，將佛爾進入腦震盪檢驗程序，暫且名列傷兵名單之中，不過總教練史蒂文斯（Brad Stevens）強調，佛爾非常接近回歸，但是簽下雙向合約的他短時間內應不會是綠衫軍大名單成員。\n",
      "\n",
      "---------------------------------------\n"
     ]
    },
    {
     "data": {
      "text/html": [
       "<h1>詹皇代班控球任務結束？ 教頭擬讓朗多重回先發</h1>"
      ],
      "text/plain": [
       "<IPython.core.display.HTML object>"
      ]
     },
     "metadata": {},
     "output_type": "display_data"
    },
    {
     "data": {
      "text/html": [
       "<span style=\"color:blue\">2019-10-25 09:48</span>"
      ],
      "text/plain": [
       "<IPython.core.display.HTML object>"
      ]
     },
     "metadata": {},
     "output_type": "display_data"
    },
    {
     "name": "stdout",
     "output_type": "stream",
     "text": [
      "在開幕戰短暫代班控球工作後，洛杉磯湖人詹姆斯（LeBron James）將很快回到他最熟悉的前鋒位置上，並由傷癒復出後的朗多（Rajon Rondo）重掌控球工作，希望能擺脫開幕首戰攻勢不穩的狀況，讓球隊盡快回到正軌上。\n",
      "\n",
      "湖人在開幕戰與快艇的洛城內戰中，排出了詹姆斯主控，搭配布萊德利（Avery Bradley）、格林（Danny Green）的先發後場陣容，不過效果並不如預期，湖人全場雖有20次助攻但也發生14次失誤，其中詹姆斯一人就包辦了五次，且團隊攻勢不如快艇來得流暢，讓湖人主帥佛蓋爾（Frank Vogel）今天（25號）受訪時透露，在朗多傷癒歸隊後，將會讓他回到先發主控的行列。\n",
      "\n",
      "「我考慮了很多面向，並準備讓他回到我們的先發行列，他將會在接下來許多的比賽中扮演我們先發控球的角色」，佛蓋爾在談到首戰因傷缺陣的朗多定位時說：「朗多目前狀況看起來很不錯，不過是否會在下一戰就復出還要再觀察。」\n",
      "\n",
      "朗多上賽季代表湖人出賽繳出平均9.2分8助攻5籃板的數據，雖然今年開季前就得知將與詹姆斯一同分享控球工作，不過朗多強調自己並不介意，「我更想要做好佛蓋爾教練要我做的事情，所以我並不在意是要先發上場還是替補。不過讓我打先發控球是一個很好的選擇，我的生涯中也很擅長做這件事，但就像我說的，我願意配合球隊找出最好的搭配」。\n",
      "\n",
      "---------------------------------------\n"
     ]
    },
    {
     "data": {
      "text/html": [
       "<h1>傳騎士與歐斯曼達協議 4年3100萬提前續約留人 </h1>"
      ],
      "text/plain": [
       "<IPython.core.display.HTML object>"
      ]
     },
     "metadata": {},
     "output_type": "display_data"
    },
    {
     "data": {
      "text/html": [
       "<span style=\"color:blue\">2019-10-25 09:44</span>"
      ],
      "text/plain": [
       "<IPython.core.display.HTML object>"
      ]
     },
     "metadata": {},
     "output_type": "display_data"
    },
    {
     "name": "stdout",
     "output_type": "stream",
     "text": [
      "根據《紐約時報》記者史坦（Marc Stein）報導，騎士與陣中土耳其前鋒歐斯曼（Cedi Osman）提前達成續約協議，合約價碼預計是4年3100萬美元。\n",
      "\n",
      "歐斯曼是2015年選秀會時被灰狼選中隨即交易至騎士，他之後在土耳其職籃又待了2年才赴美加入球隊，2017年當時簽下了3年830萬美元合約。\n",
      "\n",
      "《Cleveland.com》記者費德（Chris Fedor）過去9月就曾透露，騎士一直與歐斯曼有進行續約談判，如今雙方終於達成了共識。\n",
      "\n",
      "此外《ESPN》記者溫德霍斯特（Brian Windhorst）進一步補充，歐斯曼新的4年合約中最後1年為非保障，而該季年薪為860萬美元。\n",
      "\n",
      "---------------------------------------\n"
     ]
    },
    {
     "data": {
      "text/html": [
       "<h1>艾頓經查違反藥檢規定 恐面臨25場禁賽處分</h1>"
      ],
      "text/plain": [
       "<IPython.core.display.HTML object>"
      ]
     },
     "metadata": {},
     "output_type": "display_data"
    },
    {
     "data": {
      "text/html": [
       "<span style=\"color:blue\">2019-10-25 09:25</span>"
      ],
      "text/plain": [
       "<IPython.core.display.HTML object>"
      ]
     },
     "metadata": {},
     "output_type": "display_data"
    },
    {
     "name": "stdout",
     "output_type": "stream",
     "text": [
      "根據《ESPN》記者沃納羅斯基（Adrian Wojnarowski）最新消息指出，太陽中鋒艾頓（Deandre Ayton）經查違反禁藥相關規定，恐怕必須面臨25場禁賽處分。\n",
      "\n",
      "沃納羅斯基提到，艾頓服用了含有利尿劑成份不符規定物質，不過進一步檢驗並沒有發現其他違反禁藥相關規定的藥物反應。\n",
      "\n",
      "因此NBA球員工會很可能出面協助仲裁，以勞資規定中的「不經意誤食」減免條款，來請求聯盟官方減少艾頓需禁賽場次。\n",
      "\n",
      "值得一提的是，籃網前鋒錢德勒（Wilson Chandler）也因藥檢沒過判25場禁賽，他同樣聲稱自己是「不經意誤食」，但其所驗出的是違規程度較嚴重的興奮劑。\n",
      "\n",
      "---------------------------------------\n"
     ]
    },
    {
     "data": {
      "text/html": [
       "<h1>右拇指非移位性骨折 巴格利預計缺賽4至6周</h1>"
      ],
      "text/plain": [
       "<IPython.core.display.HTML object>"
      ]
     },
     "metadata": {},
     "output_type": "display_data"
    },
    {
     "data": {
      "text/html": [
       "<span style=\"color:blue\">2019-10-25 09:11</span>"
      ],
      "text/plain": [
       "<IPython.core.display.HTML object>"
      ]
     },
     "metadata": {},
     "output_type": "display_data"
    },
    {
     "name": "stdout",
     "output_type": "stream",
     "text": [
      "因為昨日（24號）對太陽賽事弄傷右手拇指，國王官方新聞稿指出，2年級長人巴格利（Marvin Bagley III）預計將缺賽4到6周時間。\n",
      "\n",
      "巴格利前役擔任先發並上場28分鐘，繳出14分、10籃板的「雙十」成績，而今日透過核磁共振檢查確認，他的右拇指出現非移位性骨折的症狀。\n",
      "\n",
      "國王在巴格利缺賽期間很可能讓巴恩斯（Harrison Barnes）重返大前鋒位置，此外今夏自由球員市場補進3位球員扮演的角色勢必也會提升。\n",
      "\n",
      "亞瑞查（Trevor Ariza）有望分擔巴恩斯原先設定的3號位，戴德蒙（Dewayne Dedmon）與荷姆斯（Richaun Holmes）則是將頂起禁區戰力。\n",
      "\n",
      "---------------------------------------\n"
     ]
    },
    {
     "data": {
      "text/html": [
       "<h1>轉隊首戰狂飆50分 厄文：沒贏就不重要</h1>"
      ],
      "text/plain": [
       "<IPython.core.display.HTML object>"
      ]
     },
     "metadata": {},
     "output_type": "display_data"
    },
    {
     "data": {
      "text/html": [
       "<span style=\"color:blue\">2019-10-25 08:37</span>"
      ],
      "text/plain": [
       "<IPython.core.display.HTML object>"
      ]
     },
     "metadata": {},
     "output_type": "display_data"
    },
    {
     "name": "stdout",
     "output_type": "stream",
     "text": [
      "今夏轉戰籃網隊的厄文（Kyrie Irving）昨（24號）在為新東家效力首戰就有爆炸性演出，繳出五十分、八籃板、七助攻的成績，無奈球隊最終仍在延長賽以一二六比一二七輸灰狼隊，讓他惋惜地說：「若不能贏下比賽，這些就不重要了。」\n",
      "\n",
      "在隊友杜蘭特（Kevin Durant）因傷恐整季報銷情況下，籃網攻勢只靠厄文一人支撐，他此役卅三投十七中，包含命中七顆三分球。厄文也寫下多項紀錄，包括刷新馬布瑞（Stephon Marbury）所保持的籃網隊史開幕戰卅九分得分紀錄，也創下加盟新球隊後首戰的最高得分紀錄，還成為ＮＢＡ史上第五位在開幕戰至少拿到五十分的球員。\n",
      "\n",
      "儘管寫下多項紀錄，但球隊最終沒能取勝也讓厄文的紀錄夜留下些許遺憾，「這是個很棒的起點，當然你最想要的還是在主場球迷面前贏得比賽，周六還是有機會，這五十分只是個數據罷了，它是有其價值，但若你沒能贏球這些就不重要了」。\n",
      "\n",
      "厄文也強調，這只是例行賽中的其中一場比賽，「我們還有八十一場比賽在等著我們，我們會從失敗中學習，也一定會變得更好」。灰狼則以唐斯（Karl-Anthony Towns）卅六分、十四籃板，另助攻、抄截、阻攻各三的全能數據最為突出。\n",
      "\n",
      "---------------------------------------\n"
     ]
    },
    {
     "data": {
      "text/html": [
       "<h1>回應喬丹評論 柯瑞：自己還有很多需要證明</h1>"
      ],
      "text/plain": [
       "<IPython.core.display.HTML object>"
      ]
     },
     "metadata": {},
     "output_type": "display_data"
    },
    {
     "data": {
      "text/html": [
       "<span style=\"color:blue\">2019-10-24 17:16</span>"
      ],
      "text/plain": [
       "<IPython.core.display.HTML object>"
      ]
     },
     "metadata": {},
     "output_type": "display_data"
    },
    {
     "name": "stdout",
     "output_type": "stream",
     "text": [
      "\n",
      "傳奇巨星喬丹（Michael Jordan）先前的在接受採訪時，表示柯瑞（Stephen Curry）現階段是非常出色的球員，但還沒有到名人堂等級，這番說法也引發後續不少討論。柯瑞近日在訪談中也回應了喬丹，他認為自己還有很多東西需要去證明。\n",
      "\n",
      "「我認為我很好，但我不會因此而自滿，」柯瑞說，「我知道我還需要更多地去證明自己。當你聽到歷史最佳球員對你的評論，這其實很有趣。」\n",
      "\n",
      "「自從我們進入NBA之後，經常會聽到許多退役的球員談論這個時代的籃球員，他們評估我們的天賦，並說著他們那個時代的球員要比現在這時代的球員更好之類的話。對球迷來說，這是一個很棒的話題。」\n",
      "\n",
      "喬丹的好友魔術強森（Magic Johnson）針對這件事情也在推特上發表看法。他說道：「大家輕鬆一點，我們都知道，柯瑞未來是一位名人堂球員，喬丹不能這樣說出來，因為他會被聯盟罰款，」\n",
      "\n",
      "至於喬丹昔日隊友、同時也是勇士主帥的柯爾（Steve Kerr）則是開玩笑地說：「我認為MJ腦中有一個名人堂，是按他的標準。」\n",
      "\n",
      "\n",
      "---------------------------------------\n"
     ]
    },
    {
     "data": {
      "text/html": [
       "<h1>終結拓荒者主場開幕戰18連勝 金塊教頭難掩興奮</h1>"
      ],
      "text/plain": [
       "<IPython.core.display.HTML object>"
      ]
     },
     "metadata": {},
     "output_type": "display_data"
    },
    {
     "data": {
      "text/html": [
       "<span style=\"color:blue\">2019-10-24 17:12</span>"
      ],
      "text/plain": [
       "<IPython.core.display.HTML object>"
      ]
     },
     "metadata": {},
     "output_type": "display_data"
    },
    {
     "name": "stdout",
     "output_type": "stream",
     "text": [
      "\n",
      "在約柯奇（Nikola Jokic）第四節的帶領之下，金塊在波特蘭力壓地主拓荒者，除了拿下賽季首勝，這也是拓荒者自2000-01年賽季以來，首次在例行賽主場開幕戰中吞下敗仗，終結18連勝。\n",
      "\n",
      "拓荒者在2000-01年賽季的開幕戰中面對強敵洛杉磯湖人，該場比賽，歐尼爾（Shaquille O'Neal）狂攻36分11籃板5助攻4阻攻，帶領湖人在客場以96比86拿下勝利。從那一場比賽過後，拓荒者主場開幕戰取得18連勝。\n",
      "\n",
      "對於這場難得的勝利，金塊總教練馬龍（Michael Malone）賽後也難掩興奮，他在休息室說道：「你們可能不知道，拓荒者這18年來從未在自家開幕戰輸球，而我們今天終結這項紀錄。」\n",
      "\n",
      "「我們的防守迫使他們投籃命中率僅41%，三分球命中率更只有25%，這是我們第一場勝利，繼續加油！」\n",
      "\n",
      "\n",
      "---------------------------------------\n"
     ]
    },
    {
     "data": {
      "text/html": [
       "<h1>雷納德聯手板凳暴徒 快艇首戰衝破湖人</h1>"
      ],
      "text/plain": [
       "<IPython.core.display.HTML object>"
      ]
     },
     "metadata": {},
     "output_type": "display_data"
    },
    {
     "data": {
      "text/html": [
       "<span style=\"color:blue\">2019-10-23 13:29</span>"
      ],
      "text/plain": [
       "<IPython.core.display.HTML object>"
      ]
     },
     "metadata": {},
     "output_type": "display_data"
    },
    {
     "name": "stdout",
     "output_type": "stream",
     "text": [
      "\n",
      "眾所矚目的「洛城大戰」在今天點燃戰火，雷納德（Kawhi Leonard）全場攻下30分6籃板5助攻，快艇板凳部隊則是合力砍下60分。快艇在第二節逐漸掌握優勢，雖然第三節尾聲一波亂流讓湖人追平，但第四節穩住陣腳，又將分數拉開，最終以112比102擊敗湖人，取得開季首勝。\n",
      "\n",
      "這場比賽雙方都有主力球員面臨傷病麻煩，快艇傷了喬治（Paul George），湖人則是庫茲瑪（Kyle Kuzma）。一開賽湖人就展現猛烈攻勢，開局打了13比2的攻勢，在比賽中先聲奪人，首節取得領先優勢；不過快艇板凳部隊隨即發揮，加上雷納德精準中距離跳投，快艇第二節砍進40分，反而在上半場以62比54領先湖人。\n",
      "\n",
      "快艇的快節奏配合在下半場讓湖人難以應付，一度取得兩位數領先；不過接下來快艇外線命中率下滑，湖人在詹姆斯（LeBron James）場邊休息之際，反倒殺出一波15比3攻勢，三節結束雙方戰成平手。\n",
      "\n",
      "第四節之初，快艇找回手感，先是打了一波7比0的進攻，湖人不甘示弱連追兩球，快艇替補球員再度發威，又殺出一波11比2的攻勢，比分再度拉開。雷納德掌控節奏，哈瑞爾（Montrezl Harrell）也趁虛籃下建功，湖人反撲無力，只能目送快艇揚長而去。\n",
      "\n",
      "上季決賽MVP雷納德重返故鄉，此役上場32分鐘，雖然出現6次失誤還吞下5犯，但全場19投10中，還是砍下30分6籃板5助攻2抄截。\n",
      "\n",
      "以威廉斯（Lou Williams）為首的快艇板凳暴徒依舊強悍，威廉斯14投8中，拿下21分7助攻5籃板，哈瑞爾11投7中，得到17分7籃板4助攻，哈克雷斯（Moe Harkless）10分4籃板4抄截2阻攻，格林（JaMychal Green）12分6籃板。\n",
      "\n",
      "戴維斯披上湖人戰袍的首場正式比賽，21投8中，包括14罰9中，獨拿25分10籃板5助攻2阻攻1抄截；詹姆斯19投7中，得到18分9籃板8助攻。\n",
      "\n",
      "格林可說是湖人可以咬住比分的關鍵，全場14投10中，三分球9投7中，攻下全隊最高28分，外加7籃板2抄截，其中第三節獨拿18分。湖人陣中除了這3人之外，無人得分超過雙位數。\n",
      "\n",
      "---------------------------------------\n"
     ]
    },
    {
     "data": {
      "text/html": [
       "<h1>稱柯瑞更勝衛少 杜蘭特：哈登沒去火箭無法成MVP</h1>"
      ],
      "text/plain": [
       "<IPython.core.display.HTML object>"
      ]
     },
     "metadata": {},
     "output_type": "display_data"
    },
    {
     "data": {
      "text/html": [
       "<span style=\"color:blue\">2019-10-22 12:51</span>"
      ],
      "text/plain": [
       "<IPython.core.display.HTML object>"
      ]
     },
     "metadata": {},
     "output_type": "display_data"
    },
    {
     "name": "stdout",
     "output_type": "stream",
     "text": [
      "儘管在即將開打的新賽季中可能因傷全面缺陣，但今夏轉披布魯克林籃網戰袍的明星前鋒杜蘭特（Kevin Durant）製造話題的功力依舊，他在近日與前奧克拉荷馬雷霆隊友伊巴卡（Serge Ibaka）一同錄製網路節目時，被問到兩名合作過的後衛柯瑞（Stephen Curry）與衛斯特布魯克（Russell Westbrook）誰更好時，杜蘭特卻毫不猶疑地選擇了前者。\n",
      "\n",
      "杜蘭特在今年夏天透過先簽後換的方式轉戰籃網，儘管受到傷勢影響本賽季可能無法如願披上籃網戰袍登場，不過近日他在與前隊友伊巴卡錄製網路節目「How Hungry Are You?」時，再度靠著犀利回答搶佔媒體版面。\n",
      "\n",
      "其中在上賽季代表暴龍出賽的伊巴卡，先是問到了杜蘭特是否認為，假使自己沒有發生受傷狀況，勇士最終能否擊敗暴龍時，杜蘭特則是回答毫無疑問：「因為如果我在上場的話，你們是不可能在家擊敗我們的。」\n",
      "\n",
      "對於過去與哈登和衛斯特布魯克一起被稱作雷霆四少，杜蘭特與伊巴卡也談論到了兩名也都已經不在雷霆的前隊友們，兩人皆認為如果當年哈登未離開雷霆轉戰火箭，將無法達成拿下年度MVP的成就，而雷霆四少也有機會在相當年輕的情況下就挺進總冠軍賽。\n",
      "\n",
      "不過當伊巴卡問到，杜蘭特的兩位前搭擋柯瑞與衛斯特布魯克誰更好時，杜蘭特卻毫不猶豫地選擇了柯瑞，並認為兩者的差別就在於外線投射能力上，不過有趣的是，杜蘭特在轉戰籃網後將與另外一位聯盟頂尖控球後衛厄文（Kyrie Irving）攜手奮戰，屆時他又會如何評比這三名生涯合作過的頂尖後衛，也讓人相當好奇。\n",
      "\n",
      "---------------------------------------\n"
     ]
    },
    {
     "data": {
      "text/html": [
       "<h1>全員發揮狂轟141分 快艇快意客場踢館大勝勇士</h1>"
      ],
      "text/plain": [
       "<IPython.core.display.HTML object>"
      ]
     },
     "metadata": {},
     "output_type": "display_data"
    },
    {
     "data": {
      "text/html": [
       "<span style=\"color:blue\">2019-10-25 13:18</span>"
      ],
      "text/plain": [
       "<IPython.core.display.HTML object>"
      ]
     },
     "metadata": {},
     "output_type": "display_data"
    },
    {
     "name": "stdout",
     "output_type": "stream",
     "text": [
      "新賽季首戰就在「洛城內戰」中拔得頭籌，快艇今日（25號）又大勝勇士，終場141以122比再下一城，全隊整體命中率高達62.5%，三分線外也有54.5%高水準發揮，讓對手新主場初亮相就踢到鐵板。\n",
      "\n",
      "快艇一開賽就展現力壓對手的如虹氣勢，前3分多鐘打出14比0攻勢，且勇士防守中樞格林（Draymond Green）更因掩護時弄傷手肘，一度退場接受治療，所幸球隊靠羅素（D'Angelo Russell）、柯瑞（Stephen Curry）接力飆分及時止血。\n",
      "\n",
      "打完上半場之後，快艇暫握有11分領先，只是到了第三節攻勢如同水壩潰堤傾瀉而出，單節狠狠灌下46分讓勇士毫無招架之力，沙米特（Landry Shamet）與派特森（Patrick Patterson）各砍進3記三分球，比賽勝負自此底定。\n",
      "\n",
      "快艇此役讓一度落後多達31分的勇士全場未曾有任何翻轉機會，其中得分最高者為攻下22分的超級替補威廉斯（Lou Williams），雷納德（Kawhi Leonard）則有21分、9助攻進帳。\n",
      "\n",
      "此外，快艇2位先發長人表現也不俗，派特森得到20分，包括6記三分球，而祖巴茲（Ivica Zubac）繳出16分、10籃板雙十成績。勇士方面，柯瑞拿到23分，但個人出現8失誤且三分僅11投2中，羅素另挹注20分、8助攻。\n",
      "\n",
      "---------------------------------------\n"
     ]
    },
    {
     "data": {
      "text/html": [
       "<h1>頂著噓聲飆30分 雷納德：很高興拿下勝利</h1>"
      ],
      "text/plain": [
       "<IPython.core.display.HTML object>"
      ]
     },
     "metadata": {},
     "output_type": "display_data"
    },
    {
     "data": {
      "text/html": [
       "<span style=\"color:blue\">2019-10-23 16:39</span>"
      ],
      "text/plain": [
       "<IPython.core.display.HTML object>"
      ]
     },
     "metadata": {},
     "output_type": "display_data"
    },
    {
     "name": "stdout",
     "output_type": "stream",
     "text": [
      "\n",
      "「這將是一個偉大的賽季，我們每場比賽都會全力以赴，讓我們開始吧。」\n",
      "\n",
      "回到家鄉洛城、加盟快艇的首戰，雷納德（Kawhi Leonard）接受來自湖人球迷的噓聲伺候，不過他很快就展現精準的中距離跳投，全場19投10中，攻下30分6籃板5助攻2抄截1阻攻，其中他在第二節獨拿16分，是球隊能夠扭轉落後局面的關鍵。最終快艇就以10分之差擊退同城的湖人。\n",
      "\n",
      "「我很高興我們上場比賽然後拿下勝利。我們先前的訓練做得很棒，我們今晚延續了這樣的狀態。」雷納德說。雷納德此戰雖然出現6次失誤，還吞下5次犯規，但瑕不掩瑜。\n",
      "\n",
      "「他為我們創造機會，他就是這麼做的。」快艇總教練瑞佛斯（Doc Rivers）說。\n",
      "\n",
      "除了雷納德的高效率穩定表現外，快艇板凳暴徒再度有出色發揮，威廉斯（Lou Williams）攻下21分7助攻5籃板，哈瑞爾（Montrezl Harrell）得到17分7籃板4助攻，快艇替補合力砍下60分，足足比湖人替補球員多了41分，成了比賽勝負的關鍵之一。\n",
      "\n",
      "談到雷納德和威廉斯的搭配情況，瑞佛斯表示：「我認為他們現在彼此之間僅相互熟悉10%到15%。他們錯過很多機會，隨著時間的推移，他們會變得越來越危險。」\n",
      "\n",
      "\n",
      "---------------------------------------\n"
     ]
    },
    {
     "data": {
      "text/html": [
       "<h1>失分創柯爾時代新高 柯瑞：檢討時場面肯定難堪</h1>"
      ],
      "text/plain": [
       "<IPython.core.display.HTML object>"
      ]
     },
     "metadata": {},
     "output_type": "display_data"
    },
    {
     "data": {
      "text/html": [
       "<span style=\"color:blue\">2019-10-25 15:12</span>"
      ],
      "text/plain": [
       "<IPython.core.display.HTML object>"
      ]
     },
     "metadata": {},
     "output_type": "display_data"
    },
    {
     "name": "stdout",
     "output_type": "stream",
     "text": [
      "今日（25號）讓快艇單場繳出62.5%整體命中率還有54.5%三分命中率，勇士不但吞下敗仗且痛失141分也寫下柯爾（Steve Kerr）執教時代最高紀錄。\n",
      "\n",
      "柯爾2014年執教勇士開始，球隊算上例行賽還有季後賽的對手單場最高得分140分，是由鵜鶘在今年1月16號所攻下，不過勇士當時憑藉傲人火力硬是拿到147分，依然摘下勝利，但對快艇就無法複製過往經驗。\n",
      "\n",
      "格林（Draymond Green）賽後難掩失望表示：「我們這場比賽表現實在糟糕透頂了，防守更是災難一場。」當被記者問到防守哪點出了問題，他更回應：「每個地方。」柯瑞（Stephen Curry）也坦承：「明天看影片檢討場面肯定很難堪。」\n",
      "\n",
      "至於柯爾自己則是指出：「這就是NBA，過去5年我們就像存在另個世界一樣，現在終於回到現實了。」他甚至補充：「這不會只是個案而已，今年我們很可能也會再面臨同樣狀況。」言下之意似乎預言防守問題將困擾球隊整季。\n",
      "\n",
      "---------------------------------------\n"
     ]
    }
   ],
   "source": [
    "NBANews('https://nba.udn.com/nba/cate/6754/-1/newest/2')"
   ]
  },
  {
   "cell_type": "code",
   "execution_count": null,
   "metadata": {
    "scrolled": false
   },
   "outputs": [
    {
     "data": {
      "text/html": [
       "<h1>影片／單周Shaqtin' A Fool (2019/10/25)</h1>"
      ],
      "text/plain": [
       "<IPython.core.display.HTML object>"
      ]
     },
     "metadata": {},
     "output_type": "display_data"
    },
    {
     "data": {
      "text/html": [
       "<span style=\"color:blue\">2019-10-25 16:46</span>"
      ],
      "text/plain": [
       "<IPython.core.display.HTML object>"
      ]
     },
     "metadata": {},
     "output_type": "display_data"
    },
    {
     "name": "stdout",
     "output_type": "stream",
     "text": [
      "\n",
      "\n",
      "\n",
      "---------------------------------------\n"
     ]
    },
    {
     "data": {
      "text/html": [
       "<h1>3名MVP同場較勁勝出 安戴托昆波讚隊友表現</h1>"
      ],
      "text/plain": [
       "<IPython.core.display.HTML object>"
      ]
     },
     "metadata": {},
     "output_type": "display_data"
    },
    {
     "data": {
      "text/html": [
       "<span style=\"color:blue\">2019-10-25 15:22</span>"
      ],
      "text/plain": [
       "<IPython.core.display.HTML object>"
      ]
     },
     "metadata": {},
     "output_type": "display_data"
    },
    {
     "name": "stdout",
     "output_type": "stream",
     "text": [
      "公鹿球星安戴托昆波（Giannis Antetokounmpo）今天（25號）拿下30分、13籃板、11助攻的「大三元」，比下也曾拿過年度MVP的哈登（James Harden）、衛斯特布魯克（Russell Westbrook），率公鹿117比111客場逆轉擊敗火箭。\n",
      "\n",
      "休士頓火箭今年將2016-17球季的年度最有價值球員衛斯特布魯克交易來，與2017-18球季的年度MVP哈登搭配，讓戰力大為提升，他們今天在家迎戰由2018-19球季年度MVP安戴托昆波率領的公鹿。\n",
      "\n",
      "安戴托昆波即便在終場前5分多鐘吞下單場第6次犯規而提前離場，但他在公鹿本季的第一場比賽，就締造30分、13籃板、11助攻的「大三元」的紀錄，尤其下半場攻下20分，讓公鹿克服第3節一度落後達16分的窘境，以117比111逆轉獲勝。\n",
      "\n",
      "在球隊新球季首戰的精彩表現，讓安戴托昆波成為1966年的名人堂球星「大O」羅伯森（Oscar Robertson）後，第一位能在新季首戰拿下30分以上並獲得「大三元」的球員。但他表示，團隊的合作是逆轉獲勝的關鍵。安戴托昆波說：「我們一起並肩作戰，即便我們面臨強大的挑戰，在第一節打得不像自己，但我們在第2節全神貫注。隊友在沒有我的情況下，也打得很好。」\n",
      "\n",
      "火箭一度靠衛斯特布魯克的三分球和罰球，將落後縮小到1分，但他們卻再也沒把比分超前。衛斯特布魯克今天在轉到火箭後的例行賽處女秀，有24分、16籃板、7助攻的表現；哈登今天13次出手只命中2球，但靠14罰俱中，最終獲得19分，另有7籃板、14助攻的成績。\n",
      "\n",
      "---------------------------------------\n"
     ]
    },
    {
     "data": {
      "text/html": [
       "<h1>失分創柯爾時代新高 柯瑞：檢討時場面肯定難堪</h1>"
      ],
      "text/plain": [
       "<IPython.core.display.HTML object>"
      ]
     },
     "metadata": {},
     "output_type": "display_data"
    },
    {
     "data": {
      "text/html": [
       "<span style=\"color:blue\">2019-10-25 15:12</span>"
      ],
      "text/plain": [
       "<IPython.core.display.HTML object>"
      ]
     },
     "metadata": {},
     "output_type": "display_data"
    },
    {
     "name": "stdout",
     "output_type": "stream",
     "text": [
      "今日（25號）讓快艇單場繳出62.5%整體命中率還有54.5%三分命中率，勇士不但吞下敗仗且痛失141分也寫下柯爾（Steve Kerr）執教時代最高紀錄。\n",
      "\n",
      "柯爾2014年執教勇士開始，球隊算上例行賽還有季後賽的對手單場最高得分140分，是由鵜鶘在今年1月16號所攻下，不過勇士當時憑藉傲人火力硬是拿到147分，依然摘下勝利，但對快艇就無法複製過往經驗。\n",
      "\n",
      "格林（Draymond Green）賽後難掩失望表示：「我們這場比賽表現實在糟糕透頂了，防守更是災難一場。」當被記者問到防守哪點出了問題，他更回應：「每個地方。」柯瑞（Stephen Curry）也坦承：「明天看影片檢討場面肯定很難堪。」\n",
      "\n",
      "至於柯爾自己則是指出：「這就是NBA，過去5年我們就像存在另個世界一樣，現在終於回到現實了。」他甚至補充：「這不會只是個案而已，今年我們很可能也會再面臨同樣狀況。」言下之意似乎預言防守問題將困擾球隊整季。\n",
      "\n",
      "---------------------------------------\n"
     ]
    },
    {
     "data": {
      "text/html": [
       "<h1>羅斯轉戰底特律表現搶眼 活塞傳奇湯瑪斯點名接班</h1>"
      ],
      "text/plain": [
       "<IPython.core.display.HTML object>"
      ]
     },
     "metadata": {},
     "output_type": "display_data"
    },
    {
     "data": {
      "text/html": [
       "<span style=\"color:blue\">2019-10-25 13:57</span>"
      ],
      "text/plain": [
       "<IPython.core.display.HTML object>"
      ]
     },
     "metadata": {},
     "output_type": "display_data"
    },
    {
     "name": "stdout",
     "output_type": "stream",
     "text": [
      "儘管今日（25號）對老鷹一役最終吞敗，羅斯（Derrick Rose）延續前場強勢表現，個人替補出發繳出全隊最高27分，他精彩表現也沒讓退役球星湯瑪斯（Isiah Thomas）失望，這位活塞傳奇先前才點名要羅斯接下自己傳承火炬。\n",
      "\n",
      "湯瑪斯之所以如此欣賞羅斯，其中一個很大原因是2人都是芝加哥土生土長出身，而過去湯瑪斯過去加入活塞也是承襲另一位芝加哥同鄉波特（Kevin Porter），他強調：「我們芝加哥人都很自豪，這裡總是出產很棒的控球後衛。」\n",
      "\n",
      "「在羅斯受傷前可是史上最年輕拿到MVP的球員，我們芝加哥人都為他感到驕傲，如今他跟我還有波特都是芝加哥出身且效力活塞的控衛，我很樂意交棒給他，我很高興他能在這打球，我相信底特律球迷一定會很愛他」，湯瑪斯接續說。\n",
      "\n",
      "一同擔任板凳要角的肯納德（Luke Kennard）也成羅斯加入最大受益者，開季首戰拿到生涯新高30分的他當時不少得分都來自前輩助攻，肯納德也說：「他很懂得掌握節奏，他彷彿是統御球場的將領，且當他進攻感覺一來，更是無人可擋。」\n",
      "\n",
      "---------------------------------------\n"
     ]
    },
    {
     "data": {
      "text/html": [
       "<h1>全員發揮狂轟141分 快艇快意客場踢館大勝勇士</h1>"
      ],
      "text/plain": [
       "<IPython.core.display.HTML object>"
      ]
     },
     "metadata": {},
     "output_type": "display_data"
    },
    {
     "data": {
      "text/html": [
       "<span style=\"color:blue\">2019-10-25 13:18</span>"
      ],
      "text/plain": [
       "<IPython.core.display.HTML object>"
      ]
     },
     "metadata": {},
     "output_type": "display_data"
    },
    {
     "name": "stdout",
     "output_type": "stream",
     "text": [
      "新賽季首戰就在「洛城內戰」中拔得頭籌，快艇今日（25號）又大勝勇士，終場141以122比再下一城，全隊整體命中率高達62.5%，三分線外也有54.5%高水準發揮，讓對手新主場初亮相就踢到鐵板。\n",
      "\n",
      "快艇一開賽就展現力壓對手的如虹氣勢，前3分多鐘打出14比0攻勢，且勇士防守中樞格林（Draymond Green）更因掩護時弄傷手肘，一度退場接受治療，所幸球隊靠羅素（D'Angelo Russell）、柯瑞（Stephen Curry）接力飆分及時止血。\n",
      "\n",
      "打完上半場之後，快艇暫握有11分領先，只是到了第三節攻勢如同水壩潰堤傾瀉而出，單節狠狠灌下46分讓勇士毫無招架之力，沙米特（Landry Shamet）與派特森（Patrick Patterson）各砍進3記三分球，比賽勝負自此底定。\n",
      "\n",
      "快艇此役讓一度落後多達31分的勇士全場未曾有任何翻轉機會，其中得分最高者為攻下22分的超級替補威廉斯（Lou Williams），雷納德（Kawhi Leonard）則有21分、9助攻進帳。\n",
      "\n",
      "此外，快艇2位先發長人表現也不俗，派特森得到20分，包括6記三分球，而祖巴茲（Ivica Zubac）繳出16分、10籃板雙十成績。勇士方面，柯瑞拿到23分，但個人出現8失誤且三分僅11投2中，羅素另挹注20分、8助攻。\n",
      "\n",
      "---------------------------------------\n"
     ]
    },
    {
     "data": {
      "text/html": [
       "<h1>火箭MVP連線出師不利 丹東尼：不是來贏82場</h1>"
      ],
      "text/plain": [
       "<IPython.core.display.HTML object>"
      ]
     },
     "metadata": {},
     "output_type": "display_data"
    },
    {
     "data": {
      "text/html": [
       "<span style=\"color:blue\">2019-10-25 12:09</span>"
      ],
      "text/plain": [
       "<IPython.core.display.HTML object>"
      ]
     },
     "metadata": {},
     "output_type": "display_data"
    },
    {
     "name": "stdout",
     "output_type": "stream",
     "text": [
      "休士頓火箭今天在出戰密爾瓦基公鹿之戰，在「MVP連線」哈登（James Harden）、衛斯特布魯克（Russell Westbrook）手感不佳下，以111：117吞下首敗，儘管新賽季首戰出師不利，但總教練丹東尼（Mike D'Antoni）強調，球隊本賽季目標本來就不是要贏得82場比賽。\n",
      "\n",
      "火箭今年休賽季期間將主控保羅（Chris Paul）交易到雷霆，換回2017年年度MVP衛斯特布魯克，與去年MVP哈登組成聯盟進攻火力最強大的雙人組合，不過在新賽季的首場比賽，兩人雖然合力拿下43分，但合計出手30次僅命中9球，三分球更是15投僅4中。\n",
      "\n",
      "賽後哈登也將輸球責任一肩扛下，他出手13次僅命中2球並發生高達7次失誤，不過送出14次助攻，罰球14次也全數命中，「這全都要怪我，我打得還不夠具有侵略性，我無法把球投進，新賽季的首場比賽我還在找節奏」。\n",
      "\n",
      "相較之下，衛斯特布魯克雖然同樣手感不佳，不過代表新東家的首場比賽就拿下全隊最高的24分外帶16籃板7助攻，獲得總教練丹東尼的好評，「從今晚的表現我更確定衛斯特布魯克就是一名優異的比賽型球員，當球場燈光亮起的那一刻，他就展現了高度的鬥性，他已經完全是一名火箭球員」。\n",
      "\n",
      "儘管球隊開幕戰以吞敗作收，但丹東尼認為狀況將會持續好轉，「球員們會沒事的，更何況我們的目標並不是贏下全部的82場比賽，接下來我們也還有拿下81勝的機會」。\n",
      "\n",
      "---------------------------------------\n"
     ]
    },
    {
     "data": {
      "text/html": [
       "<h1>敦奧就知戴維斯非池中物 布萊恩期許預約名人堂</h1>"
      ],
      "text/plain": [
       "<IPython.core.display.HTML object>"
      ]
     },
     "metadata": {},
     "output_type": "display_data"
    },
    {
     "data": {
      "text/html": [
       "<span style=\"color:blue\">2019-10-25 12:01</span>"
      ],
      "text/plain": [
       "<IPython.core.display.HTML object>"
      ]
     },
     "metadata": {},
     "output_type": "display_data"
    },
    {
     "name": "stdout",
     "output_type": "stream",
     "text": [
      "戴維斯（Anthony Davis）透過交易降臨洛杉磯，替湖人帶來了紫金王朝復興希望，儼然也成為了洛城當地新寵，而湖人傳奇球星布萊恩（Kobe Bryant）日前更透露，自己早在2012年倫敦奧運就對戴維斯十分欣賞。\n",
      "\n",
      "戴維斯在2012年時是在沒有NBA資歷情況下入選星光熠熠美國隊，當時幾個月前19歲的他才在NBA選秀會上以狀元身份獲選，布萊恩回憶初識戴維斯說：「他與眾不同的一點是，他對於籃球或者說運動競技好奇心很強。」\n",
      "\n",
      "布萊恩強調自己當時很欣賞這位19歲年輕人不怕問問題的態度，於是決定讓他隨自己在奧運村四處走訪，「有次我跟小威廉絲（Serena Williams）聊天，提到敬業精神還有競爭比較，我跟她比較了自己作法，戴維斯就在一旁聽得津津有味」。\n",
      "\n",
      "布萊恩也提到，戴維斯距離聯盟首席巨星地位僅咫尺之遙，「我認為過去只是傷病阻止他大爆發，但我的天啊，他已經達到了不少十分驚人的成就，健康與否是唯一阻止他擁有不可思議名人堂等級生涯的障礙」。\n",
      "\n",
      "---------------------------------------\n"
     ]
    },
    {
     "data": {
      "text/html": [
       "<h1>搧風點火宿敵情結？ 瑞佛斯笑指湖人冠軍數「灌水」</h1>"
      ],
      "text/plain": [
       "<IPython.core.display.HTML object>"
      ]
     },
     "metadata": {},
     "output_type": "display_data"
    },
    {
     "data": {
      "text/html": [
       "<span style=\"color:blue\">2019-10-25 11:27</span>"
      ],
      "text/plain": [
       "<IPython.core.display.HTML object>"
      ]
     },
     "metadata": {},
     "output_type": "display_data"
    },
    {
     "name": "stdout",
     "output_type": "stream",
     "text": [
      "NBA新賽季首日由洛城內戰揭開序幕，快艇力壓湖人旗開得勝，雙方本季還有3次對戰其中更包括經典的耶誕大戰，快艇主帥瑞佛斯（Doc Rivers）日前也不忘「搧風點火」一番，指出湖人不該計算過去明尼蘇達時期所奪冠軍。\n",
      "\n",
      "在談到與同城湖人宿敵情結時，瑞佛斯表示：「洛杉磯是屬於湖人的城市，這點我沒意見也覺得很好，他們在這裡贏了幾座總冠軍呢？但你們知道，他們其實把隊史所有冠軍都算進來，但其實有幾座不是在這拿的，這我可覺得有些困擾。」\n",
      "\n",
      "瑞佛斯所要說的是，湖人隊史16冠其實有5冠是在明尼蘇達時期贏得，當然他這番話顯然是開玩笑成份居多，因為之後他又補上一句，「假如可以的話，應該也不要算2010年那冠」，而湖人那年正是擊敗他所領軍的塞爾蒂克封王。\n",
      "\n",
      "瑞佛斯進一步說：「當然我們正在創造屬於自己的時代，我們沒有打算要削弱其他人光采，我們要做的是把自己提升起來，我本來以為這是不可能的，所以我以前一直很挫折，但現在我們真的做到了。」\n",
      "\n",
      "\n",
      "\n",
      "\n",
      "\n",
      "---------------------------------------\n"
     ]
    },
    {
     "data": {
      "text/html": [
       "<h1>隊友挺身退火箭 MVP大戰字母哥犯滿還是成贏家</h1>"
      ],
      "text/plain": [
       "<IPython.core.display.HTML object>"
      ]
     },
     "metadata": {},
     "output_type": "display_data"
    },
    {
     "data": {
      "text/html": [
       "<span style=\"color:blue\">2019-10-25 11:19</span>"
      ],
      "text/plain": [
       "<IPython.core.display.HTML object>"
      ]
     },
     "metadata": {},
     "output_type": "display_data"
    },
    {
     "name": "stdout",
     "output_type": "stream",
     "text": [
      "頂著上賽季年度MVP光環的首場例行賽事，密爾瓦基公鹿「字母哥」安戴托昆波（Giannis Antetokounmpo）今天（25號）領軍出戰休士頓火箭的比賽中，雖然繳出大三元成績，但卻在比賽最後五分鐘時六犯離場，但公鹿隊友仍頂住火箭的反撲，以117：111搶下新賽季首勝。\n",
      "\n",
      "上賽季在年度MVP獎項上一路廝殺的安戴托昆波與火箭哈登（James Harden），新賽季的首場比賽就正面交鋒，而這次哈登還帶著新幫手衛斯特布魯克（Russell Westbrook）加入戰局，場上同時出現過去三個賽季的年度MVP獲獎人，成為名符其實的MVP大戰。\n",
      "\n",
      "不過在首節賽事中三人表現都不如預期，安戴托昆波開賽不到五分鐘就已經吞下兩犯提前到板凳區觀戰，而哈登與衛斯特布魯克則是手感冰冷，不過火箭仍靠著團隊火力優勢，於中場休息時取得16分的大幅領先。\n",
      "\n",
      "第三節安戴托昆波手感逐漸加溫，他單節進帳12分幫助公鹿將差距先縮小到個位數，第四節初他又連得8分，加上伊利亞索瓦（Ersan Ilyasova）也加入戰局接連進球，助公鹿在比賽最後8分鐘逆轉戰局，儘管火箭衛斯特布魯克關鍵時刻挺身再要回領先優勢，安戴托昆波也吞下第六犯離場，但公鹿洛培茲（Brook Lopez）、米道頓（Khris Middleton）和伊利亞索瓦接連在外線開砲，幫助公鹿在比賽最後五分鐘擋住火箭反撲，以6分差距收下首勝。\n",
      "\n",
      "公鹿今天全隊七人得分來到雙位數，其中安戴托昆波拿下30分13籃板11助攻的大三元，火箭衛斯特布魯克與哈登雖然也聯手拿下43分，但兩人合計出手30次僅命中9球，三分球更是15投僅4中。\n",
      "\n",
      "---------------------------------------\n"
     ]
    },
    {
     "data": {
      "text/html": [
       "<h1>正式連戰22賽季創紀錄 卡特：這就是我的職業</h1>"
      ],
      "text/plain": [
       "<IPython.core.display.HTML object>"
      ]
     },
     "metadata": {},
     "output_type": "display_data"
    },
    {
     "data": {
      "text/html": [
       "<span style=\"color:blue\">2019-10-25 10:50</span>"
      ],
      "text/plain": [
       "<IPython.core.display.HTML object>"
      ]
     },
     "metadata": {},
     "output_type": "display_data"
    },
    {
     "name": "stdout",
     "output_type": "stream",
     "text": [
      "熱身賽才讓對手教頭大喊這傢伙怎還不退休，老鷹42歲老將卡特（Vince Carter）今日（25號）正式創造歷史，成為首位在NBA生涯第22賽季登場比賽的球員。\n",
      "\n",
      "卡特打破了由自己原先與其他4人所共同保持的紀錄，過去有諾維茨基（Dirk Nowitzki）、賈奈特（Kevin Garnett）、威利斯（Kevin Willis）還有派瑞許（Robert Parish）都打了21個NBA賽季。\n",
      "\n",
      "而如果卡特保持出賽節奏的話，他也會在2020年成為首位跨越4個10年出賽的球員，他的菜鳥新人年是起始於1998年。他此役對活塞上場10分鐘，但沒有分數進帳。\n",
      "\n",
      "談到自己所寫下的紀錄，卡特賽前說：「其實我和教練聊過這件事，他說『你打球的時間比我們球隊上一些球員的年齡都還要長』，不過對我來說，我已經感覺不到這件事。」\n",
      "\n",
      "他進一步說：「這段時間真的經歷了很多，但這就是我的職業，或許在創造歷史的那一刻我會有某種情緒產生，但我還是要先做好出賽的準備，再去想這件事。」\n",
      "\n",
      "---------------------------------------\n"
     ]
    },
    {
     "data": {
      "text/html": [
       "<h1>雷納德聯手板凳暴徒 快艇首戰衝破湖人</h1>"
      ],
      "text/plain": [
       "<IPython.core.display.HTML object>"
      ]
     },
     "metadata": {},
     "output_type": "display_data"
    },
    {
     "data": {
      "text/html": [
       "<span style=\"color:blue\">2019-10-23 13:29</span>"
      ],
      "text/plain": [
       "<IPython.core.display.HTML object>"
      ]
     },
     "metadata": {},
     "output_type": "display_data"
    },
    {
     "name": "stdout",
     "output_type": "stream",
     "text": [
      "\n",
      "眾所矚目的「洛城大戰」在今天點燃戰火，雷納德（Kawhi Leonard）全場攻下30分6籃板5助攻，快艇板凳部隊則是合力砍下60分。快艇在第二節逐漸掌握優勢，雖然第三節尾聲一波亂流讓湖人追平，但第四節穩住陣腳，又將分數拉開，最終以112比102擊敗湖人，取得開季首勝。\n",
      "\n",
      "這場比賽雙方都有主力球員面臨傷病麻煩，快艇傷了喬治（Paul George），湖人則是庫茲瑪（Kyle Kuzma）。一開賽湖人就展現猛烈攻勢，開局打了13比2的攻勢，在比賽中先聲奪人，首節取得領先優勢；不過快艇板凳部隊隨即發揮，加上雷納德精準中距離跳投，快艇第二節砍進40分，反而在上半場以62比54領先湖人。\n",
      "\n",
      "快艇的快節奏配合在下半場讓湖人難以應付，一度取得兩位數領先；不過接下來快艇外線命中率下滑，湖人在詹姆斯（LeBron James）場邊休息之際，反倒殺出一波15比3攻勢，三節結束雙方戰成平手。\n",
      "\n",
      "第四節之初，快艇找回手感，先是打了一波7比0的進攻，湖人不甘示弱連追兩球，快艇替補球員再度發威，又殺出一波11比2的攻勢，比分再度拉開。雷納德掌控節奏，哈瑞爾（Montrezl Harrell）也趁虛籃下建功，湖人反撲無力，只能目送快艇揚長而去。\n",
      "\n",
      "上季決賽MVP雷納德重返故鄉，此役上場32分鐘，雖然出現6次失誤還吞下5犯，但全場19投10中，還是砍下30分6籃板5助攻2抄截。\n",
      "\n",
      "以威廉斯（Lou Williams）為首的快艇板凳暴徒依舊強悍，威廉斯14投8中，拿下21分7助攻5籃板，哈瑞爾11投7中，得到17分7籃板4助攻，哈克雷斯（Moe Harkless）10分4籃板4抄截2阻攻，格林（JaMychal Green）12分6籃板。\n",
      "\n",
      "戴維斯披上湖人戰袍的首場正式比賽，21投8中，包括14罰9中，獨拿25分10籃板5助攻2阻攻1抄截；詹姆斯19投7中，得到18分9籃板8助攻。\n",
      "\n",
      "格林可說是湖人可以咬住比分的關鍵，全場14投10中，三分球9投7中，攻下全隊最高28分，外加7籃板2抄截，其中第三節獨拿18分。湖人陣中除了這3人之外，無人得分超過雙位數。\n",
      "\n",
      "---------------------------------------\n"
     ]
    },
    {
     "data": {
      "text/html": [
       "<h1>稱柯瑞更勝衛少 杜蘭特：哈登沒去火箭無法成MVP</h1>"
      ],
      "text/plain": [
       "<IPython.core.display.HTML object>"
      ]
     },
     "metadata": {},
     "output_type": "display_data"
    },
    {
     "data": {
      "text/html": [
       "<span style=\"color:blue\">2019-10-22 12:51</span>"
      ],
      "text/plain": [
       "<IPython.core.display.HTML object>"
      ]
     },
     "metadata": {},
     "output_type": "display_data"
    },
    {
     "name": "stdout",
     "output_type": "stream",
     "text": [
      "儘管在即將開打的新賽季中可能因傷全面缺陣，但今夏轉披布魯克林籃網戰袍的明星前鋒杜蘭特（Kevin Durant）製造話題的功力依舊，他在近日與前奧克拉荷馬雷霆隊友伊巴卡（Serge Ibaka）一同錄製網路節目時，被問到兩名合作過的後衛柯瑞（Stephen Curry）與衛斯特布魯克（Russell Westbrook）誰更好時，杜蘭特卻毫不猶疑地選擇了前者。\n",
      "\n",
      "杜蘭特在今年夏天透過先簽後換的方式轉戰籃網，儘管受到傷勢影響本賽季可能無法如願披上籃網戰袍登場，不過近日他在與前隊友伊巴卡錄製網路節目「How Hungry Are You?」時，再度靠著犀利回答搶佔媒體版面。\n",
      "\n",
      "其中在上賽季代表暴龍出賽的伊巴卡，先是問到了杜蘭特是否認為，假使自己沒有發生受傷狀況，勇士最終能否擊敗暴龍時，杜蘭特則是回答毫無疑問：「因為如果我在上場的話，你們是不可能在家擊敗我們的。」\n",
      "\n",
      "對於過去與哈登和衛斯特布魯克一起被稱作雷霆四少，杜蘭特與伊巴卡也談論到了兩名也都已經不在雷霆的前隊友們，兩人皆認為如果當年哈登未離開雷霆轉戰火箭，將無法達成拿下年度MVP的成就，而雷霆四少也有機會在相當年輕的情況下就挺進總冠軍賽。\n",
      "\n",
      "不過當伊巴卡問到，杜蘭特的兩位前搭擋柯瑞與衛斯特布魯克誰更好時，杜蘭特卻毫不猶豫地選擇了柯瑞，並認為兩者的差別就在於外線投射能力上，不過有趣的是，杜蘭特在轉戰籃網後將與另外一位聯盟頂尖控球後衛厄文（Kyrie Irving）攜手奮戰，屆時他又會如何評比這三名生涯合作過的頂尖後衛，也讓人相當好奇。\n",
      "\n",
      "---------------------------------------\n"
     ]
    },
    {
     "data": {
      "text/html": [
       "<h1>全員發揮狂轟141分 快艇快意客場踢館大勝勇士</h1>"
      ],
      "text/plain": [
       "<IPython.core.display.HTML object>"
      ]
     },
     "metadata": {},
     "output_type": "display_data"
    },
    {
     "data": {
      "text/html": [
       "<span style=\"color:blue\">2019-10-25 13:18</span>"
      ],
      "text/plain": [
       "<IPython.core.display.HTML object>"
      ]
     },
     "metadata": {},
     "output_type": "display_data"
    },
    {
     "name": "stdout",
     "output_type": "stream",
     "text": [
      "新賽季首戰就在「洛城內戰」中拔得頭籌，快艇今日（25號）又大勝勇士，終場141以122比再下一城，全隊整體命中率高達62.5%，三分線外也有54.5%高水準發揮，讓對手新主場初亮相就踢到鐵板。\n",
      "\n",
      "快艇一開賽就展現力壓對手的如虹氣勢，前3分多鐘打出14比0攻勢，且勇士防守中樞格林（Draymond Green）更因掩護時弄傷手肘，一度退場接受治療，所幸球隊靠羅素（D'Angelo Russell）、柯瑞（Stephen Curry）接力飆分及時止血。\n",
      "\n",
      "打完上半場之後，快艇暫握有11分領先，只是到了第三節攻勢如同水壩潰堤傾瀉而出，單節狠狠灌下46分讓勇士毫無招架之力，沙米特（Landry Shamet）與派特森（Patrick Patterson）各砍進3記三分球，比賽勝負自此底定。\n",
      "\n",
      "快艇此役讓一度落後多達31分的勇士全場未曾有任何翻轉機會，其中得分最高者為攻下22分的超級替補威廉斯（Lou Williams），雷納德（Kawhi Leonard）則有21分、9助攻進帳。\n",
      "\n",
      "此外，快艇2位先發長人表現也不俗，派特森得到20分，包括6記三分球，而祖巴茲（Ivica Zubac）繳出16分、10籃板雙十成績。勇士方面，柯瑞拿到23分，但個人出現8失誤且三分僅11投2中，羅素另挹注20分、8助攻。\n",
      "\n",
      "---------------------------------------\n"
     ]
    },
    {
     "data": {
      "text/html": [
       "<h1>頂著噓聲飆30分 雷納德：很高興拿下勝利</h1>"
      ],
      "text/plain": [
       "<IPython.core.display.HTML object>"
      ]
     },
     "metadata": {},
     "output_type": "display_data"
    },
    {
     "data": {
      "text/html": [
       "<span style=\"color:blue\">2019-10-23 16:39</span>"
      ],
      "text/plain": [
       "<IPython.core.display.HTML object>"
      ]
     },
     "metadata": {},
     "output_type": "display_data"
    },
    {
     "name": "stdout",
     "output_type": "stream",
     "text": [
      "\n",
      "「這將是一個偉大的賽季，我們每場比賽都會全力以赴，讓我們開始吧。」\n",
      "\n",
      "回到家鄉洛城、加盟快艇的首戰，雷納德（Kawhi Leonard）接受來自湖人球迷的噓聲伺候，不過他很快就展現精準的中距離跳投，全場19投10中，攻下30分6籃板5助攻2抄截1阻攻，其中他在第二節獨拿16分，是球隊能夠扭轉落後局面的關鍵。最終快艇就以10分之差擊退同城的湖人。\n",
      "\n",
      "「我很高興我們上場比賽然後拿下勝利。我們先前的訓練做得很棒，我們今晚延續了這樣的狀態。」雷納德說。雷納德此戰雖然出現6次失誤，還吞下5次犯規，但瑕不掩瑜。\n",
      "\n",
      "「他為我們創造機會，他就是這麼做的。」快艇總教練瑞佛斯（Doc Rivers）說。\n",
      "\n",
      "除了雷納德的高效率穩定表現外，快艇板凳暴徒再度有出色發揮，威廉斯（Lou Williams）攻下21分7助攻5籃板，哈瑞爾（Montrezl Harrell）得到17分7籃板4助攻，快艇替補合力砍下60分，足足比湖人替補球員多了41分，成了比賽勝負的關鍵之一。\n",
      "\n",
      "談到雷納德和威廉斯的搭配情況，瑞佛斯表示：「我認為他們現在彼此之間僅相互熟悉10%到15%。他們錯過很多機會，隨著時間的推移，他們會變得越來越危險。」\n",
      "\n",
      "\n",
      "---------------------------------------\n"
     ]
    },
    {
     "data": {
      "text/html": [
       "<h1>失分創柯爾時代新高 柯瑞：檢討時場面肯定難堪</h1>"
      ],
      "text/plain": [
       "<IPython.core.display.HTML object>"
      ]
     },
     "metadata": {},
     "output_type": "display_data"
    },
    {
     "data": {
      "text/html": [
       "<span style=\"color:blue\">2019-10-25 15:12</span>"
      ],
      "text/plain": [
       "<IPython.core.display.HTML object>"
      ]
     },
     "metadata": {},
     "output_type": "display_data"
    },
    {
     "name": "stdout",
     "output_type": "stream",
     "text": [
      "今日（25號）讓快艇單場繳出62.5%整體命中率還有54.5%三分命中率，勇士不但吞下敗仗且痛失141分也寫下柯爾（Steve Kerr）執教時代最高紀錄。\n",
      "\n",
      "柯爾2014年執教勇士開始，球隊算上例行賽還有季後賽的對手單場最高得分140分，是由鵜鶘在今年1月16號所攻下，不過勇士當時憑藉傲人火力硬是拿到147分，依然摘下勝利，但對快艇就無法複製過往經驗。\n",
      "\n",
      "格林（Draymond Green）賽後難掩失望表示：「我們這場比賽表現實在糟糕透頂了，防守更是災難一場。」當被記者問到防守哪點出了問題，他更回應：「每個地方。」柯瑞（Stephen Curry）也坦承：「明天看影片檢討場面肯定很難堪。」\n",
      "\n",
      "至於柯爾自己則是指出：「這就是NBA，過去5年我們就像存在另個世界一樣，現在終於回到現實了。」他甚至補充：「這不會只是個案而已，今年我們很可能也會再面臨同樣狀況。」言下之意似乎預言防守問題將困擾球隊整季。\n",
      "\n",
      "---------------------------------------\n"
     ]
    },
    {
     "data": {
      "text/html": [
       "<h1>影片／單周Shaqtin' A Fool (2019/10/25)</h1>"
      ],
      "text/plain": [
       "<IPython.core.display.HTML object>"
      ]
     },
     "metadata": {},
     "output_type": "display_data"
    },
    {
     "data": {
      "text/html": [
       "<span style=\"color:blue\">2019-10-25 16:46</span>"
      ],
      "text/plain": [
       "<IPython.core.display.HTML object>"
      ]
     },
     "metadata": {},
     "output_type": "display_data"
    },
    {
     "name": "stdout",
     "output_type": "stream",
     "text": [
      "\n",
      "\n",
      "\n",
      "---------------------------------------\n"
     ]
    },
    {
     "data": {
      "text/html": [
       "<h1>3名MVP同場較勁勝出 安戴托昆波讚隊友表現</h1>"
      ],
      "text/plain": [
       "<IPython.core.display.HTML object>"
      ]
     },
     "metadata": {},
     "output_type": "display_data"
    },
    {
     "data": {
      "text/html": [
       "<span style=\"color:blue\">2019-10-25 15:22</span>"
      ],
      "text/plain": [
       "<IPython.core.display.HTML object>"
      ]
     },
     "metadata": {},
     "output_type": "display_data"
    },
    {
     "name": "stdout",
     "output_type": "stream",
     "text": [
      "公鹿球星安戴托昆波（Giannis Antetokounmpo）今天（25號）拿下30分、13籃板、11助攻的「大三元」，比下也曾拿過年度MVP的哈登（James Harden）、衛斯特布魯克（Russell Westbrook），率公鹿117比111客場逆轉擊敗火箭。\n",
      "\n",
      "休士頓火箭今年將2016-17球季的年度最有價值球員衛斯特布魯克交易來，與2017-18球季的年度MVP哈登搭配，讓戰力大為提升，他們今天在家迎戰由2018-19球季年度MVP安戴托昆波率領的公鹿。\n",
      "\n",
      "安戴托昆波即便在終場前5分多鐘吞下單場第6次犯規而提前離場，但他在公鹿本季的第一場比賽，就締造30分、13籃板、11助攻的「大三元」的紀錄，尤其下半場攻下20分，讓公鹿克服第3節一度落後達16分的窘境，以117比111逆轉獲勝。\n",
      "\n",
      "在球隊新球季首戰的精彩表現，讓安戴托昆波成為1966年的名人堂球星「大O」羅伯森（Oscar Robertson）後，第一位能在新季首戰拿下30分以上並獲得「大三元」的球員。但他表示，團隊的合作是逆轉獲勝的關鍵。安戴托昆波說：「我們一起並肩作戰，即便我們面臨強大的挑戰，在第一節打得不像自己，但我們在第2節全神貫注。隊友在沒有我的情況下，也打得很好。」\n",
      "\n",
      "火箭一度靠衛斯特布魯克的三分球和罰球，將落後縮小到1分，但他們卻再也沒把比分超前。衛斯特布魯克今天在轉到火箭後的例行賽處女秀，有24分、16籃板、7助攻的表現；哈登今天13次出手只命中2球，但靠14罰俱中，最終獲得19分，另有7籃板、14助攻的成績。\n",
      "\n",
      "---------------------------------------\n"
     ]
    },
    {
     "data": {
      "text/html": [
       "<h1>失分創柯爾時代新高 柯瑞：檢討時場面肯定難堪</h1>"
      ],
      "text/plain": [
       "<IPython.core.display.HTML object>"
      ]
     },
     "metadata": {},
     "output_type": "display_data"
    },
    {
     "data": {
      "text/html": [
       "<span style=\"color:blue\">2019-10-25 15:12</span>"
      ],
      "text/plain": [
       "<IPython.core.display.HTML object>"
      ]
     },
     "metadata": {},
     "output_type": "display_data"
    },
    {
     "name": "stdout",
     "output_type": "stream",
     "text": [
      "今日（25號）讓快艇單場繳出62.5%整體命中率還有54.5%三分命中率，勇士不但吞下敗仗且痛失141分也寫下柯爾（Steve Kerr）執教時代最高紀錄。\n",
      "\n",
      "柯爾2014年執教勇士開始，球隊算上例行賽還有季後賽的對手單場最高得分140分，是由鵜鶘在今年1月16號所攻下，不過勇士當時憑藉傲人火力硬是拿到147分，依然摘下勝利，但對快艇就無法複製過往經驗。\n",
      "\n",
      "格林（Draymond Green）賽後難掩失望表示：「我們這場比賽表現實在糟糕透頂了，防守更是災難一場。」當被記者問到防守哪點出了問題，他更回應：「每個地方。」柯瑞（Stephen Curry）也坦承：「明天看影片檢討場面肯定很難堪。」\n",
      "\n",
      "至於柯爾自己則是指出：「這就是NBA，過去5年我們就像存在另個世界一樣，現在終於回到現實了。」他甚至補充：「這不會只是個案而已，今年我們很可能也會再面臨同樣狀況。」言下之意似乎預言防守問題將困擾球隊整季。\n",
      "\n",
      "---------------------------------------\n"
     ]
    },
    {
     "data": {
      "text/html": [
       "<h1>羅斯轉戰底特律表現搶眼 活塞傳奇湯瑪斯點名接班</h1>"
      ],
      "text/plain": [
       "<IPython.core.display.HTML object>"
      ]
     },
     "metadata": {},
     "output_type": "display_data"
    },
    {
     "data": {
      "text/html": [
       "<span style=\"color:blue\">2019-10-25 13:57</span>"
      ],
      "text/plain": [
       "<IPython.core.display.HTML object>"
      ]
     },
     "metadata": {},
     "output_type": "display_data"
    },
    {
     "name": "stdout",
     "output_type": "stream",
     "text": [
      "儘管今日（25號）對老鷹一役最終吞敗，羅斯（Derrick Rose）延續前場強勢表現，個人替補出發繳出全隊最高27分，他精彩表現也沒讓退役球星湯瑪斯（Isiah Thomas）失望，這位活塞傳奇先前才點名要羅斯接下自己傳承火炬。\n",
      "\n",
      "湯瑪斯之所以如此欣賞羅斯，其中一個很大原因是2人都是芝加哥土生土長出身，而過去湯瑪斯過去加入活塞也是承襲另一位芝加哥同鄉波特（Kevin Porter），他強調：「我們芝加哥人都很自豪，這裡總是出產很棒的控球後衛。」\n",
      "\n",
      "「在羅斯受傷前可是史上最年輕拿到MVP的球員，我們芝加哥人都為他感到驕傲，如今他跟我還有波特都是芝加哥出身且效力活塞的控衛，我很樂意交棒給他，我很高興他能在這打球，我相信底特律球迷一定會很愛他」，湯瑪斯接續說。\n",
      "\n",
      "一同擔任板凳要角的肯納德（Luke Kennard）也成羅斯加入最大受益者，開季首戰拿到生涯新高30分的他當時不少得分都來自前輩助攻，肯納德也說：「他很懂得掌握節奏，他彷彿是統御球場的將領，且當他進攻感覺一來，更是無人可擋。」\n",
      "\n",
      "---------------------------------------\n"
     ]
    },
    {
     "data": {
      "text/html": [
       "<h1>全員發揮狂轟141分 快艇快意客場踢館大勝勇士</h1>"
      ],
      "text/plain": [
       "<IPython.core.display.HTML object>"
      ]
     },
     "metadata": {},
     "output_type": "display_data"
    },
    {
     "data": {
      "text/html": [
       "<span style=\"color:blue\">2019-10-25 13:18</span>"
      ],
      "text/plain": [
       "<IPython.core.display.HTML object>"
      ]
     },
     "metadata": {},
     "output_type": "display_data"
    },
    {
     "name": "stdout",
     "output_type": "stream",
     "text": [
      "新賽季首戰就在「洛城內戰」中拔得頭籌，快艇今日（25號）又大勝勇士，終場141以122比再下一城，全隊整體命中率高達62.5%，三分線外也有54.5%高水準發揮，讓對手新主場初亮相就踢到鐵板。\n",
      "\n",
      "快艇一開賽就展現力壓對手的如虹氣勢，前3分多鐘打出14比0攻勢，且勇士防守中樞格林（Draymond Green）更因掩護時弄傷手肘，一度退場接受治療，所幸球隊靠羅素（D'Angelo Russell）、柯瑞（Stephen Curry）接力飆分及時止血。\n",
      "\n",
      "打完上半場之後，快艇暫握有11分領先，只是到了第三節攻勢如同水壩潰堤傾瀉而出，單節狠狠灌下46分讓勇士毫無招架之力，沙米特（Landry Shamet）與派特森（Patrick Patterson）各砍進3記三分球，比賽勝負自此底定。\n",
      "\n",
      "快艇此役讓一度落後多達31分的勇士全場未曾有任何翻轉機會，其中得分最高者為攻下22分的超級替補威廉斯（Lou Williams），雷納德（Kawhi Leonard）則有21分、9助攻進帳。\n",
      "\n",
      "此外，快艇2位先發長人表現也不俗，派特森得到20分，包括6記三分球，而祖巴茲（Ivica Zubac）繳出16分、10籃板雙十成績。勇士方面，柯瑞拿到23分，但個人出現8失誤且三分僅11投2中，羅素另挹注20分、8助攻。\n",
      "\n",
      "---------------------------------------\n"
     ]
    },
    {
     "data": {
      "text/html": [
       "<h1>火箭MVP連線出師不利 丹東尼：不是來贏82場</h1>"
      ],
      "text/plain": [
       "<IPython.core.display.HTML object>"
      ]
     },
     "metadata": {},
     "output_type": "display_data"
    },
    {
     "data": {
      "text/html": [
       "<span style=\"color:blue\">2019-10-25 12:09</span>"
      ],
      "text/plain": [
       "<IPython.core.display.HTML object>"
      ]
     },
     "metadata": {},
     "output_type": "display_data"
    },
    {
     "name": "stdout",
     "output_type": "stream",
     "text": [
      "休士頓火箭今天在出戰密爾瓦基公鹿之戰，在「MVP連線」哈登（James Harden）、衛斯特布魯克（Russell Westbrook）手感不佳下，以111：117吞下首敗，儘管新賽季首戰出師不利，但總教練丹東尼（Mike D'Antoni）強調，球隊本賽季目標本來就不是要贏得82場比賽。\n",
      "\n",
      "火箭今年休賽季期間將主控保羅（Chris Paul）交易到雷霆，換回2017年年度MVP衛斯特布魯克，與去年MVP哈登組成聯盟進攻火力最強大的雙人組合，不過在新賽季的首場比賽，兩人雖然合力拿下43分，但合計出手30次僅命中9球，三分球更是15投僅4中。\n",
      "\n",
      "賽後哈登也將輸球責任一肩扛下，他出手13次僅命中2球並發生高達7次失誤，不過送出14次助攻，罰球14次也全數命中，「這全都要怪我，我打得還不夠具有侵略性，我無法把球投進，新賽季的首場比賽我還在找節奏」。\n",
      "\n",
      "相較之下，衛斯特布魯克雖然同樣手感不佳，不過代表新東家的首場比賽就拿下全隊最高的24分外帶16籃板7助攻，獲得總教練丹東尼的好評，「從今晚的表現我更確定衛斯特布魯克就是一名優異的比賽型球員，當球場燈光亮起的那一刻，他就展現了高度的鬥性，他已經完全是一名火箭球員」。\n",
      "\n",
      "儘管球隊開幕戰以吞敗作收，但丹東尼認為狀況將會持續好轉，「球員們會沒事的，更何況我們的目標並不是贏下全部的82場比賽，接下來我們也還有拿下81勝的機會」。\n",
      "\n",
      "---------------------------------------\n"
     ]
    },
    {
     "data": {
      "text/html": [
       "<h1>敦奧就知戴維斯非池中物 布萊恩期許預約名人堂</h1>"
      ],
      "text/plain": [
       "<IPython.core.display.HTML object>"
      ]
     },
     "metadata": {},
     "output_type": "display_data"
    },
    {
     "data": {
      "text/html": [
       "<span style=\"color:blue\">2019-10-25 12:01</span>"
      ],
      "text/plain": [
       "<IPython.core.display.HTML object>"
      ]
     },
     "metadata": {},
     "output_type": "display_data"
    },
    {
     "name": "stdout",
     "output_type": "stream",
     "text": [
      "戴維斯（Anthony Davis）透過交易降臨洛杉磯，替湖人帶來了紫金王朝復興希望，儼然也成為了洛城當地新寵，而湖人傳奇球星布萊恩（Kobe Bryant）日前更透露，自己早在2012年倫敦奧運就對戴維斯十分欣賞。\n",
      "\n",
      "戴維斯在2012年時是在沒有NBA資歷情況下入選星光熠熠美國隊，當時幾個月前19歲的他才在NBA選秀會上以狀元身份獲選，布萊恩回憶初識戴維斯說：「他與眾不同的一點是，他對於籃球或者說運動競技好奇心很強。」\n",
      "\n",
      "布萊恩強調自己當時很欣賞這位19歲年輕人不怕問問題的態度，於是決定讓他隨自己在奧運村四處走訪，「有次我跟小威廉絲（Serena Williams）聊天，提到敬業精神還有競爭比較，我跟她比較了自己作法，戴維斯就在一旁聽得津津有味」。\n",
      "\n",
      "布萊恩也提到，戴維斯距離聯盟首席巨星地位僅咫尺之遙，「我認為過去只是傷病阻止他大爆發，但我的天啊，他已經達到了不少十分驚人的成就，健康與否是唯一阻止他擁有不可思議名人堂等級生涯的障礙」。\n",
      "\n",
      "---------------------------------------\n"
     ]
    },
    {
     "data": {
      "text/html": [
       "<h1>搧風點火宿敵情結？ 瑞佛斯笑指湖人冠軍數「灌水」</h1>"
      ],
      "text/plain": [
       "<IPython.core.display.HTML object>"
      ]
     },
     "metadata": {},
     "output_type": "display_data"
    },
    {
     "data": {
      "text/html": [
       "<span style=\"color:blue\">2019-10-25 11:27</span>"
      ],
      "text/plain": [
       "<IPython.core.display.HTML object>"
      ]
     },
     "metadata": {},
     "output_type": "display_data"
    },
    {
     "name": "stdout",
     "output_type": "stream",
     "text": [
      "NBA新賽季首日由洛城內戰揭開序幕，快艇力壓湖人旗開得勝，雙方本季還有3次對戰其中更包括經典的耶誕大戰，快艇主帥瑞佛斯（Doc Rivers）日前也不忘「搧風點火」一番，指出湖人不該計算過去明尼蘇達時期所奪冠軍。\n",
      "\n",
      "在談到與同城湖人宿敵情結時，瑞佛斯表示：「洛杉磯是屬於湖人的城市，這點我沒意見也覺得很好，他們在這裡贏了幾座總冠軍呢？但你們知道，他們其實把隊史所有冠軍都算進來，但其實有幾座不是在這拿的，這我可覺得有些困擾。」\n",
      "\n",
      "瑞佛斯所要說的是，湖人隊史16冠其實有5冠是在明尼蘇達時期贏得，當然他這番話顯然是開玩笑成份居多，因為之後他又補上一句，「假如可以的話，應該也不要算2010年那冠」，而湖人那年正是擊敗他所領軍的塞爾蒂克封王。\n",
      "\n",
      "瑞佛斯進一步說：「當然我們正在創造屬於自己的時代，我們沒有打算要削弱其他人光采，我們要做的是把自己提升起來，我本來以為這是不可能的，所以我以前一直很挫折，但現在我們真的做到了。」\n",
      "\n",
      "\n",
      "\n",
      "\n",
      "\n",
      "---------------------------------------\n"
     ]
    },
    {
     "data": {
      "text/html": [
       "<h1>隊友挺身退火箭 MVP大戰字母哥犯滿還是成贏家</h1>"
      ],
      "text/plain": [
       "<IPython.core.display.HTML object>"
      ]
     },
     "metadata": {},
     "output_type": "display_data"
    },
    {
     "data": {
      "text/html": [
       "<span style=\"color:blue\">2019-10-25 11:19</span>"
      ],
      "text/plain": [
       "<IPython.core.display.HTML object>"
      ]
     },
     "metadata": {},
     "output_type": "display_data"
    },
    {
     "name": "stdout",
     "output_type": "stream",
     "text": [
      "頂著上賽季年度MVP光環的首場例行賽事，密爾瓦基公鹿「字母哥」安戴托昆波（Giannis Antetokounmpo）今天（25號）領軍出戰休士頓火箭的比賽中，雖然繳出大三元成績，但卻在比賽最後五分鐘時六犯離場，但公鹿隊友仍頂住火箭的反撲，以117：111搶下新賽季首勝。\n",
      "\n",
      "上賽季在年度MVP獎項上一路廝殺的安戴托昆波與火箭哈登（James Harden），新賽季的首場比賽就正面交鋒，而這次哈登還帶著新幫手衛斯特布魯克（Russell Westbrook）加入戰局，場上同時出現過去三個賽季的年度MVP獲獎人，成為名符其實的MVP大戰。\n",
      "\n",
      "不過在首節賽事中三人表現都不如預期，安戴托昆波開賽不到五分鐘就已經吞下兩犯提前到板凳區觀戰，而哈登與衛斯特布魯克則是手感冰冷，不過火箭仍靠著團隊火力優勢，於中場休息時取得16分的大幅領先。\n",
      "\n",
      "第三節安戴托昆波手感逐漸加溫，他單節進帳12分幫助公鹿將差距先縮小到個位數，第四節初他又連得8分，加上伊利亞索瓦（Ersan Ilyasova）也加入戰局接連進球，助公鹿在比賽最後8分鐘逆轉戰局，儘管火箭衛斯特布魯克關鍵時刻挺身再要回領先優勢，安戴托昆波也吞下第六犯離場，但公鹿洛培茲（Brook Lopez）、米道頓（Khris Middleton）和伊利亞索瓦接連在外線開砲，幫助公鹿在比賽最後五分鐘擋住火箭反撲，以6分差距收下首勝。\n",
      "\n",
      "公鹿今天全隊七人得分來到雙位數，其中安戴托昆波拿下30分13籃板11助攻的大三元，火箭衛斯特布魯克與哈登雖然也聯手拿下43分，但兩人合計出手30次僅命中9球，三分球更是15投僅4中。\n",
      "\n",
      "---------------------------------------\n"
     ]
    },
    {
     "data": {
      "text/html": [
       "<h1>正式連戰22賽季創紀錄 卡特：這就是我的職業</h1>"
      ],
      "text/plain": [
       "<IPython.core.display.HTML object>"
      ]
     },
     "metadata": {},
     "output_type": "display_data"
    },
    {
     "data": {
      "text/html": [
       "<span style=\"color:blue\">2019-10-25 10:50</span>"
      ],
      "text/plain": [
       "<IPython.core.display.HTML object>"
      ]
     },
     "metadata": {},
     "output_type": "display_data"
    },
    {
     "name": "stdout",
     "output_type": "stream",
     "text": [
      "熱身賽才讓對手教頭大喊這傢伙怎還不退休，老鷹42歲老將卡特（Vince Carter）今日（25號）正式創造歷史，成為首位在NBA生涯第22賽季登場比賽的球員。\n",
      "\n",
      "卡特打破了由自己原先與其他4人所共同保持的紀錄，過去有諾維茨基（Dirk Nowitzki）、賈奈特（Kevin Garnett）、威利斯（Kevin Willis）還有派瑞許（Robert Parish）都打了21個NBA賽季。\n",
      "\n",
      "而如果卡特保持出賽節奏的話，他也會在2020年成為首位跨越4個10年出賽的球員，他的菜鳥新人年是起始於1998年。他此役對活塞上場10分鐘，但沒有分數進帳。\n",
      "\n",
      "談到自己所寫下的紀錄，卡特賽前說：「其實我和教練聊過這件事，他說『你打球的時間比我們球隊上一些球員的年齡都還要長』，不過對我來說，我已經感覺不到這件事。」\n",
      "\n",
      "他進一步說：「這段時間真的經歷了很多，但這就是我的職業，或許在創造歷史的那一刻我會有某種情緒產生，但我還是要先做好出賽的準備，再去想這件事。」\n",
      "\n",
      "---------------------------------------\n"
     ]
    },
    {
     "data": {
      "text/html": [
       "<h1>雷納德聯手板凳暴徒 快艇首戰衝破湖人</h1>"
      ],
      "text/plain": [
       "<IPython.core.display.HTML object>"
      ]
     },
     "metadata": {},
     "output_type": "display_data"
    },
    {
     "data": {
      "text/html": [
       "<span style=\"color:blue\">2019-10-23 13:29</span>"
      ],
      "text/plain": [
       "<IPython.core.display.HTML object>"
      ]
     },
     "metadata": {},
     "output_type": "display_data"
    },
    {
     "name": "stdout",
     "output_type": "stream",
     "text": [
      "\n",
      "眾所矚目的「洛城大戰」在今天點燃戰火，雷納德（Kawhi Leonard）全場攻下30分6籃板5助攻，快艇板凳部隊則是合力砍下60分。快艇在第二節逐漸掌握優勢，雖然第三節尾聲一波亂流讓湖人追平，但第四節穩住陣腳，又將分數拉開，最終以112比102擊敗湖人，取得開季首勝。\n",
      "\n",
      "這場比賽雙方都有主力球員面臨傷病麻煩，快艇傷了喬治（Paul George），湖人則是庫茲瑪（Kyle Kuzma）。一開賽湖人就展現猛烈攻勢，開局打了13比2的攻勢，在比賽中先聲奪人，首節取得領先優勢；不過快艇板凳部隊隨即發揮，加上雷納德精準中距離跳投，快艇第二節砍進40分，反而在上半場以62比54領先湖人。\n",
      "\n",
      "快艇的快節奏配合在下半場讓湖人難以應付，一度取得兩位數領先；不過接下來快艇外線命中率下滑，湖人在詹姆斯（LeBron James）場邊休息之際，反倒殺出一波15比3攻勢，三節結束雙方戰成平手。\n",
      "\n",
      "第四節之初，快艇找回手感，先是打了一波7比0的進攻，湖人不甘示弱連追兩球，快艇替補球員再度發威，又殺出一波11比2的攻勢，比分再度拉開。雷納德掌控節奏，哈瑞爾（Montrezl Harrell）也趁虛籃下建功，湖人反撲無力，只能目送快艇揚長而去。\n",
      "\n",
      "上季決賽MVP雷納德重返故鄉，此役上場32分鐘，雖然出現6次失誤還吞下5犯，但全場19投10中，還是砍下30分6籃板5助攻2抄截。\n",
      "\n",
      "以威廉斯（Lou Williams）為首的快艇板凳暴徒依舊強悍，威廉斯14投8中，拿下21分7助攻5籃板，哈瑞爾11投7中，得到17分7籃板4助攻，哈克雷斯（Moe Harkless）10分4籃板4抄截2阻攻，格林（JaMychal Green）12分6籃板。\n",
      "\n",
      "戴維斯披上湖人戰袍的首場正式比賽，21投8中，包括14罰9中，獨拿25分10籃板5助攻2阻攻1抄截；詹姆斯19投7中，得到18分9籃板8助攻。\n",
      "\n",
      "格林可說是湖人可以咬住比分的關鍵，全場14投10中，三分球9投7中，攻下全隊最高28分，外加7籃板2抄截，其中第三節獨拿18分。湖人陣中除了這3人之外，無人得分超過雙位數。\n",
      "\n",
      "---------------------------------------\n"
     ]
    },
    {
     "data": {
      "text/html": [
       "<h1>稱柯瑞更勝衛少 杜蘭特：哈登沒去火箭無法成MVP</h1>"
      ],
      "text/plain": [
       "<IPython.core.display.HTML object>"
      ]
     },
     "metadata": {},
     "output_type": "display_data"
    },
    {
     "data": {
      "text/html": [
       "<span style=\"color:blue\">2019-10-22 12:51</span>"
      ],
      "text/plain": [
       "<IPython.core.display.HTML object>"
      ]
     },
     "metadata": {},
     "output_type": "display_data"
    },
    {
     "name": "stdout",
     "output_type": "stream",
     "text": [
      "儘管在即將開打的新賽季中可能因傷全面缺陣，但今夏轉披布魯克林籃網戰袍的明星前鋒杜蘭特（Kevin Durant）製造話題的功力依舊，他在近日與前奧克拉荷馬雷霆隊友伊巴卡（Serge Ibaka）一同錄製網路節目時，被問到兩名合作過的後衛柯瑞（Stephen Curry）與衛斯特布魯克（Russell Westbrook）誰更好時，杜蘭特卻毫不猶疑地選擇了前者。\n",
      "\n",
      "杜蘭特在今年夏天透過先簽後換的方式轉戰籃網，儘管受到傷勢影響本賽季可能無法如願披上籃網戰袍登場，不過近日他在與前隊友伊巴卡錄製網路節目「How Hungry Are You?」時，再度靠著犀利回答搶佔媒體版面。\n",
      "\n",
      "其中在上賽季代表暴龍出賽的伊巴卡，先是問到了杜蘭特是否認為，假使自己沒有發生受傷狀況，勇士最終能否擊敗暴龍時，杜蘭特則是回答毫無疑問：「因為如果我在上場的話，你們是不可能在家擊敗我們的。」\n",
      "\n",
      "對於過去與哈登和衛斯特布魯克一起被稱作雷霆四少，杜蘭特與伊巴卡也談論到了兩名也都已經不在雷霆的前隊友們，兩人皆認為如果當年哈登未離開雷霆轉戰火箭，將無法達成拿下年度MVP的成就，而雷霆四少也有機會在相當年輕的情況下就挺進總冠軍賽。\n",
      "\n",
      "不過當伊巴卡問到，杜蘭特的兩位前搭擋柯瑞與衛斯特布魯克誰更好時，杜蘭特卻毫不猶豫地選擇了柯瑞，並認為兩者的差別就在於外線投射能力上，不過有趣的是，杜蘭特在轉戰籃網後將與另外一位聯盟頂尖控球後衛厄文（Kyrie Irving）攜手奮戰，屆時他又會如何評比這三名生涯合作過的頂尖後衛，也讓人相當好奇。\n",
      "\n",
      "---------------------------------------\n"
     ]
    },
    {
     "data": {
      "text/html": [
       "<h1>全員發揮狂轟141分 快艇快意客場踢館大勝勇士</h1>"
      ],
      "text/plain": [
       "<IPython.core.display.HTML object>"
      ]
     },
     "metadata": {},
     "output_type": "display_data"
    },
    {
     "data": {
      "text/html": [
       "<span style=\"color:blue\">2019-10-25 13:18</span>"
      ],
      "text/plain": [
       "<IPython.core.display.HTML object>"
      ]
     },
     "metadata": {},
     "output_type": "display_data"
    },
    {
     "name": "stdout",
     "output_type": "stream",
     "text": [
      "新賽季首戰就在「洛城內戰」中拔得頭籌，快艇今日（25號）又大勝勇士，終場141以122比再下一城，全隊整體命中率高達62.5%，三分線外也有54.5%高水準發揮，讓對手新主場初亮相就踢到鐵板。\n",
      "\n",
      "快艇一開賽就展現力壓對手的如虹氣勢，前3分多鐘打出14比0攻勢，且勇士防守中樞格林（Draymond Green）更因掩護時弄傷手肘，一度退場接受治療，所幸球隊靠羅素（D'Angelo Russell）、柯瑞（Stephen Curry）接力飆分及時止血。\n",
      "\n",
      "打完上半場之後，快艇暫握有11分領先，只是到了第三節攻勢如同水壩潰堤傾瀉而出，單節狠狠灌下46分讓勇士毫無招架之力，沙米特（Landry Shamet）與派特森（Patrick Patterson）各砍進3記三分球，比賽勝負自此底定。\n",
      "\n",
      "快艇此役讓一度落後多達31分的勇士全場未曾有任何翻轉機會，其中得分最高者為攻下22分的超級替補威廉斯（Lou Williams），雷納德（Kawhi Leonard）則有21分、9助攻進帳。\n",
      "\n",
      "此外，快艇2位先發長人表現也不俗，派特森得到20分，包括6記三分球，而祖巴茲（Ivica Zubac）繳出16分、10籃板雙十成績。勇士方面，柯瑞拿到23分，但個人出現8失誤且三分僅11投2中，羅素另挹注20分、8助攻。\n",
      "\n",
      "---------------------------------------\n"
     ]
    },
    {
     "data": {
      "text/html": [
       "<h1>頂著噓聲飆30分 雷納德：很高興拿下勝利</h1>"
      ],
      "text/plain": [
       "<IPython.core.display.HTML object>"
      ]
     },
     "metadata": {},
     "output_type": "display_data"
    },
    {
     "data": {
      "text/html": [
       "<span style=\"color:blue\">2019-10-23 16:39</span>"
      ],
      "text/plain": [
       "<IPython.core.display.HTML object>"
      ]
     },
     "metadata": {},
     "output_type": "display_data"
    },
    {
     "name": "stdout",
     "output_type": "stream",
     "text": [
      "\n",
      "「這將是一個偉大的賽季，我們每場比賽都會全力以赴，讓我們開始吧。」\n",
      "\n",
      "回到家鄉洛城、加盟快艇的首戰，雷納德（Kawhi Leonard）接受來自湖人球迷的噓聲伺候，不過他很快就展現精準的中距離跳投，全場19投10中，攻下30分6籃板5助攻2抄截1阻攻，其中他在第二節獨拿16分，是球隊能夠扭轉落後局面的關鍵。最終快艇就以10分之差擊退同城的湖人。\n",
      "\n",
      "「我很高興我們上場比賽然後拿下勝利。我們先前的訓練做得很棒，我們今晚延續了這樣的狀態。」雷納德說。雷納德此戰雖然出現6次失誤，還吞下5次犯規，但瑕不掩瑜。\n",
      "\n",
      "「他為我們創造機會，他就是這麼做的。」快艇總教練瑞佛斯（Doc Rivers）說。\n",
      "\n",
      "除了雷納德的高效率穩定表現外，快艇板凳暴徒再度有出色發揮，威廉斯（Lou Williams）攻下21分7助攻5籃板，哈瑞爾（Montrezl Harrell）得到17分7籃板4助攻，快艇替補合力砍下60分，足足比湖人替補球員多了41分，成了比賽勝負的關鍵之一。\n",
      "\n",
      "談到雷納德和威廉斯的搭配情況，瑞佛斯表示：「我認為他們現在彼此之間僅相互熟悉10%到15%。他們錯過很多機會，隨著時間的推移，他們會變得越來越危險。」\n",
      "\n",
      "\n",
      "---------------------------------------\n"
     ]
    },
    {
     "data": {
      "text/html": [
       "<h1>失分創柯爾時代新高 柯瑞：檢討時場面肯定難堪</h1>"
      ],
      "text/plain": [
       "<IPython.core.display.HTML object>"
      ]
     },
     "metadata": {},
     "output_type": "display_data"
    },
    {
     "data": {
      "text/html": [
       "<span style=\"color:blue\">2019-10-25 15:12</span>"
      ],
      "text/plain": [
       "<IPython.core.display.HTML object>"
      ]
     },
     "metadata": {},
     "output_type": "display_data"
    },
    {
     "name": "stdout",
     "output_type": "stream",
     "text": [
      "今日（25號）讓快艇單場繳出62.5%整體命中率還有54.5%三分命中率，勇士不但吞下敗仗且痛失141分也寫下柯爾（Steve Kerr）執教時代最高紀錄。\n",
      "\n",
      "柯爾2014年執教勇士開始，球隊算上例行賽還有季後賽的對手單場最高得分140分，是由鵜鶘在今年1月16號所攻下，不過勇士當時憑藉傲人火力硬是拿到147分，依然摘下勝利，但對快艇就無法複製過往經驗。\n",
      "\n",
      "格林（Draymond Green）賽後難掩失望表示：「我們這場比賽表現實在糟糕透頂了，防守更是災難一場。」當被記者問到防守哪點出了問題，他更回應：「每個地方。」柯瑞（Stephen Curry）也坦承：「明天看影片檢討場面肯定很難堪。」\n",
      "\n",
      "至於柯爾自己則是指出：「這就是NBA，過去5年我們就像存在另個世界一樣，現在終於回到現實了。」他甚至補充：「這不會只是個案而已，今年我們很可能也會再面臨同樣狀況。」言下之意似乎預言防守問題將困擾球隊整季。\n",
      "\n",
      "---------------------------------------\n"
     ]
    },
    {
     "data": {
      "text/html": [
       "<h1>「Logo Shot」長射連發 楊恩飆38分退活塞</h1>"
      ],
      "text/plain": [
       "<IPython.core.display.HTML object>"
      ]
     },
     "metadata": {},
     "output_type": "display_data"
    },
    {
     "data": {
      "text/html": [
       "<span style=\"color:blue\">2019-10-25 10:43</span>"
      ],
      "text/plain": [
       "<IPython.core.display.HTML object>"
      ]
     },
     "metadata": {},
     "output_type": "display_data"
    },
    {
     "name": "stdout",
     "output_type": "stream",
     "text": [
      "亞特蘭大老鷹今天（25號）球隊開幕戰中出戰底特律活塞，靠著主控楊恩（Trae Young）全場投進六顆三分球拿下38分，與連續兩場比賽都打出亮眼的表現的活塞羅斯（Derrick Rose）分庭抗禮，最終老鷹在全隊四人得分上雙下，以117：100輕取活塞，搶下新賽季首勝。\n",
      "\n",
      "在上賽季就定下以楊恩為核心的建隊方向後，老鷹在季後補強上並沒有太多大動作，反倒與42歲的「老飛人」卡特（Vince Cater）簽下可能是他生涯的最後一張合約，並在今天出戰活塞的比賽中，讓他以連續征戰22個賽季成為聯盟史上第一人。\n",
      "\n",
      "談到自己所寫下的紀錄，卡特在賽前說：「其實我和教練聊過這件事，他說『你打球的時間比我們球隊上一些球員的年齡都還要長』，不過對我來說，我已經感覺不到這件事，這段時間真的經歷了很多，但這就是我的職業，或許在創造歷史的那一刻我會有某種情緒產生，但我還是要先做好出賽的準備，再去想這件事。」\n",
      "\n",
      "儘管在今天出戰活塞的比賽中，卡特替補上陣10分鐘且一分未得，不過小老弟楊恩卻是從開賽就火力全開想要為老大哥送上賀禮，他在上半場就投進了五顆三分球拿下26分外帶6助攻，不過活塞31歲後衛羅斯表現也不惶多讓，上半場就拿下15分，助活塞上半場打完還保持領先。\n",
      "\n",
      "不過下半場本賽季披上老鷹戰袍的帕克（Jabari Parker）也加入搶分行列，幫助老鷹在下半場逆轉並拉大領先差距，儘管末節一度出現計時器故障的狀況，但終場老鷹仍以17分差大勝活塞，收下新賽季首勝。\n",
      "\n",
      "老鷹以楊恩的38分表現最佳，柯林斯（John Collins）與帕克都有18分進帳，至於今年選秀首輪第四順位新秀杭特（DeAndre Hunter）則有14分進帳，第十順位的雷迪許（Cameron Reddish）全場出手6次全數落空，活塞羅斯則是拿下全隊最高的27分。\n",
      "Trae just casually pulling up from the Pistons' logo 🤯 pic.twitter.com/keaoQOODoc— Atlanta Hawks (@ATLHawks) 2019年10月24日\n",
      "\n",
      "\n",
      "---------------------------------------\n"
     ]
    },
    {
     "data": {
      "text/html": [
       "<h1>搶奪伊古達拉大作戰 數位球員爆料湖人將是首選</h1>"
      ],
      "text/plain": [
       "<IPython.core.display.HTML object>"
      ]
     },
     "metadata": {},
     "output_type": "display_data"
    },
    {
     "data": {
      "text/html": [
       "<span style=\"color:blue\">2019-10-25 10:10</span>"
      ],
      "text/plain": [
       "<IPython.core.display.HTML object>"
      ]
     },
     "metadata": {},
     "output_type": "display_data"
    },
    {
     "name": "stdout",
     "output_type": "stream",
     "text": [
      "儘管已經是35歲的屆退老將，但曾拿下過總冠軍賽MVP的前金州勇士搖擺人伊古達拉（Andre Iguodala）的動向仍讓不少聯盟球隊掛心，昨天（24號）傳出有記者預測他有可能在下賽季重新披上勇士戰袍後，今天則是有美國媒體指出，假使伊古達拉在本賽季就遭到新東家曼菲斯灰熊買斷，季中與洛杉磯湖人簽約的可能性仍舊相當高。\n",
      "\n",
      "伊古達拉在過去五年來三度幫助勇士奪下冠軍，並在2015年榮獲總冠軍賽MVP，今年季後在勇士陣容大重整的情況下被交易到灰熊，不過從季前訓練營到新賽季開幕戰中，伊古達拉始終不見人影，讓灰熊可能交易或是買斷伊古達拉的消息甚囂塵上。\n",
      "\n",
      "不過在不少球隊都表達願意簽下伊古達拉後，昨天紐約記者先是大膽預測，假使灰熊無法在本賽季交易大限前將他交易出去，那身為前勇士精神領袖的伊古達拉，已做好準備在賽季結束成為自由球員後，重新披上老東家戰袍。\n",
      "\n",
      "但《ESPN》記者麥克姆蘭（Jackie MacMullan）在近日錄製節目時更指出，已有至少四名球員向他透露，伊古達拉如果能在季中與灰熊達成買斷合約的協議，那他將會把與湖人簽約列為優先選項。\n",
      "\n",
      "湖人今年夏天雖然在團隊戰力上大手筆補強，包括找來布萊德利（Avery Bradley）、格林（Danny Green）等側翼球員加入，不過在開幕首戰面對上賽季總冠軍賽MVP雷納德（Kawhi Leonard）領軍的快艇，卻遭對手不斷撕裂防線。\n",
      "\n",
      "其中雷納德就斬獲30分6籃板5助攻，在喬治（Paul George）尚未歸隊的情況下率領快艇擊敗湖人，這也顯示出湖人如想跨過快艇從西區出線，勢必需要更強力的側翼防守表現，而擁有豐富防守與季後賽經驗的伊古達拉，毫無疑問將會是首要選擇。\n",
      "\n",
      "---------------------------------------\n"
     ]
    },
    {
     "data": {
      "text/html": [
       "<h1>頭撞天花板進傷兵名單 7呎5吋佛爾遇巨人煩惱</h1>"
      ],
      "text/plain": [
       "<IPython.core.display.HTML object>"
      ]
     },
     "metadata": {},
     "output_type": "display_data"
    },
    {
     "data": {
      "text/html": [
       "<span style=\"color:blue\">2019-10-25 10:05</span>"
      ],
      "text/plain": [
       "<IPython.core.display.HTML object>"
      ]
     },
     "metadata": {},
     "output_type": "display_data"
    },
    {
     "name": "stdout",
     "output_type": "stream",
     "text": [
      "塞爾蒂克官方公佈體測數據顯示，菜鳥大個子佛爾（Tacko Fall）有7呎5吋高、310磅重，日前他傳出因為腦震盪進入傷兵名單消息，而本人也向波士頓當地媒體證實，原因真的出在是自己實在長太高。\n",
      "\n",
      "原來佛爾在自家練習場館訓練結束後，到一旁去準備要洗手卻沒注意到天花板一處較矮一處，不小心就一頭撞上，本來他覺得自己並無大礙，甚至之後還去參加球隊公益活動還又回到場館練投，可是隔天一早卻覺得有些頭暈。\n",
      "\n",
      "於是乎塞爾蒂克基於謹慎考量，將佛爾進入腦震盪檢驗程序，暫且名列傷兵名單之中，不過總教練史蒂文斯（Brad Stevens）強調，佛爾非常接近回歸，但是簽下雙向合約的他短時間內應不會是綠衫軍大名單成員。\n",
      "\n",
      "---------------------------------------\n"
     ]
    },
    {
     "data": {
      "text/html": [
       "<h1>詹皇代班控球任務結束？ 教頭擬讓朗多重回先發</h1>"
      ],
      "text/plain": [
       "<IPython.core.display.HTML object>"
      ]
     },
     "metadata": {},
     "output_type": "display_data"
    },
    {
     "data": {
      "text/html": [
       "<span style=\"color:blue\">2019-10-25 09:48</span>"
      ],
      "text/plain": [
       "<IPython.core.display.HTML object>"
      ]
     },
     "metadata": {},
     "output_type": "display_data"
    },
    {
     "name": "stdout",
     "output_type": "stream",
     "text": [
      "在開幕戰短暫代班控球工作後，洛杉磯湖人詹姆斯（LeBron James）將很快回到他最熟悉的前鋒位置上，並由傷癒復出後的朗多（Rajon Rondo）重掌控球工作，希望能擺脫開幕首戰攻勢不穩的狀況，讓球隊盡快回到正軌上。\n",
      "\n",
      "湖人在開幕戰與快艇的洛城內戰中，排出了詹姆斯主控，搭配布萊德利（Avery Bradley）、格林（Danny Green）的先發後場陣容，不過效果並不如預期，湖人全場雖有20次助攻但也發生14次失誤，其中詹姆斯一人就包辦了五次，且團隊攻勢不如快艇來得流暢，讓湖人主帥佛蓋爾（Frank Vogel）今天（25號）受訪時透露，在朗多傷癒歸隊後，將會讓他回到先發主控的行列。\n",
      "\n",
      "「我考慮了很多面向，並準備讓他回到我們的先發行列，他將會在接下來許多的比賽中扮演我們先發控球的角色」，佛蓋爾在談到首戰因傷缺陣的朗多定位時說：「朗多目前狀況看起來很不錯，不過是否會在下一戰就復出還要再觀察。」\n",
      "\n",
      "朗多上賽季代表湖人出賽繳出平均9.2分8助攻5籃板的數據，雖然今年開季前就得知將與詹姆斯一同分享控球工作，不過朗多強調自己並不介意，「我更想要做好佛蓋爾教練要我做的事情，所以我並不在意是要先發上場還是替補。不過讓我打先發控球是一個很好的選擇，我的生涯中也很擅長做這件事，但就像我說的，我願意配合球隊找出最好的搭配」。\n",
      "\n",
      "---------------------------------------\n"
     ]
    },
    {
     "data": {
      "text/html": [
       "<h1>傳騎士與歐斯曼達協議 4年3100萬提前續約留人 </h1>"
      ],
      "text/plain": [
       "<IPython.core.display.HTML object>"
      ]
     },
     "metadata": {},
     "output_type": "display_data"
    },
    {
     "data": {
      "text/html": [
       "<span style=\"color:blue\">2019-10-25 09:44</span>"
      ],
      "text/plain": [
       "<IPython.core.display.HTML object>"
      ]
     },
     "metadata": {},
     "output_type": "display_data"
    },
    {
     "name": "stdout",
     "output_type": "stream",
     "text": [
      "根據《紐約時報》記者史坦（Marc Stein）報導，騎士與陣中土耳其前鋒歐斯曼（Cedi Osman）提前達成續約協議，合約價碼預計是4年3100萬美元。\n",
      "\n",
      "歐斯曼是2015年選秀會時被灰狼選中隨即交易至騎士，他之後在土耳其職籃又待了2年才赴美加入球隊，2017年當時簽下了3年830萬美元合約。\n",
      "\n",
      "《Cleveland.com》記者費德（Chris Fedor）過去9月就曾透露，騎士一直與歐斯曼有進行續約談判，如今雙方終於達成了共識。\n",
      "\n",
      "此外《ESPN》記者溫德霍斯特（Brian Windhorst）進一步補充，歐斯曼新的4年合約中最後1年為非保障，而該季年薪為860萬美元。\n",
      "\n",
      "---------------------------------------\n"
     ]
    },
    {
     "data": {
      "text/html": [
       "<h1>艾頓經查違反藥檢規定 恐面臨25場禁賽處分</h1>"
      ],
      "text/plain": [
       "<IPython.core.display.HTML object>"
      ]
     },
     "metadata": {},
     "output_type": "display_data"
    },
    {
     "data": {
      "text/html": [
       "<span style=\"color:blue\">2019-10-25 09:25</span>"
      ],
      "text/plain": [
       "<IPython.core.display.HTML object>"
      ]
     },
     "metadata": {},
     "output_type": "display_data"
    },
    {
     "name": "stdout",
     "output_type": "stream",
     "text": [
      "根據《ESPN》記者沃納羅斯基（Adrian Wojnarowski）最新消息指出，太陽中鋒艾頓（Deandre Ayton）經查違反禁藥相關規定，恐怕必須面臨25場禁賽處分。\n",
      "\n",
      "沃納羅斯基提到，艾頓服用了含有利尿劑成份不符規定物質，不過進一步檢驗並沒有發現其他違反禁藥相關規定的藥物反應。\n",
      "\n",
      "因此NBA球員工會很可能出面協助仲裁，以勞資規定中的「不經意誤食」減免條款，來請求聯盟官方減少艾頓需禁賽場次。\n",
      "\n",
      "值得一提的是，籃網前鋒錢德勒（Wilson Chandler）也因藥檢沒過判25場禁賽，他同樣聲稱自己是「不經意誤食」，但其所驗出的是違規程度較嚴重的興奮劑。\n",
      "\n",
      "---------------------------------------\n"
     ]
    },
    {
     "data": {
      "text/html": [
       "<h1>右拇指非移位性骨折 巴格利預計缺賽4至6周</h1>"
      ],
      "text/plain": [
       "<IPython.core.display.HTML object>"
      ]
     },
     "metadata": {},
     "output_type": "display_data"
    },
    {
     "data": {
      "text/html": [
       "<span style=\"color:blue\">2019-10-25 09:11</span>"
      ],
      "text/plain": [
       "<IPython.core.display.HTML object>"
      ]
     },
     "metadata": {},
     "output_type": "display_data"
    },
    {
     "name": "stdout",
     "output_type": "stream",
     "text": [
      "因為昨日（24號）對太陽賽事弄傷右手拇指，國王官方新聞稿指出，2年級長人巴格利（Marvin Bagley III）預計將缺賽4到6周時間。\n",
      "\n",
      "巴格利前役擔任先發並上場28分鐘，繳出14分、10籃板的「雙十」成績，而今日透過核磁共振檢查確認，他的右拇指出現非移位性骨折的症狀。\n",
      "\n",
      "國王在巴格利缺賽期間很可能讓巴恩斯（Harrison Barnes）重返大前鋒位置，此外今夏自由球員市場補進3位球員扮演的角色勢必也會提升。\n",
      "\n",
      "亞瑞查（Trevor Ariza）有望分擔巴恩斯原先設定的3號位，戴德蒙（Dewayne Dedmon）與荷姆斯（Richaun Holmes）則是將頂起禁區戰力。\n",
      "\n",
      "---------------------------------------\n"
     ]
    },
    {
     "data": {
      "text/html": [
       "<h1>轉隊首戰狂飆50分 厄文：沒贏就不重要</h1>"
      ],
      "text/plain": [
       "<IPython.core.display.HTML object>"
      ]
     },
     "metadata": {},
     "output_type": "display_data"
    },
    {
     "data": {
      "text/html": [
       "<span style=\"color:blue\">2019-10-25 08:37</span>"
      ],
      "text/plain": [
       "<IPython.core.display.HTML object>"
      ]
     },
     "metadata": {},
     "output_type": "display_data"
    },
    {
     "name": "stdout",
     "output_type": "stream",
     "text": [
      "今夏轉戰籃網隊的厄文（Kyrie Irving）昨（24號）在為新東家效力首戰就有爆炸性演出，繳出五十分、八籃板、七助攻的成績，無奈球隊最終仍在延長賽以一二六比一二七輸灰狼隊，讓他惋惜地說：「若不能贏下比賽，這些就不重要了。」\n",
      "\n",
      "在隊友杜蘭特（Kevin Durant）因傷恐整季報銷情況下，籃網攻勢只靠厄文一人支撐，他此役卅三投十七中，包含命中七顆三分球。厄文也寫下多項紀錄，包括刷新馬布瑞（Stephon Marbury）所保持的籃網隊史開幕戰卅九分得分紀錄，也創下加盟新球隊後首戰的最高得分紀錄，還成為ＮＢＡ史上第五位在開幕戰至少拿到五十分的球員。\n",
      "\n",
      "儘管寫下多項紀錄，但球隊最終沒能取勝也讓厄文的紀錄夜留下些許遺憾，「這是個很棒的起點，當然你最想要的還是在主場球迷面前贏得比賽，周六還是有機會，這五十分只是個數據罷了，它是有其價值，但若你沒能贏球這些就不重要了」。\n",
      "\n",
      "厄文也強調，這只是例行賽中的其中一場比賽，「我們還有八十一場比賽在等著我們，我們會從失敗中學習，也一定會變得更好」。灰狼則以唐斯（Karl-Anthony Towns）卅六分、十四籃板，另助攻、抄截、阻攻各三的全能數據最為突出。\n",
      "\n",
      "---------------------------------------\n"
     ]
    },
    {
     "data": {
      "text/html": [
       "<h1>回應喬丹評論 柯瑞：自己還有很多需要證明</h1>"
      ],
      "text/plain": [
       "<IPython.core.display.HTML object>"
      ]
     },
     "metadata": {},
     "output_type": "display_data"
    },
    {
     "data": {
      "text/html": [
       "<span style=\"color:blue\">2019-10-24 17:16</span>"
      ],
      "text/plain": [
       "<IPython.core.display.HTML object>"
      ]
     },
     "metadata": {},
     "output_type": "display_data"
    },
    {
     "name": "stdout",
     "output_type": "stream",
     "text": [
      "\n",
      "傳奇巨星喬丹（Michael Jordan）先前的在接受採訪時，表示柯瑞（Stephen Curry）現階段是非常出色的球員，但還沒有到名人堂等級，這番說法也引發後續不少討論。柯瑞近日在訪談中也回應了喬丹，他認為自己還有很多東西需要去證明。\n",
      "\n",
      "「我認為我很好，但我不會因此而自滿，」柯瑞說，「我知道我還需要更多地去證明自己。當你聽到歷史最佳球員對你的評論，這其實很有趣。」\n",
      "\n",
      "「自從我們進入NBA之後，經常會聽到許多退役的球員談論這個時代的籃球員，他們評估我們的天賦，並說著他們那個時代的球員要比現在這時代的球員更好之類的話。對球迷來說，這是一個很棒的話題。」\n",
      "\n",
      "喬丹的好友魔術強森（Magic Johnson）針對這件事情也在推特上發表看法。他說道：「大家輕鬆一點，我們都知道，柯瑞未來是一位名人堂球員，喬丹不能這樣說出來，因為他會被聯盟罰款，」\n",
      "\n",
      "至於喬丹昔日隊友、同時也是勇士主帥的柯爾（Steve Kerr）則是開玩笑地說：「我認為MJ腦中有一個名人堂，是按他的標準。」\n",
      "\n",
      "\n",
      "---------------------------------------\n"
     ]
    },
    {
     "data": {
      "text/html": [
       "<h1>終結拓荒者主場開幕戰18連勝 金塊教頭難掩興奮</h1>"
      ],
      "text/plain": [
       "<IPython.core.display.HTML object>"
      ]
     },
     "metadata": {},
     "output_type": "display_data"
    },
    {
     "data": {
      "text/html": [
       "<span style=\"color:blue\">2019-10-24 17:12</span>"
      ],
      "text/plain": [
       "<IPython.core.display.HTML object>"
      ]
     },
     "metadata": {},
     "output_type": "display_data"
    },
    {
     "name": "stdout",
     "output_type": "stream",
     "text": [
      "\n",
      "在約柯奇（Nikola Jokic）第四節的帶領之下，金塊在波特蘭力壓地主拓荒者，除了拿下賽季首勝，這也是拓荒者自2000-01年賽季以來，首次在例行賽主場開幕戰中吞下敗仗，終結18連勝。\n",
      "\n",
      "拓荒者在2000-01年賽季的開幕戰中面對強敵洛杉磯湖人，該場比賽，歐尼爾（Shaquille O'Neal）狂攻36分11籃板5助攻4阻攻，帶領湖人在客場以96比86拿下勝利。從那一場比賽過後，拓荒者主場開幕戰取得18連勝。\n",
      "\n",
      "對於這場難得的勝利，金塊總教練馬龍（Michael Malone）賽後也難掩興奮，他在休息室說道：「你們可能不知道，拓荒者這18年來從未在自家開幕戰輸球，而我們今天終結這項紀錄。」\n",
      "\n",
      "「我們的防守迫使他們投籃命中率僅41%，三分球命中率更只有25%，這是我們第一場勝利，繼續加油！」\n",
      "\n",
      "\n",
      "---------------------------------------\n"
     ]
    },
    {
     "data": {
      "text/html": [
       "<h1>雷納德聯手板凳暴徒 快艇首戰衝破湖人</h1>"
      ],
      "text/plain": [
       "<IPython.core.display.HTML object>"
      ]
     },
     "metadata": {},
     "output_type": "display_data"
    },
    {
     "data": {
      "text/html": [
       "<span style=\"color:blue\">2019-10-23 13:29</span>"
      ],
      "text/plain": [
       "<IPython.core.display.HTML object>"
      ]
     },
     "metadata": {},
     "output_type": "display_data"
    },
    {
     "name": "stdout",
     "output_type": "stream",
     "text": [
      "\n",
      "眾所矚目的「洛城大戰」在今天點燃戰火，雷納德（Kawhi Leonard）全場攻下30分6籃板5助攻，快艇板凳部隊則是合力砍下60分。快艇在第二節逐漸掌握優勢，雖然第三節尾聲一波亂流讓湖人追平，但第四節穩住陣腳，又將分數拉開，最終以112比102擊敗湖人，取得開季首勝。\n",
      "\n",
      "這場比賽雙方都有主力球員面臨傷病麻煩，快艇傷了喬治（Paul George），湖人則是庫茲瑪（Kyle Kuzma）。一開賽湖人就展現猛烈攻勢，開局打了13比2的攻勢，在比賽中先聲奪人，首節取得領先優勢；不過快艇板凳部隊隨即發揮，加上雷納德精準中距離跳投，快艇第二節砍進40分，反而在上半場以62比54領先湖人。\n",
      "\n",
      "快艇的快節奏配合在下半場讓湖人難以應付，一度取得兩位數領先；不過接下來快艇外線命中率下滑，湖人在詹姆斯（LeBron James）場邊休息之際，反倒殺出一波15比3攻勢，三節結束雙方戰成平手。\n",
      "\n",
      "第四節之初，快艇找回手感，先是打了一波7比0的進攻，湖人不甘示弱連追兩球，快艇替補球員再度發威，又殺出一波11比2的攻勢，比分再度拉開。雷納德掌控節奏，哈瑞爾（Montrezl Harrell）也趁虛籃下建功，湖人反撲無力，只能目送快艇揚長而去。\n",
      "\n",
      "上季決賽MVP雷納德重返故鄉，此役上場32分鐘，雖然出現6次失誤還吞下5犯，但全場19投10中，還是砍下30分6籃板5助攻2抄截。\n",
      "\n",
      "以威廉斯（Lou Williams）為首的快艇板凳暴徒依舊強悍，威廉斯14投8中，拿下21分7助攻5籃板，哈瑞爾11投7中，得到17分7籃板4助攻，哈克雷斯（Moe Harkless）10分4籃板4抄截2阻攻，格林（JaMychal Green）12分6籃板。\n",
      "\n",
      "戴維斯披上湖人戰袍的首場正式比賽，21投8中，包括14罰9中，獨拿25分10籃板5助攻2阻攻1抄截；詹姆斯19投7中，得到18分9籃板8助攻。\n",
      "\n",
      "格林可說是湖人可以咬住比分的關鍵，全場14投10中，三分球9投7中，攻下全隊最高28分，外加7籃板2抄截，其中第三節獨拿18分。湖人陣中除了這3人之外，無人得分超過雙位數。\n",
      "\n",
      "---------------------------------------\n"
     ]
    },
    {
     "data": {
      "text/html": [
       "<h1>稱柯瑞更勝衛少 杜蘭特：哈登沒去火箭無法成MVP</h1>"
      ],
      "text/plain": [
       "<IPython.core.display.HTML object>"
      ]
     },
     "metadata": {},
     "output_type": "display_data"
    },
    {
     "data": {
      "text/html": [
       "<span style=\"color:blue\">2019-10-22 12:51</span>"
      ],
      "text/plain": [
       "<IPython.core.display.HTML object>"
      ]
     },
     "metadata": {},
     "output_type": "display_data"
    },
    {
     "name": "stdout",
     "output_type": "stream",
     "text": [
      "儘管在即將開打的新賽季中可能因傷全面缺陣，但今夏轉披布魯克林籃網戰袍的明星前鋒杜蘭特（Kevin Durant）製造話題的功力依舊，他在近日與前奧克拉荷馬雷霆隊友伊巴卡（Serge Ibaka）一同錄製網路節目時，被問到兩名合作過的後衛柯瑞（Stephen Curry）與衛斯特布魯克（Russell Westbrook）誰更好時，杜蘭特卻毫不猶疑地選擇了前者。\n",
      "\n",
      "杜蘭特在今年夏天透過先簽後換的方式轉戰籃網，儘管受到傷勢影響本賽季可能無法如願披上籃網戰袍登場，不過近日他在與前隊友伊巴卡錄製網路節目「How Hungry Are You?」時，再度靠著犀利回答搶佔媒體版面。\n",
      "\n",
      "其中在上賽季代表暴龍出賽的伊巴卡，先是問到了杜蘭特是否認為，假使自己沒有發生受傷狀況，勇士最終能否擊敗暴龍時，杜蘭特則是回答毫無疑問：「因為如果我在上場的話，你們是不可能在家擊敗我們的。」\n",
      "\n",
      "對於過去與哈登和衛斯特布魯克一起被稱作雷霆四少，杜蘭特與伊巴卡也談論到了兩名也都已經不在雷霆的前隊友們，兩人皆認為如果當年哈登未離開雷霆轉戰火箭，將無法達成拿下年度MVP的成就，而雷霆四少也有機會在相當年輕的情況下就挺進總冠軍賽。\n",
      "\n",
      "不過當伊巴卡問到，杜蘭特的兩位前搭擋柯瑞與衛斯特布魯克誰更好時，杜蘭特卻毫不猶豫地選擇了柯瑞，並認為兩者的差別就在於外線投射能力上，不過有趣的是，杜蘭特在轉戰籃網後將與另外一位聯盟頂尖控球後衛厄文（Kyrie Irving）攜手奮戰，屆時他又會如何評比這三名生涯合作過的頂尖後衛，也讓人相當好奇。\n",
      "\n",
      "---------------------------------------\n"
     ]
    },
    {
     "data": {
      "text/html": [
       "<h1>全員發揮狂轟141分 快艇快意客場踢館大勝勇士</h1>"
      ],
      "text/plain": [
       "<IPython.core.display.HTML object>"
      ]
     },
     "metadata": {},
     "output_type": "display_data"
    },
    {
     "data": {
      "text/html": [
       "<span style=\"color:blue\">2019-10-25 13:18</span>"
      ],
      "text/plain": [
       "<IPython.core.display.HTML object>"
      ]
     },
     "metadata": {},
     "output_type": "display_data"
    },
    {
     "name": "stdout",
     "output_type": "stream",
     "text": [
      "新賽季首戰就在「洛城內戰」中拔得頭籌，快艇今日（25號）又大勝勇士，終場141以122比再下一城，全隊整體命中率高達62.5%，三分線外也有54.5%高水準發揮，讓對手新主場初亮相就踢到鐵板。\n",
      "\n",
      "快艇一開賽就展現力壓對手的如虹氣勢，前3分多鐘打出14比0攻勢，且勇士防守中樞格林（Draymond Green）更因掩護時弄傷手肘，一度退場接受治療，所幸球隊靠羅素（D'Angelo Russell）、柯瑞（Stephen Curry）接力飆分及時止血。\n",
      "\n",
      "打完上半場之後，快艇暫握有11分領先，只是到了第三節攻勢如同水壩潰堤傾瀉而出，單節狠狠灌下46分讓勇士毫無招架之力，沙米特（Landry Shamet）與派特森（Patrick Patterson）各砍進3記三分球，比賽勝負自此底定。\n",
      "\n",
      "快艇此役讓一度落後多達31分的勇士全場未曾有任何翻轉機會，其中得分最高者為攻下22分的超級替補威廉斯（Lou Williams），雷納德（Kawhi Leonard）則有21分、9助攻進帳。\n",
      "\n",
      "此外，快艇2位先發長人表現也不俗，派特森得到20分，包括6記三分球，而祖巴茲（Ivica Zubac）繳出16分、10籃板雙十成績。勇士方面，柯瑞拿到23分，但個人出現8失誤且三分僅11投2中，羅素另挹注20分、8助攻。\n",
      "\n",
      "---------------------------------------\n"
     ]
    },
    {
     "data": {
      "text/html": [
       "<h1>頂著噓聲飆30分 雷納德：很高興拿下勝利</h1>"
      ],
      "text/plain": [
       "<IPython.core.display.HTML object>"
      ]
     },
     "metadata": {},
     "output_type": "display_data"
    },
    {
     "data": {
      "text/html": [
       "<span style=\"color:blue\">2019-10-23 16:39</span>"
      ],
      "text/plain": [
       "<IPython.core.display.HTML object>"
      ]
     },
     "metadata": {},
     "output_type": "display_data"
    },
    {
     "name": "stdout",
     "output_type": "stream",
     "text": [
      "\n",
      "「這將是一個偉大的賽季，我們每場比賽都會全力以赴，讓我們開始吧。」\n",
      "\n",
      "回到家鄉洛城、加盟快艇的首戰，雷納德（Kawhi Leonard）接受來自湖人球迷的噓聲伺候，不過他很快就展現精準的中距離跳投，全場19投10中，攻下30分6籃板5助攻2抄截1阻攻，其中他在第二節獨拿16分，是球隊能夠扭轉落後局面的關鍵。最終快艇就以10分之差擊退同城的湖人。\n",
      "\n",
      "「我很高興我們上場比賽然後拿下勝利。我們先前的訓練做得很棒，我們今晚延續了這樣的狀態。」雷納德說。雷納德此戰雖然出現6次失誤，還吞下5次犯規，但瑕不掩瑜。\n",
      "\n",
      "「他為我們創造機會，他就是這麼做的。」快艇總教練瑞佛斯（Doc Rivers）說。\n",
      "\n",
      "除了雷納德的高效率穩定表現外，快艇板凳暴徒再度有出色發揮，威廉斯（Lou Williams）攻下21分7助攻5籃板，哈瑞爾（Montrezl Harrell）得到17分7籃板4助攻，快艇替補合力砍下60分，足足比湖人替補球員多了41分，成了比賽勝負的關鍵之一。\n",
      "\n",
      "談到雷納德和威廉斯的搭配情況，瑞佛斯表示：「我認為他們現在彼此之間僅相互熟悉10%到15%。他們錯過很多機會，隨著時間的推移，他們會變得越來越危險。」\n",
      "\n",
      "\n",
      "---------------------------------------\n"
     ]
    },
    {
     "data": {
      "text/html": [
       "<h1>失分創柯爾時代新高 柯瑞：檢討時場面肯定難堪</h1>"
      ],
      "text/plain": [
       "<IPython.core.display.HTML object>"
      ]
     },
     "metadata": {},
     "output_type": "display_data"
    },
    {
     "data": {
      "text/html": [
       "<span style=\"color:blue\">2019-10-25 15:12</span>"
      ],
      "text/plain": [
       "<IPython.core.display.HTML object>"
      ]
     },
     "metadata": {},
     "output_type": "display_data"
    },
    {
     "name": "stdout",
     "output_type": "stream",
     "text": [
      "今日（25號）讓快艇單場繳出62.5%整體命中率還有54.5%三分命中率，勇士不但吞下敗仗且痛失141分也寫下柯爾（Steve Kerr）執教時代最高紀錄。\n",
      "\n",
      "柯爾2014年執教勇士開始，球隊算上例行賽還有季後賽的對手單場最高得分140分，是由鵜鶘在今年1月16號所攻下，不過勇士當時憑藉傲人火力硬是拿到147分，依然摘下勝利，但對快艇就無法複製過往經驗。\n",
      "\n",
      "格林（Draymond Green）賽後難掩失望表示：「我們這場比賽表現實在糟糕透頂了，防守更是災難一場。」當被記者問到防守哪點出了問題，他更回應：「每個地方。」柯瑞（Stephen Curry）也坦承：「明天看影片檢討場面肯定很難堪。」\n",
      "\n",
      "至於柯爾自己則是指出：「這就是NBA，過去5年我們就像存在另個世界一樣，現在終於回到現實了。」他甚至補充：「這不會只是個案而已，今年我們很可能也會再面臨同樣狀況。」言下之意似乎預言防守問題將困擾球隊整季。\n",
      "\n",
      "---------------------------------------\n"
     ]
    },
    {
     "data": {
      "text/html": [
       "<h1>評柯瑞不是名人堂球星 柯爾：喬丹有自己的標準</h1>"
      ],
      "text/plain": [
       "<IPython.core.display.HTML object>"
      ]
     },
     "metadata": {},
     "output_type": "display_data"
    },
    {
     "data": {
      "text/html": [
       "<span style=\"color:blue\">2019-10-24 15:40</span>"
      ],
      "text/plain": [
       "<IPython.core.display.HTML object>"
      ]
     },
     "metadata": {},
     "output_type": "display_data"
    },
    {
     "name": "stdout",
     "output_type": "stream",
     "text": [
      "日前黃蜂隊老闆、NBA傳奇球星喬丹（Michael Jordan）日前受訪時表示，他認為勇士隊球星柯瑞（Stephen Curry）還不是為名人堂球員，此言論一出引起外界討論，勇士主帥柯爾（Steve Kerr）上節目時力挺子弟兵，「我想喬丹大概有自己的判斷標準」。\n",
      "\n",
      "當時喬丹在節目中說到：「柯瑞是個很出色的球員，但還不到名人堂等級的球員。」此話一出引發外界討論，不但柯瑞本人做出回應外，就連身為名人堂球員的魔術強森（Magic Johnson）也參與評論。勇士主帥柯爾日前上節目時談到這件事，「顯然，喬丹有他自己對於名人堂球員的評判標準，我想這是我能想到的一切。是的，這是個有趣的言論，我早上看到了這新聞」。\n",
      "\n",
      "「我們都知道，如果柯瑞符合條件（退休滿三年以上）的話，他現在就能進入名人堂」，柯爾話中有話地繼續說：「喬丹有一套自己的標準，對自己、對隊友也都有一套不同的標準，他大概對自己心目中名人堂球員有一套自己的標準吧。」\n",
      "\n",
      "---------------------------------------\n"
     ]
    },
    {
     "data": {
      "text/html": [
       "<h1>約柯奇末節獨拿16分 金塊客場力壓拓荒者</h1>"
      ],
      "text/plain": [
       "<IPython.core.display.HTML object>"
      ]
     },
     "metadata": {},
     "output_type": "display_data"
    },
    {
     "data": {
      "text/html": [
       "<span style=\"color:blue\">2019-10-24 13:24</span>"
      ],
      "text/plain": [
       "<IPython.core.display.HTML object>"
      ]
     },
     "metadata": {},
     "output_type": "display_data"
    },
    {
     "name": "stdout",
     "output_type": "stream",
     "text": [
      "\n",
      "金塊作客波特蘭上演一場西北組之王大對決，雙方一路廝殺到第四節，金塊靠著全能長人約柯奇（Nikola Jokic）單節獨拿16分，全場20分13籃板的表現，以108比100強壓拓荒者，贏得賽季首勝。\n",
      "\n",
      "約柯奇前三節受限犯規麻煩，只打了13分鐘，只得到4分5籃板，雙方命中率皆不理想，三節打完僅有1分差距。不過第四節約柯奇宛如猛虎出閘，9投6中，包括三分球4投3中，攻下16分8籃板。\n",
      "\n",
      "其中，約柯奇在比賽剩下3分多鐘時，連續砍進兩顆三分球，一舉將比分拉開到7分差，奠定了領先基礎；即使里拉德（Damian Lillard）力挽狂瀾，個人拿下10分，仍舊無力回天\n",
      "\n",
      "里拉德第四節也有13分進帳，整場比賽轟進32分8助攻4籃板；懷塞德（Hassan Whiteside）擔任先發中鋒得到16分19籃板2阻攻。胡德（Rodney Hood）和麥凱倫（CJ McCollum）各得到13分、12分。\n",
      "\n",
      "金塊團隊命中率和拓荒者差不多，但轟進18顆三分球，比對手多了11顆，成了比賽另一個關鍵。\n",
      "\n",
      "巴頓（Will Barton）12罰11中拿到19分5籃板，米爾賽普（Paul Millsap）11分5籃板3抄截2阻攻；穆雷（Jamal Murray）手感欠佳，14投僅4中，拿到14分6助攻5籃板。\n",
      "---------------------------------------\n"
     ]
    },
    {
     "data": {
      "text/html": [
       "<h1>米契爾第四節隻手遮天 爵士主場逆轉雷霆</h1>"
      ],
      "text/plain": [
       "<IPython.core.display.HTML object>"
      ]
     },
     "metadata": {},
     "output_type": "display_data"
    },
    {
     "data": {
      "text/html": [
       "<span style=\"color:blue\">2019-10-24 13:05</span>"
      ],
      "text/plain": [
       "<IPython.core.display.HTML object>"
      ]
     },
     "metadata": {},
     "output_type": "display_data"
    },
    {
     "name": "stdout",
     "output_type": "stream",
     "text": [
      "\n",
      "邁入生涯第3年的米契爾（Donovan Mitchell），展現當家一哥的氣魄，主場開幕戰面對雷霆，米契爾狂砍32分12籃板3助攻，第四節獨拿14分，帶領爵士逆轉戰局，以100比95拿下首勝。\n",
      "\n",
      "面對陣容大變動的雷霆，爵士上半場還取得3分領先，但第三節亞歷山大（Shai Gilgeous-Alexander）攻下11分，帶動雷霆打出28比19的單節比分差，反而取得6分超前。下半場攻下22分的米契爾，有10分出現在第四節最後關鍵4分鐘，幾乎是隻手扭轉落後局面。\n",
      "\n",
      "米契爾賽後表示：「我感覺很棒。今天最關鍵的是我們展現很棒的防守，我們從防守端做起，從而轉換到讓進攻端表現也更出色。」\n",
      "\n",
      "「大半時間我處於自己的節奏，努力讓自己不要太著急，用經驗去閱讀比賽。我很感謝隊友給予我的幫助。」\n",
      "\n",
      "新加盟的波格丹諾維奇（Bojan Bogdanovic）拿下16分，奧尼爾（Royce O'Neale）14分，戈貝爾（Rudy Gobert）則有7分14籃板。不過爵士今天三分球總共24投僅6中，也是球隊陷入苦戰的關鍵。這其中，先發控衛柯利（Mike Conley）的表現最為低迷，16投1中，只有5分5助攻。\n",
      "\n",
      "雷霆陣中3人得分超過20分，備受球團期待的亞歷山大得到26分，保羅（Chris Paul）22分8籃板3助攻，蓋里納利（Danilo Gallinari）21分7籃板；亞當斯（Steven Adams）8投1中只得到3分，但抓下11個籃板。\n",
      "\n",
      "\n",
      "---------------------------------------\n"
     ]
    },
    {
     "data": {
      "text/html": [
       "<h1>唐西奇34分宣告接班 被喊MVP起雞皮疙瘩</h1>"
      ],
      "text/plain": [
       "<IPython.core.display.HTML object>"
      ]
     },
     "metadata": {},
     "output_type": "display_data"
    },
    {
     "data": {
      "text/html": [
       "<span style=\"color:blue\">2019-10-24 12:46</span>"
      ],
      "text/plain": [
       "<IPython.core.display.HTML object>"
      ]
     },
     "metadata": {},
     "output_type": "display_data"
    },
    {
     "name": "stdout",
     "output_type": "stream",
     "text": [
      "達拉斯獨行俠在球隊新賽季開幕戰，靠著年僅20歲的唐西奇（Luka Doncic）豪取34分9籃板擊敗華盛頓巫師，奪得「後諾維茨基（Dirk Nowitzki）時代」的首場比賽勝利，其中在比賽最後階段唐西奇在罰球時獲得場邊球迷高呼「MVP」加油，讓他直呼雞皮疙瘩掉滿地。\n",
      "\n",
      "上個賽季就打出接班氣勢的唐西奇，在諾維茨基正式退休後順理成章成為球隊新任領袖，而在開季首場比賽他也打出不負球團與球迷期待的好表現，幫助獨行俠開出紅盤。談到在比賽中被球迷高呼MVP時，唐西奇坦言感覺很棒，但也同時充滿壓力，「這告訴我必須要好好命中罰球，不能辜負大家的期待。但我不太知道要怎麼形容這種感覺，反正我已經雞皮疙瘩掉滿地了」。\n",
      "\n",
      "而唐西奇的優異表現也獲得對手、巫師射手比爾（Bradley Beal）的高度讚賞，「他今天痛扁了我們，整場比賽他都打得很好，做自己最擅長的事情，他擁有很棒的天賦和光明的未來，且表現已經非常成熟，畢竟他10幾歲就開始打職業賽事，很清楚該做哪些事情」。\n",
      "\n",
      "除了唐西奇外，獨行俠另一名歐洲球星波爾辛吉斯（Kristaps Porzingis）也有23分進帳，談到兩人聯手幫助球隊取勝，唐西奇說：「我們今天每個人都打得相當出色，我們將會繼續努力保持這樣的狀態。」\n",
      "\n",
      "---------------------------------------\n"
     ]
    },
    {
     "data": {
      "text/html": [
       "<h1>溫史洛全能領軍 熱火第四節轟垮灰熊</h1>"
      ],
      "text/plain": [
       "<IPython.core.display.HTML object>"
      ]
     },
     "metadata": {},
     "output_type": "display_data"
    },
    {
     "data": {
      "text/html": [
       "<span style=\"color:blue\">2019-10-24 12:45</span>"
      ],
      "text/plain": [
       "<IPython.core.display.HTML object>"
      ]
     },
     "metadata": {},
     "output_type": "display_data"
    },
    {
     "name": "stdout",
     "output_type": "stream",
     "text": [
      "\n",
      "巴特勒（Jimmy Butler）因個人因素缺席了球隊開幕戰，但熱火在溫史洛（Justise Winslow）的全能演出以及新秀納恩（Kendrick Nunn）的強力發揮下，第四節轟出37比17的猛烈攻勢，在主場以120比101擊敗灰熊。\n",
      "\n",
      "溫史洛此戰攻下27分7籃板7助攻，阿德巴約（Bam Adebayo）得到14分11籃板3助攻，老將德拉基奇（Goran Dragic）替補上場拿到19分3籃板3助攻2阻攻。\n",
      "\n",
      "「我無法每天晚上都拿到27-7-7，但我的任務就是領導這支球隊，我也想要去承擔這個責任。我努力做到這些。」溫史洛說。\n",
      "\n",
      "值得一提的是，熱火先發5人中的赫洛（Tyler Herro）和納恩都是菜鳥，這是隊史第4次在開幕戰有兩位新秀同時登場，前3次分別是1988年的塞克利（Rony Seikaly）和愛德華（Kevin Edwards）、2003年的韋德（Dwyane Wade）和海斯倫（Udonis Haslem）、2008年的畢斯利（Michael Beasley）和查莫斯（Mario Chalmers）。\n",
      "\n",
      "結果，赫洛以19歲又276天成為熱火最年輕的先發球員，他得到14分8籃板2抄截，納恩更是18投10中轟下24分。\n",
      "\n",
      "熱火前三節打完還落後1分，但第四節突然風雲變色，灰熊屢投不進，反觀熱火則是繳出超過6成命中率，溫史洛和納恩各拿下11分，帶動球隊攻勢，一波26比6的進攻高潮直接鎖定勝局。\n",
      "\n",
      "灰熊陣中以傑克森（Jaren Jackson Jr.）的17分為最高，瓊斯（Tyus Jones）15分7助攻，克勞德（Jae Crowder）13分；備受矚目的榜眼新秀莫蘭特（Ja Morant），處女秀先發打了25分鐘，12投6中拿下14分4籃板4助攻，但也出現6次失誤。\n",
      "\n",
      "現年20歲又74天的莫蘭特成了灰熊隊史開幕戰第二年輕的先發，僅次於羅因（Shareef Abdur-Rahim）的19歲又326天。\n",
      "\n",
      "\n",
      "---------------------------------------\n"
     ]
    },
    {
     "data": {
      "text/html": [
       "<h1>領暴龍冠軍戒還不夠 德瑞克加碼客製款更奢華</h1>"
      ],
      "text/plain": [
       "<IPython.core.display.HTML object>"
      ]
     },
     "metadata": {},
     "output_type": "display_data"
    },
    {
     "data": {
      "text/html": [
       "<span style=\"color:blue\">2019-10-24 12:40</span>"
      ],
      "text/plain": [
       "<IPython.core.display.HTML object>"
      ]
     },
     "metadata": {},
     "output_type": "display_data"
    },
    {
     "name": "stdout",
     "output_type": "stream",
     "text": [
      "上季讓NBA總冠軍史上首度誕生美國本土以外，來自加拿大的暴龍昨日（23號）新賽季開幕戰在自家主場風光領取冠軍戒，且這次冠軍戒奢華設計更寫下職業運動史上新紀錄，但球隊全球宣傳大使饒舌歌手德瑞克（Drake）顯然還不滿意。\n",
      "\n",
      "暴龍的2019年NBA冠軍戒上共鑲嵌了超過650顆的鑽石，總重量高達14克拉，德瑞克也領到這枚精心製作的戒指，但根據八卦媒體《TMZ》獨家披露，他自己又另外請人客製1枚冠軍紀念戒，規格甚至超越了球隊官方版本，要價將近15萬美元。\n",
      "\n",
      "德瑞克客製私人奪冠紀念戒上鑽石共30克拉，號稱超越NBA史上任何冠軍戒規格，且業者還表示德瑞克甚至招待他到巴哈馬渡假島嶼來討論設計細節，而和暴龍官方戒指不同處還有德瑞克戒指沒有「North」字樣，是由紅色暴龍隊徽取代。\n",
      "         在 Instagram 查看這則貼文           We Major  champagnepapi（@champagnepapi）分享的貼文 於 PDT 2019 年 10月 月 22 日 下午 5:12 張貼 \n",
      "\n",
      "\n",
      "---------------------------------------\n"
     ]
    },
    {
     "data": {
      "text/html": [
       "<h1>墨瑞回歸全能演出 馬刺主場擊退尼克</h1>"
      ],
      "text/plain": [
       "<IPython.core.display.HTML object>"
      ]
     },
     "metadata": {},
     "output_type": "display_data"
    },
    {
     "data": {
      "text/html": [
       "<span style=\"color:blue\">2019-10-24 12:12</span>"
      ],
      "text/plain": [
       "<IPython.core.display.HTML object>"
      ]
     },
     "metadata": {},
     "output_type": "display_data"
    },
    {
     "name": "stdout",
     "output_type": "stream",
     "text": [
      "\n",
      "因右膝前十字韌帶撕裂整季報銷的墨瑞（Dejounte Murray），今天正式回歸球場，上場24分鐘，10投7中，得到18分8籃板6助攻3抄截，搭配艾德里奇（LaMarcus Aldridge）和富比士（Bryn Forbes）合拿42分，馬刺克服一度落後的劣勢，在主場以120比111擊退紐約尼克。\n",
      "\n",
      "與馬刺續約談判觸礁的德羅展（DeMar DeRozan），此戰表現平平，10投3中得到13分4籃板4助攻，不過艾德里奇仍維持穩定表現，15投8中拿下22分8籃板，先發上陣的富比士貢獻20分5籃板，蓋伊（Rudy Gay）13分6籃板3助攻，新加盟的萊爾斯（Trey Lyles）則有8分11籃板的演出。\n",
      "\n",
      "馬刺第二節一度拉開16分差，但尼克發動一波12比1的攻勢，上半場將落後分數追到僅8分差；馬刺第三節外線失靈，防守端也擋不住藍道（Julius Randle）和探花新秀巴瑞特（RJ Barrett），讓兩人單節合拿19分，尼克趁勢超前比分，也讓馬刺陷入苦戰。\n",
      "\n",
      "前半段比賽進攻低迷的德羅展，第四節找回手感，單節5投3中外加5罰4中，獨拿10分，墨瑞和艾德里奇合拿15分，帶動馬刺這一節狂飆37分，硬是扭轉戰局，有驚無險贏得本季首勝。\n",
      "\n",
      "尼克陣中3人得分超過20分，一度允諾加入馬刺卻又反悔的莫里斯（Marcus Morris），攻下全場最高26分；藍道拿下25分11籃板6助攻3抄截，巴瑞特得到21分5籃板。\n",
      "\n",
      "\n",
      "---------------------------------------\n"
     ]
    },
    {
     "data": {
      "text/html": [
       "<h1>首秀表現差非壓力所致 華克：只是投不進</h1>"
      ],
      "text/plain": [
       "<IPython.core.display.HTML object>"
      ]
     },
     "metadata": {},
     "output_type": "display_data"
    },
    {
     "data": {
      "text/html": [
       "<span style=\"color:blue\">2019-10-24 12:08</span>"
      ],
      "text/plain": [
       "<IPython.core.display.HTML object>"
      ]
     },
     "metadata": {},
     "output_type": "display_data"
    },
    {
     "name": "stdout",
     "output_type": "stream",
     "text": [
      "波士頓塞爾蒂克新任主控華克（Kemba Walker）在代表新東家出賽的首場比賽手感不佳，出手18次僅命中4球拿下12分2籃板2助攻，雖然表現不如預期，但華克強調自己並非是受到壓力影響，純粹只是手感差、無法把球投進籃框中。\n",
      "\n",
      "華克在今年夏天透過先簽後換方式轉戰波士頓，儘管他與新隊友布朗（Jaylen Brown）、泰托姆（Jayson Tatum）和史馬特（Marcus Smart）已提前在世界盃美國隊陣中磨合，但例行賽首場比賽後，華克坦言仍在尋找最舒服的節奏。\n",
      "\n",
      "「我認為我們還在互相了解與學習，儘管季前賽我們已經有初步的磨合，但是想要找到彼此最舒服的節奏，確實還需要一點時間。」談到自己首場比賽與隊友的搭配時，華克說：「輸掉開幕戰感覺確實很差，但我們仍充滿信心，對我自己而言，我原本希望為球隊做得更多一點，但我並不是受到壓力影響，就只是球丟不進罷了。」\n",
      "\n",
      "塞爾蒂克總教練史蒂文斯（Brad Stevens）則表示，球隊在進攻端必須要拿出更強烈的企圖心，不過他也強調今天拿下全隊最高25分的海瓦德（Gordon Hayward）的表現，對於球隊來說是一個好的信號，代表著在華克與泰托姆手感不佳的情況下，仍有人能挺身而出。\n",
      "\n",
      "---------------------------------------\n"
     ]
    },
    {
     "data": {
      "text/html": [
       "<h1>客串魔鬼終結者電影廣告 雷納德魔性笑聲成焦點</h1>"
      ],
      "text/plain": [
       "<IPython.core.display.HTML object>"
      ]
     },
     "metadata": {},
     "output_type": "display_data"
    },
    {
     "data": {
      "text/html": [
       "<span style=\"color:blue\">2019-10-24 11:52</span>"
      ],
      "text/plain": [
       "<IPython.core.display.HTML object>"
      ]
     },
     "metadata": {},
     "output_type": "display_data"
    },
    {
     "name": "stdout",
     "output_type": "stream",
     "text": [
      "雷納德（Kawhi Leonard）無論何時總是面無表情特色，加上他球場上攻守兩端宰制，讓不少球迷都戲稱他是「人造人」，而最新電影《魔鬼終結者：黑暗宿命》廣告就以此為靈感發想，找來雷納德客串還不忘在最後加入其魔性笑聲。\n",
      "\n",
      "電影廣告之中，影星阿諾史瓦辛格（Arnold Schwarzenegger）先是歡迎雷納德來到洛杉磯，且直接稱呼他是另一位「魔鬼終結者」，而系列電影中知名角色莎拉康納（Sarah Connor）也現身，就在雷納德搭檔喬治（Paul George）呼喚她之後。\n",
      "\n",
      "莎拉康納說現場根本是「魔鬼終結者聚會」，也稱呼雷納德有著「瘋狂的機器笑聲」，喬治還在一旁替隊友抱屈說，雷納德笑聲很平常且他是「有趣的傢伙」，電影廣告結尾也以雷納德上季媒體日記者會魔性笑聲結尾。\n",
      "Terminator meets Terminator. In honor of the start of the @NBA, watch Arnold @Schwarzenegger, @KawhiLeonard, Paul George (@yg_trece) and Linda Hamilton team up in this @ESPN spot. #TerminatorDarkFate pic.twitter.com/9zPV4dCeeV— Terminator: Dark Fate (@Terminator) 2019年10月22日\n",
      "\n",
      "\n",
      "---------------------------------------\n"
     ]
    },
    {
     "data": {
      "text/html": [
       "<h1>獨行俠雙星飆57分搶勝 巫師八村壘首戰繳雙十</h1>"
      ],
      "text/plain": [
       "<IPython.core.display.HTML object>"
      ]
     },
     "metadata": {},
     "output_type": "display_data"
    },
    {
     "data": {
      "text/html": [
       "<span style=\"color:blue\">2019-10-24 11:40</span>"
      ],
      "text/plain": [
       "<IPython.core.display.HTML object>"
      ]
     },
     "metadata": {},
     "output_type": "display_data"
    },
    {
     "name": "stdout",
     "output_type": "stream",
     "text": [
      "「後諾維茨基（Dirk Nowitzki）時代」的首場比賽，達拉斯獨行俠今天（24號）在主場迎戰華盛頓巫師的比賽中，靠著歐洲雙星唐西奇（Luka Doncic）與波爾辛吉斯（Kristaps Porzingis）聯手拿下57分的優異表現，以108：100擊敗巫師。\n",
      "\n",
      "效力球隊21個賽季的精神領袖諾維茨基上季退休後，獨行俠新賽季由唐西奇接掌大旗，加上上季交易來後因傷勢復健一場未打的波爾辛吉斯傷癒復出，新賽季的獨行俠仍舊是一支歐洲風味濃厚的球隊。開季首場比賽，儘管獨行俠教頭卡萊爾（Rick Carlisle）為了保護剛復出的波爾辛吉斯，限制他的上場時間在30分鐘以內，但歐洲雙星仍舊打出令人期待的表現。\n",
      "\n",
      "首節前段巫師在日籍新秀八村壘的連續取分下取得領先優勢，不過波爾辛吉斯隨即挺身而出，靠著該節末段連得9分的表現，幫助獨行俠在首節打完追到1分差距，第二節獨行俠小柯瑞（Seth Curry）也挺身而出與雙星連線，幫助球隊單節拉出38：23的攻勢，上半場打完反取得14分領先。\n",
      "\n",
      "而缺少了主控沃爾（John Wall）的巫師，雖然在末節由替補上陣的華格納（Moritz Wagner）吹起反攻號角，加上比爾（Bradley Beal）與八村壘的接連進球，在比賽最後80秒追到7分差距，不過波爾辛吉斯隨後以一記空中接力單手爆扣澆熄了巫師的反撲氣燄，終場獨行俠就以8分差距搶下新賽季首勝。\n",
      "\n",
      "獨行俠唐西奇今天拿下全場最高的34分外帶9籃板，而從去年2月就不曾在例行賽登場過的波爾辛吉斯也拿下23分4籃板，巫師八村壘則是在職業生涯首場例行賽貢獻14分10籃板的雙十數據。\n",
      "\n",
      "---------------------------------------\n"
     ]
    },
    {
     "data": {
      "text/html": [
       "<h1>雷納德聯手板凳暴徒 快艇首戰衝破湖人</h1>"
      ],
      "text/plain": [
       "<IPython.core.display.HTML object>"
      ]
     },
     "metadata": {},
     "output_type": "display_data"
    },
    {
     "data": {
      "text/html": [
       "<span style=\"color:blue\">2019-10-23 13:29</span>"
      ],
      "text/plain": [
       "<IPython.core.display.HTML object>"
      ]
     },
     "metadata": {},
     "output_type": "display_data"
    },
    {
     "name": "stdout",
     "output_type": "stream",
     "text": [
      "\n",
      "眾所矚目的「洛城大戰」在今天點燃戰火，雷納德（Kawhi Leonard）全場攻下30分6籃板5助攻，快艇板凳部隊則是合力砍下60分。快艇在第二節逐漸掌握優勢，雖然第三節尾聲一波亂流讓湖人追平，但第四節穩住陣腳，又將分數拉開，最終以112比102擊敗湖人，取得開季首勝。\n",
      "\n",
      "這場比賽雙方都有主力球員面臨傷病麻煩，快艇傷了喬治（Paul George），湖人則是庫茲瑪（Kyle Kuzma）。一開賽湖人就展現猛烈攻勢，開局打了13比2的攻勢，在比賽中先聲奪人，首節取得領先優勢；不過快艇板凳部隊隨即發揮，加上雷納德精準中距離跳投，快艇第二節砍進40分，反而在上半場以62比54領先湖人。\n",
      "\n",
      "快艇的快節奏配合在下半場讓湖人難以應付，一度取得兩位數領先；不過接下來快艇外線命中率下滑，湖人在詹姆斯（LeBron James）場邊休息之際，反倒殺出一波15比3攻勢，三節結束雙方戰成平手。\n",
      "\n",
      "第四節之初，快艇找回手感，先是打了一波7比0的進攻，湖人不甘示弱連追兩球，快艇替補球員再度發威，又殺出一波11比2的攻勢，比分再度拉開。雷納德掌控節奏，哈瑞爾（Montrezl Harrell）也趁虛籃下建功，湖人反撲無力，只能目送快艇揚長而去。\n",
      "\n",
      "上季決賽MVP雷納德重返故鄉，此役上場32分鐘，雖然出現6次失誤還吞下5犯，但全場19投10中，還是砍下30分6籃板5助攻2抄截。\n",
      "\n",
      "以威廉斯（Lou Williams）為首的快艇板凳暴徒依舊強悍，威廉斯14投8中，拿下21分7助攻5籃板，哈瑞爾11投7中，得到17分7籃板4助攻，哈克雷斯（Moe Harkless）10分4籃板4抄截2阻攻，格林（JaMychal Green）12分6籃板。\n",
      "\n",
      "戴維斯披上湖人戰袍的首場正式比賽，21投8中，包括14罰9中，獨拿25分10籃板5助攻2阻攻1抄截；詹姆斯19投7中，得到18分9籃板8助攻。\n",
      "\n",
      "格林可說是湖人可以咬住比分的關鍵，全場14投10中，三分球9投7中，攻下全隊最高28分，外加7籃板2抄截，其中第三節獨拿18分。湖人陣中除了這3人之外，無人得分超過雙位數。\n",
      "\n",
      "---------------------------------------\n"
     ]
    },
    {
     "data": {
      "text/html": [
       "<h1>稱柯瑞更勝衛少 杜蘭特：哈登沒去火箭無法成MVP</h1>"
      ],
      "text/plain": [
       "<IPython.core.display.HTML object>"
      ]
     },
     "metadata": {},
     "output_type": "display_data"
    },
    {
     "data": {
      "text/html": [
       "<span style=\"color:blue\">2019-10-22 12:51</span>"
      ],
      "text/plain": [
       "<IPython.core.display.HTML object>"
      ]
     },
     "metadata": {},
     "output_type": "display_data"
    },
    {
     "name": "stdout",
     "output_type": "stream",
     "text": [
      "儘管在即將開打的新賽季中可能因傷全面缺陣，但今夏轉披布魯克林籃網戰袍的明星前鋒杜蘭特（Kevin Durant）製造話題的功力依舊，他在近日與前奧克拉荷馬雷霆隊友伊巴卡（Serge Ibaka）一同錄製網路節目時，被問到兩名合作過的後衛柯瑞（Stephen Curry）與衛斯特布魯克（Russell Westbrook）誰更好時，杜蘭特卻毫不猶疑地選擇了前者。\n",
      "\n",
      "杜蘭特在今年夏天透過先簽後換的方式轉戰籃網，儘管受到傷勢影響本賽季可能無法如願披上籃網戰袍登場，不過近日他在與前隊友伊巴卡錄製網路節目「How Hungry Are You?」時，再度靠著犀利回答搶佔媒體版面。\n",
      "\n",
      "其中在上賽季代表暴龍出賽的伊巴卡，先是問到了杜蘭特是否認為，假使自己沒有發生受傷狀況，勇士最終能否擊敗暴龍時，杜蘭特則是回答毫無疑問：「因為如果我在上場的話，你們是不可能在家擊敗我們的。」\n",
      "\n",
      "對於過去與哈登和衛斯特布魯克一起被稱作雷霆四少，杜蘭特與伊巴卡也談論到了兩名也都已經不在雷霆的前隊友們，兩人皆認為如果當年哈登未離開雷霆轉戰火箭，將無法達成拿下年度MVP的成就，而雷霆四少也有機會在相當年輕的情況下就挺進總冠軍賽。\n",
      "\n",
      "不過當伊巴卡問到，杜蘭特的兩位前搭擋柯瑞與衛斯特布魯克誰更好時，杜蘭特卻毫不猶豫地選擇了柯瑞，並認為兩者的差別就在於外線投射能力上，不過有趣的是，杜蘭特在轉戰籃網後將與另外一位聯盟頂尖控球後衛厄文（Kyrie Irving）攜手奮戰，屆時他又會如何評比這三名生涯合作過的頂尖後衛，也讓人相當好奇。\n",
      "\n",
      "---------------------------------------\n"
     ]
    },
    {
     "data": {
      "text/html": [
       "<h1>全員發揮狂轟141分 快艇快意客場踢館大勝勇士</h1>"
      ],
      "text/plain": [
       "<IPython.core.display.HTML object>"
      ]
     },
     "metadata": {},
     "output_type": "display_data"
    },
    {
     "data": {
      "text/html": [
       "<span style=\"color:blue\">2019-10-25 13:18</span>"
      ],
      "text/plain": [
       "<IPython.core.display.HTML object>"
      ]
     },
     "metadata": {},
     "output_type": "display_data"
    },
    {
     "name": "stdout",
     "output_type": "stream",
     "text": [
      "新賽季首戰就在「洛城內戰」中拔得頭籌，快艇今日（25號）又大勝勇士，終場141以122比再下一城，全隊整體命中率高達62.5%，三分線外也有54.5%高水準發揮，讓對手新主場初亮相就踢到鐵板。\n",
      "\n",
      "快艇一開賽就展現力壓對手的如虹氣勢，前3分多鐘打出14比0攻勢，且勇士防守中樞格林（Draymond Green）更因掩護時弄傷手肘，一度退場接受治療，所幸球隊靠羅素（D'Angelo Russell）、柯瑞（Stephen Curry）接力飆分及時止血。\n",
      "\n",
      "打完上半場之後，快艇暫握有11分領先，只是到了第三節攻勢如同水壩潰堤傾瀉而出，單節狠狠灌下46分讓勇士毫無招架之力，沙米特（Landry Shamet）與派特森（Patrick Patterson）各砍進3記三分球，比賽勝負自此底定。\n",
      "\n",
      "快艇此役讓一度落後多達31分的勇士全場未曾有任何翻轉機會，其中得分最高者為攻下22分的超級替補威廉斯（Lou Williams），雷納德（Kawhi Leonard）則有21分、9助攻進帳。\n",
      "\n",
      "此外，快艇2位先發長人表現也不俗，派特森得到20分，包括6記三分球，而祖巴茲（Ivica Zubac）繳出16分、10籃板雙十成績。勇士方面，柯瑞拿到23分，但個人出現8失誤且三分僅11投2中，羅素另挹注20分、8助攻。\n",
      "\n",
      "---------------------------------------\n"
     ]
    },
    {
     "data": {
      "text/html": [
       "<h1>頂著噓聲飆30分 雷納德：很高興拿下勝利</h1>"
      ],
      "text/plain": [
       "<IPython.core.display.HTML object>"
      ]
     },
     "metadata": {},
     "output_type": "display_data"
    },
    {
     "data": {
      "text/html": [
       "<span style=\"color:blue\">2019-10-23 16:39</span>"
      ],
      "text/plain": [
       "<IPython.core.display.HTML object>"
      ]
     },
     "metadata": {},
     "output_type": "display_data"
    },
    {
     "name": "stdout",
     "output_type": "stream",
     "text": [
      "\n",
      "「這將是一個偉大的賽季，我們每場比賽都會全力以赴，讓我們開始吧。」\n",
      "\n",
      "回到家鄉洛城、加盟快艇的首戰，雷納德（Kawhi Leonard）接受來自湖人球迷的噓聲伺候，不過他很快就展現精準的中距離跳投，全場19投10中，攻下30分6籃板5助攻2抄截1阻攻，其中他在第二節獨拿16分，是球隊能夠扭轉落後局面的關鍵。最終快艇就以10分之差擊退同城的湖人。\n",
      "\n",
      "「我很高興我們上場比賽然後拿下勝利。我們先前的訓練做得很棒，我們今晚延續了這樣的狀態。」雷納德說。雷納德此戰雖然出現6次失誤，還吞下5次犯規，但瑕不掩瑜。\n",
      "\n",
      "「他為我們創造機會，他就是這麼做的。」快艇總教練瑞佛斯（Doc Rivers）說。\n",
      "\n",
      "除了雷納德的高效率穩定表現外，快艇板凳暴徒再度有出色發揮，威廉斯（Lou Williams）攻下21分7助攻5籃板，哈瑞爾（Montrezl Harrell）得到17分7籃板4助攻，快艇替補合力砍下60分，足足比湖人替補球員多了41分，成了比賽勝負的關鍵之一。\n",
      "\n",
      "談到雷納德和威廉斯的搭配情況，瑞佛斯表示：「我認為他們現在彼此之間僅相互熟悉10%到15%。他們錯過很多機會，隨著時間的推移，他們會變得越來越危險。」\n",
      "\n",
      "\n",
      "---------------------------------------\n"
     ]
    },
    {
     "data": {
      "text/html": [
       "<h1>失分創柯爾時代新高 柯瑞：檢討時場面肯定難堪</h1>"
      ],
      "text/plain": [
       "<IPython.core.display.HTML object>"
      ]
     },
     "metadata": {},
     "output_type": "display_data"
    },
    {
     "data": {
      "text/html": [
       "<span style=\"color:blue\">2019-10-25 15:12</span>"
      ],
      "text/plain": [
       "<IPython.core.display.HTML object>"
      ]
     },
     "metadata": {},
     "output_type": "display_data"
    },
    {
     "name": "stdout",
     "output_type": "stream",
     "text": [
      "今日（25號）讓快艇單場繳出62.5%整體命中率還有54.5%三分命中率，勇士不但吞下敗仗且痛失141分也寫下柯爾（Steve Kerr）執教時代最高紀錄。\n",
      "\n",
      "柯爾2014年執教勇士開始，球隊算上例行賽還有季後賽的對手單場最高得分140分，是由鵜鶘在今年1月16號所攻下，不過勇士當時憑藉傲人火力硬是拿到147分，依然摘下勝利，但對快艇就無法複製過往經驗。\n",
      "\n",
      "格林（Draymond Green）賽後難掩失望表示：「我們這場比賽表現實在糟糕透頂了，防守更是災難一場。」當被記者問到防守哪點出了問題，他更回應：「每個地方。」柯瑞（Stephen Curry）也坦承：「明天看影片檢討場面肯定很難堪。」\n",
      "\n",
      "至於柯爾自己則是指出：「這就是NBA，過去5年我們就像存在另個世界一樣，現在終於回到現實了。」他甚至補充：「這不會只是個案而已，今年我們很可能也會再面臨同樣狀況。」言下之意似乎預言防守問題將困擾球隊整季。\n",
      "\n",
      "---------------------------------------\n"
     ]
    },
    {
     "data": {
      "text/html": [
       "<h1>美教授實例教管理學 鄧肯、布萊恩成正反面教材</h1>"
      ],
      "text/plain": [
       "<IPython.core.display.HTML object>"
      ]
     },
     "metadata": {},
     "output_type": "display_data"
    },
    {
     "data": {
      "text/html": [
       "<span style=\"color:blue\">2019-10-24 11:26</span>"
      ],
      "text/plain": [
       "<IPython.core.display.HTML object>"
      ]
     },
     "metadata": {},
     "output_type": "display_data"
    },
    {
     "name": "stdout",
     "output_type": "stream",
     "text": [
      "美國維吉尼亞大學教授商學院教授馬汀（Sean Martin）日前發表學術研究，他名為「冠軍之心」個案分析中以NBA傳奇球星布萊恩（Kobe Bryant）與鄧肯（Tim Duncan）為例，希望以此應用在他所開的管理學課程中。\n",
      "\n",
      "馬汀不諱言自己本身是馬刺死忠支持者，但他也強調這並不影響其學術研究上客觀中立，在其所作個案分析中布萊恩與鄧肯各自代表了不同領導風格，而他認為前者會導致團隊分裂，後者則較能凝聚整體。\n",
      "\n",
      "「假如領導者在乎的是自己，我會說布萊恩很多方面是這樣的人，像他要求領高薪且不留情面批評隊友，要求他們達到跟自己一樣高標準，這樣很可能導致團隊分崩離析，部份成員無法學習進步且寧願孤立自己」，馬汀分析說。\n",
      "\n",
      "接著他提到鄧肯時表示：「而如果領導者作為是服務團隊整體，像鄧肯願意犧牲自己薪水，在練習時候也對隊友傾囊相授，他在任何小細節上都以身作則，這會讓團隊變得向心力更強。」\n",
      "\n",
      "---------------------------------------\n"
     ]
    },
    {
     "data": {
      "text/html": [
       "<h1>厄文開幕戰砍50分 NBA史上第5人</h1>"
      ],
      "text/plain": [
       "<IPython.core.display.HTML object>"
      ]
     },
     "metadata": {},
     "output_type": "display_data"
    },
    {
     "data": {
      "text/html": [
       "<span style=\"color:blue\">2019-10-24 11:15</span>"
      ],
      "text/plain": [
       "<IPython.core.display.HTML object>"
      ]
     },
     "metadata": {},
     "output_type": "display_data"
    },
    {
     "name": "stdout",
     "output_type": "stream",
     "text": [
      "\n",
      "厄文（Kyrie Irving）在今天籃網主場開幕戰中火力展示，面對灰狼33投17中，包括三分球14投7中，10罰9中，狂砍50分8籃板7助攻，寫下個人開幕戰得分紀錄，同時也刷新馬布瑞（Stephon Marbury）所保持的籃網隊史開幕戰39分得分紀錄。\n",
      "\n",
      "根據統計，這是厄文生涯第3次單場得分超過50分，前兩次都出現在2014-15年賽季，分別是對馬刺的57分和對拓荒者的55分。\n",
      "\n",
      "厄文的50分創下加盟新球隊後首戰的最高得分紀錄，先前最高是范德維奇（Kiki VanDeWeghe），他在1984年加入拓荒者的首戰拿下47分；而張伯倫（Wilt Chamberlain）在1959年轉戰費城勇士後第一場則是拿到43分。\n",
      "\n",
      "這也是籃網隊史第7次單場出現50分的比賽，前6位分別是D.威廉斯（Deron Williams，57分）、卡特（Vince Carter，51分）、馬布瑞（Stephon Marbury，50分）、R.威廉斯（Ray Williams，52分）、紐林（Mike Newlin，52分）、威廉森（John Williamson，50分）。\n",
      "\n",
      "此外，厄文還成為NBA史上第5位在開幕戰至少拿到50分的球員，前4位分別是喬丹（Michael Jordan，2次，1986年50分和1989年54分）、張伯倫（Wilt Chamberlain，1962年56分）、貝勒（Elgin Baylor，1959年52分）、戴維斯（Anthony Davis，2016年50分）。\n",
      "\n",
      "\n",
      "---------------------------------------\n"
     ]
    },
    {
     "data": {
      "text/html": [
       "<h1>華克綠衫軍首秀熄火 西蒙斯準大三元76人搶勝</h1>"
      ],
      "text/plain": [
       "<IPython.core.display.HTML object>"
      ]
     },
     "metadata": {},
     "output_type": "display_data"
    },
    {
     "data": {
      "text/html": [
       "<span style=\"color:blue\">2019-10-24 10:59</span>"
      ],
      "text/plain": [
       "<IPython.core.display.HTML object>"
      ]
     },
     "metadata": {},
     "output_type": "display_data"
    },
    {
     "name": "stdout",
     "output_type": "stream",
     "text": [
      "被喻為本賽季兩大東區冠軍熱門球隊的費城76人與波士頓塞爾蒂克今天（24號）交鋒，76人在先發五人得分皆來到雙位數的多點開花攻勢下，從第二節後就一路保持領先，反觀本季轉披塞爾蒂克戰袍的華克（Kemba Walker）的手感不佳，僅拿下12分，終場76人就以107：93擊敗綠衫軍。\n",
      "\n",
      "76人與塞爾蒂克在今年休季期間都在陣容上做出異動，其中76人將明星搖擺人巴特勒（Jimmy Butler）送往熱火換回理查森（Josh Richardson），並簽下前塞爾蒂克中鋒霍福特（Al Horford），至於塞爾蒂克雖然面臨了主控厄文（Kyrie Irving）出走籃網，但也補進前黃蜂主控華克與土耳其中鋒康特（Enes Kanter）。\n",
      "\n",
      "不過今天兩隊在團隊發揮上卻呈現兩樣情，76人不僅兩名新血霍福特和理查森分別拿下16分和17分，三名上季先發班底西蒙斯（Ben Simmons）進帳24分9助攻8籃板、哈里斯（Tobias Harris）15分15籃板、安比德（Joel Embiid）15分13籃板，多點開花的攻勢幫助七六人在第二節超前比分後，就一路保持領先。\n",
      "\n",
      "反觀塞爾蒂克的雙前鋒海瓦德（Gordon Hayward）與泰托姆（Jayson Tatum）皆有20分以上進帳，但新加入的華克與康特都僅拿下12分，其中華克更只有18投4中、下半場只進帳2分的糟糕表現，而開季前才剛與球隊完成四年續約的布朗（Jaylen Brown）更只拿下8分，先發球員的貢獻遠不如七六人。\n",
      "\n",
      "華克在今年夏天成為自由球員後，透過先簽後換的方式加盟綠衫軍，並被期待頂上厄文離隊的缺口，而他在日前也與新隊友布朗、泰托姆跟隨美國男籃出征中國世界盃，並且扮演球隊領袖角色，不過在開季首場比賽表現確實不如預期。\n",
      "\n",
      "---------------------------------------\n"
     ]
    },
    {
     "data": {
      "text/html": [
       "<h1>暑假曾試訓NBA球隊 史陶德邁爾轉戰中國職籃</h1>"
      ],
      "text/plain": [
       "<IPython.core.display.HTML object>"
      ]
     },
     "metadata": {},
     "output_type": "display_data"
    },
    {
     "data": {
      "text/html": [
       "<span style=\"color:blue\">2019-10-24 10:52</span>"
      ],
      "text/plain": [
       "<IPython.core.display.HTML object>"
      ]
     },
     "metadata": {},
     "output_type": "display_data"
    },
    {
     "name": "stdout",
     "output_type": "stream",
     "text": [
      "今年暑假期間有報導指出史陶德邁爾（Amare Stoudemire）仍有意重返NBA，36歲的他當時在賭城試訓也吸引了接近NBA半數隊伍到場，其中包括湖人、公鹿與勇士等勁旅。\n",
      "\n",
      "不過前一次於NBA出賽已經得追溯至2年多以前，史陶德邁爾再戰聯盟心願短期恐怕難以實現，最新消息也表示他將前進中國CBA聯賽、加入福建隊，根據中國媒體透露，他年薪將超過100萬美元。\n",
      "\n",
      "史陶德邁爾在2016年離開NBA之後轉戰以色列職籃，他更在今年獲得了以色列公民身份，他過去曾宣稱自己有猶太人血統，且指出自己已經改信猶太教，甚至一度表達願意替以色列男籃出賽。\n",
      "\n",
      "---------------------------------------\n"
     ]
    },
    {
     "data": {
      "text/html": [
       "<h1>厄文初亮相狂砍50分 籃網延長賽不敵灰狼</h1>"
      ],
      "text/plain": [
       "<IPython.core.display.HTML object>"
      ]
     },
     "metadata": {},
     "output_type": "display_data"
    },
    {
     "data": {
      "text/html": [
       "<span style=\"color:blue\">2019-10-24 10:49</span>"
      ],
      "text/plain": [
       "<IPython.core.display.HTML object>"
      ]
     },
     "metadata": {},
     "output_type": "display_data"
    },
    {
     "name": "stdout",
     "output_type": "stream",
     "text": [
      "\n",
      "穿上籃網球衣的首戰，厄文（Kyrie Irving）面對灰狼就狂飆50分8籃板7助攻，然而他在延長賽最後一擊失手，最後籃網以126比127飲恨，也讓厄文這項紀錄顯得黯淡。\n",
      "\n",
      "厄文此戰33投17中，包括三分球14投7中，10罰9中，這是他生涯第3次單場得分超過50分，前兩次都出現在2014-15年賽季，分別是對馬刺的57分和對拓荒者的55分。\n",
      "\n",
      "\n",
      "此外，厄文除了寫下個人開幕戰得分紀錄，也刷新馬布瑞（Stephon Marbury）所保持的籃網隊史開幕戰39分得分紀錄。\n",
      "\n",
      "在沒有杜蘭特（Kevin Durant）的助陣下，籃網攻勢只能靠厄文一人支撐，上半場面對火力兇猛的灰狼，籃網處於13分落後局面；不過第三節籃網靠著厄文的帶動，殺出一波19比6的攻勢，反而在三節打完後超前比分。\n",
      "\n",
      "末節雙方呈現拉鋸戰，唐斯（Karl-Anthony Towns）和厄文最後互飆三分，也把比賽逼進延長賽。第四節最後一投沒中的維金斯（Andrew Wiggins），在延長賽中連續得分，幫助灰狼取得3分領先；厄文力挽狂瀾，先是兩罰命中，讀秒階段更掌握最後一擊機會，可惜他在突破過程中失去重心跌坐地上，即使趕緊起身出手，球依然偏出，無緣用絕殺球為籃網開胡。\n",
      "\n",
      "灰狼陣中6人得分超過兩位數，唐斯表現全面，22投11中拿下36分14籃板3助攻3抄截3阻攻，還砍進7記三分球；維金斯27投僅10中，進帳21分8籃板，柯文頓15分9籃板，提格14分4助攻3籃板。\n",
      "\n",
      "籃網除了厄文的50分之外，今夏完成續約的勒佛特（Caris LeVert）攻下20分5籃板4助攻3抄截，普林斯（Taurean Prince）15分11籃板2抄截，哈里斯（Joe Harris）和丁威迪（Spencer Dinwiddie）各拿下14分。\n",
      "\n",
      "\n",
      "---------------------------------------\n"
     ]
    },
    {
     "data": {
      "text/html": [
       "<h1>新賽季收入排行 詹姆斯賺28億元創現役新高</h1>"
      ],
      "text/plain": [
       "<IPython.core.display.HTML object>"
      ]
     },
     "metadata": {},
     "output_type": "display_data"
    },
    {
     "data": {
      "text/html": [
       "<span style=\"color:blue\">2019-10-24 10:30</span>"
      ],
      "text/plain": [
       "<IPython.core.display.HTML object>"
      ]
     },
     "metadata": {},
     "output_type": "display_data"
    },
    {
     "name": "stdout",
     "output_type": "stream",
     "text": [
      "美國媒體《富比士》今天（24號）公布NBA新賽季球員收入排行榜，洛杉磯湖人詹姆斯（LeBron James）不僅連續六年佔據第一名位置，本賽季他的收入預計將達到9240萬美元（約台幣28.3億元），創下現役球員單賽季收入新高。\n",
      "\n",
      "NBA近年來薪資上限不斷提高，讓球員的年薪也一路攀升，其中過去五年都在此榜上領先群雄的詹姆斯，雖然並非聯盟最高薪的球員，不過靠著驚人的代言與場外收入連續第六年登上榜首，本賽季他的年薪為3740萬美元。\n",
      "\n",
      "根據該網站資料顯示，詹姆斯生涯前16年的代言收入已經比他球員生涯總薪資2.7億美元超出兩倍，其中運動品牌NIKE成為他的最大場外收入來源，該公司日前還以詹姆斯為其最新研究室命名。\n",
      "\n",
      "此外，詹姆斯日前還與行李箱知名品牌Rimowa和連鎖量販店Walmart簽下代言合約，加上碳酸飲料、耳機、飲食與遊戲等代言，和旗下數位傳媒公司將與華納兄弟合作於2021年推出電影「怪物奇兵」續集，讓他在本賽季光是場外收入就高達5500萬美元。\n",
      "\n",
      "而排在詹姆斯之後的則為勇士主控柯瑞（Stephen Curry），本賽季預計收入為8520萬美元，其中場外收入為4500萬美元，而運動品牌UA的代言合約就佔據了他場外收入的近一半。\n",
      "\n",
      "至於第三名的籃網前鋒杜蘭特（Kevin Durant），則靠著擁有僅次於詹姆斯的NIKE代言合約，今年總收入為7320萬美元，場外收入為3500萬美元，而杜蘭特在大陸的個人球鞋銷量也超越了整個北美地區。\n",
      "\n",
      "---------------------------------------\n"
     ]
    },
    {
     "data": {
      "text/html": [
       "<h1>馬卡南35分17籃板無用 菜鳥破3分紀錄助黃蜂奪勝</h1>"
      ],
      "text/plain": [
       "<IPython.core.display.HTML object>"
      ]
     },
     "metadata": {},
     "output_type": "display_data"
    },
    {
     "data": {
      "text/html": [
       "<span style=\"color:blue\">2019-10-24 10:25</span>"
      ],
      "text/plain": [
       "<IPython.core.display.HTML object>"
      ]
     },
     "metadata": {},
     "output_type": "display_data"
    },
    {
     "name": "stdout",
     "output_type": "stream",
     "text": [
      "明星華克（Kemba Walker）離隊後，新賽季進入重建期的黃蜂今日（24號）旗開得勝，以126比125驚險守住勝利贏過公牛，其中前鋒華盛頓（PJ Washington）更一舉締造新人首戰的三分出手與命中紀錄。\n",
      "\n",
      "華盛頓單場三分線外投11中7，打破了過去由馬歇爾（Donyell Marshall）於1994年還有2016年的雷曼（Jake Layman）寫下紀錄，2人皆是單場命中5球，而華盛頓此役也砍下全隊最高27分，是隊上3位得分突破20大關的球員之一。\n",
      "\n",
      "黃蜂本場比賽外線火力兇猛，全隊以52%命中率轟進23記三分，反觀公牛則僅有3成命中率且只投進9球，不過黃蜂今天贏得並不輕鬆，上半場領先優勢到了第三節消耗殆盡，且一度第四節還讓公牛取得10分超前。\n",
      "\n",
      "所幸關鍵時刻，小將貝肯（Dwayne Bacon）挺身而出，加上公牛決勝關頭執行力欠佳，先是在時間所剩不多還落後3分下，還是選擇切入上籃拿2分，最後又抓不到人犯規凍結時間，讓黃蜂驚險守住這一勝。\n",
      "\n",
      "華盛頓之外，貝肯另挹注22分，替補後衛葛拉罕（Devonte' Graham）也有23分、8助攻進帳，彌補洛齊爾（Terry Rozier）低迷表現，此外貝頓（Nicolas Batum）手指受傷提前退場；公牛方面，馬卡南（Lauri Markkanen）拿到35分、17籃板。\n",
      "\n",
      "---------------------------------------\n"
     ]
    },
    {
     "data": {
      "text/html": [
       "<h1>佐蒙德狂砍32分23籃板 活塞客場勝溜馬</h1>"
      ],
      "text/plain": [
       "<IPython.core.display.HTML object>"
      ]
     },
     "metadata": {},
     "output_type": "display_data"
    },
    {
     "data": {
      "text/html": [
       "<span style=\"color:blue\">2019-10-24 10:23</span>"
      ],
      "text/plain": [
       "<IPython.core.display.HTML object>"
      ]
     },
     "metadata": {},
     "output_type": "display_data"
    },
    {
     "name": "stdout",
     "output_type": "stream",
     "text": [
      "\n",
      "儘管葛里芬（Blake Griffin）因膝傷被迫至少休兵2星期，不過佐蒙德（Andre Drummond）扛下重擔，在今天賽季首戰作客印第安納的比賽中，18投12中，10罰8中，狂轟32分23籃板3抄截4阻攻，帶領活塞以119比110力壓地主溜馬，贏得開季首勝。\n",
      "\n",
      "這是佐蒙德生涯第3次單場至少拿到30分20籃板，也是開幕戰個人最佳表現，在現役球員中僅次於卡珍斯（DeMarcus Cousins，10次）、哈沃德（Dwight Howard，8次）、勒夫（Kevin Love，7次）、戴維斯（Anthony Davis，5次）、唐斯（Karl-Anthony Towns，5次）、艾德里奇（LaMarcus Aldridge，4次）、藍道夫（Zach Randolph，4次）。此外，這也是佐蒙德生涯第70場至少抓下20個籃板，現役球員中只輸給哈沃德的82次。\n",
      "\n",
      "\n",
      "\n",
      "羅斯（Derrick Rose）轉戰活塞後第一戰也有出色表現，替補上場27分鐘，11投6中，獨拿18分9助攻2籃板；至於被羅斯稱為「年輕版考佛」的肯納德（Luke Kennard），這場比賽大發神威，三分球9投6中，砍進生涯新高30分。\n",
      "\n",
      "前三節還握有領先優勢的溜馬，第四節擋不住活塞的攻勢，特別是肯納德的三分火力，加上佐蒙德稱霸禁區，溜馬最後無力抵抗，無緣主場開胡。\n",
      "\n",
      "溜馬陣中3人得分超過20分，沙波尼斯（Domantas Sabonis）拿下27分13籃板，透納（Myles Turner）25分9籃板3阻攻2抄截，新加盟的波格登（Malcolm Brogdon）則有22分11助攻3籃板的表現。另外兩位新成員華倫（T.J. Warren）和蘭姆（Jeremy Lamb），各得到10分。\n",
      "\n",
      "\n",
      "---------------------------------------\n"
     ]
    },
    {
     "data": {
      "text/html": [
       "<h1>戰勝湖人賽後嗨過頭 貝佛利扔球吞2.5萬美元罰款</h1>"
      ],
      "text/plain": [
       "<IPython.core.display.HTML object>"
      ]
     },
     "metadata": {},
     "output_type": "display_data"
    },
    {
     "data": {
      "text/html": [
       "<span style=\"color:blue\">2019-10-24 09:48</span>"
      ],
      "text/plain": [
       "<IPython.core.display.HTML object>"
      ]
     },
     "metadata": {},
     "output_type": "display_data"
    },
    {
     "name": "stdout",
     "output_type": "stream",
     "text": [
      "NBA新賽季昨日（23號）由「洛城大戰」揭開序幕，2支都被看好是奪冠熱門的隊伍正面對決，最終是快艇以112比102擊敗湖人，贏家貝佛利（Patrick Beverley）賽後激動地將球扔向觀眾席，聯盟最終判定此舉違規需吃上罰款。\n",
      "\n",
      "聯盟官方宣佈，貝佛利必須支付25000美元罰款，而他本人也在推特喊冤，指出自己行為單純是出於善意，「現場球迷很棒，我只是試著把比賽用球送給他們，我對違規感到抱歉」。\n",
      "\n",
      "事實上，幸運拿到球的球迷也私訊貝佛利表關切，對方說：「我感覺很糟，我丈夫是拿到球的人，我不知道你會因此吃上罰款，我希望我有管道可以向聯盟反應，你行為其實讓快艇球迷有永生難忘一天」，貝佛利則大方表示要對方別太在意。\n",
      "It’s ok. I won’t change❗️❗️❗️ https://t.co/g3eGnrmj12 pic.twitter.com/3HI4D9zkoT— Patrick Beverley (@patbev21) 2019年10月24日\n",
      "\n",
      "\n",
      "---------------------------------------\n"
     ]
    },
    {
     "data": {
      "text/html": [
       "<h1>鹽湖城隔30年再辦明星賽 前次爵士雙老共獲MVP</h1>"
      ],
      "text/plain": [
       "<IPython.core.display.HTML object>"
      ]
     },
     "metadata": {},
     "output_type": "display_data"
    },
    {
     "data": {
      "text/html": [
       "<span style=\"color:blue\">2019-10-24 09:28</span>"
      ],
      "text/plain": [
       "<IPython.core.display.HTML object>"
      ]
     },
     "metadata": {},
     "output_type": "display_data"
    },
    {
     "name": "stdout",
     "output_type": "stream",
     "text": [
      "NBA官方今天（24號）宣布，2023年NBA全明星周將移師至猶他州的鹽湖城舉行，而這也是該城市自從1993年後，再一次取得全明星周主辦權，在該屆賽事中最終由地主猶他爵士雙老「郵差」馬龍（Karl Malone）與史塔克頓（John Stockton）共同拿下MVP。\n",
      "\n",
      "鹽湖城曾在1993年首度主辦全明星賽，當時東西區明星隊分別由尼克主帥萊里（Pat Riley）與太陽教頭韋斯特法爾（Paul Westphal）執掌兵符，儘管當年東區球星雲集，其中首度退休後重返NBA的喬丹（Michael Jordan）更拿下全場最高的30分，不過西區在馬龍28分領軍下，於延長賽以3分差距險勝東區，讓他與隊友史塔克頓一同榮獲該屆MVP，也是明星賽史上第二次出現共獲MVP的狀況。\n",
      "\n",
      "而今天聯盟主席席佛（Adam Silver）也宣布，鹽湖城將在相隔29年後，再度取得全明星周的主辦權，「鹽湖城有著優良的籃球傳統，過去這裡也曾辦過很多大型的世界級運動賽事，我要感謝米勒（Gail Miller）家族和爵士隊的用心經營，和為此設定了長遠的計劃。」\n",
      "\n",
      "爵士主場在今年季後進行了大翻修，成為他們最終獲得全明星周主辦權的主因，爵士老闆米勒說：「感謝聯盟對於我們會將2023年全明星賽打造成史上最好的比賽充滿信心，今年爵士主場進行了全新翻修，希望讓球迷有更棒的觀賽體驗。」\n",
      "\n",
      "---------------------------------------\n"
     ]
    },
    {
     "data": {
      "text/html": [
       "<h1>雷納德聯手板凳暴徒 快艇首戰衝破湖人</h1>"
      ],
      "text/plain": [
       "<IPython.core.display.HTML object>"
      ]
     },
     "metadata": {},
     "output_type": "display_data"
    },
    {
     "data": {
      "text/html": [
       "<span style=\"color:blue\">2019-10-23 13:29</span>"
      ],
      "text/plain": [
       "<IPython.core.display.HTML object>"
      ]
     },
     "metadata": {},
     "output_type": "display_data"
    },
    {
     "name": "stdout",
     "output_type": "stream",
     "text": [
      "\n",
      "眾所矚目的「洛城大戰」在今天點燃戰火，雷納德（Kawhi Leonard）全場攻下30分6籃板5助攻，快艇板凳部隊則是合力砍下60分。快艇在第二節逐漸掌握優勢，雖然第三節尾聲一波亂流讓湖人追平，但第四節穩住陣腳，又將分數拉開，最終以112比102擊敗湖人，取得開季首勝。\n",
      "\n",
      "這場比賽雙方都有主力球員面臨傷病麻煩，快艇傷了喬治（Paul George），湖人則是庫茲瑪（Kyle Kuzma）。一開賽湖人就展現猛烈攻勢，開局打了13比2的攻勢，在比賽中先聲奪人，首節取得領先優勢；不過快艇板凳部隊隨即發揮，加上雷納德精準中距離跳投，快艇第二節砍進40分，反而在上半場以62比54領先湖人。\n",
      "\n",
      "快艇的快節奏配合在下半場讓湖人難以應付，一度取得兩位數領先；不過接下來快艇外線命中率下滑，湖人在詹姆斯（LeBron James）場邊休息之際，反倒殺出一波15比3攻勢，三節結束雙方戰成平手。\n",
      "\n",
      "第四節之初，快艇找回手感，先是打了一波7比0的進攻，湖人不甘示弱連追兩球，快艇替補球員再度發威，又殺出一波11比2的攻勢，比分再度拉開。雷納德掌控節奏，哈瑞爾（Montrezl Harrell）也趁虛籃下建功，湖人反撲無力，只能目送快艇揚長而去。\n",
      "\n",
      "上季決賽MVP雷納德重返故鄉，此役上場32分鐘，雖然出現6次失誤還吞下5犯，但全場19投10中，還是砍下30分6籃板5助攻2抄截。\n",
      "\n",
      "以威廉斯（Lou Williams）為首的快艇板凳暴徒依舊強悍，威廉斯14投8中，拿下21分7助攻5籃板，哈瑞爾11投7中，得到17分7籃板4助攻，哈克雷斯（Moe Harkless）10分4籃板4抄截2阻攻，格林（JaMychal Green）12分6籃板。\n",
      "\n",
      "戴維斯披上湖人戰袍的首場正式比賽，21投8中，包括14罰9中，獨拿25分10籃板5助攻2阻攻1抄截；詹姆斯19投7中，得到18分9籃板8助攻。\n",
      "\n",
      "格林可說是湖人可以咬住比分的關鍵，全場14投10中，三分球9投7中，攻下全隊最高28分，外加7籃板2抄截，其中第三節獨拿18分。湖人陣中除了這3人之外，無人得分超過雙位數。\n",
      "\n",
      "---------------------------------------\n"
     ]
    },
    {
     "data": {
      "text/html": [
       "<h1>稱柯瑞更勝衛少 杜蘭特：哈登沒去火箭無法成MVP</h1>"
      ],
      "text/plain": [
       "<IPython.core.display.HTML object>"
      ]
     },
     "metadata": {},
     "output_type": "display_data"
    },
    {
     "data": {
      "text/html": [
       "<span style=\"color:blue\">2019-10-22 12:51</span>"
      ],
      "text/plain": [
       "<IPython.core.display.HTML object>"
      ]
     },
     "metadata": {},
     "output_type": "display_data"
    },
    {
     "name": "stdout",
     "output_type": "stream",
     "text": [
      "儘管在即將開打的新賽季中可能因傷全面缺陣，但今夏轉披布魯克林籃網戰袍的明星前鋒杜蘭特（Kevin Durant）製造話題的功力依舊，他在近日與前奧克拉荷馬雷霆隊友伊巴卡（Serge Ibaka）一同錄製網路節目時，被問到兩名合作過的後衛柯瑞（Stephen Curry）與衛斯特布魯克（Russell Westbrook）誰更好時，杜蘭特卻毫不猶疑地選擇了前者。\n",
      "\n",
      "杜蘭特在今年夏天透過先簽後換的方式轉戰籃網，儘管受到傷勢影響本賽季可能無法如願披上籃網戰袍登場，不過近日他在與前隊友伊巴卡錄製網路節目「How Hungry Are You?」時，再度靠著犀利回答搶佔媒體版面。\n",
      "\n",
      "其中在上賽季代表暴龍出賽的伊巴卡，先是問到了杜蘭特是否認為，假使自己沒有發生受傷狀況，勇士最終能否擊敗暴龍時，杜蘭特則是回答毫無疑問：「因為如果我在上場的話，你們是不可能在家擊敗我們的。」\n",
      "\n",
      "對於過去與哈登和衛斯特布魯克一起被稱作雷霆四少，杜蘭特與伊巴卡也談論到了兩名也都已經不在雷霆的前隊友們，兩人皆認為如果當年哈登未離開雷霆轉戰火箭，將無法達成拿下年度MVP的成就，而雷霆四少也有機會在相當年輕的情況下就挺進總冠軍賽。\n",
      "\n",
      "不過當伊巴卡問到，杜蘭特的兩位前搭擋柯瑞與衛斯特布魯克誰更好時，杜蘭特卻毫不猶豫地選擇了柯瑞，並認為兩者的差別就在於外線投射能力上，不過有趣的是，杜蘭特在轉戰籃網後將與另外一位聯盟頂尖控球後衛厄文（Kyrie Irving）攜手奮戰，屆時他又會如何評比這三名生涯合作過的頂尖後衛，也讓人相當好奇。\n",
      "\n",
      "---------------------------------------\n"
     ]
    },
    {
     "data": {
      "text/html": [
       "<h1>全員發揮狂轟141分 快艇快意客場踢館大勝勇士</h1>"
      ],
      "text/plain": [
       "<IPython.core.display.HTML object>"
      ]
     },
     "metadata": {},
     "output_type": "display_data"
    },
    {
     "data": {
      "text/html": [
       "<span style=\"color:blue\">2019-10-25 13:18</span>"
      ],
      "text/plain": [
       "<IPython.core.display.HTML object>"
      ]
     },
     "metadata": {},
     "output_type": "display_data"
    },
    {
     "name": "stdout",
     "output_type": "stream",
     "text": [
      "新賽季首戰就在「洛城內戰」中拔得頭籌，快艇今日（25號）又大勝勇士，終場141以122比再下一城，全隊整體命中率高達62.5%，三分線外也有54.5%高水準發揮，讓對手新主場初亮相就踢到鐵板。\n",
      "\n",
      "快艇一開賽就展現力壓對手的如虹氣勢，前3分多鐘打出14比0攻勢，且勇士防守中樞格林（Draymond Green）更因掩護時弄傷手肘，一度退場接受治療，所幸球隊靠羅素（D'Angelo Russell）、柯瑞（Stephen Curry）接力飆分及時止血。\n",
      "\n",
      "打完上半場之後，快艇暫握有11分領先，只是到了第三節攻勢如同水壩潰堤傾瀉而出，單節狠狠灌下46分讓勇士毫無招架之力，沙米特（Landry Shamet）與派特森（Patrick Patterson）各砍進3記三分球，比賽勝負自此底定。\n",
      "\n",
      "快艇此役讓一度落後多達31分的勇士全場未曾有任何翻轉機會，其中得分最高者為攻下22分的超級替補威廉斯（Lou Williams），雷納德（Kawhi Leonard）則有21分、9助攻進帳。\n",
      "\n",
      "此外，快艇2位先發長人表現也不俗，派特森得到20分，包括6記三分球，而祖巴茲（Ivica Zubac）繳出16分、10籃板雙十成績。勇士方面，柯瑞拿到23分，但個人出現8失誤且三分僅11投2中，羅素另挹注20分、8助攻。\n",
      "\n",
      "---------------------------------------\n"
     ]
    },
    {
     "data": {
      "text/html": [
       "<h1>頂著噓聲飆30分 雷納德：很高興拿下勝利</h1>"
      ],
      "text/plain": [
       "<IPython.core.display.HTML object>"
      ]
     },
     "metadata": {},
     "output_type": "display_data"
    },
    {
     "data": {
      "text/html": [
       "<span style=\"color:blue\">2019-10-23 16:39</span>"
      ],
      "text/plain": [
       "<IPython.core.display.HTML object>"
      ]
     },
     "metadata": {},
     "output_type": "display_data"
    },
    {
     "name": "stdout",
     "output_type": "stream",
     "text": [
      "\n",
      "「這將是一個偉大的賽季，我們每場比賽都會全力以赴，讓我們開始吧。」\n",
      "\n",
      "回到家鄉洛城、加盟快艇的首戰，雷納德（Kawhi Leonard）接受來自湖人球迷的噓聲伺候，不過他很快就展現精準的中距離跳投，全場19投10中，攻下30分6籃板5助攻2抄截1阻攻，其中他在第二節獨拿16分，是球隊能夠扭轉落後局面的關鍵。最終快艇就以10分之差擊退同城的湖人。\n",
      "\n",
      "「我很高興我們上場比賽然後拿下勝利。我們先前的訓練做得很棒，我們今晚延續了這樣的狀態。」雷納德說。雷納德此戰雖然出現6次失誤，還吞下5次犯規，但瑕不掩瑜。\n",
      "\n",
      "「他為我們創造機會，他就是這麼做的。」快艇總教練瑞佛斯（Doc Rivers）說。\n",
      "\n",
      "除了雷納德的高效率穩定表現外，快艇板凳暴徒再度有出色發揮，威廉斯（Lou Williams）攻下21分7助攻5籃板，哈瑞爾（Montrezl Harrell）得到17分7籃板4助攻，快艇替補合力砍下60分，足足比湖人替補球員多了41分，成了比賽勝負的關鍵之一。\n",
      "\n",
      "談到雷納德和威廉斯的搭配情況，瑞佛斯表示：「我認為他們現在彼此之間僅相互熟悉10%到15%。他們錯過很多機會，隨著時間的推移，他們會變得越來越危險。」\n",
      "\n",
      "\n",
      "---------------------------------------\n"
     ]
    },
    {
     "data": {
      "text/html": [
       "<h1>失分創柯爾時代新高 柯瑞：檢討時場面肯定難堪</h1>"
      ],
      "text/plain": [
       "<IPython.core.display.HTML object>"
      ]
     },
     "metadata": {},
     "output_type": "display_data"
    },
    {
     "data": {
      "text/html": [
       "<span style=\"color:blue\">2019-10-25 15:12</span>"
      ],
      "text/plain": [
       "<IPython.core.display.HTML object>"
      ]
     },
     "metadata": {},
     "output_type": "display_data"
    },
    {
     "name": "stdout",
     "output_type": "stream",
     "text": [
      "今日（25號）讓快艇單場繳出62.5%整體命中率還有54.5%三分命中率，勇士不但吞下敗仗且痛失141分也寫下柯爾（Steve Kerr）執教時代最高紀錄。\n",
      "\n",
      "柯爾2014年執教勇士開始，球隊算上例行賽還有季後賽的對手單場最高得分140分，是由鵜鶘在今年1月16號所攻下，不過勇士當時憑藉傲人火力硬是拿到147分，依然摘下勝利，但對快艇就無法複製過往經驗。\n",
      "\n",
      "格林（Draymond Green）賽後難掩失望表示：「我們這場比賽表現實在糟糕透頂了，防守更是災難一場。」當被記者問到防守哪點出了問題，他更回應：「每個地方。」柯瑞（Stephen Curry）也坦承：「明天看影片檢討場面肯定很難堪。」\n",
      "\n",
      "至於柯爾自己則是指出：「這就是NBA，過去5年我們就像存在另個世界一樣，現在終於回到現實了。」他甚至補充：「這不會只是個案而已，今年我們很可能也會再面臨同樣狀況。」言下之意似乎預言防守問題將困擾球隊整季。\n",
      "\n",
      "---------------------------------------\n"
     ]
    },
    {
     "data": {
      "text/html": [
       "<h1>答謝死忠快艇迷 貝佛利推主場門票10元</h1>"
      ],
      "text/plain": [
       "<IPython.core.display.HTML object>"
      ]
     },
     "metadata": {},
     "output_type": "display_data"
    },
    {
     "data": {
      "text/html": [
       "<span style=\"color:blue\">2019-10-24 09:10</span>"
      ],
      "text/plain": [
       "<IPython.core.display.HTML object>"
      ]
     },
     "metadata": {},
     "output_type": "display_data"
    },
    {
     "name": "stdout",
     "output_type": "stream",
     "text": [
      "看洛杉磯快艇隊比賽門票只要十元？快艇隊控衛貝佛利（Patrick Beverley）認為有何不可？為報答死忠粉絲，貝佛利想出這個點子，推動新球季41場主場季賽，每場提供50張至200張十元門票。粉絲必須身穿紅藍色衣服，在售票口透過Instagram搶票。\n",
      "\n",
      "這項活動受到快艇贊助商「蜜糖科學公司（Honey Science Corporation）」鼎力支持，因此被取名「蜜糖撿便宜」（Honey's Steal of a Deal）。蜜糖是一家電子折扣券公司，9月簽約成為快艇隊長期贊助商。快艇隊剛翻新的集訓中心改名蜜糖集訓中心（Honey Training Center），快艇隊員練球戰袍左上角也出現蜜糖商標。\n",
      "\n",
      "快艇隊新球季開幕戰22日在史戴普中心（Staples Center）迎戰洛杉磯湖人隊，門票從150元起跳。但幸運買到十元票的粉絲不但撿到大便宜，還獲贈一件「94呎先生」（Mr. 94 Feet）運動衫。貝佛利因為防守拚勁十足，球場寸步不讓，因此受封94呎先生。\n",
      "\n",
      "快艇隊從前因戰績慘淡，門票一向便宜。如今有雷納德（Kawhi Leonard）與喬治（Paul George）加盟，票價應聲而漲，死忠粉絲可能買不起。貝佛利說，自己在芝加哥清寒家庭長大，根本買不起門票，經常與朋友混進聯合中心（United Center）偷看公牛隊比賽，但每次都被逮到趕出去。如今他能給粉絲十元門票，心中爽透了。\n",
      "\n",
      "「蜜糖撿便宜」的程序是：每場主場季賽開打前一個半小時，史泰博中心16號與17號售票窗口開始發售十元門票。粉絲必須身穿代表快艇隊顏色的紅藍色衣服，並在Instagram成為蜜糖公司（@Honey）粉絲。每人限購兩張，電子票當場送入手機。\n",
      "\n",
      "貝佛利說，這一切都是為答謝粉絲厚愛。貝佛利積極參與社區活動，招待貧民吃感恩節大餐，到醫院探望病人。他說，自己心頭經常浮現這些販夫走卒身影。貝佛利說，快艇隊一向是一支藍領階級球隊，所以更應該照顧對快艇隊不離不棄的藍領階級粉絲。這些「坐在後排的人」（the people in the back）所得不豐，但辛苦工作應該有所回報，快艇隊現在就要回報他們。\n",
      "\n",
      "---------------------------------------\n"
     ]
    },
    {
     "data": {
      "text/html": [
       "<h1>登開季分析雜誌封面 快艇新城市版戰袍亮相</h1>"
      ],
      "text/plain": [
       "<IPython.core.display.HTML object>"
      ]
     },
     "metadata": {},
     "output_type": "display_data"
    },
    {
     "data": {
      "text/html": [
       "<span style=\"color:blue\">2019-10-24 09:02</span>"
      ],
      "text/plain": [
       "<IPython.core.display.HTML object>"
      ]
     },
     "metadata": {},
     "output_type": "display_data"
    },
    {
     "name": "stdout",
     "output_type": "stream",
     "text": [
      "NBA新球季開幕戰開打一周前，《運動畫刊（Sports Illustrated）》推出2019-2020球季開季分析。封面赫然是公認下屆總冠軍呼聲最高的洛杉磯快艇隊6位隊員，全都身穿最新設計城市版（City Edition）戰袍，斗大標題是「再造新局（Welcome to the Reinvention）」。\n",
      "\n",
      "6位隊員由雷納德（Kawhi Leonard）首當其衝，手握籃球伸向鏡頭。雷納德背後兩人是喬治（Paul George）與哈瑞爾（Montrezl Harrell），最後排是貝佛利（Patrick Beverley）、沙米特（Landry Shamet）、威廉斯（Lou Williams）。\n",
      "\n",
      "這款由Nike設計的全新城市版戰袍採黑白色調，胸前斗大的「洛杉磯」採用古典字體，有點像洛杉磯時報報頭。仔細看，會發現靠右肩邊線是紅色，靠左肩邊線是藍色，符合代表快艇隊的顏色。據耐吉表示，新版設計旨在反映洛杉磯街頭文化與美國西岸嘻哈精神。\n",
      "\n",
      "這款新戰袍將在11月22日休士頓火箭隊來史戴普中心（Staples Center）踢館時首次亮相。之後將在另外16場季賽穿上，包括耶誕節與洛杉磯湖人隊之戰。\n",
      "\n",
      "《運動畫刊》這個封面曝光後，有粉絲搞笑回應說，這個城市版戰袍式樣很像電玩「俠盜獵車手」（Grand Theft Auto）。另一粉絲批評新設計太單調，只是白底加黑邊，然後加上古典字體洛杉磯大字，以為可混過去，只有靠肩邊線最亮眼。新款城市版戰袍將從11月27日起，在快艇隊網路與實體店發售。\n",
      "The Clippers are now squarely in the title conversation. But what was once the NBA’s most moribund franchise has its sights set even higher: https://t.co/tG0w8A1xJv pic.twitter.com/cUc9Rp7umF— Sports Illustrated (@SInow) 2019年10月16日\n",
      "\n",
      "\n",
      "---------------------------------------\n"
     ]
    },
    {
     "data": {
      "text/html": [
       "<h1>喬丹談組夢幻隊 4人搭檔陣容不變</h1>"
      ],
      "text/plain": [
       "<IPython.core.display.HTML object>"
      ]
     },
     "metadata": {},
     "output_type": "display_data"
    },
    {
     "data": {
      "text/html": [
       "<span style=\"color:blue\">2019-10-24 08:48</span>"
      ],
      "text/plain": [
       "<IPython.core.display.HTML object>"
      ]
     },
     "metadata": {},
     "output_type": "display_data"
    },
    {
     "name": "stdout",
     "output_type": "stream",
     "text": [
      "率隊拿過6次NBA總冠軍、當選過6次總冠軍賽MVP的「籃球之神」喬丹（Michael Jordan），6年前曾提出心目中的夢幻隊友，最近再被問到，答案依然不變。\n",
      "\n",
      "喬丹說，如果要組隊爭霸的話，他的夢幻隊友包括「天下第二人」，公牛前鋒皮本（Scottie Pippen）和1980年代洛杉磯湖人王朝的前鋒「黑旋風」渥錫（James Worthy），禁區交由火箭傳奇中鋒「非洲天王」歐拉朱萬（Hakeem Olajuwon）鎮守，後場則由喬丹本人和80年代湖人王朝的超級控衛魔術強森（Magic Johnson）負責。\n",
      "\n",
      "喬丹解釋，他和自己列舉的4位球星都打過球，深知對方的球技以及鬥志都是無人能及，所以是他組隊的首選。\n",
      "\n",
      "---------------------------------------\n"
     ]
    },
    {
     "data": {
      "text/html": [
       "<h1>洛城大戰被快艇開「湖」詹皇： 有很大進步空間</h1>"
      ],
      "text/plain": [
       "<IPython.core.display.HTML object>"
      ]
     },
     "metadata": {},
     "output_type": "display_data"
    },
    {
     "data": {
      "text/html": [
       "<span style=\"color:blue\">2019-10-24 08:36</span>"
      ],
      "text/plain": [
       "<IPython.core.display.HTML object>"
      ]
     },
     "metadata": {},
     "output_type": "display_data"
    },
    {
     "name": "stdout",
     "output_type": "stream",
     "text": [
      "備受矚目的ＮＢＡ開幕戰「洛城大戰」，快艇球星雷納德（Kawhi Leonard）昨日（23號）獨轟卅分、六籃板、五助攻，讓湖人「雙星」詹姆斯（LeBron James）、戴維斯（Anthony Davis）相形失色，終場快艇以一一二比一○二力克湖人，新球季搶首勝好采頭。\n",
      "\n",
      "喬治（Paul George）尚未歸隊，雷納德此役扛起得分重任，次節手感火燙連進七球，獨拿十六分，率隊打出四十比廿九攻勢，擴大領先差距，成為比賽關鍵，他說：「這感覺太棒了。前一晚得知親友都會到場，感覺五味雜陳，但能再回到史戴普中心（Staples Center），也是我的家鄉，感覺很不可思議。」\n",
      "\n",
      "湖人易籃後一度扳平戰局，但雷納德、快艇板凳群哈瑞爾（Montrezl Harrell）等人，第四節聯手殺出，再回敬十一比二攻勢，揚長而去。雷納德說：「這只是開季首戰，我們會藉由一整季的成敗經驗，精煉出一條心。」\n",
      "\n",
      "湖人庫茲瑪（Kyle Kuzma）缺陣，格林（Danny Green）攻下全隊最佳廿八分，首披紫金戰袍的戴維斯貢獻廿五分、十籃板、五助攻，詹姆斯十八分、九籃板、八助攻。湖人隊第四節發生六次失誤，詹姆斯出現三次，他說：「我想兩隊都還沒達最高水準，都有很大的進步空間。」\n",
      "\n",
      "---------------------------------------\n"
     ]
    },
    {
     "data": {
      "text/html": [
       "<h1>力挺捍衛言論自由 歐尼爾：莫雷是對的</h1>"
      ],
      "text/plain": [
       "<IPython.core.display.HTML object>"
      ]
     },
     "metadata": {},
     "output_type": "display_data"
    },
    {
     "data": {
      "text/html": [
       "<span style=\"color:blue\">2019-10-23 17:27</span>"
      ],
      "text/plain": [
       "<IPython.core.display.HTML object>"
      ]
     },
     "metadata": {},
     "output_type": "display_data"
    },
    {
     "name": "stdout",
     "output_type": "stream",
     "text": [
      "\n",
      "莫雷（Daryl Morey）挺港推特風波延燒至今，相關人士都陸續表達觀點和看法，同時也引發不少討論。而在今天2019-20年賽季開幕戰，擔任TNT球評的名人堂傳奇球星歐尼爾（Shaquille O'Neal）在受訪時也表態支持言論自由。\n",
      "\n",
      "「作為美國人，我們與中國有很多商業往來。他們知道且理解我們的價值觀，我們也理解他們的。而言論自由是美國最重要的價值之一，我們可以說任何想說的，可以就社會不公不義的議題發聲，這就是事件發展的原因。」歐尼爾說。\n",
      "\n",
      "「如果有人不理解這一點，那就是他們自己要去處理的事情。」\n",
      "\n",
      "莫雷是在這個月初於推特上寫道「為自由而戰，與香港同在（Fight for Freedom, Stand with Hong Kong）」，進而引發中國網友和企業等大規模抗議與抵制。NBA主席席佛（Adam Silver）面對此風暴則是一再重申捍衛言論自由的立場。近日隨著中國媒體開始直播NBA賽事，風波也逐漸消退。\n",
      "\n",
      "「莫雷是對的，」歐尼爾補充說道，「任何時候你看到全世界任何地方正在發生一些不對的事情，你有權利站出來說『那是不對的』，這正是他所做的事。」\n",
      "\n",
      "歐尼爾也坦言，當有些事情和商業生意往來中有所牴觸時，很可能得要懂得「規避」，「但我們確實有權利發聲，尤其在社群媒體上，我們可以在任何時候說出我們想說的話。」\n",
      "\n",
      "「中國不能告訴我們應該怎麼做，同時我們也不能告訴他們該做什麼。這是底線。」歐尼爾說。\n",
      "\n",
      "\n",
      "---------------------------------------\n"
     ]
    },
    {
     "data": {
      "text/html": [
       "<h1>頂著噓聲飆30分 雷納德：很高興拿下勝利</h1>"
      ],
      "text/plain": [
       "<IPython.core.display.HTML object>"
      ]
     },
     "metadata": {},
     "output_type": "display_data"
    },
    {
     "data": {
      "text/html": [
       "<span style=\"color:blue\">2019-10-23 16:39</span>"
      ],
      "text/plain": [
       "<IPython.core.display.HTML object>"
      ]
     },
     "metadata": {},
     "output_type": "display_data"
    },
    {
     "name": "stdout",
     "output_type": "stream",
     "text": [
      "\n",
      "「這將是一個偉大的賽季，我們每場比賽都會全力以赴，讓我們開始吧。」\n",
      "\n",
      "回到家鄉洛城、加盟快艇的首戰，雷納德（Kawhi Leonard）接受來自湖人球迷的噓聲伺候，不過他很快就展現精準的中距離跳投，全場19投10中，攻下30分6籃板5助攻2抄截1阻攻，其中他在第二節獨拿16分，是球隊能夠扭轉落後局面的關鍵。最終快艇就以10分之差擊退同城的湖人。\n",
      "\n",
      "「我很高興我們上場比賽然後拿下勝利。我們先前的訓練做得很棒，我們今晚延續了這樣的狀態。」雷納德說。雷納德此戰雖然出現6次失誤，還吞下5次犯規，但瑕不掩瑜。\n",
      "\n",
      "「他為我們創造機會，他就是這麼做的。」快艇總教練瑞佛斯（Doc Rivers）說。\n",
      "\n",
      "除了雷納德的高效率穩定表現外，快艇板凳暴徒再度有出色發揮，威廉斯（Lou Williams）攻下21分7助攻5籃板，哈瑞爾（Montrezl Harrell）得到17分7籃板4助攻，快艇替補合力砍下60分，足足比湖人替補球員多了41分，成了比賽勝負的關鍵之一。\n",
      "\n",
      "談到雷納德和威廉斯的搭配情況，瑞佛斯表示：「我認為他們現在彼此之間僅相互熟悉10%到15%。他們錯過很多機會，隨著時間的推移，他們會變得越來越危險。」\n",
      "\n",
      "\n",
      "---------------------------------------\n"
     ]
    },
    {
     "data": {
      "text/html": [
       "<h1>席亞康數據大爆發 卡特後隊史第一人</h1>"
      ],
      "text/plain": [
       "<IPython.core.display.HTML object>"
      ]
     },
     "metadata": {},
     "output_type": "display_data"
    },
    {
     "data": {
      "text/html": [
       "<span style=\"color:blue\">2019-10-23 15:24</span>"
      ],
      "text/plain": [
       "<IPython.core.display.HTML object>"
      ]
     },
     "metadata": {},
     "output_type": "display_data"
    },
    {
     "name": "stdout",
     "output_type": "stream",
     "text": [
      "\n",
      "開季前才與球隊達成四年1億3000萬美元頂薪續約的席亞康（Pascal Siakam），在領完冠軍戒指後就展現出球隊新一哥的氣勢，全場繳出34分18籃板5助攻的全能數據，搭配范弗利特（Fred VanVleet）同樣拿下34分7助攻，暴龍歷經延長賽後，以8分之差力壓沒有狀元郎助陣的鵜鶘。\n",
      "\n",
      "根據統計，席亞康成為卡特（Vince Carter）之後，暴龍隊史第二位在球隊開幕戰至少拿下30分15籃板5助攻的球員，而他與范弗利特也成為首對在衛冕軍的新賽季開幕戰至少都拿下30分的雙人組合。\n",
      "\n",
      "暴龍苦戰之後贏得開季首勝，羅瑞（Kyle Lowry）接受採訪也談到對於雷納德（Kawhi Leonard）離去後的想法。「Kawhi是聯盟頂級球星，他的離開不是一兩個球員就能填補。但我們作為一支球隊，我們會持續成長並且變得更好，所有人都會努力去彌補他的空缺。」\n",
      "\n",
      "---------------------------------------\n"
     ]
    },
    {
     "data": {
      "text/html": [
       "<h1>開幕戰飆生涯新高 范弗利特：戒指太重手有點痛</h1>"
      ],
      "text/plain": [
       "<IPython.core.display.HTML object>"
      ]
     },
     "metadata": {},
     "output_type": "display_data"
    },
    {
     "data": {
      "text/html": [
       "<span style=\"color:blue\">2019-10-23 14:53</span>"
      ],
      "text/plain": [
       "<IPython.core.display.HTML object>"
      ]
     },
     "metadata": {},
     "output_type": "display_data"
    },
    {
     "name": "stdout",
     "output_type": "stream",
     "text": [
      "\n",
      "多倫多暴龍今天在新賽季首戰，靠著球隊新一哥席亞康（Pascal Siakam）與後衛范弗利特（Fred VanVleet）合飆68分的表現，於延長賽險勝來訪的紐奧良鵜鶘，對於在獲得總冠軍戒指後的首場比賽就砍下個人生涯新高的34分，范弗利特表示，其實他的手還有點痛，因為戒指真的太重了。\n",
      "\n",
      "暴龍在今天與鵜鶘之戰前接受冠軍表揚儀式，包括羅瑞（Kyle Lowry）、席亞康和范弗利特等上季主力球員都收到了鑽石總重14克拉的冠軍戒指，儘管冠軍戒指的份量讓范弗利特直呼吃不消，但本場比賽他卻是火力全開，出賽44分鐘投進5顆三分球，拿下個人生涯新高的34分外帶7助攻。\n",
      "\n",
      "對於開季首場比賽就幫助球隊取勝，范弗利特賽後直言，還需要做更多訓練來帶起這枚極具份量的戒指，「我的手其實有點痛，因為它有點重，我認為必須要多訓練力量後，才有辦法輕鬆的帶著它出門。這是一枚多麽不可思議的戒指、多麽美妙的開季。」\n",
      "\n",
      "\n",
      "---------------------------------------\n"
     ]
    },
    {
     "data": {
      "text/html": [
       "<h1>雷納德聯手板凳暴徒 快艇首戰衝破湖人</h1>"
      ],
      "text/plain": [
       "<IPython.core.display.HTML object>"
      ]
     },
     "metadata": {},
     "output_type": "display_data"
    },
    {
     "data": {
      "text/html": [
       "<span style=\"color:blue\">2019-10-23 13:29</span>"
      ],
      "text/plain": [
       "<IPython.core.display.HTML object>"
      ]
     },
     "metadata": {},
     "output_type": "display_data"
    },
    {
     "name": "stdout",
     "output_type": "stream",
     "text": [
      "\n",
      "眾所矚目的「洛城大戰」在今天點燃戰火，雷納德（Kawhi Leonard）全場攻下30分6籃板5助攻，快艇板凳部隊則是合力砍下60分。快艇在第二節逐漸掌握優勢，雖然第三節尾聲一波亂流讓湖人追平，但第四節穩住陣腳，又將分數拉開，最終以112比102擊敗湖人，取得開季首勝。\n",
      "\n",
      "這場比賽雙方都有主力球員面臨傷病麻煩，快艇傷了喬治（Paul George），湖人則是庫茲瑪（Kyle Kuzma）。一開賽湖人就展現猛烈攻勢，開局打了13比2的攻勢，在比賽中先聲奪人，首節取得領先優勢；不過快艇板凳部隊隨即發揮，加上雷納德精準中距離跳投，快艇第二節砍進40分，反而在上半場以62比54領先湖人。\n",
      "\n",
      "快艇的快節奏配合在下半場讓湖人難以應付，一度取得兩位數領先；不過接下來快艇外線命中率下滑，湖人在詹姆斯（LeBron James）場邊休息之際，反倒殺出一波15比3攻勢，三節結束雙方戰成平手。\n",
      "\n",
      "第四節之初，快艇找回手感，先是打了一波7比0的進攻，湖人不甘示弱連追兩球，快艇替補球員再度發威，又殺出一波11比2的攻勢，比分再度拉開。雷納德掌控節奏，哈瑞爾（Montrezl Harrell）也趁虛籃下建功，湖人反撲無力，只能目送快艇揚長而去。\n",
      "\n",
      "上季決賽MVP雷納德重返故鄉，此役上場32分鐘，雖然出現6次失誤還吞下5犯，但全場19投10中，還是砍下30分6籃板5助攻2抄截。\n",
      "\n",
      "以威廉斯（Lou Williams）為首的快艇板凳暴徒依舊強悍，威廉斯14投8中，拿下21分7助攻5籃板，哈瑞爾11投7中，得到17分7籃板4助攻，哈克雷斯（Moe Harkless）10分4籃板4抄截2阻攻，格林（JaMychal Green）12分6籃板。\n",
      "\n",
      "戴維斯披上湖人戰袍的首場正式比賽，21投8中，包括14罰9中，獨拿25分10籃板5助攻2阻攻1抄截；詹姆斯19投7中，得到18分9籃板8助攻。\n",
      "\n",
      "格林可說是湖人可以咬住比分的關鍵，全場14投10中，三分球9投7中，攻下全隊最高28分，外加7籃板2抄截，其中第三節獨拿18分。湖人陣中除了這3人之外，無人得分超過雙位數。\n",
      "\n",
      "---------------------------------------\n"
     ]
    },
    {
     "data": {
      "text/html": [
       "<h1>NBA「挑戰」新制 暴龍正式比賽首度使用</h1>"
      ],
      "text/plain": [
       "<IPython.core.display.HTML object>"
      ]
     },
     "metadata": {},
     "output_type": "display_data"
    },
    {
     "data": {
      "text/html": [
       "<span style=\"color:blue\">2019-10-23 11:58</span>"
      ],
      "text/plain": [
       "<IPython.core.display.HTML object>"
      ]
     },
     "metadata": {},
     "output_type": "display_data"
    },
    {
     "name": "stdout",
     "output_type": "stream",
     "text": [
      "\n",
      "NBA新賽季推行「挑戰」新制度，每場比賽中雙方教練都各有1次挑戰判決的機會，而在今天開幕戰中，暴龍就搶先使用這項新制度。\n",
      "\n",
      "情況是出現在首節還剩下2分44秒，當時鮑威爾（Norman Powell）突破禁區，球放進卻被吹進攻犯規，暴龍隨即提出挑戰，不過裁判重看影片後，仍舊維持原判，暴龍挑戰失敗，也喪失一次暫停機會。\n",
      "\n",
      "\n",
      "\n",
      "按照「挑戰」制度規定，各隊總教練每場比賽都只有一次機會可以挑戰有關犯規、妨礙中籃、以及出界球，使用挑戰權必須在暫停的情況下提出，若挑戰成功，這個暫停將不會被計入，但挑戰失敗的話，則會減去一次暫停的機會。\n",
      "\n",
      "\n",
      "\n",
      "---------------------------------------\n"
     ]
    },
    {
     "data": {
      "text/html": [
       "<h1>雷納德聯手板凳暴徒 快艇首戰衝破湖人</h1>"
      ],
      "text/plain": [
       "<IPython.core.display.HTML object>"
      ]
     },
     "metadata": {},
     "output_type": "display_data"
    },
    {
     "data": {
      "text/html": [
       "<span style=\"color:blue\">2019-10-23 13:29</span>"
      ],
      "text/plain": [
       "<IPython.core.display.HTML object>"
      ]
     },
     "metadata": {},
     "output_type": "display_data"
    },
    {
     "name": "stdout",
     "output_type": "stream",
     "text": [
      "\n",
      "眾所矚目的「洛城大戰」在今天點燃戰火，雷納德（Kawhi Leonard）全場攻下30分6籃板5助攻，快艇板凳部隊則是合力砍下60分。快艇在第二節逐漸掌握優勢，雖然第三節尾聲一波亂流讓湖人追平，但第四節穩住陣腳，又將分數拉開，最終以112比102擊敗湖人，取得開季首勝。\n",
      "\n",
      "這場比賽雙方都有主力球員面臨傷病麻煩，快艇傷了喬治（Paul George），湖人則是庫茲瑪（Kyle Kuzma）。一開賽湖人就展現猛烈攻勢，開局打了13比2的攻勢，在比賽中先聲奪人，首節取得領先優勢；不過快艇板凳部隊隨即發揮，加上雷納德精準中距離跳投，快艇第二節砍進40分，反而在上半場以62比54領先湖人。\n",
      "\n",
      "快艇的快節奏配合在下半場讓湖人難以應付，一度取得兩位數領先；不過接下來快艇外線命中率下滑，湖人在詹姆斯（LeBron James）場邊休息之際，反倒殺出一波15比3攻勢，三節結束雙方戰成平手。\n",
      "\n",
      "第四節之初，快艇找回手感，先是打了一波7比0的進攻，湖人不甘示弱連追兩球，快艇替補球員再度發威，又殺出一波11比2的攻勢，比分再度拉開。雷納德掌控節奏，哈瑞爾（Montrezl Harrell）也趁虛籃下建功，湖人反撲無力，只能目送快艇揚長而去。\n",
      "\n",
      "上季決賽MVP雷納德重返故鄉，此役上場32分鐘，雖然出現6次失誤還吞下5犯，但全場19投10中，還是砍下30分6籃板5助攻2抄截。\n",
      "\n",
      "以威廉斯（Lou Williams）為首的快艇板凳暴徒依舊強悍，威廉斯14投8中，拿下21分7助攻5籃板，哈瑞爾11投7中，得到17分7籃板4助攻，哈克雷斯（Moe Harkless）10分4籃板4抄截2阻攻，格林（JaMychal Green）12分6籃板。\n",
      "\n",
      "戴維斯披上湖人戰袍的首場正式比賽，21投8中，包括14罰9中，獨拿25分10籃板5助攻2阻攻1抄截；詹姆斯19投7中，得到18分9籃板8助攻。\n",
      "\n",
      "格林可說是湖人可以咬住比分的關鍵，全場14投10中，三分球9投7中，攻下全隊最高28分，外加7籃板2抄截，其中第三節獨拿18分。湖人陣中除了這3人之外，無人得分超過雙位數。\n",
      "\n",
      "---------------------------------------\n"
     ]
    },
    {
     "data": {
      "text/html": [
       "<h1>稱柯瑞更勝衛少 杜蘭特：哈登沒去火箭無法成MVP</h1>"
      ],
      "text/plain": [
       "<IPython.core.display.HTML object>"
      ]
     },
     "metadata": {},
     "output_type": "display_data"
    },
    {
     "data": {
      "text/html": [
       "<span style=\"color:blue\">2019-10-22 12:51</span>"
      ],
      "text/plain": [
       "<IPython.core.display.HTML object>"
      ]
     },
     "metadata": {},
     "output_type": "display_data"
    },
    {
     "name": "stdout",
     "output_type": "stream",
     "text": [
      "儘管在即將開打的新賽季中可能因傷全面缺陣，但今夏轉披布魯克林籃網戰袍的明星前鋒杜蘭特（Kevin Durant）製造話題的功力依舊，他在近日與前奧克拉荷馬雷霆隊友伊巴卡（Serge Ibaka）一同錄製網路節目時，被問到兩名合作過的後衛柯瑞（Stephen Curry）與衛斯特布魯克（Russell Westbrook）誰更好時，杜蘭特卻毫不猶疑地選擇了前者。\n",
      "\n",
      "杜蘭特在今年夏天透過先簽後換的方式轉戰籃網，儘管受到傷勢影響本賽季可能無法如願披上籃網戰袍登場，不過近日他在與前隊友伊巴卡錄製網路節目「How Hungry Are You?」時，再度靠著犀利回答搶佔媒體版面。\n",
      "\n",
      "其中在上賽季代表暴龍出賽的伊巴卡，先是問到了杜蘭特是否認為，假使自己沒有發生受傷狀況，勇士最終能否擊敗暴龍時，杜蘭特則是回答毫無疑問：「因為如果我在上場的話，你們是不可能在家擊敗我們的。」\n",
      "\n",
      "對於過去與哈登和衛斯特布魯克一起被稱作雷霆四少，杜蘭特與伊巴卡也談論到了兩名也都已經不在雷霆的前隊友們，兩人皆認為如果當年哈登未離開雷霆轉戰火箭，將無法達成拿下年度MVP的成就，而雷霆四少也有機會在相當年輕的情況下就挺進總冠軍賽。\n",
      "\n",
      "不過當伊巴卡問到，杜蘭特的兩位前搭擋柯瑞與衛斯特布魯克誰更好時，杜蘭特卻毫不猶豫地選擇了柯瑞，並認為兩者的差別就在於外線投射能力上，不過有趣的是，杜蘭特在轉戰籃網後將與另外一位聯盟頂尖控球後衛厄文（Kyrie Irving）攜手奮戰，屆時他又會如何評比這三名生涯合作過的頂尖後衛，也讓人相當好奇。\n",
      "\n",
      "---------------------------------------\n"
     ]
    },
    {
     "data": {
      "text/html": [
       "<h1>全員發揮狂轟141分 快艇快意客場踢館大勝勇士</h1>"
      ],
      "text/plain": [
       "<IPython.core.display.HTML object>"
      ]
     },
     "metadata": {},
     "output_type": "display_data"
    },
    {
     "data": {
      "text/html": [
       "<span style=\"color:blue\">2019-10-25 13:18</span>"
      ],
      "text/plain": [
       "<IPython.core.display.HTML object>"
      ]
     },
     "metadata": {},
     "output_type": "display_data"
    },
    {
     "name": "stdout",
     "output_type": "stream",
     "text": [
      "新賽季首戰就在「洛城內戰」中拔得頭籌，快艇今日（25號）又大勝勇士，終場141以122比再下一城，全隊整體命中率高達62.5%，三分線外也有54.5%高水準發揮，讓對手新主場初亮相就踢到鐵板。\n",
      "\n",
      "快艇一開賽就展現力壓對手的如虹氣勢，前3分多鐘打出14比0攻勢，且勇士防守中樞格林（Draymond Green）更因掩護時弄傷手肘，一度退場接受治療，所幸球隊靠羅素（D'Angelo Russell）、柯瑞（Stephen Curry）接力飆分及時止血。\n",
      "\n",
      "打完上半場之後，快艇暫握有11分領先，只是到了第三節攻勢如同水壩潰堤傾瀉而出，單節狠狠灌下46分讓勇士毫無招架之力，沙米特（Landry Shamet）與派特森（Patrick Patterson）各砍進3記三分球，比賽勝負自此底定。\n",
      "\n",
      "快艇此役讓一度落後多達31分的勇士全場未曾有任何翻轉機會，其中得分最高者為攻下22分的超級替補威廉斯（Lou Williams），雷納德（Kawhi Leonard）則有21分、9助攻進帳。\n",
      "\n",
      "此外，快艇2位先發長人表現也不俗，派特森得到20分，包括6記三分球，而祖巴茲（Ivica Zubac）繳出16分、10籃板雙十成績。勇士方面，柯瑞拿到23分，但個人出現8失誤且三分僅11投2中，羅素另挹注20分、8助攻。\n",
      "\n",
      "---------------------------------------\n"
     ]
    },
    {
     "data": {
      "text/html": [
       "<h1>頂著噓聲飆30分 雷納德：很高興拿下勝利</h1>"
      ],
      "text/plain": [
       "<IPython.core.display.HTML object>"
      ]
     },
     "metadata": {},
     "output_type": "display_data"
    },
    {
     "data": {
      "text/html": [
       "<span style=\"color:blue\">2019-10-23 16:39</span>"
      ],
      "text/plain": [
       "<IPython.core.display.HTML object>"
      ]
     },
     "metadata": {},
     "output_type": "display_data"
    },
    {
     "name": "stdout",
     "output_type": "stream",
     "text": [
      "\n",
      "「這將是一個偉大的賽季，我們每場比賽都會全力以赴，讓我們開始吧。」\n",
      "\n",
      "回到家鄉洛城、加盟快艇的首戰，雷納德（Kawhi Leonard）接受來自湖人球迷的噓聲伺候，不過他很快就展現精準的中距離跳投，全場19投10中，攻下30分6籃板5助攻2抄截1阻攻，其中他在第二節獨拿16分，是球隊能夠扭轉落後局面的關鍵。最終快艇就以10分之差擊退同城的湖人。\n",
      "\n",
      "「我很高興我們上場比賽然後拿下勝利。我們先前的訓練做得很棒，我們今晚延續了這樣的狀態。」雷納德說。雷納德此戰雖然出現6次失誤，還吞下5次犯規，但瑕不掩瑜。\n",
      "\n",
      "「他為我們創造機會，他就是這麼做的。」快艇總教練瑞佛斯（Doc Rivers）說。\n",
      "\n",
      "除了雷納德的高效率穩定表現外，快艇板凳暴徒再度有出色發揮，威廉斯（Lou Williams）攻下21分7助攻5籃板，哈瑞爾（Montrezl Harrell）得到17分7籃板4助攻，快艇替補合力砍下60分，足足比湖人替補球員多了41分，成了比賽勝負的關鍵之一。\n",
      "\n",
      "談到雷納德和威廉斯的搭配情況，瑞佛斯表示：「我認為他們現在彼此之間僅相互熟悉10%到15%。他們錯過很多機會，隨著時間的推移，他們會變得越來越危險。」\n",
      "\n",
      "\n",
      "---------------------------------------\n"
     ]
    },
    {
     "data": {
      "text/html": [
       "<h1>失分創柯爾時代新高 柯瑞：檢討時場面肯定難堪</h1>"
      ],
      "text/plain": [
       "<IPython.core.display.HTML object>"
      ]
     },
     "metadata": {},
     "output_type": "display_data"
    },
    {
     "data": {
      "text/html": [
       "<span style=\"color:blue\">2019-10-25 15:12</span>"
      ],
      "text/plain": [
       "<IPython.core.display.HTML object>"
      ]
     },
     "metadata": {},
     "output_type": "display_data"
    },
    {
     "name": "stdout",
     "output_type": "stream",
     "text": [
      "今日（25號）讓快艇單場繳出62.5%整體命中率還有54.5%三分命中率，勇士不但吞下敗仗且痛失141分也寫下柯爾（Steve Kerr）執教時代最高紀錄。\n",
      "\n",
      "柯爾2014年執教勇士開始，球隊算上例行賽還有季後賽的對手單場最高得分140分，是由鵜鶘在今年1月16號所攻下，不過勇士當時憑藉傲人火力硬是拿到147分，依然摘下勝利，但對快艇就無法複製過往經驗。\n",
      "\n",
      "格林（Draymond Green）賽後難掩失望表示：「我們這場比賽表現實在糟糕透頂了，防守更是災難一場。」當被記者問到防守哪點出了問題，他更回應：「每個地方。」柯瑞（Stephen Curry）也坦承：「明天看影片檢討場面肯定很難堪。」\n",
      "\n",
      "至於柯爾自己則是指出：「這就是NBA，過去5年我們就像存在另個世界一樣，現在終於回到現實了。」他甚至補充：「這不會只是個案而已，今年我們很可能也會再面臨同樣狀況。」言下之意似乎預言防守問題將困擾球隊整季。\n",
      "\n",
      "---------------------------------------\n"
     ]
    },
    {
     "data": {
      "text/html": [
       "<h1>范弗利特延長賽發飆 暴龍開幕戰力壓鵜鶘</h1>"
      ],
      "text/plain": [
       "<IPython.core.display.HTML object>"
      ]
     },
     "metadata": {},
     "output_type": "display_data"
    },
    {
     "data": {
      "text/html": [
       "<span style=\"color:blue\">2019-10-23 11:17</span>"
      ],
      "text/plain": [
       "<IPython.core.display.HTML object>"
      ]
     },
     "metadata": {},
     "output_type": "display_data"
    },
    {
     "name": "stdout",
     "output_type": "stream",
     "text": [
      "\n",
      "NBA新賽季今天揭開序幕，首場比賽就由衛冕軍多倫多暴龍迎戰紐奧良鵜鶘，儘管賽前暴龍才接受了冠軍加冕儀式，但年輕氣盛的鵜鶘卻整場比賽緊咬暴龍不放，兩隊一路拚戰到延長賽後，暴龍才靠著范弗利特（Fred VanVleet）與主控羅瑞（Kyle Lowry）接連投進三分球，以130：122擊敗鵜鶘，收下新賽季首勝。\n",
      "\n",
      "暴龍在上賽季總冠軍賽擊敗勇士奪下隊史首冠後，面臨了核心球員雷納德（Kawhi Leonard）與格林（Danny Green）出走洛城的狀況，不過球隊也在開季前夕完成與前鋒席亞康（Pascal Siakam）的續約，希望由他繼續扛起球隊大旗，而席亞康也沒有讓暴龍球團與球迷失望，在首場比賽就繳出34分18籃板的優異表現，不過也在第四節最後50秒提前犯滿離場。\n",
      "\n",
      "反觀鵜鶘雖然面臨選秀狀元威廉森（Zion Williamson）因膝蓋動刀無法上場的狀況，不過球隊全新陣容也在今天打出新氣象，包括今年夏天在戴維斯（Anthony Davis）交易案中從湖人轉來的英格倫（Brandon Ingram）、哈特（Josh Hart）與鮑爾（Lonzo Ball）合計拿下45分20籃板11助攻，加上鵜鶘全場投進19顆三分球，讓兩隊在正規賽打完戰成平手。\n",
      "\n",
      "延長賽暴龍雖然少了席亞康，但其他先發球員也接連挺身而出，先是中鋒小加索（Marc Gasol）完成一次超前比分的三分打，隨後雙衛范弗利特與主控羅瑞更接連飆進三分球，澆熄了鵜鶘的反撲氣燄，終場就以8分差距在延長賽險勝，為衛冕之路開出好彩頭。\n",
      "\n",
      "暴龍本場比賽以新一哥席亞康與范弗利特皆拿下34分表現最佳，主控羅瑞雖然手感不佳但也進帳22分外帶6助攻，鵜鶘則是以英格倫的22分最多，老將瑞迪克（JJ Redick）則是投進4顆三分球拿下16分。\n",
      "\n",
      "---------------------------------------\n"
     ]
    },
    {
     "data": {
      "text/html": [
       "<h1>葛里芬膝傷纏身 預計休兵兩星期</h1>"
      ],
      "text/plain": [
       "<IPython.core.display.HTML object>"
      ]
     },
     "metadata": {},
     "output_type": "display_data"
    },
    {
     "data": {
      "text/html": [
       "<span style=\"color:blue\">2019-10-23 11:01</span>"
      ],
      "text/plain": [
       "<IPython.core.display.HTML object>"
      ]
     },
     "metadata": {},
     "output_type": "display_data"
    },
    {
     "name": "stdout",
     "output_type": "stream",
     "text": [
      "\n",
      "根據底特律當地媒體報導，向來有傷勢疑慮的葛里芬（Blake Griffin），在上季難得出賽75場後，本季還沒開戰就傳出左腿筋傷勢以及膝蓋後面部份酸痛的問題，預計至少缺席2星期時間，無緣開幕戰。\n",
      "\n",
      "活塞球團也透露，活塞首戰客場面對溜馬，葛里芬將不會隨隊出席，而是繼續接受治療。球團表示，將會在11月第一周進行傷勢評估，即使能夠順利回歸，葛里芬至少也將缺席9場比賽。\n",
      "\n",
      "膝蓋傷勢在上季例行賽後段和季後賽一直困擾著葛里芬，在賽季結束後，葛里芬也接受了左膝關節鏡手術。不過葛里芬在季前賽僅出賽兩場，之後的3場就未再出賽。\n",
      "\n",
      "葛里芬上季平均得到24.5分7.5籃板5.4助攻，投籃命中率46.2%，三分球命中率36.2%。季後賽期間，葛里芬則是平均24.5分6籃板6助攻，投籃命中率46.2%，不過活塞首輪慘遭公鹿橫掃。\n",
      "\n",
      "\n",
      "---------------------------------------\n"
     ]
    },
    {
     "data": {
      "text/html": [
       "<h1>暴龍冠軍戒鑲鑽650顆 創職業運動史上新紀錄</h1>"
      ],
      "text/plain": [
       "<IPython.core.display.HTML object>"
      ]
     },
     "metadata": {},
     "output_type": "display_data"
    },
    {
     "data": {
      "text/html": [
       "<span style=\"color:blue\">2019-10-23 10:42</span>"
      ],
      "text/plain": [
       "<IPython.core.display.HTML object>"
      ]
     },
     "metadata": {},
     "output_type": "display_data"
    },
    {
     "name": "stdout",
     "output_type": "stream",
     "text": [
      "\n",
      "多倫多暴龍今天在NBA開幕戰中接受冠軍表揚儀式，包括升起冠軍錦旗以及頒發鑲上史上最多650顆鑽石、總重14克拉的冠軍戒指，參與戒指設計的暴龍主控羅瑞（Kyle Lowry）表示，如此奢華的設計就是希望讓連三年奪冠的麥考（Patrick McCaw），拿到比過去兩年更好的冠軍戒。\n",
      "\n",
      "暴龍在上個賽季奪下隊史首座總冠軍後，於新賽季首場比賽前接受表揚儀式，過去七年來見證了暴龍興衰的主控羅瑞，在儀式上談到奪冠喜悅時說：「這一直都是我們的目標，我真的很想讓這件事情成真，最後總算辦到了，我不會說沒有懷疑過自己，只是花了一點時間，我相信可以辦到，最後也發生了。」\n",
      "\n",
      "而暴龍球員也在儀式上獲頒冠軍戒指，今年暴龍球團為了讓隊史首枚戒指別具意義，不僅成立了戒指設計委員會，還邀請羅瑞為球員代表加入。根據暴龍官方介紹，戒指上共鑲上超過650顆的鑽石，總重量高達14克拉，其中光是戒指上的冠軍獎盃鑽石就高達1.25克拉，皆寫下職業運動史上新紀錄。\n",
      "\n",
      "對於暴龍冠軍戒指的奢華設計，羅瑞表示，「這肯定是一枚最特別的戒指，我們花了那麼多年才終於奪得冠軍。但在我們之中，麥考已經連續三年拿下戒指，所以我們必須確保這一枚比他過去拿到的兩枚（在勇士時期）都要來得更好。」\n",
      "\n",
      "不僅球員獲頒冠軍戒指，暴龍頭號粉絲巴席耶（Nav Bhatia）也獲得球團頒發冠軍戒指，對他一路支持的感謝；過去24年來巴席耶幾乎沒有缺席過任何一場暴龍主場賽事，甚至今年還跟隨暴龍到日本觀賞海外賽並接受日本媒體專訪，是聯盟死忠球迷的代表人物之一。\n",
      "\n",
      "暴龍冠軍戒指周圍鑲上紅寶石並刻上全隊球員背號。圖／取自暴龍官方推特facebooktwitterpinterest暴龍冠軍戒指上共鑲上超過650顆鑽石，總重超過14克拉。圖／取自暴龍官方推特facebooktwitterpinterest\n",
      "---------------------------------------\n"
     ]
    },
    {
     "data": {
      "text/html": [
       "<h1>湯普森賽季恐報銷 柯爾盼年輕球員頂缺口</h1>"
      ],
      "text/plain": [
       "<IPython.core.display.HTML object>"
      ]
     },
     "metadata": {},
     "output_type": "display_data"
    },
    {
     "data": {
      "text/html": [
       "<span style=\"color:blue\">2019-10-23 10:19</span>"
      ],
      "text/plain": [
       "<IPython.core.display.HTML object>"
      ]
     },
     "metadata": {},
     "output_type": "display_data"
    },
    {
     "name": "stdout",
     "output_type": "stream",
     "text": [
      "\n",
      "金州勇士湯普森（Klay Thompson）在上賽季總冠軍賽出現左膝十字韌帶撕裂傷後，原訂將於明年二月歸隊，不過勇士主帥柯爾（Steve Kerr）在今天受訪時透露，為了確保湯普森能夠百分之百康復，不排除讓他在本賽季全面養傷，並期待球隊年輕球員能夠挺身而出補上缺口。\n",
      "\n",
      "湯普森在上個賽季總冠軍賽第6戰傷退後，7月初接受了左膝蓋手術治療，原本傳出他有望在新賽季下半季歸隊，不過今天柯爾卻透露，湯普森的歸隊日程可能往後延至下賽季。\n",
      "\n",
      "\n",
      "「我們必須要認清事實，因為我在大學時也曾受過這樣的傷害，還錯過整個賽季。」柯爾在談到十字韌帶傷勢的復健與養傷過程時說：「正常的情況下，十字韌帶的傷勢本來就需要9到12個月的恢復時間，如果湯普森也是如此，這代表著他可能會缺席這個賽季。」\n",
      "\n",
      "不過柯爾也未把話說死，表示如果醫生認為湯普森的狀況允許，仍是有本賽季復出的可能性，「不過現實狀況就是，明年4月1日是他動完刀後第9個月，是十字韌帶手術後的正常恢復期，所以他本賽季看似不太可能出賽。」\n",
      "\n",
      "至於湯普森留下來的火力缺口，柯爾也表示，希望球隊幾名年輕球員能夠做好準備頂替，「我們的年輕球員必須想辦法填補缺口，當湯普森歸隊時，他們將會成長為很棒的輪替球員，並且準備在一支季後賽球隊中做出貢獻，這將幫助我們變得更出色。」\n",
      "\n",
      "\n",
      "---------------------------------------\n"
     ]
    },
    {
     "data": {
      "text/html": [
       "<h1>受傷與體重無關 鵜鶘總管：威廉森體質特殊</h1>"
      ],
      "text/plain": [
       "<IPython.core.display.HTML object>"
      ]
     },
     "metadata": {},
     "output_type": "display_data"
    },
    {
     "data": {
      "text/html": [
       "<span style=\"color:blue\">2019-10-23 10:04</span>"
      ],
      "text/plain": [
       "<IPython.core.display.HTML object>"
      ]
     },
     "metadata": {},
     "output_type": "display_data"
    },
    {
     "name": "stdout",
     "output_type": "stream",
     "text": [
      "\n",
      "紐奧良鵜鶘選秀狀元威廉森（Zion Williamson）因為右膝蓋關節鏡手術將缺席新球季前四至六周，未戰先傷的狀況，導致他的健康與體重是否過重再度受到質疑，不過鵜鶘總管葛里芬（David Griffin）在今天強調，威廉森是屬於體質較特殊的球員，受傷並非因為體重問題，球團目前也正在為他尋找最佳的體態。\n",
      "\n",
      "身高198公分、體重129公斤的威廉森，在大學發生膝蓋受傷狀況後，就一度面對外界質疑他體重過重的問題，直到進入NBA後，他又先後在夏季聯賽與季前熱身賽出現膝蓋傷勢，導致他可能缺席菜鳥球季的前四分之一賽季，讓這樣的質疑聲浪再度浮上檯面。\n",
      "\n",
      "不過鵜鶘總管葛里芬在今天向媒體解釋威廉森的受傷狀況時再度強調，體重對於威廉森來說絕不是受傷主因，為他尋找最佳體態才是球團最重要的課題，「雖然我們對於威廉森為何受傷還沒有很清楚了解，但原因絕對不是因為身體狀態不好或是體重問題，因為他的體型確實相當特殊，從物理角度來看，他的體重可說是完全合理。」\n",
      "\n",
      "葛里芬指出，威廉森在124公斤的情況下體脂率為百分之8.5，在127公斤時也僅有百分之9，代表著他的肌肉群增加的同時體重也一同增加，「他的體質是我們的醫療團隊未曾見過的，我們正在學習如何讓他保持瘦一點的體態，並且幫助他加強核心、穩定性與對球的控制能力，這代表著他還需要進行很多力量上的訓練。」\n",
      "\n",
      "\n",
      "---------------------------------------\n"
     ]
    },
    {
     "data": {
      "text/html": [
       "<h1>韋德加入華納媒體 轉戰TNT球評</h1>"
      ],
      "text/plain": [
       "<IPython.core.display.HTML object>"
      ]
     },
     "metadata": {},
     "output_type": "display_data"
    },
    {
     "data": {
      "text/html": [
       "<span style=\"color:blue\">2019-10-23 09:47</span>"
      ],
      "text/plain": [
       "<IPython.core.display.HTML object>"
      ]
     },
     "metadata": {},
     "output_type": "display_data"
    },
    {
     "name": "stdout",
     "output_type": "stream",
     "text": [
      "\n",
      "韋德（Dwyane Wade）正式退役後，很快就吸引多家媒體的搶人大戰。根據最新消息，韋德已經與華納媒體（Warner Media）簽下一份價值數百萬美元的協議，他將會擔任TNT球評和節目製作人。\n",
      "\n",
      "先前的報導指出，包括ESPN、ABC電視台、迪士尼等都傳出有意簽下韋德。\n",
      "\n",
      "韋德將和昔日隊友歐尼爾（Shaquille O'Neal）成為同事，在今天2019-20年賽季的開幕戰中，韋德將會正式登場。此外，他也會在類似明星賽的重要賽事中加入TNT的《Inside the NBA》，同時也將成為TNT週三節目《Players Only》的常駐嘉賓。\n",
      "\n",
      "不僅如此，韋德還會參與Turner體育和CBS體育對NCAA最終四強戰的報導，還將擔任《Bleacher Report》特別項目的創意總監。甚至，韋德自己的媒體公司「 59th & Prairie Entertainment」也會得到了一份新內容的合約。\n",
      "\n",
      "「我期待著在新的角色中與我的球迷互動，並且能為我熱愛的比賽帶來我自己的觀點。」韋德表示。\n",
      "\n",
      "\n",
      "---------------------------------------\n"
     ]
    },
    {
     "data": {
      "text/html": [
       "<h1>從組成三巨頭變敵人 詹姆斯：雷納德去快艇也很好</h1>"
      ],
      "text/plain": [
       "<IPython.core.display.HTML object>"
      ]
     },
     "metadata": {},
     "output_type": "display_data"
    },
    {
     "data": {
      "text/html": [
       "<span style=\"color:blue\">2019-10-23 09:01</span>"
      ],
      "text/plain": [
       "<IPython.core.display.HTML object>"
      ]
     },
     "metadata": {},
     "output_type": "display_data"
    },
    {
     "name": "stdout",
     "output_type": "stream",
     "text": [
      "NBA新賽季今天揭開序幕，第二場比賽由洛杉磯兩支球隊進行內戰，其中湖人在今年夏天原希望促成詹姆斯（LeBron James）與戴維斯（Anthony Davis）、雷納德（Kawhi Leonard）的三巨頭陣容，但最終雷納德卻選擇加盟了快艇，讓雙方在今天成為場上的敵人，不過詹姆斯在賽前被問及此事時表示，仍是尊重雷納德的選擇。\n",
      "\n",
      "湖人在歷經上賽季的挫敗後季後補強不遺餘力，先是與鵜鶘達成戴維斯的交易案，之後更全力爭取自由球員雷納德加盟，不過最終雷納德不僅決定加盟同城的快艇，還將喬治（Paul George）一同帶到了洛杉磯，讓洛城雙雄新賽季都擁有聯盟一線的雙巨頭陣容。\n",
      "\n",
      "對於雙方今天將在開幕戰交鋒，詹姆斯被問到無緣的三巨頭陣容時說：「你問我是不是對此（組三巨頭）感到興奮？直到事情發生前我都不會感到興奮，不過不可否認我們是有這樣得機會，我們一度有機會獲得雷納德，不過當他選擇去快艇時，我認為這也是很酷，對聯盟來說也很棒，他做了最適合他的選擇，我們都很尊重。」\n",
      "\n",
      "戴維斯也表示，自己確實曾試著協助湖人得到雷納德，也很享受這樣的招募過程，「我們有過一次不錯的談話，不過當他發出聲明，還是他的叔叔說了些什麼時，他說他並不是那麼喜歡被招募，讓我知道這已經超出我的能力範圍，不過這確實是一次有趣的過程。」\n",
      "\n",
      "戴維斯接著強調，在雷納德決定加盟快艇後，他與詹姆斯就不曾與雷納德聯絡，「顯然他可以做他想做的事情，今晚我們將面對他，他是一個相當出色的球員，對手也是一支很棒的球隊，這應該會很有趣。」\n",
      "\n",
      "\n",
      "\n",
      "---------------------------------------\n"
     ]
    },
    {
     "data": {
      "text/html": [
       "<h1>盛讚詹姆斯傳球 瑞佛斯：比起喬丹更像魔術強森</h1>"
      ],
      "text/plain": [
       "<IPython.core.display.HTML object>"
      ]
     },
     "metadata": {},
     "output_type": "display_data"
    },
    {
     "data": {
      "text/html": [
       "<span style=\"color:blue\">2019-10-22 17:12</span>"
      ],
      "text/plain": [
       "<IPython.core.display.HTML object>"
      ]
     },
     "metadata": {},
     "output_type": "display_data"
    },
    {
     "name": "stdout",
     "output_type": "stream",
     "text": [
      "\n",
      "眾所矚目的「洛城大戰」將在明天新賽季開幕戰登場，賽前先禮後兵，快艇總教練瑞佛斯（Doc Rivers）盛讚詹姆斯（LeBron James）的傳球能力，更表示他是歷史上最像魔術強森的球員。\n",
      "\n",
      "「詹姆斯絕對是史上最優秀的傳球手之一，大家總是拿他與喬丹（Michael Jordan）比較，但我認為他更像魔術強森（Magic Johnson）。」瑞佛斯說。\n",
      "\n",
      "根據先前的報導，詹姆斯在新賽季很有可能會以先發控衛的身份登場，希望藉此拉高陣容高度，並且進一步活化全隊攻勢。對於對手可能這樣的安排，瑞佛斯表示他不會感到意外。\n",
      "\n",
      "「LeBron過去所待的每支球隊，他哪一次不是最主要的控球指揮官？我的意思是，他絕大多數時間都是擔任球隊的進攻組織者，但這不會影響我們對他的防守策略，球場上從來就不存在球隊只有唯一一個控球員的事情，我無法想像湖人其他人都不去控球，我認為LeBron依然掌控很多球權。如果是我來執教，我也會確保LeBron得到許多球權。」瑞佛斯說。\n",
      "\n",
      "不過瑞佛斯也說道，他不認為詹姆斯一整季都會打控球，因為那對他的消耗太大了。\n",
      "\n",
      "\n",
      "---------------------------------------\n"
     ]
    },
    {
     "data": {
      "text/html": [
       "<h1>NBA熱鬧開打 新球季8大觀戰焦點</h1>"
      ],
      "text/plain": [
       "<IPython.core.display.HTML object>"
      ]
     },
     "metadata": {},
     "output_type": "display_data"
    },
    {
     "data": {
      "text/html": [
       "<span style=\"color:blue\">2019-10-22 14:10</span>"
      ],
      "text/plain": [
       "<IPython.core.display.HTML object>"
      ]
     },
     "metadata": {},
     "output_type": "display_data"
    },
    {
     "name": "stdout",
     "output_type": "stream",
     "text": [
      "美國職籃NBA明天（23號）將開戰，由衛冕軍多倫多暴龍迎戰紐奧良鵜鶘，而洛杉磯湖人與洛杉磯快艇將上演「洛城內戰」，各隊戰力消長，誰能問鼎冠軍，以下有8大觀戰焦點：\n",
      "\n",
      "一、洛城內戰，西區冠軍前哨戰？\n",
      "\n",
      "連續6季叩關季後賽失利的湖人隊，季後迎來中鋒戴維斯（Anthony Davis），以及格林（Danny Green）、哈沃德（Dwight Howard）、布萊德利（Avery Bradley）等新同學加入，與當家的詹姆斯（LeBron James）聯手，能否再現紫金王朝，值得關注。\n",
      "\n",
      "快艇隊今年找來雷納德（Kawhi Leonard）、喬治（Paul George）等人助陣，而喬治上季場均得分繳出28分，為生涯代表作，也讓快艇、湖人同被視為本季奪冠熱門，明天開幕戰也有機會是西區冠軍戰前哨戰。\n",
      "\n",
      "二、雷霆雙少齊聚火箭\n",
      "\n",
      "衛斯特布魯克（Russell Westbrook）揮別奧克拉荷馬雷霆，新球季加入休士頓火箭，與哈登（JamesHarden）聚首，昔日「雷霆雙少」在火箭隊合體，衛斯特布魯克上季每場平均挹注22.9分，加上哈登場均豪取超過36分，火箭隊新球季進攻火力不容小覷。\n",
      "\n",
      "三、勇士巨頭解體何去何從\n",
      "\n",
      "上季衛冕失利的金州勇士，爭冠班底之一的明星前鋒杜蘭特（Kevin Durant）透過先簽後換的方式，出走到布魯克林籃網，加上另一名球星湯普森（Klay Thompson）總冠軍賽膝蓋十字韌帶撕裂，預計明星賽後才能歸隊，也讓勇士新球季戰力增添隱憂。\n",
      "\n",
      "四、東區暴龍退位誰頂上？籃網、塞爾蒂克、公鹿、76人？\n",
      "\n",
      "雷納德、格林新球季與前東家暴龍隊分道揚鑣，也讓尋求衛冕的暴龍本季星度大減，而籃網交易來的杜蘭特，儘管預料因傷可能整季報銷，但還有新加入的厄文（Kyrie Irving），因此依舊被視為東區的黑馬球隊。\n",
      "\n",
      "擁有上季年度MVP安戴托昆波（Giannis Antetokounmpo）領軍的密爾瓦基公鹿，與波士頓塞爾蒂克、費城76人等隊，同樣都具有東區冠軍相。\n",
      "\n",
      "五、亞洲新期待八村壘\n",
      "\n",
      "21歲的八村壘在2019年選秀會以首輪第9順位被華盛頓巫師指名，成為日本首位在NBA選秀會第一輪中選的球員，新球季在巫師隊有機會以先發球員身分登場，在台裔球星林書豪轉戰中國男子籃球職業聯賽（註：CBA）後，八村壘可望成為亞洲球迷新的關注焦點。\n",
      "\n",
      "六、飛人卡特最後一舞\n",
      "\n",
      "今年42歲的「飛人」卡特（Vince Carter）新球季續留亞特蘭大老鷹，個人在NBA球季將邁向第22季，將成為NBA史上第一位。卡特生涯出賽1481場，名列史上第5，在高掛球鞋前的最後一年，可望超越史塔克頓（John Stockton）的1504場，躍居第4。\n",
      "\n",
      "七、超級狀元威廉森極限何方\n",
      "\n",
      "NBA選秀狀元紐奧良鵜鶘的威廉森（Zion Williamson），被譽為「詹姆斯接班人」，不過威廉森今天傳來接受右膝關節鏡手術的消息，預計將缺席2個月，歸隊後是否影響表現，又或是打出選秀狀元的身價，仍有待觀察。\n",
      "\n",
      "八、MVP獎落誰家\n",
      "\n",
      "NBA日前對30隊總管進行預測調查，安戴托昆波被視為最有機會蟬聯年度MVP，而勇士隊的柯瑞（Stephen Curry）與湖人隊的戴維斯、快艇隊的雷納德並列第2。\n",
      "\n",
      "---------------------------------------\n"
     ]
    },
    {
     "data": {
      "text/html": [
       "<h1>一年1400萬美元 英格斯提前續約爵士</h1>"
      ],
      "text/plain": [
       "<IPython.core.display.HTML object>"
      ]
     },
     "metadata": {},
     "output_type": "display_data"
    },
    {
     "data": {
      "text/html": [
       "<span style=\"color:blue\">2019-10-22 12:59</span>"
      ],
      "text/plain": [
       "<IPython.core.display.HTML object>"
      ]
     },
     "metadata": {},
     "output_type": "display_data"
    },
    {
     "name": "stdout",
     "output_type": "stream",
     "text": [
      "\n",
      "猶他爵士宣佈，與陣中來自澳洲的前鋒大將英格斯（Joe Ingles）提前簽下一份合約，金額為一年1400萬美元，這意味著英格斯將會為爵士效力至2022年夏天。\n",
      "\n",
      "現年32歲的英格斯一開始是和快艇簽約，但很快就被釋出，之後加入爵士。這5年下來，英格斯維持相當出色的出賽率，近3個賽季更是都82場全勤，至今連續出賽304場，是目前聯盟最長紀錄。而在2017-18年賽季，英格斯更是轟進204顆三分球，一舉刷新隊史紀錄。\n",
      "\n",
      "英格斯先前合約是在2017年簽下，當時是簽四年5200萬美元，如今合約還剩下兩年，分別是1195萬美元和1086萬美元。\n",
      "\n",
      "新賽季爵士面臨陣容不小的變化，英格斯有可能會回到替補席，不過向來以球隊為重的他卻不以為意，他表示自己樂於接受各種角色。「這對我來說是全新挑戰，讓我感到非常興奮，老實說，這些事情不會困擾到我。」英格斯說。\n",
      "\n",
      "\n",
      "---------------------------------------\n"
     ]
    },
    {
     "data": {
      "text/html": [
       "<h1>雷納德聯手板凳暴徒 快艇首戰衝破湖人</h1>"
      ],
      "text/plain": [
       "<IPython.core.display.HTML object>"
      ]
     },
     "metadata": {},
     "output_type": "display_data"
    },
    {
     "data": {
      "text/html": [
       "<span style=\"color:blue\">2019-10-23 13:29</span>"
      ],
      "text/plain": [
       "<IPython.core.display.HTML object>"
      ]
     },
     "metadata": {},
     "output_type": "display_data"
    },
    {
     "name": "stdout",
     "output_type": "stream",
     "text": [
      "\n",
      "眾所矚目的「洛城大戰」在今天點燃戰火，雷納德（Kawhi Leonard）全場攻下30分6籃板5助攻，快艇板凳部隊則是合力砍下60分。快艇在第二節逐漸掌握優勢，雖然第三節尾聲一波亂流讓湖人追平，但第四節穩住陣腳，又將分數拉開，最終以112比102擊敗湖人，取得開季首勝。\n",
      "\n",
      "這場比賽雙方都有主力球員面臨傷病麻煩，快艇傷了喬治（Paul George），湖人則是庫茲瑪（Kyle Kuzma）。一開賽湖人就展現猛烈攻勢，開局打了13比2的攻勢，在比賽中先聲奪人，首節取得領先優勢；不過快艇板凳部隊隨即發揮，加上雷納德精準中距離跳投，快艇第二節砍進40分，反而在上半場以62比54領先湖人。\n",
      "\n",
      "快艇的快節奏配合在下半場讓湖人難以應付，一度取得兩位數領先；不過接下來快艇外線命中率下滑，湖人在詹姆斯（LeBron James）場邊休息之際，反倒殺出一波15比3攻勢，三節結束雙方戰成平手。\n",
      "\n",
      "第四節之初，快艇找回手感，先是打了一波7比0的進攻，湖人不甘示弱連追兩球，快艇替補球員再度發威，又殺出一波11比2的攻勢，比分再度拉開。雷納德掌控節奏，哈瑞爾（Montrezl Harrell）也趁虛籃下建功，湖人反撲無力，只能目送快艇揚長而去。\n",
      "\n",
      "上季決賽MVP雷納德重返故鄉，此役上場32分鐘，雖然出現6次失誤還吞下5犯，但全場19投10中，還是砍下30分6籃板5助攻2抄截。\n",
      "\n",
      "以威廉斯（Lou Williams）為首的快艇板凳暴徒依舊強悍，威廉斯14投8中，拿下21分7助攻5籃板，哈瑞爾11投7中，得到17分7籃板4助攻，哈克雷斯（Moe Harkless）10分4籃板4抄截2阻攻，格林（JaMychal Green）12分6籃板。\n",
      "\n",
      "戴維斯披上湖人戰袍的首場正式比賽，21投8中，包括14罰9中，獨拿25分10籃板5助攻2阻攻1抄截；詹姆斯19投7中，得到18分9籃板8助攻。\n",
      "\n",
      "格林可說是湖人可以咬住比分的關鍵，全場14投10中，三分球9投7中，攻下全隊最高28分，外加7籃板2抄截，其中第三節獨拿18分。湖人陣中除了這3人之外，無人得分超過雙位數。\n",
      "\n",
      "---------------------------------------\n"
     ]
    },
    {
     "data": {
      "text/html": [
       "<h1>稱柯瑞更勝衛少 杜蘭特：哈登沒去火箭無法成MVP</h1>"
      ],
      "text/plain": [
       "<IPython.core.display.HTML object>"
      ]
     },
     "metadata": {},
     "output_type": "display_data"
    },
    {
     "data": {
      "text/html": [
       "<span style=\"color:blue\">2019-10-22 12:51</span>"
      ],
      "text/plain": [
       "<IPython.core.display.HTML object>"
      ]
     },
     "metadata": {},
     "output_type": "display_data"
    },
    {
     "name": "stdout",
     "output_type": "stream",
     "text": [
      "儘管在即將開打的新賽季中可能因傷全面缺陣，但今夏轉披布魯克林籃網戰袍的明星前鋒杜蘭特（Kevin Durant）製造話題的功力依舊，他在近日與前奧克拉荷馬雷霆隊友伊巴卡（Serge Ibaka）一同錄製網路節目時，被問到兩名合作過的後衛柯瑞（Stephen Curry）與衛斯特布魯克（Russell Westbrook）誰更好時，杜蘭特卻毫不猶疑地選擇了前者。\n",
      "\n",
      "杜蘭特在今年夏天透過先簽後換的方式轉戰籃網，儘管受到傷勢影響本賽季可能無法如願披上籃網戰袍登場，不過近日他在與前隊友伊巴卡錄製網路節目「How Hungry Are You?」時，再度靠著犀利回答搶佔媒體版面。\n",
      "\n",
      "其中在上賽季代表暴龍出賽的伊巴卡，先是問到了杜蘭特是否認為，假使自己沒有發生受傷狀況，勇士最終能否擊敗暴龍時，杜蘭特則是回答毫無疑問：「因為如果我在上場的話，你們是不可能在家擊敗我們的。」\n",
      "\n",
      "對於過去與哈登和衛斯特布魯克一起被稱作雷霆四少，杜蘭特與伊巴卡也談論到了兩名也都已經不在雷霆的前隊友們，兩人皆認為如果當年哈登未離開雷霆轉戰火箭，將無法達成拿下年度MVP的成就，而雷霆四少也有機會在相當年輕的情況下就挺進總冠軍賽。\n",
      "\n",
      "不過當伊巴卡問到，杜蘭特的兩位前搭擋柯瑞與衛斯特布魯克誰更好時，杜蘭特卻毫不猶豫地選擇了柯瑞，並認為兩者的差別就在於外線投射能力上，不過有趣的是，杜蘭特在轉戰籃網後將與另外一位聯盟頂尖控球後衛厄文（Kyrie Irving）攜手奮戰，屆時他又會如何評比這三名生涯合作過的頂尖後衛，也讓人相當好奇。\n",
      "\n",
      "---------------------------------------\n"
     ]
    },
    {
     "data": {
      "text/html": [
       "<h1>全員發揮狂轟141分 快艇快意客場踢館大勝勇士</h1>"
      ],
      "text/plain": [
       "<IPython.core.display.HTML object>"
      ]
     },
     "metadata": {},
     "output_type": "display_data"
    },
    {
     "data": {
      "text/html": [
       "<span style=\"color:blue\">2019-10-25 13:18</span>"
      ],
      "text/plain": [
       "<IPython.core.display.HTML object>"
      ]
     },
     "metadata": {},
     "output_type": "display_data"
    },
    {
     "name": "stdout",
     "output_type": "stream",
     "text": [
      "新賽季首戰就在「洛城內戰」中拔得頭籌，快艇今日（25號）又大勝勇士，終場141以122比再下一城，全隊整體命中率高達62.5%，三分線外也有54.5%高水準發揮，讓對手新主場初亮相就踢到鐵板。\n",
      "\n",
      "快艇一開賽就展現力壓對手的如虹氣勢，前3分多鐘打出14比0攻勢，且勇士防守中樞格林（Draymond Green）更因掩護時弄傷手肘，一度退場接受治療，所幸球隊靠羅素（D'Angelo Russell）、柯瑞（Stephen Curry）接力飆分及時止血。\n",
      "\n",
      "打完上半場之後，快艇暫握有11分領先，只是到了第三節攻勢如同水壩潰堤傾瀉而出，單節狠狠灌下46分讓勇士毫無招架之力，沙米特（Landry Shamet）與派特森（Patrick Patterson）各砍進3記三分球，比賽勝負自此底定。\n",
      "\n",
      "快艇此役讓一度落後多達31分的勇士全場未曾有任何翻轉機會，其中得分最高者為攻下22分的超級替補威廉斯（Lou Williams），雷納德（Kawhi Leonard）則有21分、9助攻進帳。\n",
      "\n",
      "此外，快艇2位先發長人表現也不俗，派特森得到20分，包括6記三分球，而祖巴茲（Ivica Zubac）繳出16分、10籃板雙十成績。勇士方面，柯瑞拿到23分，但個人出現8失誤且三分僅11投2中，羅素另挹注20分、8助攻。\n",
      "\n",
      "---------------------------------------\n"
     ]
    },
    {
     "data": {
      "text/html": [
       "<h1>頂著噓聲飆30分 雷納德：很高興拿下勝利</h1>"
      ],
      "text/plain": [
       "<IPython.core.display.HTML object>"
      ]
     },
     "metadata": {},
     "output_type": "display_data"
    },
    {
     "data": {
      "text/html": [
       "<span style=\"color:blue\">2019-10-23 16:39</span>"
      ],
      "text/plain": [
       "<IPython.core.display.HTML object>"
      ]
     },
     "metadata": {},
     "output_type": "display_data"
    },
    {
     "name": "stdout",
     "output_type": "stream",
     "text": [
      "\n",
      "「這將是一個偉大的賽季，我們每場比賽都會全力以赴，讓我們開始吧。」\n",
      "\n",
      "回到家鄉洛城、加盟快艇的首戰，雷納德（Kawhi Leonard）接受來自湖人球迷的噓聲伺候，不過他很快就展現精準的中距離跳投，全場19投10中，攻下30分6籃板5助攻2抄截1阻攻，其中他在第二節獨拿16分，是球隊能夠扭轉落後局面的關鍵。最終快艇就以10分之差擊退同城的湖人。\n",
      "\n",
      "「我很高興我們上場比賽然後拿下勝利。我們先前的訓練做得很棒，我們今晚延續了這樣的狀態。」雷納德說。雷納德此戰雖然出現6次失誤，還吞下5次犯規，但瑕不掩瑜。\n",
      "\n",
      "「他為我們創造機會，他就是這麼做的。」快艇總教練瑞佛斯（Doc Rivers）說。\n",
      "\n",
      "除了雷納德的高效率穩定表現外，快艇板凳暴徒再度有出色發揮，威廉斯（Lou Williams）攻下21分7助攻5籃板，哈瑞爾（Montrezl Harrell）得到17分7籃板4助攻，快艇替補合力砍下60分，足足比湖人替補球員多了41分，成了比賽勝負的關鍵之一。\n",
      "\n",
      "談到雷納德和威廉斯的搭配情況，瑞佛斯表示：「我認為他們現在彼此之間僅相互熟悉10%到15%。他們錯過很多機會，隨著時間的推移，他們會變得越來越危險。」\n",
      "\n",
      "\n",
      "---------------------------------------\n"
     ]
    },
    {
     "data": {
      "text/html": [
       "<h1>失分創柯爾時代新高 柯瑞：檢討時場面肯定難堪</h1>"
      ],
      "text/plain": [
       "<IPython.core.display.HTML object>"
      ]
     },
     "metadata": {},
     "output_type": "display_data"
    },
    {
     "data": {
      "text/html": [
       "<span style=\"color:blue\">2019-10-25 15:12</span>"
      ],
      "text/plain": [
       "<IPython.core.display.HTML object>"
      ]
     },
     "metadata": {},
     "output_type": "display_data"
    },
    {
     "name": "stdout",
     "output_type": "stream",
     "text": [
      "今日（25號）讓快艇單場繳出62.5%整體命中率還有54.5%三分命中率，勇士不但吞下敗仗且痛失141分也寫下柯爾（Steve Kerr）執教時代最高紀錄。\n",
      "\n",
      "柯爾2014年執教勇士開始，球隊算上例行賽還有季後賽的對手單場最高得分140分，是由鵜鶘在今年1月16號所攻下，不過勇士當時憑藉傲人火力硬是拿到147分，依然摘下勝利，但對快艇就無法複製過往經驗。\n",
      "\n",
      "格林（Draymond Green）賽後難掩失望表示：「我們這場比賽表現實在糟糕透頂了，防守更是災難一場。」當被記者問到防守哪點出了問題，他更回應：「每個地方。」柯瑞（Stephen Curry）也坦承：「明天看影片檢討場面肯定很難堪。」\n",
      "\n",
      "至於柯爾自己則是指出：「這就是NBA，過去5年我們就像存在另個世界一樣，現在終於回到現實了。」他甚至補充：「這不會只是個案而已，今年我們很可能也會再面臨同樣狀況。」言下之意似乎預言防守問題將困擾球隊整季。\n",
      "\n",
      "---------------------------------------\n"
     ]
    },
    {
     "data": {
      "text/html": [
       "<h1>稱柯瑞更勝衛少 杜蘭特：哈登沒去火箭無法成MVP</h1>"
      ],
      "text/plain": [
       "<IPython.core.display.HTML object>"
      ]
     },
     "metadata": {},
     "output_type": "display_data"
    },
    {
     "data": {
      "text/html": [
       "<span style=\"color:blue\">2019-10-22 12:51</span>"
      ],
      "text/plain": [
       "<IPython.core.display.HTML object>"
      ]
     },
     "metadata": {},
     "output_type": "display_data"
    },
    {
     "name": "stdout",
     "output_type": "stream",
     "text": [
      "儘管在即將開打的新賽季中可能因傷全面缺陣，但今夏轉披布魯克林籃網戰袍的明星前鋒杜蘭特（Kevin Durant）製造話題的功力依舊，他在近日與前奧克拉荷馬雷霆隊友伊巴卡（Serge Ibaka）一同錄製網路節目時，被問到兩名合作過的後衛柯瑞（Stephen Curry）與衛斯特布魯克（Russell Westbrook）誰更好時，杜蘭特卻毫不猶疑地選擇了前者。\n",
      "\n",
      "杜蘭特在今年夏天透過先簽後換的方式轉戰籃網，儘管受到傷勢影響本賽季可能無法如願披上籃網戰袍登場，不過近日他在與前隊友伊巴卡錄製網路節目「How Hungry Are You?」時，再度靠著犀利回答搶佔媒體版面。\n",
      "\n",
      "其中在上賽季代表暴龍出賽的伊巴卡，先是問到了杜蘭特是否認為，假使自己沒有發生受傷狀況，勇士最終能否擊敗暴龍時，杜蘭特則是回答毫無疑問：「因為如果我在上場的話，你們是不可能在家擊敗我們的。」\n",
      "\n",
      "對於過去與哈登和衛斯特布魯克一起被稱作雷霆四少，杜蘭特與伊巴卡也談論到了兩名也都已經不在雷霆的前隊友們，兩人皆認為如果當年哈登未離開雷霆轉戰火箭，將無法達成拿下年度MVP的成就，而雷霆四少也有機會在相當年輕的情況下就挺進總冠軍賽。\n",
      "\n",
      "不過當伊巴卡問到，杜蘭特的兩位前搭擋柯瑞與衛斯特布魯克誰更好時，杜蘭特卻毫不猶豫地選擇了柯瑞，並認為兩者的差別就在於外線投射能力上，不過有趣的是，杜蘭特在轉戰籃網後將與另外一位聯盟頂尖控球後衛厄文（Kyrie Irving）攜手奮戰，屆時他又會如何評比這三名生涯合作過的頂尖後衛，也讓人相當好奇。\n",
      "\n",
      "---------------------------------------\n"
     ]
    },
    {
     "data": {
      "text/html": [
       "<h1>上伊巴卡節目挑戰吃蛇 杜蘭特：這條是黑曼巴？</h1>"
      ],
      "text/plain": [
       "<IPython.core.display.HTML object>"
      ]
     },
     "metadata": {},
     "output_type": "display_data"
    },
    {
     "data": {
      "text/html": [
       "<span style=\"color:blue\">2019-10-22 12:47</span>"
      ],
      "text/plain": [
       "<IPython.core.display.HTML object>"
      ]
     },
     "metadata": {},
     "output_type": "display_data"
    },
    {
     "name": "stdout",
     "output_type": "stream",
     "text": [
      "上季跨界搞自家YouTube烹飪料理頻道意外爆紅，伊巴卡（Serge Ibaka）現在更得到青睞把節目搬到主流大媒體《Bleacher Report》上，如今最新一集找來老隊友杜蘭特（Kevin Durant）前來作客，他所準備的特製料理也令人拍案叫絕。\n",
      "\n",
      "過去伊巴卡邀請雷納德（Kawhi Leonard）時，曾特製了牛鞭披薩讓隊友品嚐，而當來賓是林書豪時也作了臭豆腐，這次節目登場主流大媒體大舞台，不只來賓請來杜蘭特這樣重量人物，他掀開罩子所揭露的精心準備食物更是一條蛇。\n",
      "\n",
      "伊巴卡一開始掀開罩子前還說：「我知道你不是蛇，而且蛇自己不會吃蛇，所以我決定今天替你作的菜就是條蛇。」而揭露鍋中物確確實實就是一整條油炸過的蛇，杜蘭特也回應：「看來我今天要當蛇了，因為我可不吃。」\n",
      "\n",
      "只是在伊巴卡再三勸說之下，且跟杜蘭特保證自己也會一起陪吃，杜蘭特才終於答應試了幾口，還笑說：「這條該不會是黑曼巴吧？」顯然自己也不介意對方拿網路上過去批評其背叛字眼「蛇」來當這集料理節目主菜。\n",
      "\n",
      "---------------------------------------\n"
     ]
    },
    {
     "data": {
      "text/html": [
       "<h1>洛城內戰話題多 格林：人們都想看我們對立</h1>"
      ],
      "text/plain": [
       "<IPython.core.display.HTML object>"
      ]
     },
     "metadata": {},
     "output_type": "display_data"
    },
    {
     "data": {
      "text/html": [
       "<span style=\"color:blue\">2019-10-22 12:18</span>"
      ],
      "text/plain": [
       "<IPython.core.display.HTML object>"
      ]
     },
     "metadata": {},
     "output_type": "display_data"
    },
    {
     "name": "stdout",
     "output_type": "stream",
     "text": [
      "NBA開幕戰將在明天（23號）點燃戰火，其中兩名在今年夏天加入洛杉磯球隊的超級巨星快艇雷納德（Kawhi Leonard）與湖人戴維斯（Anthony Davis）都將首度披上新東家戰袍在主場史戴波中心亮相，兩人都直言這一刻的心情是難掩言喻。\n",
      "\n",
      "儘管生涯已兩度奪得總冠軍賽MVP，但雷納德生涯最難忘的一場比賽卻是發生在他人生的第31場職業比賽，在美國時間2012年的2月18日，雷納德跟隨馬刺出征快艇主場，他以替補出賽17分鐘拿下4分3籃板3助攻，對他來說，這場比賽甚至比總冠軍賽更讓他印象深刻。\n",
      "\n",
      "「那是我在這個球場的第一場比賽，真的很令人興奮」，在洛杉磯莫雷諾谷出生的雷納德，回想起第一次在史戴波中心參加的職業賽事時說：「這裡距離我的家鄉只有45分鐘車程，那是我在選秀獲選後第一次在球場與家人見面。」\n",
      "\n",
      "至於生涯已經拿下過NCAA冠軍與世界盃、奧運金牌的戴維斯，儘管生涯已經見過不少大場面，但仍對於在洛杉磯的第一場比賽感到興奮不已，「明天我將在這邊比賽，與我的球隊、隊友，加上這肯定會是一場高強度的競爭，又是我在洛杉磯的第一戰，我認為肯定會相當有趣」。\n",
      "\n",
      "儘管從1984年共用球場至今，湖人與快艇都多次被列為冠軍熱門球隊，但卻鮮少像今年一樣在同一年被提及，而兩隊教練與球員間更有不少從合作變為敵對關係的例子，包括上季幫助暴龍拿下冠軍的雷納德與湖人格林（Danny Green）首度拆夥，以及過去曾與詹姆斯一同幫助騎士奪冠的泰隆魯（Tyronn Lue）日前則是加入快艇教練團。\n",
      "\n",
      "對於各界都期待兩支洛城球隊能擦出激烈火花，格林則說：「他們肯定想要擊敗我們，應該說每個人都希望我們兩隊間的對立故事能夠發生，但我們要掛心的不只是他們，還包括我們自己以及所有西區的球隊。」\n",
      "\n",
      "---------------------------------------\n"
     ]
    },
    {
     "data": {
      "text/html": [
       "<h1>四年6400萬美元 馬刺提前續留墨瑞</h1>"
      ],
      "text/plain": [
       "<IPython.core.display.HTML object>"
      ]
     },
     "metadata": {},
     "output_type": "display_data"
    },
    {
     "data": {
      "text/html": [
       "<span style=\"color:blue\">2019-10-22 12:13</span>"
      ],
      "text/plain": [
       "<IPython.core.display.HTML object>"
      ]
     },
     "metadata": {},
     "output_type": "display_data"
    },
    {
     "name": "stdout",
     "output_type": "stream",
     "text": [
      "\n",
      "根據消息，墨瑞（Dejounte Murray）已經和馬刺達成提前續約的協議，雙方將簽下四年6400萬美元的合約。\n",
      "\n",
      "身高6呎5吋的墨瑞是在2016年以首輪第29順位加盟馬刺，當時他是簽下四年635萬美元的新秀合約，合約將於2020年到期。\n",
      "\n",
      "墨瑞雖然在2018-19年賽季因右膝前十字韌帶撕裂，導致賽季全部報銷，不過馬刺仍然提前送上一份續約合約，也間接肯定了墨瑞未來後場核心的地位。\n",
      "\n",
      "2017-18賽季，墨瑞累積出賽81場，其中48場擔任先發，場均得到8.1分5.7籃板2.9助攻1.2抄截，入選當年最佳防守第二隊，也是聯盟歷史上入選最佳防守陣容最年輕的球員。\n",
      "\n",
      "\n",
      "---------------------------------------\n"
     ]
    },
    {
     "data": {
      "text/html": [
       "<h1>嚴格管控球迷挑釁行為 聯盟宣佈零容忍政策</h1>"
      ],
      "text/plain": [
       "<IPython.core.display.HTML object>"
      ]
     },
     "metadata": {},
     "output_type": "display_data"
    },
    {
     "data": {
      "text/html": [
       "<span style=\"color:blue\">2019-10-22 12:13</span>"
      ],
      "text/plain": [
       "<IPython.core.display.HTML object>"
      ]
     },
     "metadata": {},
     "output_type": "display_data"
    },
    {
     "name": "stdout",
     "output_type": "stream",
     "text": [
      "上季發生幾起球迷與球員衝突事件，像是有人對衛斯特布魯克（Russell Westbrook）辱罵種族歧視字眼，還有羅瑞（Kyle Lowry）在總冠軍賽遭場邊觀眾伸手推一把，聯盟也決定新賽季將更新球迷行為守則與加重執法且會嚴懲不寬待，特別是涉及種族歧視部份。\n",
      "\n",
      "聯盟執行副總與首席安全官皮契特（Jerome Pickett）指出：「我們加入了性別與LGBTQ等這類的歧視言詞，還有其他和籃球無關批評言論。像是談到球員母親、家人還是說讀書時成績等等，這都是跟籃球無關的。」\n",
      "\n",
      "皮契特也重申了聯盟對球迷蓄意騷擾激怒球員將祭出鐵腕手段，強調這類球迷會當場遭到驅逐出場待遇，且事後還會再作調查決定是否加重刑責，最重可處終生不得進場看球。\n",
      "\n",
      "NBA工會董事羅伯茲（Michele Roberts）一方面肯定聯盟決策，另一方面也指出因應部份球迷近來越來越失控行為，如此作法確實有其必要性，「我上季到場觀賽時開始察覺到，有種缺乏公民素養氣氛瀰漫在少數觀眾之間」。\n",
      "\n",
      "---------------------------------------\n"
     ]
    },
    {
     "data": {
      "text/html": [
       "<h1>雷納德離隊不打緊 席亞康開幕戰扛暴龍大旗</h1>"
      ],
      "text/plain": [
       "<IPython.core.display.HTML object>"
      ]
     },
     "metadata": {},
     "output_type": "display_data"
    },
    {
     "data": {
      "text/html": [
       "<span style=\"color:blue\">2019-10-22 11:21</span>"
      ],
      "text/plain": [
       "<IPython.core.display.HTML object>"
      ]
     },
     "metadata": {},
     "output_type": "display_data"
    },
    {
     "name": "stdout",
     "output_type": "stream",
     "text": [
      "多倫多暴龍明天（23號）將在NBA開幕戰中進行冠軍錦旗懸掛與冠軍戒指頒獎儀式，不過對於暴龍球員與球迷來說，都知道不能沈浸在這樣的喜悅中太久，尤其是日前剛獲得暴龍球團以4年1億3000萬美元價碼續約的前鋒席亞康（Pascal Siakam），已做好準備接下雷納德（Kawhi Leonard）離隊後所留下的領袖空缺。\n",
      "\n",
      "暴龍在上賽季奪下隊史首冠後，卻面臨了總冠軍賽MVP雷納德與射手格林（Danny Green）出走洛城，讓他們在季前各方評估中再度落入不被看好的處境，不過上賽季同樣打出亮眼表現的席亞康，在與球隊續約談判暫時告一段落後，也將挺身而出挑起球隊大旗。\n",
      "\n",
      "「我認為人們已經忽略他太久了，但現在這段時光將結束，因為他將成為這支球隊的重點」，暴龍主帥諾斯（Nick Nurse）在談到席亞康新賽季將扮演的角色時說：「他總是在場上展現令人難以置信的動力，這不僅推動他上場比賽，還讓他每天都能跨出堅定的步伐不斷前進。」\n",
      "\n",
      "來自喀麥隆的席亞康透露，從加入聯盟以來自己還有另外一項重大使命，那就是為來自非洲的球員開出一條有別於以往的道路，「我想改變人們對於非洲球員的看法，告訴大家我不只是能跑、能灌、能帶來能量，我還試圖改變下一代非洲人。我希望人們能因為看到我的故事而更努力去爭取，這成為我加入聯盟後一直推使自己進步的動力之一」。\n",
      "\n",
      "對於將在沒有雷納德的情況下迎接新賽季，暴龍後衛范弗利特（Fred VanVleet）坦言，去年與雷納德攜手奮戰是種奢侈也是一種挑戰，「當他上賽季沒有出賽時，我們也找到一些樂趣，因為球的移動變得更流暢了。毫無疑問，當你志在奪冠時必須要有一名像他這樣的球員，但是我認為，當球更多的移動，每個人都樂於分享時，這肯定也會很有樂趣」。\n",
      "\n",
      "---------------------------------------\n"
     ]
    },
    {
     "data": {
      "text/html": [
       "<h1>媒體人引新解釋駁哈登走步 裁判官方推特還清白</h1>"
      ],
      "text/plain": [
       "<IPython.core.display.HTML object>"
      ]
     },
     "metadata": {},
     "output_type": "display_data"
    },
    {
     "data": {
      "text/html": [
       "<span style=\"color:blue\">2019-10-22 11:15</span>"
      ],
      "text/plain": [
       "<IPython.core.display.HTML object>"
      ]
     },
     "metadata": {},
     "output_type": "display_data"
    },
    {
     "name": "stdout",
     "output_type": "stream",
     "text": [
      "NBA日前針對官方規則中有關走步違例處增補解釋，此舉也被多數媒體專家解讀為是因哈登（James Harden）數度引發爭議的後撤步投籃難脫關係，而新賽季還沒開始才不過是熱身賽期間，哈登走步爭議就又浮上檯面。\n",
      "\n",
      "哈登這次引發爭議一球不是招牌後撤步，而是他同樣駕輕就熟的技術「歐洲步」，《ESPN》主播瓊斯（Mark Jones）提問說，哈登過去對熱火比賽快攻上籃時，被現場執法裁判抓了走步違例，但瓊斯認為這是1次誤判。\n",
      "\n",
      "瓊斯提到聯盟新增所謂針對「收球」解釋，所以哈登在收球後能再踩2步，在他看來那記歐洲步上籃是符合規則的，他也標注了NBA裁判官方推特請求釋疑，而對方之後也作出回應，證明瓊斯觀察無誤，現場裁判確實誤判了。\n",
      "He gathers with his right foot on the floor, then takes a step with his left and then right, for two steps after the gather. You're right Mark, traveling should not have been called. Appreciate hearing from one of the most informed media members! See you in the regular season. 1/ https://t.co/dTGVLajOb2— NBA Referees (@OfficialNBARefs) 2019年10月21日\n",
      "\n",
      "\n",
      "---------------------------------------\n"
     ]
    },
    {
     "data": {
      "text/html": [
       "<h1>希爾德達成四年合約 最多可拿1.06億美元</h1>"
      ],
      "text/plain": [
       "<IPython.core.display.HTML object>"
      ]
     },
     "metadata": {},
     "output_type": "display_data"
    },
    {
     "data": {
      "text/html": [
       "<span style=\"color:blue\">2019-10-22 11:13</span>"
      ],
      "text/plain": [
       "<IPython.core.display.HTML object>"
      ]
     },
     "metadata": {},
     "output_type": "display_data"
    },
    {
     "name": "stdout",
     "output_type": "stream",
     "text": [
      "\n",
      "根據最新消息，沙加緬度國王已經和陣中得分好手希爾德（Buddy Hield）達成提前續約協議，雙方將簽下四年至少8600萬美元的合約，若加上激勵獎金，總價值更可達到1.06億美元。\n",
      "\n",
      "希爾德是在2016年以第6順位加入鵜鶘，2017年季中隨著交易轉戰國王；2018-19年賽季，希爾德表現突飛猛進，82場全勤，平均攻下20.7分5籃板2.5助攻，每場可以轟進3.4顆三分球，三分命中率更達到42.7%。\n",
      "\n",
      "希爾德的團隊原本傳出希望拿到四年近1.1億美元的合約，而拒絕國王開出的四年9000萬美元合約，不過希爾德最終還是決定提前和國王完成續約。\n",
      "\n",
      "據了解，希爾德這份合約保障金額為8600萬美元，剩餘2000萬美元為激勵獎金，其中800萬美元的獎金是相對容易達成，但若要達到1.06億美元的上限，所需的條件就更為嚴苛。因此，希爾德與國王所簽下的續約價碼很可能將會是四年9400萬美元。\n",
      "\n",
      "另一方面，薪資專家馬克斯（Bobby Marks）也透露，希爾德的合約將會是遞減合約。\n",
      "\n",
      "國王在今年暑假已經和另一位前鋒巴恩斯（Harrison Barnes）達成協議，雙方簽下四年8500萬美元的合約。\n",
      "\n",
      "\n",
      "---------------------------------------\n"
     ]
    },
    {
     "data": {
      "text/html": [
       "<h1>破除交易傳言 溜馬續約沙波尼斯</h1>"
      ],
      "text/plain": [
       "<IPython.core.display.HTML object>"
      ]
     },
     "metadata": {},
     "output_type": "display_data"
    },
    {
     "data": {
      "text/html": [
       "<span style=\"color:blue\">2019-10-22 10:35</span>"
      ],
      "text/plain": [
       "<IPython.core.display.HTML object>"
      ]
     },
     "metadata": {},
     "output_type": "display_data"
    },
    {
     "name": "stdout",
     "output_type": "stream",
     "text": [
      "幾天前《The Athletic》記者阿米克（Sam Amick）獨家爆料，因為遲遲和沙波尼斯（Domantas Sabonis）談不妥提前續約一事，溜馬積極接洽其他球隊商談交易可能，不過最新消息指出，雙方已然達成繼續合作協議。\n",
      "\n",
      "沙波尼斯預計與溜馬簽下4年7700萬美元合約，其經紀人勞倫斯（Greg Lawrence）也指出，如果滿足激勵條款的話，合約總額可以上看8500萬美元，其中包括像是入選全明星賽或年度最佳陣容。\n",
      "\n",
      "「我對於能夠留在溜馬感到十分振奮，這裡一直是我想要待的地方」，沙波尼斯簽約後透過聲明表示，而溜馬總裁普利查德（Kevin Pritchard）則說：「我們都很喜愛沙波尼斯為球隊帶來的強悍作風，迫不及待看到他下季一展長才。」\n",
      "\n",
      "---------------------------------------\n"
     ]
    },
    {
     "data": {
      "text/html": [
       "<h1>開幕戰洛城對決引關注 快艇全面解放雷納德</h1>"
      ],
      "text/plain": [
       "<IPython.core.display.HTML object>"
      ]
     },
     "metadata": {},
     "output_type": "display_data"
    },
    {
     "data": {
      "text/html": [
       "<span style=\"color:blue\">2019-10-22 10:21</span>"
      ],
      "text/plain": [
       "<IPython.core.display.HTML object>"
      ]
     },
     "metadata": {},
     "output_type": "display_data"
    },
    {
     "name": "stdout",
     "output_type": "stream",
     "text": [
      "NBA新賽季將在明天（23號）揭開序幕，今年夏天大力補強的「洛城雙雄」湖人與快艇將在首日正面交鋒，其中在上個賽季獲選總冠軍賽MVP的雷納德（Kawhi Leonard）在轉戰快艇後的首場例行賽，就獲得教練團全面解放，不會受到上場時間的限制，而他和湖人詹姆斯（LeBron James）的對決，成為此戰最大話題。\n",
      "\n",
      "快艇今年夏天大手筆補強，不僅簽下雷納德，還與雷霆交易來喬治（Paul George），雖然喬治受到肩膀傷勢動刀影響，將不會參與明天的開幕戰，但季前熱身賽僅出賽兩場的雷納德，已經獲得教練團開綠燈，將不會在明天的開幕戰中限制他的上場時間。\n",
      "\n",
      "快艇總教練瑞佛斯（Doc Rivers）談到雷納德的訓練狀況時說：「這很難以解釋，他既瘋狂又成熟、嚴肅，我認為他向我們的年輕球員和的年輕教練，展現了對於訓練的認真態度。我曾經見過一些態度認真的球員，雖然我不會說出他們的名字，但我卻不曾見過像他這樣的狀況。」\n",
      "\n",
      "僅管在季前熱身賽上場時間並不多，但雷納德坦言，今年自己進入季前訓練營時的身體狀態，可能是過去幾個賽季以來最好的一次，也做好為球隊贏球的準備，「我來到這邊就是想幫助球隊贏球，嘗試建立一種勝利文化，並讓所有人知道我們要一路打到四月」。\n",
      "\n",
      "而快艇與雷納德在明天開幕戰的對手湖人，同樣在今年夏天補進明星前鋒戴維斯（Anthony Davis），加上頭牌球星詹姆斯新賽季將被安排更多控球角色，將呈獻全新氣象，瑞佛斯說：「詹姆斯絕對是史上最優秀的傳球手之一，大家總是拿他與喬丹（Michael Jordan）比較，但我認為他更像魔術強森（Magic Johnson）。」\n",
      "\n",
      "---------------------------------------\n"
     ]
    },
    {
     "data": {
      "text/html": [
       "<h1>雷納德聯手板凳暴徒 快艇首戰衝破湖人</h1>"
      ],
      "text/plain": [
       "<IPython.core.display.HTML object>"
      ]
     },
     "metadata": {},
     "output_type": "display_data"
    },
    {
     "data": {
      "text/html": [
       "<span style=\"color:blue\">2019-10-23 13:29</span>"
      ],
      "text/plain": [
       "<IPython.core.display.HTML object>"
      ]
     },
     "metadata": {},
     "output_type": "display_data"
    },
    {
     "name": "stdout",
     "output_type": "stream",
     "text": [
      "\n",
      "眾所矚目的「洛城大戰」在今天點燃戰火，雷納德（Kawhi Leonard）全場攻下30分6籃板5助攻，快艇板凳部隊則是合力砍下60分。快艇在第二節逐漸掌握優勢，雖然第三節尾聲一波亂流讓湖人追平，但第四節穩住陣腳，又將分數拉開，最終以112比102擊敗湖人，取得開季首勝。\n",
      "\n",
      "這場比賽雙方都有主力球員面臨傷病麻煩，快艇傷了喬治（Paul George），湖人則是庫茲瑪（Kyle Kuzma）。一開賽湖人就展現猛烈攻勢，開局打了13比2的攻勢，在比賽中先聲奪人，首節取得領先優勢；不過快艇板凳部隊隨即發揮，加上雷納德精準中距離跳投，快艇第二節砍進40分，反而在上半場以62比54領先湖人。\n",
      "\n",
      "快艇的快節奏配合在下半場讓湖人難以應付，一度取得兩位數領先；不過接下來快艇外線命中率下滑，湖人在詹姆斯（LeBron James）場邊休息之際，反倒殺出一波15比3攻勢，三節結束雙方戰成平手。\n",
      "\n",
      "第四節之初，快艇找回手感，先是打了一波7比0的進攻，湖人不甘示弱連追兩球，快艇替補球員再度發威，又殺出一波11比2的攻勢，比分再度拉開。雷納德掌控節奏，哈瑞爾（Montrezl Harrell）也趁虛籃下建功，湖人反撲無力，只能目送快艇揚長而去。\n",
      "\n",
      "上季決賽MVP雷納德重返故鄉，此役上場32分鐘，雖然出現6次失誤還吞下5犯，但全場19投10中，還是砍下30分6籃板5助攻2抄截。\n",
      "\n",
      "以威廉斯（Lou Williams）為首的快艇板凳暴徒依舊強悍，威廉斯14投8中，拿下21分7助攻5籃板，哈瑞爾11投7中，得到17分7籃板4助攻，哈克雷斯（Moe Harkless）10分4籃板4抄截2阻攻，格林（JaMychal Green）12分6籃板。\n",
      "\n",
      "戴維斯披上湖人戰袍的首場正式比賽，21投8中，包括14罰9中，獨拿25分10籃板5助攻2阻攻1抄截；詹姆斯19投7中，得到18分9籃板8助攻。\n",
      "\n",
      "格林可說是湖人可以咬住比分的關鍵，全場14投10中，三分球9投7中，攻下全隊最高28分，外加7籃板2抄截，其中第三節獨拿18分。湖人陣中除了這3人之外，無人得分超過雙位數。\n",
      "\n",
      "---------------------------------------\n"
     ]
    },
    {
     "data": {
      "text/html": [
       "<h1>稱柯瑞更勝衛少 杜蘭特：哈登沒去火箭無法成MVP</h1>"
      ],
      "text/plain": [
       "<IPython.core.display.HTML object>"
      ]
     },
     "metadata": {},
     "output_type": "display_data"
    },
    {
     "data": {
      "text/html": [
       "<span style=\"color:blue\">2019-10-22 12:51</span>"
      ],
      "text/plain": [
       "<IPython.core.display.HTML object>"
      ]
     },
     "metadata": {},
     "output_type": "display_data"
    },
    {
     "name": "stdout",
     "output_type": "stream",
     "text": [
      "儘管在即將開打的新賽季中可能因傷全面缺陣，但今夏轉披布魯克林籃網戰袍的明星前鋒杜蘭特（Kevin Durant）製造話題的功力依舊，他在近日與前奧克拉荷馬雷霆隊友伊巴卡（Serge Ibaka）一同錄製網路節目時，被問到兩名合作過的後衛柯瑞（Stephen Curry）與衛斯特布魯克（Russell Westbrook）誰更好時，杜蘭特卻毫不猶疑地選擇了前者。\n",
      "\n",
      "杜蘭特在今年夏天透過先簽後換的方式轉戰籃網，儘管受到傷勢影響本賽季可能無法如願披上籃網戰袍登場，不過近日他在與前隊友伊巴卡錄製網路節目「How Hungry Are You?」時，再度靠著犀利回答搶佔媒體版面。\n",
      "\n",
      "其中在上賽季代表暴龍出賽的伊巴卡，先是問到了杜蘭特是否認為，假使自己沒有發生受傷狀況，勇士最終能否擊敗暴龍時，杜蘭特則是回答毫無疑問：「因為如果我在上場的話，你們是不可能在家擊敗我們的。」\n",
      "\n",
      "對於過去與哈登和衛斯特布魯克一起被稱作雷霆四少，杜蘭特與伊巴卡也談論到了兩名也都已經不在雷霆的前隊友們，兩人皆認為如果當年哈登未離開雷霆轉戰火箭，將無法達成拿下年度MVP的成就，而雷霆四少也有機會在相當年輕的情況下就挺進總冠軍賽。\n",
      "\n",
      "不過當伊巴卡問到，杜蘭特的兩位前搭擋柯瑞與衛斯特布魯克誰更好時，杜蘭特卻毫不猶豫地選擇了柯瑞，並認為兩者的差別就在於外線投射能力上，不過有趣的是，杜蘭特在轉戰籃網後將與另外一位聯盟頂尖控球後衛厄文（Kyrie Irving）攜手奮戰，屆時他又會如何評比這三名生涯合作過的頂尖後衛，也讓人相當好奇。\n",
      "\n",
      "---------------------------------------\n"
     ]
    },
    {
     "data": {
      "text/html": [
       "<h1>全員發揮狂轟141分 快艇快意客場踢館大勝勇士</h1>"
      ],
      "text/plain": [
       "<IPython.core.display.HTML object>"
      ]
     },
     "metadata": {},
     "output_type": "display_data"
    },
    {
     "data": {
      "text/html": [
       "<span style=\"color:blue\">2019-10-25 13:18</span>"
      ],
      "text/plain": [
       "<IPython.core.display.HTML object>"
      ]
     },
     "metadata": {},
     "output_type": "display_data"
    },
    {
     "name": "stdout",
     "output_type": "stream",
     "text": [
      "新賽季首戰就在「洛城內戰」中拔得頭籌，快艇今日（25號）又大勝勇士，終場141以122比再下一城，全隊整體命中率高達62.5%，三分線外也有54.5%高水準發揮，讓對手新主場初亮相就踢到鐵板。\n",
      "\n",
      "快艇一開賽就展現力壓對手的如虹氣勢，前3分多鐘打出14比0攻勢，且勇士防守中樞格林（Draymond Green）更因掩護時弄傷手肘，一度退場接受治療，所幸球隊靠羅素（D'Angelo Russell）、柯瑞（Stephen Curry）接力飆分及時止血。\n",
      "\n",
      "打完上半場之後，快艇暫握有11分領先，只是到了第三節攻勢如同水壩潰堤傾瀉而出，單節狠狠灌下46分讓勇士毫無招架之力，沙米特（Landry Shamet）與派特森（Patrick Patterson）各砍進3記三分球，比賽勝負自此底定。\n",
      "\n",
      "快艇此役讓一度落後多達31分的勇士全場未曾有任何翻轉機會，其中得分最高者為攻下22分的超級替補威廉斯（Lou Williams），雷納德（Kawhi Leonard）則有21分、9助攻進帳。\n",
      "\n",
      "此外，快艇2位先發長人表現也不俗，派特森得到20分，包括6記三分球，而祖巴茲（Ivica Zubac）繳出16分、10籃板雙十成績。勇士方面，柯瑞拿到23分，但個人出現8失誤且三分僅11投2中，羅素另挹注20分、8助攻。\n",
      "\n",
      "---------------------------------------\n"
     ]
    },
    {
     "data": {
      "text/html": [
       "<h1>頂著噓聲飆30分 雷納德：很高興拿下勝利</h1>"
      ],
      "text/plain": [
       "<IPython.core.display.HTML object>"
      ]
     },
     "metadata": {},
     "output_type": "display_data"
    },
    {
     "data": {
      "text/html": [
       "<span style=\"color:blue\">2019-10-23 16:39</span>"
      ],
      "text/plain": [
       "<IPython.core.display.HTML object>"
      ]
     },
     "metadata": {},
     "output_type": "display_data"
    },
    {
     "name": "stdout",
     "output_type": "stream",
     "text": [
      "\n",
      "「這將是一個偉大的賽季，我們每場比賽都會全力以赴，讓我們開始吧。」\n",
      "\n",
      "回到家鄉洛城、加盟快艇的首戰，雷納德（Kawhi Leonard）接受來自湖人球迷的噓聲伺候，不過他很快就展現精準的中距離跳投，全場19投10中，攻下30分6籃板5助攻2抄截1阻攻，其中他在第二節獨拿16分，是球隊能夠扭轉落後局面的關鍵。最終快艇就以10分之差擊退同城的湖人。\n",
      "\n",
      "「我很高興我們上場比賽然後拿下勝利。我們先前的訓練做得很棒，我們今晚延續了這樣的狀態。」雷納德說。雷納德此戰雖然出現6次失誤，還吞下5次犯規，但瑕不掩瑜。\n",
      "\n",
      "「他為我們創造機會，他就是這麼做的。」快艇總教練瑞佛斯（Doc Rivers）說。\n",
      "\n",
      "除了雷納德的高效率穩定表現外，快艇板凳暴徒再度有出色發揮，威廉斯（Lou Williams）攻下21分7助攻5籃板，哈瑞爾（Montrezl Harrell）得到17分7籃板4助攻，快艇替補合力砍下60分，足足比湖人替補球員多了41分，成了比賽勝負的關鍵之一。\n",
      "\n",
      "談到雷納德和威廉斯的搭配情況，瑞佛斯表示：「我認為他們現在彼此之間僅相互熟悉10%到15%。他們錯過很多機會，隨著時間的推移，他們會變得越來越危險。」\n",
      "\n",
      "\n",
      "---------------------------------------\n"
     ]
    },
    {
     "data": {
      "text/html": [
       "<h1>失分創柯爾時代新高 柯瑞：檢討時場面肯定難堪</h1>"
      ],
      "text/plain": [
       "<IPython.core.display.HTML object>"
      ]
     },
     "metadata": {},
     "output_type": "display_data"
    },
    {
     "data": {
      "text/html": [
       "<span style=\"color:blue\">2019-10-25 15:12</span>"
      ],
      "text/plain": [
       "<IPython.core.display.HTML object>"
      ]
     },
     "metadata": {},
     "output_type": "display_data"
    },
    {
     "name": "stdout",
     "output_type": "stream",
     "text": [
      "今日（25號）讓快艇單場繳出62.5%整體命中率還有54.5%三分命中率，勇士不但吞下敗仗且痛失141分也寫下柯爾（Steve Kerr）執教時代最高紀錄。\n",
      "\n",
      "柯爾2014年執教勇士開始，球隊算上例行賽還有季後賽的對手單場最高得分140分，是由鵜鶘在今年1月16號所攻下，不過勇士當時憑藉傲人火力硬是拿到147分，依然摘下勝利，但對快艇就無法複製過往經驗。\n",
      "\n",
      "格林（Draymond Green）賽後難掩失望表示：「我們這場比賽表現實在糟糕透頂了，防守更是災難一場。」當被記者問到防守哪點出了問題，他更回應：「每個地方。」柯瑞（Stephen Curry）也坦承：「明天看影片檢討場面肯定很難堪。」\n",
      "\n",
      "至於柯爾自己則是指出：「這就是NBA，過去5年我們就像存在另個世界一樣，現在終於回到現實了。」他甚至補充：「這不會只是個案而已，今年我們很可能也會再面臨同樣狀況。」言下之意似乎預言防守問題將困擾球隊整季。\n",
      "\n",
      "---------------------------------------\n"
     ]
    },
    {
     "data": {
      "text/html": [
       "<h1>布朗續約4年1.15億 綠衫軍總管讚逐冠要角</h1>"
      ],
      "text/plain": [
       "<IPython.core.display.HTML object>"
      ]
     },
     "metadata": {},
     "output_type": "display_data"
    },
    {
     "data": {
      "text/html": [
       "<span style=\"color:blue\">2019-10-22 10:00</span>"
      ],
      "text/plain": [
       "<IPython.core.display.HTML object>"
      ]
     },
     "metadata": {},
     "output_type": "display_data"
    },
    {
     "name": "stdout",
     "output_type": "stream",
     "text": [
      "在NBA新賽季開打前夕，聯盟幾名年輕潛力球員都在今天（22號）陸續與球隊完成續約，其中波士頓塞爾蒂克前鋒布朗（Jaylen Brown）就續簽4年總價1億1500萬美元（註：約台幣35億）合約，未來綠衫軍也將繼續以他和前鋒泰托姆（Jayson Tatum）為核心來建構球隊。\n",
      "\n",
      "在主控厄文（Kyrie Irving）轉戰籃網後，綠衫軍也確定了球隊未來將以布朗和泰托姆為核心的建隊藍圖，而在今年夏天歷經世界盃美國男籃國家隊洗禮後，布朗也在今天獲得一張4年1億1500萬美元的續約，比最初塞爾蒂克所開出的4年8000萬美元價碼又高出一截，展現球團留人決心。\n",
      "\n",
      "塞爾蒂克總管安吉（Danny Ainge）指出，布朗在過去三年取得明顯進步，且在攻守兩端都已經是一名優秀的球員，且今年才22歲的他展現了良好的練球態度與職業素養，「他不但可以得分還能防守聯盟最好的球員，上賽季他在球隊的角色定位上也做得很棒，他肯定會是我們衝擊總冠軍的重要一員」。\n",
      "\n",
      "布朗也成為安吉任內，繼2009年的朗多（Rajon Rondo）後，再一位在新秀合約結束前與球團達成續約的球員，上個賽季布朗雖然在回歸替補的情況下，平均上場時間稍減到每場26分鐘，但仍有平均13分4.2籃板的數據。\n",
      "\n",
      "---------------------------------------\n"
     ]
    },
    {
     "data": {
      "text/html": [
       "<h1>麥考之後再找來勇士棄將 騎士出手網羅麥克金尼</h1>"
      ],
      "text/plain": [
       "<IPython.core.display.HTML object>"
      ]
     },
     "metadata": {},
     "output_type": "display_data"
    },
    {
     "data": {
      "text/html": [
       "<span style=\"color:blue\">2019-10-22 09:53</span>"
      ],
      "text/plain": [
       "<IPython.core.display.HTML object>"
      ]
     },
     "metadata": {},
     "output_type": "display_data"
    },
    {
     "name": "stdout",
     "output_type": "stream",
     "text": [
      "由於內線戰力遭遇傷病來襲打擊，勇士被迫犧牲前鋒麥克金尼（Alfonzo McKinnie），清出名單缺額給克里斯（Marquese Chriss），而如今騎士也在麥克金尼尚處於讓渡名單期限內出手，接收了其原先與勇士所簽下的合約。\n",
      "\n",
      "麥克金尼新賽季非保障合約要等到明年1月11號，騎士才必須決定是否要轉為全額保障，球隊有很充足時間審視他究竟符不符合戰力需求。值得一提的是，騎士過去曾挖角勇士鋒線球員，網羅麥考（Patrick McCaw）當時還被勇士控告違規。\n",
      "\n",
      "麥克金尼上季在勇士出賽72場比賽，平均上場時間為13.9分鐘，主要扮演角色為所謂「3D球員」，到了騎士後將與歐斯曼（Cedi Osman）還有2位菜鳥溫德勒（Dylan Windler）以及波特（Kevin Porter Jr.）分擔鋒線輪替時間。\n",
      "\n",
      "---------------------------------------\n"
     ]
    },
    {
     "data": {
      "text/html": [
       "<h1>擠不進活塞開季大名單 老將強森重返NBA再等等</h1>"
      ],
      "text/plain": [
       "<IPython.core.display.HTML object>"
      ]
     },
     "metadata": {},
     "output_type": "display_data"
    },
    {
     "data": {
      "text/html": [
       "<span style=\"color:blue\">2019-10-22 09:24</span>"
      ],
      "text/plain": [
       "<IPython.core.display.HTML object>"
      ]
     },
     "metadata": {},
     "output_type": "display_data"
    },
    {
     "name": "stdout",
     "output_type": "stream",
     "text": [
      "上季在Big 3職業聯盟打出良好表現吸引NBA球探關注，老將強森（Joe Johnson）得到不少球隊青睞，最後他選擇和活塞簽下訓練營合約，力拚擠進15人開季名單中的最後1個空缺，可惜球隊最後放棄了留下強森。\n",
      "\n",
      "《Yahoo Sports》記者海恩斯（Chris Haynes）日前就指出，活塞已決定留下和強森一同爭奪大名單最後一席的長人伍德（Christian Wood），但他和底特律當地媒體也都指出，這不代表說強森就已經遭到淘汰。\n",
      "\n",
      "報導指出，活塞一直尋求運用交易方式再空出陣容名額，其中提到加洛威（Langston Galloway）或湯瑪斯（Khyri Thomas）都可能釋出清對象，只是如今看來2人賣相顯然不佳，於是乎只能犧牲合約非保障的強森。\n",
      "\n",
      "---------------------------------------\n"
     ]
    },
    {
     "data": {
      "text/html": [
       "<h1>狀元威廉森右膝動刀 鮑爾：他會強勢回歸</h1>"
      ],
      "text/plain": [
       "<IPython.core.display.HTML object>"
      ]
     },
     "metadata": {},
     "output_type": "display_data"
    },
    {
     "data": {
      "text/html": [
       "<span style=\"color:blue\">2019-10-22 09:01</span>"
      ],
      "text/plain": [
       "<IPython.core.display.HTML object>"
      ]
     },
     "metadata": {},
     "output_type": "display_data"
    },
    {
     "name": "stdout",
     "output_type": "stream",
     "text": [
      "美國職籃NBA選秀狀元、紐奧良鵜鶘的威廉森（Zion Williamson）今天（22號）接受右膝關節鏡手術，預計將缺席兩個月。鵜鶘表示，威廉森的傷勢確診為外側半月板撕裂，能回到場上的時間，預計是在6到8週後。\n",
      "\n",
      "2019年NBA選秀會，19歲的威廉森被鵜鶘在第1輪第1順位選上，他因為持續感到疼痛，在18日接受膝蓋檢查。威廉森是繼詹姆斯（LeBron James）之後，最讓NBA球迷期待的球員，他在大學時最著名的事蹟，就是在比賽中「穿爆」耐吉（Nike）球鞋。\n",
      "\n",
      "威廉森在季前熱身賽為鵜鶘打了4場比賽，平均每場比賽可拿下23.3分、6.5籃板、2.3助攻，投籃命中率高達71.4%。鵜鶘季外把心懷不滿的明星戴維斯（Anthony Davis）交易到洛杉磯湖人，隨後迎來新面孔威廉森。根據球隊釋出的計畫，威廉森可望在12月中，或接近2020年初時，正式投入NBA比賽。\n",
      "\n",
      "鵜鶘明天將在客場面對衛冕軍多倫多暴龍。在今天的手術前，威廉森的隊友已經事先知道，他們在開幕戰將無法與這個新來的大個兒並肩作戰。後衛瑞迪克（J.J. Redick）說：「我們球隊的陣容是很有深度的，我們將在沒有他（指威廉森）的情況下盡可能保持（好成績），不諱言的，我們需要他歸隊，但希望他能慢慢來，並能完全康復。」\n",
      "\n",
      "鵜鶘控球後衛鮑爾（Lonzo Ball）則說：「我們必須守住，直到他（註：指威廉森）回來為止，他仍然在隊上，這和他必須錯過整個球季的狀況不同，他得缺席幾場比賽，但他會強勢回歸。」\n",
      "\n",
      "---------------------------------------\n"
     ]
    },
    {
     "data": {
      "text/html": [
       "<h1>威廉森將休6到8周 瑞迪克：我們是戰力深厚隊伍</h1>"
      ],
      "text/plain": [
       "<IPython.core.display.HTML object>"
      ]
     },
     "metadata": {},
     "output_type": "display_data"
    },
    {
     "data": {
      "text/html": [
       "<span style=\"color:blue\">2019-10-22 08:53</span>"
      ],
      "text/plain": [
       "<IPython.core.display.HTML object>"
      ]
     },
     "metadata": {},
     "output_type": "display_data"
    },
    {
     "name": "stdout",
     "output_type": "stream",
     "text": [
      "選秀狀元威廉森（Zion Williamson）傳出接受右膝半月板關節鏡手術的消息，鵜鶘球團宣佈他預計將休養6至8周，意味著前20到27場賽事都將看不到威廉森的身影，被不少專家看好是西區季後賽黑馬的鵜鶘一開季就將面臨考驗。\n",
      "\n",
      "而明天對上暴龍的開幕戰鵜鶘也預計讓英格倫（Brandon Ingram）頂上威廉森的先發空缺，並搭配上鮑爾（Lonzo Ball）、瑞迪克（JJ Redick）、哈勒戴（Jrue Holiday）與中鋒費佛斯（Derrick Favors），組成先發五人陣容。\n",
      "\n",
      "對於球隊在開季前遭遇威廉森的傷勢問題，瑞迪克今天（22號）受訪時坦言並未影響到球隊其他球員對於新賽季的期待，「這將是新賽季的開端，我們仍可以展現出球隊最真實的比賽，並與其他人競爭。我們有一支戰力深厚的隊伍，儘管沒有威廉森我們仍會盡力拿出最佳表現，不過，很顯然的我們也需要他的歸來，希望他能夠盡快康復」。\n",
      "\n",
      "---------------------------------------\n"
     ]
    },
    {
     "data": {
      "text/html": [
       "<h1>接受右膝半月板關節鏡手術 威廉森缺席6至8周</h1>"
      ],
      "text/plain": [
       "<IPython.core.display.HTML object>"
      ]
     },
     "metadata": {},
     "output_type": "display_data"
    },
    {
     "data": {
      "text/html": [
       "<span style=\"color:blue\">2019-10-22 08:40</span>"
      ],
      "text/plain": [
       "<IPython.core.display.HTML object>"
      ]
     },
     "metadata": {},
     "output_type": "display_data"
    },
    {
     "name": "stdout",
     "output_type": "stream",
     "text": [
      "NBA新賽季將在明天(（23號）舉行2場開幕戰，其中將迎戰衛冕軍多倫多暴龍的紐奧良鵜鶘，卻在今天傳出選秀狀元威廉森（Zion Williamson）接受右膝半月板關節鏡手術的消息，預計將休養6至8周，也代表球季前4分之1賽季將無法見到威廉森出賽身影。\n",
      "\n",
      "威廉森在今年頂著狀元光環加盟鵜鶘後，夏季聯賽僅出賽9分鐘就因為左膝蓋受傷提前報銷，不過他在季前熱身賽卻展現球迷所期待的身手，4場比賽繳出平均23.3分6.5籃板以及投籃命中率7成14的亮眼數據，不過在對陣馬刺的比賽中他再度受傷，讓鵜鶘球團隨即宣布他將缺席接下來幾周賽事。\n",
      "\n",
      "儘管鵜鶘球團一再強調威廉森的傷勢並不嚴重，不過今天仍傳出他進行了右膝關節鏡手術消息，且將至少缺席六到八周賽事，也代表著鵜鶘新賽季的前20到27場賽事都將看不到威廉森的身影。\n",
      "\n",
      "---------------------------------------\n"
     ]
    },
    {
     "data": {
      "text/html": [
       "<h1>開幕戰將到來 詹姆斯：像開學第一天一樣</h1>"
      ],
      "text/plain": [
       "<IPython.core.display.HTML object>"
      ]
     },
     "metadata": {},
     "output_type": "display_data"
    },
    {
     "data": {
      "text/html": [
       "<span style=\"color:blue\">2019-10-21 13:53</span>"
      ],
      "text/plain": [
       "<IPython.core.display.HTML object>"
      ]
     },
     "metadata": {},
     "output_type": "display_data"
    },
    {
     "name": "stdout",
     "output_type": "stream",
     "text": [
      "NBA新球季即將在台灣時間23日展開，首日就要上演「洛城內戰」，湖人隊球星詹姆斯（LeBron James）也談到及將到來的比賽，比喻說感覺就好像開學的第一天一樣，精神上已準備好要面對比賽。\n",
      "\n",
      "台灣時間23日上午10點30分兩支洛杉磯球隊就要展開交手，今夏兩隊紛紛進行補強，湖人網羅戴維斯（Anthony Davis）與「詹皇」攜手，快艇隊則是迎來上季FMVP雷納德（Kawhi Leonard）及喬治（Paul George），頓時讓兩隊成為眾所矚目的焦點。\n",
      "\n",
      "「精神上我已經準備好了，不過就身體角度而言，我們都還在調整至比賽的狀態」，詹姆斯說：「最棒的方式就是多打比賽，我們還必須要提升季前賽的強度，比賽從周二（美國時間22日）就開始起算，心理層面已經進行了轉變。」\n",
      "\n",
      "上個球季詹姆斯遭遇傷病挑戰，因在與勇士隊的「耶誕大戰」中拉傷腹股溝，也讓他缺席了不少比賽，球隊戰績也在他缺陣情況下直直落，最終無緣季後賽。面對新球季即將到來，又是在例行賽首日就登場，詹姆斯說：「開幕戰很棒，我感覺這就好比開學第一天回到學校的感覺，前一晚整理好衣服，那種回歸正題的興奮感。」\n",
      "\n",
      "---------------------------------------\n"
     ]
    },
    {
     "data": {
      "text/html": [
       "<h1>自豪湖人團隊戰力 戴維斯坦言如釋重負</h1>"
      ],
      "text/plain": [
       "<IPython.core.display.HTML object>"
      ]
     },
     "metadata": {},
     "output_type": "display_data"
    },
    {
     "data": {
      "text/html": [
       "<span style=\"color:blue\">2019-10-21 12:51</span>"
      ],
      "text/plain": [
       "<IPython.core.display.HTML object>"
      ]
     },
     "metadata": {},
     "output_type": "display_data"
    },
    {
     "name": "stdout",
     "output_type": "stream",
     "text": [
      "經過熱身賽與湖人新陣容還有明星搭檔詹姆斯（LeBron James）磨合後，戴維斯（Anthony Davis）顯然對於自己目前處境滿意地不得了，他直呼自己終於不用再承擔過去沈重負擔，而只要專注扮演於球隊指派角色。\n",
      "\n",
      "戴維斯說：「現在真的卸下我身上重任，能知道自己不用做很多，每個人都有角色定位，這點真的很好，我們現在整個陣容上下都不缺得分的人，我不用再每波進攻都承擔一切。」此外，他也分享季前熱身賽場下軼事來說明。\n",
      "\n",
      "「先前對勇士1場比賽半場休息時，我跑去跟詹姆斯說，這是長久以來我第一次可以半場只拿5分，不過我們球隊領先對手30分」，戴維斯指出，他對於新賽季也表達相當樂觀態度。\n",
      "\n",
      "他表示：「我們打起球來是相互搭配的，彼此支持。新賽季肯定會是充滿樂趣，因為我們球轉移作得很出色，協防上表現也十分理想，我們都知道要贏球必須是靠團隊，這也是球隊成軍以來就設下的標準。」\n",
      "\n",
      "---------------------------------------\n"
     ]
    },
    {
     "data": {
      "text/html": [
       "<h1>想聯手好友唐斯與布克 羅素預留共組3巨頭伏筆</h1>"
      ],
      "text/plain": [
       "<IPython.core.display.HTML object>"
      ]
     },
     "metadata": {},
     "output_type": "display_data"
    },
    {
     "data": {
      "text/html": [
       "<span style=\"color:blue\">2019-10-21 12:17</span>"
      ],
      "text/plain": [
       "<IPython.core.display.HTML object>"
      ]
     },
     "metadata": {},
     "output_type": "display_data"
    },
    {
     "name": "stdout",
     "output_type": "stream",
     "text": [
      "日前和其他2位高中時代起結識的好友布克（Devin Booker）與唐斯（Karl-Anthony Towns）拍攝雜誌封面，勇士後衛羅素（D'Angelo Russell）為彼此生涯預留伏筆，他指出有朝一日3人將會效力同一支球隊。\n",
      "\n",
      "羅素是在結尾幕後花絮時對攝影鏡頭說：「我們一定還要再拍一次，當我們一起效力同一隊的時候，嘿，別把畫面切掉，你們要把這給錄下來，當我們之後有朝一日同隊，我不知道會說是哪隊，因為我也不知道，但我們到時一定要再拍一次。」\n",
      "\n",
      "當然這不是羅素、唐斯與布克3人友情首度引發關於彼此動向猜測，今年成為受限自由球員的羅素一度就盛傳很可能合體好友，無論是灰狼或者太陽都被認為很有機會勝出，只是最終殺出了勇士這位程咬金讓此事破局。\n",
      "\n",
      "---------------------------------------\n"
     ]
    },
    {
     "data": {
      "text/html": [
       "<h1>勇士內線傳利多 柯爾：魯尼有望開幕戰先發</h1>"
      ],
      "text/plain": [
       "<IPython.core.display.HTML object>"
      ]
     },
     "metadata": {},
     "output_type": "display_data"
    },
    {
     "data": {
      "text/html": [
       "<span style=\"color:blue\">2019-10-21 11:55</span>"
      ],
      "text/plain": [
       "<IPython.core.display.HTML object>"
      ]
     },
     "metadata": {},
     "output_type": "display_data"
    },
    {
     "name": "stdout",
     "output_type": "stream",
     "text": [
      "上個球季末遭遇鎖骨骨折仍帶傷上陣拚戰總冠軍，勇士中鋒魯尼（Kevon Looney）今夏又拉傷腿筋缺席幾乎整個季前熱身賽，不過今天（21號）從勇士主帥柯爾（Steve Kerr）口中傳來利多消息，有望在新球季開幕戰先發亮相。\n",
      "\n",
      "勇士新球季內線出現挑戰，今夏從自由市場補進的中鋒考利史坦（Willie Cauley-Stein）在打球過程中不慎扭傷左腳，將缺席整個訓練營，勇士會在十月底更新他的傷勢情況，之後魯尼和史邁勒基奇（Alen Smailagic）又在訓練營第二天分別拉傷大腿、扭傷左腳踝。\n",
      "\n",
      "在接連三人傳出傷情後，勇士內線只剩史伯曼（Omari Spellman）一人是健康狀態，內線戰力拉警報，不過今天柯爾透露，魯尼今天在球隊訓練中表現不錯，也傷勢恢復良好，如果他的狀態能夠繼續維持下去，將會在25日與快艇隊的開幕戰中先發出賽。\n",
      "\n",
      "柯爾也談到另名傷兵考利史坦的狀況，他表示考利史坦至今仍未接觸訓練，新球季開幕戰確定將缺席；今年選秀會選進的塞爾維亞長人史邁勒基奇則有機會上場表現。\n",
      "\n",
      "---------------------------------------\n"
     ]
    },
    {
     "data": {
      "text/html": [
       "<h1>雷納德聯手板凳暴徒 快艇首戰衝破湖人</h1>"
      ],
      "text/plain": [
       "<IPython.core.display.HTML object>"
      ]
     },
     "metadata": {},
     "output_type": "display_data"
    },
    {
     "data": {
      "text/html": [
       "<span style=\"color:blue\">2019-10-23 13:29</span>"
      ],
      "text/plain": [
       "<IPython.core.display.HTML object>"
      ]
     },
     "metadata": {},
     "output_type": "display_data"
    },
    {
     "name": "stdout",
     "output_type": "stream",
     "text": [
      "\n",
      "眾所矚目的「洛城大戰」在今天點燃戰火，雷納德（Kawhi Leonard）全場攻下30分6籃板5助攻，快艇板凳部隊則是合力砍下60分。快艇在第二節逐漸掌握優勢，雖然第三節尾聲一波亂流讓湖人追平，但第四節穩住陣腳，又將分數拉開，最終以112比102擊敗湖人，取得開季首勝。\n",
      "\n",
      "這場比賽雙方都有主力球員面臨傷病麻煩，快艇傷了喬治（Paul George），湖人則是庫茲瑪（Kyle Kuzma）。一開賽湖人就展現猛烈攻勢，開局打了13比2的攻勢，在比賽中先聲奪人，首節取得領先優勢；不過快艇板凳部隊隨即發揮，加上雷納德精準中距離跳投，快艇第二節砍進40分，反而在上半場以62比54領先湖人。\n",
      "\n",
      "快艇的快節奏配合在下半場讓湖人難以應付，一度取得兩位數領先；不過接下來快艇外線命中率下滑，湖人在詹姆斯（LeBron James）場邊休息之際，反倒殺出一波15比3攻勢，三節結束雙方戰成平手。\n",
      "\n",
      "第四節之初，快艇找回手感，先是打了一波7比0的進攻，湖人不甘示弱連追兩球，快艇替補球員再度發威，又殺出一波11比2的攻勢，比分再度拉開。雷納德掌控節奏，哈瑞爾（Montrezl Harrell）也趁虛籃下建功，湖人反撲無力，只能目送快艇揚長而去。\n",
      "\n",
      "上季決賽MVP雷納德重返故鄉，此役上場32分鐘，雖然出現6次失誤還吞下5犯，但全場19投10中，還是砍下30分6籃板5助攻2抄截。\n",
      "\n",
      "以威廉斯（Lou Williams）為首的快艇板凳暴徒依舊強悍，威廉斯14投8中，拿下21分7助攻5籃板，哈瑞爾11投7中，得到17分7籃板4助攻，哈克雷斯（Moe Harkless）10分4籃板4抄截2阻攻，格林（JaMychal Green）12分6籃板。\n",
      "\n",
      "戴維斯披上湖人戰袍的首場正式比賽，21投8中，包括14罰9中，獨拿25分10籃板5助攻2阻攻1抄截；詹姆斯19投7中，得到18分9籃板8助攻。\n",
      "\n",
      "格林可說是湖人可以咬住比分的關鍵，全場14投10中，三分球9投7中，攻下全隊最高28分，外加7籃板2抄截，其中第三節獨拿18分。湖人陣中除了這3人之外，無人得分超過雙位數。\n",
      "\n",
      "---------------------------------------\n"
     ]
    },
    {
     "data": {
      "text/html": [
       "<h1>稱柯瑞更勝衛少 杜蘭特：哈登沒去火箭無法成MVP</h1>"
      ],
      "text/plain": [
       "<IPython.core.display.HTML object>"
      ]
     },
     "metadata": {},
     "output_type": "display_data"
    },
    {
     "data": {
      "text/html": [
       "<span style=\"color:blue\">2019-10-22 12:51</span>"
      ],
      "text/plain": [
       "<IPython.core.display.HTML object>"
      ]
     },
     "metadata": {},
     "output_type": "display_data"
    },
    {
     "name": "stdout",
     "output_type": "stream",
     "text": [
      "儘管在即將開打的新賽季中可能因傷全面缺陣，但今夏轉披布魯克林籃網戰袍的明星前鋒杜蘭特（Kevin Durant）製造話題的功力依舊，他在近日與前奧克拉荷馬雷霆隊友伊巴卡（Serge Ibaka）一同錄製網路節目時，被問到兩名合作過的後衛柯瑞（Stephen Curry）與衛斯特布魯克（Russell Westbrook）誰更好時，杜蘭特卻毫不猶疑地選擇了前者。\n",
      "\n",
      "杜蘭特在今年夏天透過先簽後換的方式轉戰籃網，儘管受到傷勢影響本賽季可能無法如願披上籃網戰袍登場，不過近日他在與前隊友伊巴卡錄製網路節目「How Hungry Are You?」時，再度靠著犀利回答搶佔媒體版面。\n",
      "\n",
      "其中在上賽季代表暴龍出賽的伊巴卡，先是問到了杜蘭特是否認為，假使自己沒有發生受傷狀況，勇士最終能否擊敗暴龍時，杜蘭特則是回答毫無疑問：「因為如果我在上場的話，你們是不可能在家擊敗我們的。」\n",
      "\n",
      "對於過去與哈登和衛斯特布魯克一起被稱作雷霆四少，杜蘭特與伊巴卡也談論到了兩名也都已經不在雷霆的前隊友們，兩人皆認為如果當年哈登未離開雷霆轉戰火箭，將無法達成拿下年度MVP的成就，而雷霆四少也有機會在相當年輕的情況下就挺進總冠軍賽。\n",
      "\n",
      "不過當伊巴卡問到，杜蘭特的兩位前搭擋柯瑞與衛斯特布魯克誰更好時，杜蘭特卻毫不猶豫地選擇了柯瑞，並認為兩者的差別就在於外線投射能力上，不過有趣的是，杜蘭特在轉戰籃網後將與另外一位聯盟頂尖控球後衛厄文（Kyrie Irving）攜手奮戰，屆時他又會如何評比這三名生涯合作過的頂尖後衛，也讓人相當好奇。\n",
      "\n",
      "---------------------------------------\n"
     ]
    },
    {
     "data": {
      "text/html": [
       "<h1>全員發揮狂轟141分 快艇快意客場踢館大勝勇士</h1>"
      ],
      "text/plain": [
       "<IPython.core.display.HTML object>"
      ]
     },
     "metadata": {},
     "output_type": "display_data"
    },
    {
     "data": {
      "text/html": [
       "<span style=\"color:blue\">2019-10-25 13:18</span>"
      ],
      "text/plain": [
       "<IPython.core.display.HTML object>"
      ]
     },
     "metadata": {},
     "output_type": "display_data"
    },
    {
     "name": "stdout",
     "output_type": "stream",
     "text": [
      "新賽季首戰就在「洛城內戰」中拔得頭籌，快艇今日（25號）又大勝勇士，終場141以122比再下一城，全隊整體命中率高達62.5%，三分線外也有54.5%高水準發揮，讓對手新主場初亮相就踢到鐵板。\n",
      "\n",
      "快艇一開賽就展現力壓對手的如虹氣勢，前3分多鐘打出14比0攻勢，且勇士防守中樞格林（Draymond Green）更因掩護時弄傷手肘，一度退場接受治療，所幸球隊靠羅素（D'Angelo Russell）、柯瑞（Stephen Curry）接力飆分及時止血。\n",
      "\n",
      "打完上半場之後，快艇暫握有11分領先，只是到了第三節攻勢如同水壩潰堤傾瀉而出，單節狠狠灌下46分讓勇士毫無招架之力，沙米特（Landry Shamet）與派特森（Patrick Patterson）各砍進3記三分球，比賽勝負自此底定。\n",
      "\n",
      "快艇此役讓一度落後多達31分的勇士全場未曾有任何翻轉機會，其中得分最高者為攻下22分的超級替補威廉斯（Lou Williams），雷納德（Kawhi Leonard）則有21分、9助攻進帳。\n",
      "\n",
      "此外，快艇2位先發長人表現也不俗，派特森得到20分，包括6記三分球，而祖巴茲（Ivica Zubac）繳出16分、10籃板雙十成績。勇士方面，柯瑞拿到23分，但個人出現8失誤且三分僅11投2中，羅素另挹注20分、8助攻。\n",
      "\n",
      "---------------------------------------\n"
     ]
    },
    {
     "data": {
      "text/html": [
       "<h1>頂著噓聲飆30分 雷納德：很高興拿下勝利</h1>"
      ],
      "text/plain": [
       "<IPython.core.display.HTML object>"
      ]
     },
     "metadata": {},
     "output_type": "display_data"
    },
    {
     "data": {
      "text/html": [
       "<span style=\"color:blue\">2019-10-23 16:39</span>"
      ],
      "text/plain": [
       "<IPython.core.display.HTML object>"
      ]
     },
     "metadata": {},
     "output_type": "display_data"
    },
    {
     "name": "stdout",
     "output_type": "stream",
     "text": [
      "\n",
      "「這將是一個偉大的賽季，我們每場比賽都會全力以赴，讓我們開始吧。」\n",
      "\n",
      "回到家鄉洛城、加盟快艇的首戰，雷納德（Kawhi Leonard）接受來自湖人球迷的噓聲伺候，不過他很快就展現精準的中距離跳投，全場19投10中，攻下30分6籃板5助攻2抄截1阻攻，其中他在第二節獨拿16分，是球隊能夠扭轉落後局面的關鍵。最終快艇就以10分之差擊退同城的湖人。\n",
      "\n",
      "「我很高興我們上場比賽然後拿下勝利。我們先前的訓練做得很棒，我們今晚延續了這樣的狀態。」雷納德說。雷納德此戰雖然出現6次失誤，還吞下5次犯規，但瑕不掩瑜。\n",
      "\n",
      "「他為我們創造機會，他就是這麼做的。」快艇總教練瑞佛斯（Doc Rivers）說。\n",
      "\n",
      "除了雷納德的高效率穩定表現外，快艇板凳暴徒再度有出色發揮，威廉斯（Lou Williams）攻下21分7助攻5籃板，哈瑞爾（Montrezl Harrell）得到17分7籃板4助攻，快艇替補合力砍下60分，足足比湖人替補球員多了41分，成了比賽勝負的關鍵之一。\n",
      "\n",
      "談到雷納德和威廉斯的搭配情況，瑞佛斯表示：「我認為他們現在彼此之間僅相互熟悉10%到15%。他們錯過很多機會，隨著時間的推移，他們會變得越來越危險。」\n",
      "\n",
      "\n",
      "---------------------------------------\n"
     ]
    },
    {
     "data": {
      "text/html": [
       "<h1>失分創柯爾時代新高 柯瑞：檢討時場面肯定難堪</h1>"
      ],
      "text/plain": [
       "<IPython.core.display.HTML object>"
      ]
     },
     "metadata": {},
     "output_type": "display_data"
    },
    {
     "data": {
      "text/html": [
       "<span style=\"color:blue\">2019-10-25 15:12</span>"
      ],
      "text/plain": [
       "<IPython.core.display.HTML object>"
      ]
     },
     "metadata": {},
     "output_type": "display_data"
    },
    {
     "name": "stdout",
     "output_type": "stream",
     "text": [
      "今日（25號）讓快艇單場繳出62.5%整體命中率還有54.5%三分命中率，勇士不但吞下敗仗且痛失141分也寫下柯爾（Steve Kerr）執教時代最高紀錄。\n",
      "\n",
      "柯爾2014年執教勇士開始，球隊算上例行賽還有季後賽的對手單場最高得分140分，是由鵜鶘在今年1月16號所攻下，不過勇士當時憑藉傲人火力硬是拿到147分，依然摘下勝利，但對快艇就無法複製過往經驗。\n",
      "\n",
      "格林（Draymond Green）賽後難掩失望表示：「我們這場比賽表現實在糟糕透頂了，防守更是災難一場。」當被記者問到防守哪點出了問題，他更回應：「每個地方。」柯瑞（Stephen Curry）也坦承：「明天看影片檢討場面肯定很難堪。」\n",
      "\n",
      "至於柯爾自己則是指出：「這就是NBA，過去5年我們就像存在另個世界一樣，現在終於回到現實了。」他甚至補充：「這不會只是個案而已，今年我們很可能也會再面臨同樣狀況。」言下之意似乎預言防守問題將困擾球隊整季。\n",
      "\n",
      "---------------------------------------\n"
     ]
    },
    {
     "data": {
      "text/html": [
       "<h1>公牛菜鳥近況火熱 拉文：他未來會很特別</h1>"
      ],
      "text/plain": [
       "<IPython.core.display.HTML object>"
      ]
     },
     "metadata": {},
     "output_type": "display_data"
    },
    {
     "data": {
      "text/html": [
       "<span style=\"color:blue\">2019-10-21 11:50</span>"
      ],
      "text/plain": [
       "<IPython.core.display.HTML object>"
      ]
     },
     "metadata": {},
     "output_type": "display_data"
    },
    {
     "name": "stdout",
     "output_type": "stream",
     "text": [
      "在同梯選秀狀元威廉森（Zion Williamson）巨大陰影下出頭實屬不易，即便聲勢火熱的榜眼莫蘭特（Ja Morant）與探花巴瑞特（RJ Barrett）都難搏到太多媒體版面，不過勁爆髮型吸睛的懷特（Coby White）近日倒引發不少關注。\n",
      "\n",
      "2019年選秀會上以第7順位加入公牛，懷特是第3位被選中的控衛，排在莫蘭特與第5順位的葛蘭德（Darius Garland）之後，他夏季聯賽表現也不甚理想，有著低迷命中率加上偏多失誤。\n",
      "\n",
      "不過懷特到了季前熱身賽卻逐漸找到節奏，先是在12號對溜馬時繳出全隊最高24分，收關戰對老鷹更是一舉轟下29分，讓芝加哥主場球迷全體都喊起他的名字，包含公牛主帥跟主力球星都給這位菜鳥很大讚美。\n",
      "\n",
      "教頭柏伊蘭（Jim Boylen）說：「他對自己夏季聯賽表現感到很挫折，這點我不需要跟他多提，他一點都不滿意，他知道自己水準絕不只如此，他這段期間從未錯失任何練習時間，常常我晚上練習後到球場都還看到他在練投。」\n",
      "\n",
      "拉文（Zach LaVine）則提到：「我知道他是非常勤奮努力的球員，當人們付出這麼多，當然肯定會得到回報，所以懷特未來會很特別，我們明白這點，他自己也十分清楚這點。」\n",
      "\n",
      "---------------------------------------\n"
     ]
    },
    {
     "data": {
      "text/html": [
       "<h1>哈登熱身賽進攻犀利 主帥稱有平均上看40分實力</h1>"
      ],
      "text/plain": [
       "<IPython.core.display.HTML object>"
      ]
     },
     "metadata": {},
     "output_type": "display_data"
    },
    {
     "data": {
      "text/html": [
       "<span style=\"color:blue\">2019-10-21 11:13</span>"
      ],
      "text/plain": [
       "<IPython.core.display.HTML object>"
      ]
     },
     "metadata": {},
     "output_type": "display_data"
    },
    {
     "name": "stdout",
     "output_type": "stream",
     "text": [
      "衛斯特布魯克（Russell Westbrook）加入後難免引發爭奪球權質疑，不過至少從熱身賽來看，這絲毫未影響到哈登（James Harden）攀升得分數據，主帥丹東尼（Mike D'Antoni）更誇下海口，認為哈登往後要平均拿接近40分絕對有可能。\n",
      "\n",
      "哈登熱身賽期間以46.4%整體命中率，平均可以繳出31.2分，而這是在上場28.9分鐘情況下完成，若換算成36分鐘的話，平均得分就來到逼近丹東尼口中40分的38.8分，特別是熱身賽後2戰各獲40分與44分，展現絕佳狀態。\n",
      "\n",
      "丹東尼就指出：「每年哈登都比過去自己更好，他每年都持續提升本身平均得分，如果這趨勢持續下去的話，他會來到接近平均40分水準，這是他所擅長的。」事實上，哈登上季摘下得分王頭銜表現已是歷史頂尖水準。\n",
      "\n",
      "哈登上季平均得分36分是聯盟史上第7高單季成績，僅喬丹（Michael Jordan）於1986-1987年賽季平均37分，還有張伯倫（Wilt Chamberlain）一個人就囊括剩下5個位置，他在1961-1962年賽季平均50.4分至今仍是令人望塵莫及紀錄。\n",
      "\n",
      "---------------------------------------\n"
     ]
    },
    {
     "data": {
      "text/html": [
       "<h1>自認狀態保持絕佳 伊古達拉迫切期盼恢復自由身</h1>"
      ],
      "text/plain": [
       "<IPython.core.display.HTML object>"
      ]
     },
     "metadata": {},
     "output_type": "display_data"
    },
    {
     "data": {
      "text/html": [
       "<span style=\"color:blue\">2019-10-21 10:35</span>"
      ],
      "text/plain": [
       "<IPython.core.display.HTML object>"
      ]
     },
     "metadata": {},
     "output_type": "display_data"
    },
    {
     "name": "stdout",
     "output_type": "stream",
     "text": [
      "記者沃納羅斯基（Adrian Wojnarowski）先前在《ESPN》自家節目聲稱，伊古達拉（Andre Iguodala）若遭買斷將只會在快艇或湖人隊兩隊之間做選擇，伊古達拉本人日前接受廣播電台專訪時也透露了想要盡快擺脫現況的期待。\n",
      "\n",
      "由於和新東家灰熊遲遲談不妥買斷協議，且球隊高層也無法找到交易下家，這讓伊古達拉在雙方協議下離隊自主訓練，他被問及關於重獲自由身問題時就坦承說：「希望這事能夠快些達成。」\n",
      "\n",
      "伊古達拉也對於自身狀態相當自信，以42歲老將卡特（Vince Carter）自比，認為他絕對有實力能持續繳出老當益壯表現，但他解釋：「我可以，但我不會，因為我很期待我現在做的場外事業，我準備好要全職投入。」\n",
      "\n",
      "他接續說：「我大概還會在NBA打2到3年時間，最多就是3年，我們就再等著瞧關於我生涯下一站事情進展是怎樣，我一直都有在訓練，體能狀況非常好，我好久沒這麼瘦過了。」\n",
      "\n",
      "---------------------------------------\n"
     ]
    },
    {
     "data": {
      "text/html": [
       "<h1>左腳仍有壓力反應 庫茲瑪確定無緣開幕戰</h1>"
      ],
      "text/plain": [
       "<IPython.core.display.HTML object>"
      ]
     },
     "metadata": {},
     "output_type": "display_data"
    },
    {
     "data": {
      "text/html": [
       "<span style=\"color:blue\">2019-10-21 10:15</span>"
      ],
      "text/plain": [
       "<IPython.core.display.HTML object>"
      ]
     },
     "metadata": {},
     "output_type": "display_data"
    },
    {
     "name": "stdout",
     "output_type": "stream",
     "text": [
      "8月隨美國男籃與澳洲隊進行熱身賽，庫茲瑪（Kyle Kuzma ）卻扭傷左腳踝無緣披上國家隊戰袍出征世界盃，眼見NBA新球季開幕戰在即，經過近兩個月的休養仍趕不上開季，確定將在與快艇隊的開幕戰中缺席。\n",
      "\n",
      "上個賽季庫茲瑪就曾受到傷病困擾，因背、臀和腳踝傷勢共缺席了12場比賽，但仍繳出場均18.7分、5.5籃板、2.5助攻的成績，今夏湖人展開戴維斯（Anthony Davis）交易案時，也未將他放進「六換一」的籌碼當中。\n",
      "\n",
      "今夏庫茲瑪曾有機會披上國家隊戰袍出征世界盃，卻因左腳踝扭傷確定無緣代表美國隊出戰，回到美國接受治療，儘管他在上周一被批准參加非對抗的籃球訓練，但仍處於每日觀察狀態。\n",
      "\n",
      "今天湖人練兵，但庫茲瑪依舊無法參加對抗訓練，湖人官方也宣布他的左腳仍出現壓力反應將缺席23日與快艇的開幕戰，湖人總教練佛蓋爾（Frank Vogel）表示，目前會慢慢增加他的活動量，然後再看看狀況。除了庫茲瑪確定缺席開幕戰外，在熱身賽最終戰造成骨盆挫傷的卡盧索（Alex Caruso）也被放到每日觀察名單中，是否能趕上開季仍未可知。\n",
      "\n",
      "---------------------------------------\n"
     ]
    },
    {
     "data": {
      "text/html": [
       "<h1>墨瑞傷癒強勢復出 波總：6、7年沒看到人這麼快</h1>"
      ],
      "text/plain": [
       "<IPython.core.display.HTML object>"
      ]
     },
     "metadata": {},
     "output_type": "display_data"
    },
    {
     "data": {
      "text/html": [
       "<span style=\"color:blue\">2019-10-21 10:05</span>"
      ],
      "text/plain": [
       "<IPython.core.display.HTML object>"
      ]
     },
     "metadata": {},
     "output_type": "display_data"
    },
    {
     "name": "stdout",
     "output_type": "stream",
     "text": [
      "2017-2018年賽季開始接班前輩帕克（Tony Parker），墨瑞（Dejounte Murray）平均上場21.5分鐘且擔任先發48場先發，並憑藉紮實防守功力成為史上最年輕入選年度最佳防守陣容的球員。\n",
      "\n",
      "墨瑞原本被預期是馬刺上季最有望破繭而出的球員，特別是在雷納德（Kawhi Leonard）交易請求得到滿足之後，可惜他卻在熱身賽期間不幸弄傷膝蓋前十字韌帶，導致其整季報銷一直到今年熱身賽才又重新復出。\n",
      "\n",
      "經過一整年沉潛磨練，馬刺內部十分看好墨瑞兌現天賦潛力，後場搭檔德羅展（DeMar DeRozan）提到，他將會為慢節奏半場進攻注入前所未見活水，「我知道的是墨瑞速度快到不行，所以當他持球時候，我們可沒慢下來的選擇」。\n",
      "\n",
      "另一位隊友富比士（Bryn Forbes）則指出，墨瑞最大進步來自本身投籃，「他從15到18英呎跳投現在有如探囊取物一般」，富比士說法也得到實際佐證，墨瑞先前對火箭1役繳出11投8中成績，其中包括好幾球外線跳投。\n",
      "\n",
      "主帥波波維奇（Gregg Popovich）也補充：「墨瑞如今感覺信心十足，看他打起球樣子也是如此，他絲毫沒有任何保留或者猶豫，很高興能看到他這麼有侵略性打法，我大概有6、7年沒看到像他速度這麼快的人了。」\n",
      "\n",
      "---------------------------------------\n"
     ]
    },
    {
     "data": {
      "text/html": [
       "<h1>維金斯援助弱勢兒童 得分捐款計畫續推行</h1>"
      ],
      "text/plain": [
       "<IPython.core.display.HTML object>"
      ]
     },
     "metadata": {},
     "output_type": "display_data"
    },
    {
     "data": {
      "text/html": [
       "<span style=\"color:blue\">2019-10-21 09:44</span>"
      ],
      "text/plain": [
       "<IPython.core.display.HTML object>"
      ]
     },
     "metadata": {},
     "output_type": "display_data"
    },
    {
     "name": "stdout",
     "output_type": "stream",
     "text": [
      "上季首度宣布得分捐款計畫，灰狼前鋒維金斯（Andrew Wiggins）今年延續這份愛心，在個人推特上宣布將繼續進行他的得分捐款計畫，只要他在新球季每得一分，就會捐出與自己背號相同的22美元（註：約台幣672元），幫助弱勢兒童團體。\n",
      "\n",
      "「我很自豪地宣佈，我將連續第二年進行捐款行動，本季我每得到一分，我就會捐出22美元，幫助那些想要參與運動卻受限制的弱勢兒童團體」，維金斯表示，自己的目標一直都是幫助孩子享受童年快樂，以及參與到運動之中。\n",
      "\n",
      "上個賽季維金斯宣布這項得分捐款計畫後，最終他共拿下1321分，捐出了2萬9062美元，儘管和上季他的年薪2525萬美元相比並不是筆大數字，但也展現出關懷弱勢的一面，同時也激勵著自己在場上替球隊做出貢獻。灰狼上季在西區僅打出36勝46負的戰績，無緣晉級季後賽，而維金斯整季出賽73場，繳出場均18.1分、4.8籃板、2.5助攻的成績。\n",
      "\n",
      "---------------------------------------\n"
     ]
    },
    {
     "data": {
      "text/html": [
       "<h1>詹皇高中球衣競標完畢 台幣572萬售出創紀錄</h1>"
      ],
      "text/plain": [
       "<IPython.core.display.HTML object>"
      ]
     },
     "metadata": {},
     "output_type": "display_data"
    },
    {
     "data": {
      "text/html": [
       "<span style=\"color:blue\">2019-10-21 09:26</span>"
      ],
      "text/plain": [
       "<IPython.core.display.HTML object>"
      ]
     },
     "metadata": {},
     "output_type": "display_data"
    },
    {
     "name": "stdout",
     "output_type": "stream",
     "text": [
      "日前一名賣家將一件詹姆斯（LeBron James）上過運動雜誌封面的高中戰袍放上拍賣網站，經過多日競標後，這件球衣最終以18萬7500美元（註：約台幣572萬元）售出，也成為至今價格最高的「詹皇」球衣。\n",
      "\n",
      "17歲還就讀聖文森特聖瑪麗高中的詹姆斯，憑藉超人一等的體能條件和籃球智商，早已風靡全美，當時美國運動雜誌《運動畫刊》還專門派人去採訪他。2002年2月18日，詹姆斯正式登上《運動畫刊》的封面，標題「天選之人（The Chosen One）」，也正式開啟詹皇時代。\n",
      "\n",
      "而今年九月有人將這件印有綠色的「Irish」和「23」的背號的球衣放上拍賣網站，起標價是25000美金（註：約台幣77萬元）。經過多日競標後，這件球衣以18萬7500美元結標，這個金額也創下到目前為止最高的詹姆斯球衣，同時最後得標金額的百分之5將成為公益基金，將捐給馬薩諸塞州斯普林菲爾德的奈史密斯紀念籃球名人堂。\n",
      "\n",
      "---------------------------------------\n"
     ]
    },
    {
     "data": {
      "text/html": [
       "<h1>回應哈登是真MVP言論 安戴托昆波：獎盃在我家</h1>"
      ],
      "text/plain": [
       "<IPython.core.display.HTML object>"
      ]
     },
     "metadata": {},
     "output_type": "display_data"
    },
    {
     "data": {
      "text/html": [
       "<span style=\"color:blue\">2019-10-21 09:18</span>"
      ],
      "text/plain": [
       "<IPython.core.display.HTML object>"
      ]
     },
     "metadata": {},
     "output_type": "display_data"
    },
    {
     "name": "stdout",
     "output_type": "stream",
     "text": [
      "哈登（James Harden）過去曾聲稱，自己MVP爭奪敗陣是因媒體營造話題操弄，且火箭上至總管與總教練下到官方推特帳號都力挺自家人才是貨真價實MVP，上季真正贏家安戴托昆波（Giannis Antetokounmpo）對此也作出霸氣回應。\n",
      "\n",
      "安戴托昆波告訴《Yahoo Sports》說：「這些都只是他們觀點而已，他們當然會挺自家人哈登，我也不打算公開說我比哈登還強，但這座獎盃現在在我家。」事實上，在榮獲MVP後光榮現身密爾瓦基時，安戴托昆波就指出這已是過去。\n",
      "\n",
      "他當時透露，希望外界從當下開始不要再稱呼其為MVP，等到自己新賽季連莊也不遲，而根據先前所釋出的NBA各隊總管問卷調查結果顯示，安戴托昆波的確最被看好再問鼎MVP寶座，以52%遙遙領先3人同列第2的10%得票率。\n",
      "\n",
      "---------------------------------------\n"
     ]
    },
    {
     "data": {
      "text/html": [
       "<h1>NBA新東家難尋 楊恩萌生退役念頭</h1>"
      ],
      "text/plain": [
       "<IPython.core.display.HTML object>"
      ]
     },
     "metadata": {},
     "output_type": "display_data"
    },
    {
     "data": {
      "text/html": [
       "<span style=\"color:blue\">2019-10-21 08:55</span>"
      ],
      "text/plain": [
       "<IPython.core.display.HTML object>"
      ]
     },
     "metadata": {},
     "output_type": "display_data"
    },
    {
     "name": "stdout",
     "output_type": "stream",
     "text": [
      "上季在金塊短暫留下了4場出賽紀錄，楊恩（Nick Young）至今還未獲NBA球隊青睞，聯盟生涯能否延續還是未知數，這讓他坦承有些萌生退役念頭。\n",
      "\n",
      "接受外媒《Compex》訪問時，楊恩表示：「未來一年大概就是我最後一年了，假如NBA生涯沒有進展，我就會決定退休，結束一切，不再有『Swaggy P』了。」\n",
      "\n",
      "楊恩也談到自己生涯所帶給人的啟發，「我是冠軍，我打球但我作任何事也都很酷，有點像是羅德曼（Dennis Rodman），我改變球員穿衣風格，讓大家都更外放。」\n",
      "\n",
      "楊恩NBA生涯是從2007年開始，前後效力過巫師、快艇、76人、湖人、勇士還有金塊，在2018年隨勇士拿到生涯首座總冠軍。\n",
      "\n",
      "---------------------------------------\n"
     ]
    },
    {
     "data": {
      "text/html": [
       "<h1>加索恐缺陣拓荒者開幕戰 懷塞德自信預告沒問題</h1>"
      ],
      "text/plain": [
       "<IPython.core.display.HTML object>"
      ]
     },
     "metadata": {},
     "output_type": "display_data"
    },
    {
     "data": {
      "text/html": [
       "<span style=\"color:blue\">2019-10-20 15:46</span>"
      ],
      "text/plain": [
       "<IPython.core.display.HTML object>"
      ]
     },
     "metadata": {},
     "output_type": "display_data"
    },
    {
     "name": "stdout",
     "output_type": "stream",
     "text": [
      "台灣時間周四就要迎接新球季開幕戰，拓荒者隊禁區戰力卻仍沒到位，上季遭受嚴重運動傷害的諾基奇（Jusuf Nurkic）來不及歸隊，西班牙中鋒加索（Pau Gasol）也幾乎確定缺席，懷塞德（Hassan Whiteside）又在前幾天扭傷左腳踝，不過懷塞德認為狀況不嚴重，已預告自己開幕戰會上陣。\n",
      "\n",
      "懷塞德今天（20號）已加入拓荒者的球隊練習，教頭史考特（Terry Stotts）語帶保留說，球隊為開幕戰的準備會將懷塞德納入陣容，「不過我們的準備都相同，不管有他（懷塞德）或是沒有他。」\n",
      "\n",
      "加索上季遭馬刺隊買斷合約，今年3月加入公鹿隊，但只打了3場比賽就因左腳踝疲勞性骨折動刀，賽季提前報銷，但39歲的他夏天以一年老將底薪加盟拓荒者，先前透露復原狀況順利，預計8月就能重回球場，但看來希望破滅。\n",
      "\n",
      "不過加索也不把話說死，他表示自己狀況漸入佳境，「這是復健的一部分，當你加重訓練，必須觀察有什麼反應，這需要些時間適應，所以如果你一次做太多或太興奮，就可能適得其反，這就是我稍早發生的狀況，先前發常樂觀，現在我們將腳步緩一緩。」他也提到，保守來說，開幕戰上場機會不高，「我會確保當我復出，狀態是很好的。」\n",
      "\n",
      "史考特也老神在在說，加索缺席開幕戰對球隊沒什麼影響，畢竟球隊一直沒和加索配合，「如果他熱身賽有打，然後開幕戰缺席，這可能有些不同，不過基本上，他一直都缺席，這真的不會影響到我們，比較好的問題是他何時會回歸，這樣事情才會開始改變。」拓荒者新賽季第一戰將碰老對手金塊隊，兩隊上季季後賽大戰七場才由拓荒者勝出，對金塊來說將是復仇之戰。\n",
      "\n",
      "---------------------------------------\n"
     ]
    },
    {
     "data": {
      "text/html": [
       "<h1>雷納德聯手板凳暴徒 快艇首戰衝破湖人</h1>"
      ],
      "text/plain": [
       "<IPython.core.display.HTML object>"
      ]
     },
     "metadata": {},
     "output_type": "display_data"
    },
    {
     "data": {
      "text/html": [
       "<span style=\"color:blue\">2019-10-23 13:29</span>"
      ],
      "text/plain": [
       "<IPython.core.display.HTML object>"
      ]
     },
     "metadata": {},
     "output_type": "display_data"
    },
    {
     "name": "stdout",
     "output_type": "stream",
     "text": [
      "\n",
      "眾所矚目的「洛城大戰」在今天點燃戰火，雷納德（Kawhi Leonard）全場攻下30分6籃板5助攻，快艇板凳部隊則是合力砍下60分。快艇在第二節逐漸掌握優勢，雖然第三節尾聲一波亂流讓湖人追平，但第四節穩住陣腳，又將分數拉開，最終以112比102擊敗湖人，取得開季首勝。\n",
      "\n",
      "這場比賽雙方都有主力球員面臨傷病麻煩，快艇傷了喬治（Paul George），湖人則是庫茲瑪（Kyle Kuzma）。一開賽湖人就展現猛烈攻勢，開局打了13比2的攻勢，在比賽中先聲奪人，首節取得領先優勢；不過快艇板凳部隊隨即發揮，加上雷納德精準中距離跳投，快艇第二節砍進40分，反而在上半場以62比54領先湖人。\n",
      "\n",
      "快艇的快節奏配合在下半場讓湖人難以應付，一度取得兩位數領先；不過接下來快艇外線命中率下滑，湖人在詹姆斯（LeBron James）場邊休息之際，反倒殺出一波15比3攻勢，三節結束雙方戰成平手。\n",
      "\n",
      "第四節之初，快艇找回手感，先是打了一波7比0的進攻，湖人不甘示弱連追兩球，快艇替補球員再度發威，又殺出一波11比2的攻勢，比分再度拉開。雷納德掌控節奏，哈瑞爾（Montrezl Harrell）也趁虛籃下建功，湖人反撲無力，只能目送快艇揚長而去。\n",
      "\n",
      "上季決賽MVP雷納德重返故鄉，此役上場32分鐘，雖然出現6次失誤還吞下5犯，但全場19投10中，還是砍下30分6籃板5助攻2抄截。\n",
      "\n",
      "以威廉斯（Lou Williams）為首的快艇板凳暴徒依舊強悍，威廉斯14投8中，拿下21分7助攻5籃板，哈瑞爾11投7中，得到17分7籃板4助攻，哈克雷斯（Moe Harkless）10分4籃板4抄截2阻攻，格林（JaMychal Green）12分6籃板。\n",
      "\n",
      "戴維斯披上湖人戰袍的首場正式比賽，21投8中，包括14罰9中，獨拿25分10籃板5助攻2阻攻1抄截；詹姆斯19投7中，得到18分9籃板8助攻。\n",
      "\n",
      "格林可說是湖人可以咬住比分的關鍵，全場14投10中，三分球9投7中，攻下全隊最高28分，外加7籃板2抄截，其中第三節獨拿18分。湖人陣中除了這3人之外，無人得分超過雙位數。\n",
      "\n",
      "---------------------------------------\n"
     ]
    },
    {
     "data": {
      "text/html": [
       "<h1>稱柯瑞更勝衛少 杜蘭特：哈登沒去火箭無法成MVP</h1>"
      ],
      "text/plain": [
       "<IPython.core.display.HTML object>"
      ]
     },
     "metadata": {},
     "output_type": "display_data"
    },
    {
     "data": {
      "text/html": [
       "<span style=\"color:blue\">2019-10-22 12:51</span>"
      ],
      "text/plain": [
       "<IPython.core.display.HTML object>"
      ]
     },
     "metadata": {},
     "output_type": "display_data"
    },
    {
     "name": "stdout",
     "output_type": "stream",
     "text": [
      "儘管在即將開打的新賽季中可能因傷全面缺陣，但今夏轉披布魯克林籃網戰袍的明星前鋒杜蘭特（Kevin Durant）製造話題的功力依舊，他在近日與前奧克拉荷馬雷霆隊友伊巴卡（Serge Ibaka）一同錄製網路節目時，被問到兩名合作過的後衛柯瑞（Stephen Curry）與衛斯特布魯克（Russell Westbrook）誰更好時，杜蘭特卻毫不猶疑地選擇了前者。\n",
      "\n",
      "杜蘭特在今年夏天透過先簽後換的方式轉戰籃網，儘管受到傷勢影響本賽季可能無法如願披上籃網戰袍登場，不過近日他在與前隊友伊巴卡錄製網路節目「How Hungry Are You?」時，再度靠著犀利回答搶佔媒體版面。\n",
      "\n",
      "其中在上賽季代表暴龍出賽的伊巴卡，先是問到了杜蘭特是否認為，假使自己沒有發生受傷狀況，勇士最終能否擊敗暴龍時，杜蘭特則是回答毫無疑問：「因為如果我在上場的話，你們是不可能在家擊敗我們的。」\n",
      "\n",
      "對於過去與哈登和衛斯特布魯克一起被稱作雷霆四少，杜蘭特與伊巴卡也談論到了兩名也都已經不在雷霆的前隊友們，兩人皆認為如果當年哈登未離開雷霆轉戰火箭，將無法達成拿下年度MVP的成就，而雷霆四少也有機會在相當年輕的情況下就挺進總冠軍賽。\n",
      "\n",
      "不過當伊巴卡問到，杜蘭特的兩位前搭擋柯瑞與衛斯特布魯克誰更好時，杜蘭特卻毫不猶豫地選擇了柯瑞，並認為兩者的差別就在於外線投射能力上，不過有趣的是，杜蘭特在轉戰籃網後將與另外一位聯盟頂尖控球後衛厄文（Kyrie Irving）攜手奮戰，屆時他又會如何評比這三名生涯合作過的頂尖後衛，也讓人相當好奇。\n",
      "\n",
      "---------------------------------------\n"
     ]
    },
    {
     "data": {
      "text/html": [
       "<h1>全員發揮狂轟141分 快艇快意客場踢館大勝勇士</h1>"
      ],
      "text/plain": [
       "<IPython.core.display.HTML object>"
      ]
     },
     "metadata": {},
     "output_type": "display_data"
    },
    {
     "data": {
      "text/html": [
       "<span style=\"color:blue\">2019-10-25 13:18</span>"
      ],
      "text/plain": [
       "<IPython.core.display.HTML object>"
      ]
     },
     "metadata": {},
     "output_type": "display_data"
    },
    {
     "name": "stdout",
     "output_type": "stream",
     "text": [
      "新賽季首戰就在「洛城內戰」中拔得頭籌，快艇今日（25號）又大勝勇士，終場141以122比再下一城，全隊整體命中率高達62.5%，三分線外也有54.5%高水準發揮，讓對手新主場初亮相就踢到鐵板。\n",
      "\n",
      "快艇一開賽就展現力壓對手的如虹氣勢，前3分多鐘打出14比0攻勢，且勇士防守中樞格林（Draymond Green）更因掩護時弄傷手肘，一度退場接受治療，所幸球隊靠羅素（D'Angelo Russell）、柯瑞（Stephen Curry）接力飆分及時止血。\n",
      "\n",
      "打完上半場之後，快艇暫握有11分領先，只是到了第三節攻勢如同水壩潰堤傾瀉而出，單節狠狠灌下46分讓勇士毫無招架之力，沙米特（Landry Shamet）與派特森（Patrick Patterson）各砍進3記三分球，比賽勝負自此底定。\n",
      "\n",
      "快艇此役讓一度落後多達31分的勇士全場未曾有任何翻轉機會，其中得分最高者為攻下22分的超級替補威廉斯（Lou Williams），雷納德（Kawhi Leonard）則有21分、9助攻進帳。\n",
      "\n",
      "此外，快艇2位先發長人表現也不俗，派特森得到20分，包括6記三分球，而祖巴茲（Ivica Zubac）繳出16分、10籃板雙十成績。勇士方面，柯瑞拿到23分，但個人出現8失誤且三分僅11投2中，羅素另挹注20分、8助攻。\n",
      "\n",
      "---------------------------------------\n"
     ]
    },
    {
     "data": {
      "text/html": [
       "<h1>頂著噓聲飆30分 雷納德：很高興拿下勝利</h1>"
      ],
      "text/plain": [
       "<IPython.core.display.HTML object>"
      ]
     },
     "metadata": {},
     "output_type": "display_data"
    },
    {
     "data": {
      "text/html": [
       "<span style=\"color:blue\">2019-10-23 16:39</span>"
      ],
      "text/plain": [
       "<IPython.core.display.HTML object>"
      ]
     },
     "metadata": {},
     "output_type": "display_data"
    },
    {
     "name": "stdout",
     "output_type": "stream",
     "text": [
      "\n",
      "「這將是一個偉大的賽季，我們每場比賽都會全力以赴，讓我們開始吧。」\n",
      "\n",
      "回到家鄉洛城、加盟快艇的首戰，雷納德（Kawhi Leonard）接受來自湖人球迷的噓聲伺候，不過他很快就展現精準的中距離跳投，全場19投10中，攻下30分6籃板5助攻2抄截1阻攻，其中他在第二節獨拿16分，是球隊能夠扭轉落後局面的關鍵。最終快艇就以10分之差擊退同城的湖人。\n",
      "\n",
      "「我很高興我們上場比賽然後拿下勝利。我們先前的訓練做得很棒，我們今晚延續了這樣的狀態。」雷納德說。雷納德此戰雖然出現6次失誤，還吞下5次犯規，但瑕不掩瑜。\n",
      "\n",
      "「他為我們創造機會，他就是這麼做的。」快艇總教練瑞佛斯（Doc Rivers）說。\n",
      "\n",
      "除了雷納德的高效率穩定表現外，快艇板凳暴徒再度有出色發揮，威廉斯（Lou Williams）攻下21分7助攻5籃板，哈瑞爾（Montrezl Harrell）得到17分7籃板4助攻，快艇替補合力砍下60分，足足比湖人替補球員多了41分，成了比賽勝負的關鍵之一。\n",
      "\n",
      "談到雷納德和威廉斯的搭配情況，瑞佛斯表示：「我認為他們現在彼此之間僅相互熟悉10%到15%。他們錯過很多機會，隨著時間的推移，他們會變得越來越危險。」\n",
      "\n",
      "\n",
      "---------------------------------------\n"
     ]
    },
    {
     "data": {
      "text/html": [
       "<h1>失分創柯爾時代新高 柯瑞：檢討時場面肯定難堪</h1>"
      ],
      "text/plain": [
       "<IPython.core.display.HTML object>"
      ]
     },
     "metadata": {},
     "output_type": "display_data"
    },
    {
     "data": {
      "text/html": [
       "<span style=\"color:blue\">2019-10-25 15:12</span>"
      ],
      "text/plain": [
       "<IPython.core.display.HTML object>"
      ]
     },
     "metadata": {},
     "output_type": "display_data"
    },
    {
     "name": "stdout",
     "output_type": "stream",
     "text": [
      "今日（25號）讓快艇單場繳出62.5%整體命中率還有54.5%三分命中率，勇士不但吞下敗仗且痛失141分也寫下柯爾（Steve Kerr）執教時代最高紀錄。\n",
      "\n",
      "柯爾2014年執教勇士開始，球隊算上例行賽還有季後賽的對手單場最高得分140分，是由鵜鶘在今年1月16號所攻下，不過勇士當時憑藉傲人火力硬是拿到147分，依然摘下勝利，但對快艇就無法複製過往經驗。\n",
      "\n",
      "格林（Draymond Green）賽後難掩失望表示：「我們這場比賽表現實在糟糕透頂了，防守更是災難一場。」當被記者問到防守哪點出了問題，他更回應：「每個地方。」柯瑞（Stephen Curry）也坦承：「明天看影片檢討場面肯定很難堪。」\n",
      "\n",
      "至於柯爾自己則是指出：「這就是NBA，過去5年我們就像存在另個世界一樣，現在終於回到現實了。」他甚至補充：「這不會只是個案而已，今年我們很可能也會再面臨同樣狀況。」言下之意似乎預言防守問題將困擾球隊整季。\n",
      "\n",
      "---------------------------------------\n"
     ]
    },
    {
     "data": {
      "text/html": [
       "<h1>NBA新賽季東區雙強鼎立 西區亂世爭霸</h1>"
      ],
      "text/plain": [
       "<IPython.core.display.HTML object>"
      ]
     },
     "metadata": {},
     "output_type": "display_data"
    },
    {
     "data": {
      "text/html": [
       "<span style=\"color:blue\">2019-10-20 15:41</span>"
      ],
      "text/plain": [
       "<IPython.core.display.HTML object>"
      ]
     },
     "metadata": {},
     "output_type": "display_data"
    },
    {
     "name": "stdout",
     "output_type": "stream",
     "text": [
      "儘管近期場外風波鬧得沸沸揚揚，但吸睛度超高的NBA新賽季週三開打仍受矚目，開幕戰將由話題性十足的洛杉磯雙雄領銜。對此，外媒特別分析東西2區新賽季的預測，去年在東冠折翼的公鹿捲土重來深獲看好，後有五門齊的76人為追兵；西區則因FMVP雷納德（Kawhi Leonard）的重磅加盟，戰況呈現膠著，持續磨合的金塊、擁有雙槍的火箭，加上洛城2強隊實力都難分伯仲。\n",
      "\n",
      "NBA19-20新賽季將在台灣時間23日打響開幕戰，當天僅有2場比賽，分別是冠軍隊暴龍對上獲得狀元郎威廉森（Zion Williamson）的鵜鶘，另一戰則是洛杉磯皇城對決，詹姆斯（LeBron James）加上戴維斯（Anthony Davis）領軍的湖人，對決FMVP雷納德的快艇隊。這2戰被預期看點眾多，外媒也對新賽季做出2大區的展望分析。\n",
      "\n",
      "《每日數據網》分析稿指出，東區雖然擁有去年冠軍暴龍隊，但先不談千禧年後東區僅三天王合體的熱火曾寫下二連冠，本季的暴龍隊失去王牌雷納德，雖然20日團隊確定延長大約綁死好手席亞康（Pascal Siakam），讓他登基成「新龍王」，但整體實力相較下滑。\n",
      "\n",
      "這讓東冠惜敗的公鹿與夏季交易有成的76人瞬間成為東區最強權，前者不只留住老二米道頓（Khris Middleton），甚至針對去年兵敗的弱點（外線）補強，一舉引進著名射手考佛（Kyle Korver）與馬修斯（Wesley Matthews），可望分擔季賽MVP安戴托昆波（Giannis Antetokounmpo）的壓力。\n",
      "\n",
      "而76人透過4方交易拿到實力不俗的後場理查森（Josh Richardson），更斥資搶下全明星前場霍福特（Al Horford），由於霍福特是陣中禁區悍將安比德（Joel Embiid）的天敵，此舉是一兼二顧，化敵為友之餘，搭配少主西蒙斯（Ben Simmons）和砍將哈里斯（Tobias Harris）組成五門齊。\n",
      "\n",
      "至於西區就不像東區這麼明確，《每日數據網》指出，被評選為本季影響力最大轉隊的「雷納德投奔快艇」，不只是FMVP加盟，可愛更拉攏雷霆球星喬治（Paul George）一同轉戰；而同在洛杉磯的湖人則幫詹皇招募現代禁區神獸戴維斯，這2支洛杉磯球隊瞬間成為勁旅。\n",
      "\n",
      "而近年來傳統的西區強權雖稍有下滑，但勝在老班底穩定，年年備受矚目的火箭經過一輪換血，仍能組成新雙槍哈登（James Harden）加上衛斯特布魯克（Russell Westbrook），「內外搭檔」約柯奇（Nikola Jokic）與穆雷（Jamal Murray）漸放光芒的年輕金塊又增長一季經驗。\n",
      "\n",
      "連續統治西區5年的勇士隊雖然缺少杜蘭特（Kevin Durant）與伊古達拉（Andre Iguodala），但後場火力仍驚人，三大後場球星「浪花兄弟」與羅素（D'Angelo Russell）加上前場格林（Draymond Green），及變幻莫測的波波維奇（Gregg Popovich）老教練率領的馬刺年輕軍團等。\n",
      "\n",
      "後續也還有幾支雙核心球隊，例如拓荒者雙槍、獨行俠雙少、爵士雙衛，都是西區不可忽視的攪局者。此外，不得不提話題性也很高的開幕戰球隊之一的鵜鶘，他們在季前熱身賽打出聯盟最佳戰績，手握狀元郎威廉森（雖然他開季缺陣），但團隊仍有成熟後衛哈勒戴運籌帷幄，加上從戴維斯交易中拿到的湖人三少，還有一項有趣現象，個人從未缺席過季後賽的頂級射手瑞迪克（JJ Redick）加盟鵜鶘，能否帶著這股運勢扮演攔路虎值得期待。\n",
      "\n",
      "---------------------------------------\n"
     ]
    },
    {
     "data": {
      "text/html": [
       "<h1>賀席亞康獲頂薪續約 格林：下次晚餐你付錢</h1>"
      ],
      "text/plain": [
       "<IPython.core.display.HTML object>"
      ]
     },
     "metadata": {},
     "output_type": "display_data"
    },
    {
     "data": {
      "text/html": [
       "<span style=\"color:blue\">2019-10-20 14:49</span>"
      ],
      "text/plain": [
       "<IPython.core.display.HTML object>"
      ]
     },
     "metadata": {},
     "output_type": "display_data"
    },
    {
     "name": "stdout",
     "output_type": "stream",
     "text": [
      "席亞康（Pascal Siakam）上季打出亮眼表現，助隊打下隊史首座NBA總冠軍並摘下最佳進步獎，根據外媒報導，他與暴龍隊達成續約協議，簽下一紙四年1.3億美元的合約，看到前隊友獲得頂薪續約，今夏轉披湖人隊球衣的格林（Danny Green）也向他祝賀，並笑說下次晚餐要席亞康付錢。\n",
      "\n",
      "根據《The Athletic》記者查拉尼亞（Shams Charania）的報導，席亞康與暴龍隊達成續約協議，簽下一紙四年1.3億美元的續約合約，此合約不包含任何球員或球隊選項，而他也是繼76人隊西蒙斯（Ben Simmons）、金塊隊穆雷（Jamal Murray）後，2016年選秀會中第三位獲得頂薪續約的球員。\n",
      "\n",
      "看到前隊友獲得續約，格林也向席亞康表達祝賀之意，他在推特上寫下：「向我的兄弟席亞康致以崇高敬意，你絕對配得上這份續約合約。祝賀王者！」同時在文末俏皮的標註「下次晚餐你付錢」。\n",
      "\n",
      "席亞康2016年投入NBA選秀，在第一輪第27順位被暴龍選中，前兩年表現並不出色，但他上個球季表現大躍進，從前兩年的場均4.2、7.3分爆發到16.9分、6.9籃板、3.1助攻、0.9抄截、0.7阻攻的高水準表現，除了拿下首枚冠軍戒外，還摘下最佳進步獎。\n",
      "\n",
      "---------------------------------------\n"
     ]
    },
    {
     "data": {
      "text/html": [
       "<h1>熱火再祭鐵腕整治紀律 威特斯開幕戰遭禁賽</h1>"
      ],
      "text/plain": [
       "<IPython.core.display.HTML object>"
      ]
     },
     "metadata": {},
     "output_type": "display_data"
    },
    {
     "data": {
      "text/html": [
       "<span style=\"color:blue\">2019-10-20 14:46</span>"
      ],
      "text/plain": [
       "<IPython.core.display.HTML object>"
      ]
     },
     "metadata": {},
     "output_type": "display_data"
    },
    {
     "name": "stdout",
     "output_type": "stream",
     "text": [
      "NBA新賽季即將開戰，熱火得分後衛威特斯（Dion Waiters）卻確定缺席球隊台灣時間24日和灰熊隊的開幕戰；熱火球團今天（20號）宣布，威特斯因昨天比賽「不專業行為」，對球隊造成不利影響，因此做出禁賽決定。\n",
      "\n",
      "熱火總裁萊里（Pat Riley）發表的聲明指出，本周球隊發生些「無法接受的事件」，導致威特斯昨天比賽中在板凳區做出不專業的行為，「最終，我覺得我們必須將他禁賽。」昨天面對火箭隊的最後一場熱身賽，威特斯比賽中曾和教頭史波史特拉（Erik Spoelstra）言語交鋒，不過熱火並沒明確指出發生那些事件或狀況；最終熱火以133：144吞敗，中斷熱身賽4連勝。\n",
      "\n",
      "威斯特昨天只出賽10分鐘，有9名隊友出賽時間在他之上；在前4場熱身賽，威斯特平均則有14.3分鐘出賽時間。事實上，威斯特不是熱火本季第一位公開宣布懲處的球員，老將強森（James Johnson）因體測未過，直接被熱火拒於訓練營外，直到熱身賽才歸隊。\n",
      "\n",
      "威斯特因開幕戰遭禁賽，將損失8萬3448美金（約254萬新台幣）；這將是他第4個球季披上熱火戰袍，過去3季他因踝傷勢和手術，缺賽場次已達126場。上季他出賽44場，平均繳出12分，球隊已宣布他在美國時間周四將允許歸隊。\n",
      "\n",
      "---------------------------------------\n"
     ]
    },
    {
     "data": {
      "text/html": [
       "<h1>對總管比數鈔票手勢 希爾德就是要國王開價留人</h1>"
      ],
      "text/plain": [
       "<IPython.core.display.HTML object>"
      ]
     },
     "metadata": {},
     "output_type": "display_data"
    },
    {
     "data": {
      "text/html": [
       "<span style=\"color:blue\">2019-10-20 14:41</span>"
      ],
      "text/plain": [
       "<IPython.core.display.HTML object>"
      ]
     },
     "metadata": {},
     "output_type": "display_data"
    },
    {
     "name": "stdout",
     "output_type": "stream",
     "text": [
      "大部分球員面對合約相關問題時多會採官腔回答，例如自己已經委由經紀人全權處理、自己只專注打球，只是國王後衛希爾德（Buddy Hield）顯然不是其中之一，近來他針對與球隊提前續約屢屢有驚人言行。\n",
      "\n",
      "希爾德首先意有所指表示：「重點不是我拿到薪水是不是頂薪，而是合約價碼是不是合理，不至於對我是個侮辱。」他又說：「舉例哪個大咖自由球員會想來沙加緬度。」甚至有網友捕捉到他按讚1則提到希爾德正倒數在國王日子的貼文。\n",
      "\n",
      "他還直言不諱強調：「我愛沙加緬度，但要是他們不想要我，覺得我不屬於球隊核心，我會找到別的地方去，我要的忠誠跟尊重。」而最新進展是，希爾德出席球迷日活動，當面以開玩笑方式對總管狄瓦茲（Vlade Divac）比出數鈔票手勢。\n",
      "\n",
      "離2016年梯次新秀提前續約談判終止還有約1天多時間，《The Athletic》記者瓊斯（Jason Jones）透露，國王對續約希爾德仍持樂觀態度，而《Yahoo Sports》記者海恩斯（Chris Haynes）則說，雙方價碼落差為4年9000萬與4年1.1億美元。\n",
      "Contract extension negotiations continued at today's Sacramento Kings Fan Fest, as Buddy Hield sends a stern message to GM Vlade Divac 💰💸😅(sarcasm obvi - still funny) pic.twitter.com/1KNwXmXIqV— Sean Cunningham (@SeanCunningham) 2019年10月19日\n",
      "\n",
      "\n",
      "---------------------------------------\n"
     ]
    },
    {
     "data": {
      "text/html": [
       "<h1>巴恩斯離開德州不忘當地 支付慘劇受害者喪葬費</h1>"
      ],
      "text/plain": [
       "<IPython.core.display.HTML object>"
      ]
     },
     "metadata": {},
     "output_type": "display_data"
    },
    {
     "data": {
      "text/html": [
       "<span style=\"color:blue\">2019-10-20 12:45</span>"
      ],
      "text/plain": [
       "<IPython.core.display.HTML object>"
      ]
     },
     "metadata": {},
     "output_type": "display_data"
    },
    {
     "name": "stdout",
     "output_type": "stream",
     "text": [
      "從2016年開始直到今年2月被交易為止，巴恩斯（Harrison Barnes）都是獨行俠一員，而如今雖然是已轉投國王且和對方簽下長約，他對於舊東家情懷並未改變，當得知德州當地發生警察誤殺女屋主事件後，決定協助支付對方喪葬費用。\n",
      "\n",
      "巴恩斯對此表示：「我和我太太希望為這家人做些什麼，這真的是一場悲劇，沒有人該在親人朋友請警察到場關切其安危時命喪警察之手，當人們經歷失去至親哀痛時，你最不想要發生的事就是他們擔心付不出喪葬費用。」\n",
      "\n",
      "這位不幸遭誤殺身亡女屋主律師對達拉斯媒體透露，巴恩斯將支付9成費用，剩下部份則是1位NFL美足球員協助付清，該律師也強調：「他們會這麼做，是因為他們真的在乎當地社區人們。」\n",
      "\n",
      "---------------------------------------\n"
     ]
    },
    {
     "data": {
      "text/html": [
       "<h1>湖人菜鳥藝高人膽大 2度晃倒勇士新人引關注</h1>"
      ],
      "text/plain": [
       "<IPython.core.display.HTML object>"
      ]
     },
     "metadata": {},
     "output_type": "display_data"
    },
    {
     "data": {
      "text/html": [
       "<span style=\"color:blue\">2019-10-20 12:13</span>"
      ],
      "text/plain": [
       "<IPython.core.display.HTML object>"
      ]
     },
     "metadata": {},
     "output_type": "display_data"
    },
    {
     "name": "stdout",
     "output_type": "stream",
     "text": [
      "湖人與勇士今年季前熱身賽一口氣安排4次對戰，其中雙方菜鳥間對決意外成為了網路熱議話題，湖人新秀諾維爾（Zach Norvell Jr.）兩場各晃倒勇士新人波爾（Jordan Poole），當場讓湖人全體球員都陷入瘋狂。\n",
      "\n",
      "諾維爾對此指出：「我就是試著突破對方防守，切入籃下，當然看到隊友這樣瘋狂反應實在很酷。」小老弟藝高人膽大的表現也讓庫茲瑪（Kyle Kuzma）轉發這記精彩運球並說：「這傢伙真的很能打呢。」\n",
      "\n",
      "總教練佛蓋爾（Frank Vogel）對諾維爾也讚譽有加：「他訓練營時候就表現很出色，他不只是射手而已，也能持球創造進攻機會，防守端也願意全場壓迫對手，此外他在學習觀念上速度也很快。」\n",
      "\n",
      "簽下雙向合約的諾維爾預計下季多數時間會待在湖人發展聯盟隊伍，不過就像是如今被期待站穩輪替位置的卡盧索（Alex Caruso）一樣，從湖人發展聯盟隊伍發跡再擠進母隊陣容絕非不可能。\n",
      "Meet our rookie, @ZachN_23. He’s here to take your ankles.(📺: @SpectrumSN) pic.twitter.com/z7XC5QO7C3— Los Angeles Lakers (@Lakers) 2019年10月15日\n",
      "\n",
      "🔥🔥🔥 @ZachN_23 out here giving opponents floor seats on a nightly basis 🔥🔥🔥(🎥: @SpectrumSN) pic.twitter.com/brodI2VF74— Los Angeles Lakers (@Lakers) 2019年10月19日\n",
      "\n",
      "\n",
      "---------------------------------------\n"
     ]
    },
    {
     "data": {
      "text/html": [
       "<h1>不看好勇士能晉季後賽 球評：勇湖下季戰績互換</h1>"
      ],
      "text/plain": [
       "<IPython.core.display.HTML object>"
      ]
     },
     "metadata": {},
     "output_type": "display_data"
    },
    {
     "data": {
      "text/html": [
       "<span style=\"color:blue\">2019-10-20 11:38</span>"
      ],
      "text/plain": [
       "<IPython.core.display.HTML object>"
      ]
     },
     "metadata": {},
     "output_type": "display_data"
    },
    {
     "name": "stdout",
     "output_type": "stream",
     "text": [
      "退役名人堂球星、前火箭總教練麥克海爾（Kevin McHale）近日做客節目時對新球季作出預測，他認為湖人和勇士的戰績會和上季正好相反，同時他也有些擔心勇士，不看好勇士能打進季後賽。\n",
      "\n",
      "上個賽季勇士在例行賽打出57勝25負、西區最佳的戰績，而湖人在球季前半段也一度在西區八強之列，不過在去年與勇士的「耶誕大戰」中傷了詹姆斯（LeBron James）後，湖人戰績直直落，最終只繳出37勝45負的成績，再度與季後賽擦身。\n",
      "\n",
      "今夏各隊陣容都出現變化，湖人從鵜鶘隊挖來戴維斯（Anthony Davis），也吸引明星中鋒卡珍斯（DeMarcus Cousins）前來加盟，被外界看好十分有機會衝擊總冠軍。\n",
      "\n",
      "反觀勇士在尋求三連霸過程中，先後傷了杜蘭特（Kevin Durant）及湯普森（Klay Thompson），今夏還面臨多名奪冠班底出走的情況，儘管從籃網隊交易來羅素（DAngelo Russell）補強後場戰力，但多數人都不看好勇士能重返榮耀。\n",
      "\n",
      "「我預計湖人和勇士的戰績會跟上季正好相反，湖人會取得57勝，勇士則只有37勝」，麥克海爾說：「我有些擔心勇士，畢竟他們失去了杜蘭特、李文斯頓（Shaun Livingston）和伊古達拉（Andre Iguodala），湯普森也會缺席大半球季，上賽季他們隊內排名前六的球員一下子折損四人。」\n",
      "\n",
      "麥克海爾表示，勇士總管麥爾斯（Bob Myers）全力打造一支全新陣容，主帥柯爾（Steve Kerr）也在捏合新陣容上表現出色，陣中也還有柯瑞（Stephen Curry）這名球星，但有許多新面孔需要融入體系。\n",
      "\n",
      "「我不敢確定，還需要繼續觀察情況如何，但我目前不認為他們會打進季後賽」，談論完勇士後，麥克海爾也就湖人戰力進行分析，他認為湖人相較於上季在防守端明顯提升，外線投籃能力也增加，「如今我在這支湖人身上終於看到了防守，他們的投籃把握性也更強了」。\n",
      "\n",
      "---------------------------------------\n"
     ]
    },
    {
     "data": {
      "text/html": [
       "<h1>開幕戰進入倒數 雷納德坦承會關注暴龍領戒儀式</h1>"
      ],
      "text/plain": [
       "<IPython.core.display.HTML object>"
      ]
     },
     "metadata": {},
     "output_type": "display_data"
    },
    {
     "data": {
      "text/html": [
       "<span style=\"color:blue\">2019-10-20 11:32</span>"
      ],
      "text/plain": [
       "<IPython.core.display.HTML object>"
      ]
     },
     "metadata": {},
     "output_type": "display_data"
    },
    {
     "name": "stdout",
     "output_type": "stream",
     "text": [
      "暴龍上季奪下隊史首座NBA總冠軍，這也是金盃史上頭一遭降臨美國本土之外，舉國歡騰的加拿大雖然之後就面臨雷納德（Kawhi Leonard）出走打擊，他昨日（19號）代表新東家回到北境之地，依舊得到當地球迷熱情歡迎。\n",
      "\n",
      "雷納德談到加拿大支持者也大方讚美說：「他們真的是很棒一群人，即便當我已經和快艇簽約了，我在加拿大這邊四處遊走時，還是都有人主動過來找我，並感謝我過去所作一切。」\n",
      "\n",
      "快艇這次造訪加國是在溫哥華與獨行俠交手，雷納德真正重返老東家暴龍主場則要等到12月12號，而暴龍在新賽季開幕戰上也將舉辦頒發冠軍戒指儀式，雷納德則要備戰稍晚對湖人同城內戰，但他也表示：「我大概還是會關注當天慶功。」\n",
      "\n",
      "---------------------------------------\n"
     ]
    },
    {
     "data": {
      "text/html": [
       "<h1>證實女友懷孕喜訊 安戴托昆波期待替小孩治裝</h1>"
      ],
      "text/plain": [
       "<IPython.core.display.HTML object>"
      ]
     },
     "metadata": {},
     "output_type": "display_data"
    },
    {
     "data": {
      "text/html": [
       "<span style=\"color:blue\">2019-10-20 11:00</span>"
      ],
      "text/plain": [
       "<IPython.core.display.HTML object>"
      ]
     },
     "metadata": {},
     "output_type": "display_data"
    },
    {
     "name": "stdout",
     "output_type": "stream",
     "text": [
      "先前女友瑪莉亞（Mariah Danae Riddlesprigger）在私人Instagram提前宣佈懷孕喜訊，安戴托昆波（Giannis Antetokounmpo）如今受訪時也正式證實此事，並延續當初一開始在女友發文下留言「爸爸是誰？」搞笑態度。\n",
      "\n",
      "面對記者提問自己是不是真的要體驗初為人父滋味時，安戴托昆波笑說：「我根本沒追蹤自己女友Instagram，所以我不知道她發了什麼，而且我也沒看到她肚子有凸出來，因此我也不曉得自己是不是要有小孩了。」\n",
      "\n",
      "安戴托昆波接著才認真回應：「我剛剛都是在開玩笑啦！我們當然是興奮極了，能有第一個孩子，但我不會對此多談，我希望外界把注意力擺在球場，家務事就留在我自己家就好，不過我們確實家裡要有新成員了，我們也都對此感到很開心。」\n",
      "\n",
      "至於新手老爸安戴托昆波最期待的事情是什麼呢？他表示是幫小孩穿上自己新推出的個人簽名鞋款嬰兒版，「我一定會想辦法搞到嬰兒版的，還有其他的衣服跟帽T之類的，他肯定是要跟他老爸穿得一模一樣」。\n",
      "\n",
      "---------------------------------------\n"
     ]
    },
    {
     "data": {
      "text/html": [
       "<h1>新賽季潛在重磅交易？ 專家評葛里芬轉隊機會高</h1>"
      ],
      "text/plain": [
       "<IPython.core.display.HTML object>"
      ]
     },
     "metadata": {},
     "output_type": "display_data"
    },
    {
     "data": {
      "text/html": [
       "<span style=\"color:blue\">2019-10-20 10:43</span>"
      ],
      "text/plain": [
       "<IPython.core.display.HTML object>"
      ]
     },
     "metadata": {},
     "output_type": "display_data"
    },
    {
     "name": "stdout",
     "output_type": "stream",
     "text": [
      "儘管NBA新賽季都還沒有正式揭開序幕，交易流言就已經捷足先登來到媒體版面，明星長人葛里芬（Blake Griffin）就被不少專家「相中」，認為若到時候活塞起步顯得跌跌撞撞，他名字很可能免不了出現在談判桌上。\n",
      "\n",
      "最先拋出葛里芬可能成為遭交易對象點子是回歸媒體圈的專欄作家霍林格（John Hollinger），他過去曾任《ESPN》專家之後加入灰熊制服組，現又來到《The Athletic》重操舊業，霍林格認為葛里芬交易價值正處於巔峰，活塞要出手勢必得趁早。\n",
      "\n",
      "接著《ESPN》作家洛威（Zach Lowe）也在開季瘋狂預測專欄中附和，他指出葛里芬或許會是像拓荒者這類願放手一搏作季中補強的潛在目標，儘管活塞眼前目標無疑是再闖季後賽，但假如事與願違恐怕得好好思考大破大立選項。\n",
      "\n",
      "而底特律當地媒體對葛里芬未來動向則意見不一，《底特律自由新聞》記者艾利斯（Vince Ellis）表示，聯盟確實普遍存在葛里芬日後將被交易的強烈可能性，但《底特律新聞報》同行比爾德（Rod Beard）則說，活塞高層大力駁斥了此說。\n",
      "\n",
      "---------------------------------------\n"
     ]
    },
    {
     "data": {
      "text/html": [
       "<h1>雷納德聯手板凳暴徒 快艇首戰衝破湖人</h1>"
      ],
      "text/plain": [
       "<IPython.core.display.HTML object>"
      ]
     },
     "metadata": {},
     "output_type": "display_data"
    },
    {
     "data": {
      "text/html": [
       "<span style=\"color:blue\">2019-10-23 13:29</span>"
      ],
      "text/plain": [
       "<IPython.core.display.HTML object>"
      ]
     },
     "metadata": {},
     "output_type": "display_data"
    },
    {
     "name": "stdout",
     "output_type": "stream",
     "text": [
      "\n",
      "眾所矚目的「洛城大戰」在今天點燃戰火，雷納德（Kawhi Leonard）全場攻下30分6籃板5助攻，快艇板凳部隊則是合力砍下60分。快艇在第二節逐漸掌握優勢，雖然第三節尾聲一波亂流讓湖人追平，但第四節穩住陣腳，又將分數拉開，最終以112比102擊敗湖人，取得開季首勝。\n",
      "\n",
      "這場比賽雙方都有主力球員面臨傷病麻煩，快艇傷了喬治（Paul George），湖人則是庫茲瑪（Kyle Kuzma）。一開賽湖人就展現猛烈攻勢，開局打了13比2的攻勢，在比賽中先聲奪人，首節取得領先優勢；不過快艇板凳部隊隨即發揮，加上雷納德精準中距離跳投，快艇第二節砍進40分，反而在上半場以62比54領先湖人。\n",
      "\n",
      "快艇的快節奏配合在下半場讓湖人難以應付，一度取得兩位數領先；不過接下來快艇外線命中率下滑，湖人在詹姆斯（LeBron James）場邊休息之際，反倒殺出一波15比3攻勢，三節結束雙方戰成平手。\n",
      "\n",
      "第四節之初，快艇找回手感，先是打了一波7比0的進攻，湖人不甘示弱連追兩球，快艇替補球員再度發威，又殺出一波11比2的攻勢，比分再度拉開。雷納德掌控節奏，哈瑞爾（Montrezl Harrell）也趁虛籃下建功，湖人反撲無力，只能目送快艇揚長而去。\n",
      "\n",
      "上季決賽MVP雷納德重返故鄉，此役上場32分鐘，雖然出現6次失誤還吞下5犯，但全場19投10中，還是砍下30分6籃板5助攻2抄截。\n",
      "\n",
      "以威廉斯（Lou Williams）為首的快艇板凳暴徒依舊強悍，威廉斯14投8中，拿下21分7助攻5籃板，哈瑞爾11投7中，得到17分7籃板4助攻，哈克雷斯（Moe Harkless）10分4籃板4抄截2阻攻，格林（JaMychal Green）12分6籃板。\n",
      "\n",
      "戴維斯披上湖人戰袍的首場正式比賽，21投8中，包括14罰9中，獨拿25分10籃板5助攻2阻攻1抄截；詹姆斯19投7中，得到18分9籃板8助攻。\n",
      "\n",
      "格林可說是湖人可以咬住比分的關鍵，全場14投10中，三分球9投7中，攻下全隊最高28分，外加7籃板2抄截，其中第三節獨拿18分。湖人陣中除了這3人之外，無人得分超過雙位數。\n",
      "\n",
      "---------------------------------------\n"
     ]
    },
    {
     "data": {
      "text/html": [
       "<h1>稱柯瑞更勝衛少 杜蘭特：哈登沒去火箭無法成MVP</h1>"
      ],
      "text/plain": [
       "<IPython.core.display.HTML object>"
      ]
     },
     "metadata": {},
     "output_type": "display_data"
    },
    {
     "data": {
      "text/html": [
       "<span style=\"color:blue\">2019-10-22 12:51</span>"
      ],
      "text/plain": [
       "<IPython.core.display.HTML object>"
      ]
     },
     "metadata": {},
     "output_type": "display_data"
    },
    {
     "name": "stdout",
     "output_type": "stream",
     "text": [
      "儘管在即將開打的新賽季中可能因傷全面缺陣，但今夏轉披布魯克林籃網戰袍的明星前鋒杜蘭特（Kevin Durant）製造話題的功力依舊，他在近日與前奧克拉荷馬雷霆隊友伊巴卡（Serge Ibaka）一同錄製網路節目時，被問到兩名合作過的後衛柯瑞（Stephen Curry）與衛斯特布魯克（Russell Westbrook）誰更好時，杜蘭特卻毫不猶疑地選擇了前者。\n",
      "\n",
      "杜蘭特在今年夏天透過先簽後換的方式轉戰籃網，儘管受到傷勢影響本賽季可能無法如願披上籃網戰袍登場，不過近日他在與前隊友伊巴卡錄製網路節目「How Hungry Are You?」時，再度靠著犀利回答搶佔媒體版面。\n",
      "\n",
      "其中在上賽季代表暴龍出賽的伊巴卡，先是問到了杜蘭特是否認為，假使自己沒有發生受傷狀況，勇士最終能否擊敗暴龍時，杜蘭特則是回答毫無疑問：「因為如果我在上場的話，你們是不可能在家擊敗我們的。」\n",
      "\n",
      "對於過去與哈登和衛斯特布魯克一起被稱作雷霆四少，杜蘭特與伊巴卡也談論到了兩名也都已經不在雷霆的前隊友們，兩人皆認為如果當年哈登未離開雷霆轉戰火箭，將無法達成拿下年度MVP的成就，而雷霆四少也有機會在相當年輕的情況下就挺進總冠軍賽。\n",
      "\n",
      "不過當伊巴卡問到，杜蘭特的兩位前搭擋柯瑞與衛斯特布魯克誰更好時，杜蘭特卻毫不猶豫地選擇了柯瑞，並認為兩者的差別就在於外線投射能力上，不過有趣的是，杜蘭特在轉戰籃網後將與另外一位聯盟頂尖控球後衛厄文（Kyrie Irving）攜手奮戰，屆時他又會如何評比這三名生涯合作過的頂尖後衛，也讓人相當好奇。\n",
      "\n",
      "---------------------------------------\n"
     ]
    },
    {
     "data": {
      "text/html": [
       "<h1>全員發揮狂轟141分 快艇快意客場踢館大勝勇士</h1>"
      ],
      "text/plain": [
       "<IPython.core.display.HTML object>"
      ]
     },
     "metadata": {},
     "output_type": "display_data"
    },
    {
     "data": {
      "text/html": [
       "<span style=\"color:blue\">2019-10-25 13:18</span>"
      ],
      "text/plain": [
       "<IPython.core.display.HTML object>"
      ]
     },
     "metadata": {},
     "output_type": "display_data"
    },
    {
     "name": "stdout",
     "output_type": "stream",
     "text": [
      "新賽季首戰就在「洛城內戰」中拔得頭籌，快艇今日（25號）又大勝勇士，終場141以122比再下一城，全隊整體命中率高達62.5%，三分線外也有54.5%高水準發揮，讓對手新主場初亮相就踢到鐵板。\n",
      "\n",
      "快艇一開賽就展現力壓對手的如虹氣勢，前3分多鐘打出14比0攻勢，且勇士防守中樞格林（Draymond Green）更因掩護時弄傷手肘，一度退場接受治療，所幸球隊靠羅素（D'Angelo Russell）、柯瑞（Stephen Curry）接力飆分及時止血。\n",
      "\n",
      "打完上半場之後，快艇暫握有11分領先，只是到了第三節攻勢如同水壩潰堤傾瀉而出，單節狠狠灌下46分讓勇士毫無招架之力，沙米特（Landry Shamet）與派特森（Patrick Patterson）各砍進3記三分球，比賽勝負自此底定。\n",
      "\n",
      "快艇此役讓一度落後多達31分的勇士全場未曾有任何翻轉機會，其中得分最高者為攻下22分的超級替補威廉斯（Lou Williams），雷納德（Kawhi Leonard）則有21分、9助攻進帳。\n",
      "\n",
      "此外，快艇2位先發長人表現也不俗，派特森得到20分，包括6記三分球，而祖巴茲（Ivica Zubac）繳出16分、10籃板雙十成績。勇士方面，柯瑞拿到23分，但個人出現8失誤且三分僅11投2中，羅素另挹注20分、8助攻。\n",
      "\n",
      "---------------------------------------\n"
     ]
    },
    {
     "data": {
      "text/html": [
       "<h1>頂著噓聲飆30分 雷納德：很高興拿下勝利</h1>"
      ],
      "text/plain": [
       "<IPython.core.display.HTML object>"
      ]
     },
     "metadata": {},
     "output_type": "display_data"
    },
    {
     "data": {
      "text/html": [
       "<span style=\"color:blue\">2019-10-23 16:39</span>"
      ],
      "text/plain": [
       "<IPython.core.display.HTML object>"
      ]
     },
     "metadata": {},
     "output_type": "display_data"
    },
    {
     "name": "stdout",
     "output_type": "stream",
     "text": [
      "\n",
      "「這將是一個偉大的賽季，我們每場比賽都會全力以赴，讓我們開始吧。」\n",
      "\n",
      "回到家鄉洛城、加盟快艇的首戰，雷納德（Kawhi Leonard）接受來自湖人球迷的噓聲伺候，不過他很快就展現精準的中距離跳投，全場19投10中，攻下30分6籃板5助攻2抄截1阻攻，其中他在第二節獨拿16分，是球隊能夠扭轉落後局面的關鍵。最終快艇就以10分之差擊退同城的湖人。\n",
      "\n",
      "「我很高興我們上場比賽然後拿下勝利。我們先前的訓練做得很棒，我們今晚延續了這樣的狀態。」雷納德說。雷納德此戰雖然出現6次失誤，還吞下5次犯規，但瑕不掩瑜。\n",
      "\n",
      "「他為我們創造機會，他就是這麼做的。」快艇總教練瑞佛斯（Doc Rivers）說。\n",
      "\n",
      "除了雷納德的高效率穩定表現外，快艇板凳暴徒再度有出色發揮，威廉斯（Lou Williams）攻下21分7助攻5籃板，哈瑞爾（Montrezl Harrell）得到17分7籃板4助攻，快艇替補合力砍下60分，足足比湖人替補球員多了41分，成了比賽勝負的關鍵之一。\n",
      "\n",
      "談到雷納德和威廉斯的搭配情況，瑞佛斯表示：「我認為他們現在彼此之間僅相互熟悉10%到15%。他們錯過很多機會，隨著時間的推移，他們會變得越來越危險。」\n",
      "\n",
      "\n",
      "---------------------------------------\n"
     ]
    },
    {
     "data": {
      "text/html": [
       "<h1>失分創柯爾時代新高 柯瑞：檢討時場面肯定難堪</h1>"
      ],
      "text/plain": [
       "<IPython.core.display.HTML object>"
      ]
     },
     "metadata": {},
     "output_type": "display_data"
    },
    {
     "data": {
      "text/html": [
       "<span style=\"color:blue\">2019-10-25 15:12</span>"
      ],
      "text/plain": [
       "<IPython.core.display.HTML object>"
      ]
     },
     "metadata": {},
     "output_type": "display_data"
    },
    {
     "name": "stdout",
     "output_type": "stream",
     "text": [
      "今日（25號）讓快艇單場繳出62.5%整體命中率還有54.5%三分命中率，勇士不但吞下敗仗且痛失141分也寫下柯爾（Steve Kerr）執教時代最高紀錄。\n",
      "\n",
      "柯爾2014年執教勇士開始，球隊算上例行賽還有季後賽的對手單場最高得分140分，是由鵜鶘在今年1月16號所攻下，不過勇士當時憑藉傲人火力硬是拿到147分，依然摘下勝利，但對快艇就無法複製過往經驗。\n",
      "\n",
      "格林（Draymond Green）賽後難掩失望表示：「我們這場比賽表現實在糟糕透頂了，防守更是災難一場。」當被記者問到防守哪點出了問題，他更回應：「每個地方。」柯瑞（Stephen Curry）也坦承：「明天看影片檢討場面肯定很難堪。」\n",
      "\n",
      "至於柯爾自己則是指出：「這就是NBA，過去5年我們就像存在另個世界一樣，現在終於回到現實了。」他甚至補充：「這不會只是個案而已，今年我們很可能也會再面臨同樣狀況。」言下之意似乎預言防守問題將困擾球隊整季。\n",
      "\n",
      "---------------------------------------\n"
     ]
    },
    {
     "data": {
      "text/html": [
       "<h1>點名具爭冠實力隊伍 歐尼爾名單中缺快艇</h1>"
      ],
      "text/plain": [
       "<IPython.core.display.HTML object>"
      ]
     },
     "metadata": {},
     "output_type": "display_data"
    },
    {
     "data": {
      "text/html": [
       "<span style=\"color:blue\">2019-10-20 10:20</span>"
      ],
      "text/plain": [
       "<IPython.core.display.HTML object>"
      ]
     },
     "metadata": {},
     "output_type": "display_data"
    },
    {
     "name": "stdout",
     "output_type": "stream",
     "text": [
      "NBA名人堂傳奇球星歐尼爾（Shaquille O'Neal）近日列出他認為在2019-20年球季具備爭冠實力的四支球隊，不過多達46%的總經理認為會奪冠的洛杉磯快艇並不在「俠客」的這份名單中。\n",
      "\n",
      "「我看了湖人大勝勇士的那場季前賽，雖然那只是一場季前賽，但湖人表現真的很棒」，湖人在今夏迎來戴維斯（Anthony Davis）與詹姆斯（LeBron James）攜手，也讓歐尼爾十分看好「紫金軍團」有望再度衝擊總冠軍。\n",
      "\n",
      "除了老東家湖人外，歐尼爾也點名擁有哈登（James Harden）、衛斯特布魯克（Russell Westbrook）「MVP連線」的火箭，以及上季打下全聯盟最佳戰績、新科MVP得主安戴托昆波（Giannis Antetokounmpo）領軍的公鹿，也都是他認為有機會爭冠的球隊。\n",
      "\n",
      "而上季尋求三連霸失利的勇士新球季面臨多位奪冠班底出走，以及射手湯普森（Klay Thompson）受傷將缺席大半球季的挑戰，外界不看好他們能夠重返榮耀，不過歐尼爾並不這樣認為，「我不會像外界那樣看衰勇士」。反觀多數人都認為奪冠機率極高的快艇，並未在歐尼爾的這份名單中，\n",
      "\n",
      "今年夏天快艇簽下雷納德（Kawhi Leonard），向雷霆隊交易迎來喬治（Paul George），爭冠聲勢大漲，頓時讓「洛城內戰」成為最受矚目的對決之一。\n",
      "\n",
      "---------------------------------------\n"
     ]
    },
    {
     "data": {
      "text/html": [
       "<h1>提前續約談判暫觸礁 沙波尼斯深陷交易傳言</h1>"
      ],
      "text/plain": [
       "<IPython.core.display.HTML object>"
      ]
     },
     "metadata": {},
     "output_type": "display_data"
    },
    {
     "data": {
      "text/html": [
       "<span style=\"color:blue\">2019-10-20 10:14</span>"
      ],
      "text/plain": [
       "<IPython.core.display.HTML object>"
      ]
     },
     "metadata": {},
     "output_type": "display_data"
    },
    {
     "name": "stdout",
     "output_type": "stream",
     "text": [
      "2016年梯次新秀提前續約期限將在美國時間下周2截止，溜馬與陣中潛力新星長人沙波尼斯（Domantas Sabonis）談判目前暫無實際結果，《The Athletic》記者阿米克（Sam Amick）甚至爆料，球隊本周已探尋了可能交易方案。\n",
      "\n",
      "阿米克指出，根據他所掌握的消息來源透露，沙波尼斯提前談成續約機率偏低，且溜馬已積極主動展開了交易談判，不過截至目前為止，球隊索價過高讓有興趣者現階段仍望之卻步。\n",
      "\n",
      "此外《The Athletic》另位負責溜馬新聞的記者阿格尼斯（Scott Agness）同樣證實此事，他引述沙波尼斯本人說法指出，「沒什麼可奉告的，我知道溜馬對我感覺是怎樣，我也知道自己對他們感覺如何，我會讓經紀人處理這事，靜觀其變」。\n",
      "\n",
      "而《印地安納星報》記者也證實沙波尼斯交易傳言，先是用「走到十字路口」來形容雙方關係，更表示如今不論事情屆時是何發展都不讓人意外，對比過去球團大張旗鼓聲稱，新賽季計畫主打沙波尼斯和透納（Myles Turner）有相當大落差。\n",
      "\n",
      "---------------------------------------\n"
     ]
    },
    {
     "data": {
      "text/html": [
       "<h1>提前續約教頭史奈德 爵士安內攘外放眼西區</h1>"
      ],
      "text/plain": [
       "<IPython.core.display.HTML object>"
      ]
     },
     "metadata": {},
     "output_type": "display_data"
    },
    {
     "data": {
      "text/html": [
       "<span style=\"color:blue\">2019-10-20 09:49</span>"
      ],
      "text/plain": [
       "<IPython.core.display.HTML object>"
      ]
     },
     "metadata": {},
     "output_type": "display_data"
    },
    {
     "name": "stdout",
     "output_type": "stream",
     "text": [
      "目前身上合約還有2年走期，爵士還是決定先行續約史奈德（Quin Snyder），過去2016年時候，球團也是在相同情況下提前綁定這位當時僅上任2年的新科教頭，足見對於史奈德器重。\n",
      "\n",
      "爵士先前也對管理階層進行人事調整，將原總管林賽（Dennis Lindsey）升任為總裁，原職則網羅了新血查尼克（Justin Zanik）加入，而球團在今年休賽季也動作頻頻，補進像柯利（Mike Conley）與波格丹諾維奇（Bojan Bogdanovic）等好手。\n",
      "\n",
      "史奈德過去6個賽季帶領爵士共繳出例行賽227勝與183敗成績，且球隊防守在近幾季皆位於聯盟頂尖之列，此外他對於戈貝爾（Rudy Gobert）與米契爾（Donovan Mitchell）養成也得到高度評價。\n",
      "\n",
      "---------------------------------------\n"
     ]
    },
    {
     "data": {
      "text/html": [
       "<h1>1.3億美元價碼再綁4年 席亞康續披暴龍球衣</h1>"
      ],
      "text/plain": [
       "<IPython.core.display.HTML object>"
      ]
     },
     "metadata": {},
     "output_type": "display_data"
    },
    {
     "data": {
      "text/html": [
       "<span style=\"color:blue\">2019-10-20 09:24</span>"
      ],
      "text/plain": [
       "<IPython.core.display.HTML object>"
      ]
     },
     "metadata": {},
     "output_type": "display_data"
    },
    {
     "name": "stdout",
     "output_type": "stream",
     "text": [
      "上季打出亮眼表現，助隊打下隊史首座NBA總冠軍並摘下最佳進步獎的席亞康（Pascal Siakam），根據《The Athletic》記者查拉尼亞（Shams Charania）的報導，他與暴龍達成續約協議，簽下一紙四年1.3億美元的合約。\n",
      "\n",
      "來自喀麥隆的席亞康2016年投入NBA選秀，在第一輪第27順位被暴龍選中，前兩年表現並不出色，但2018-19年球季席亞康表現大躍進，從前兩年的場均4.2、7.3分爆發到16.9分、6.9籃板、3.1助攻、0.9抄截、0.7阻攻的高水準表現，除了拿下首枚冠軍戒外，還摘下最佳進步獎。\n",
      "\n",
      "在今夏奪冠功臣之一雷納德（Kawhi Leonard）選擇回家打球，改披快艇球衣後，就傳出若是新球季球隊戰績不佳，暴龍就打算重建的可能，且會以席亞康為主體打造球隊，之前也傳出暴龍端出四年1.3億美元或五年1.7億美元兩種續約條件讓席亞康選擇。\n",
      "\n",
      "今天結果出爐，席亞康將與暴龍簽下一紙四年1.3億美元的續約合約，此合約不包含任何球員或球隊選項，而他也是繼76人西蒙斯（Ben Simmons）、金塊穆雷（Jamal Murray）後，2016年選秀會中第三位獲得頂薪續約的球員。\n",
      "\n",
      "---------------------------------------\n"
     ]
    },
    {
     "data": {
      "text/html": [
       "<h1>離開NBA轉戰CBA 林書豪：學習到很多東西</h1>"
      ],
      "text/plain": [
       "<IPython.core.display.HTML object>"
      ]
     },
     "metadata": {},
     "output_type": "display_data"
    },
    {
     "data": {
      "text/html": [
       "<span style=\"color:blue\">2019-10-20 09:02</span>"
      ],
      "text/plain": [
       "<IPython.core.display.HTML object>"
      ]
     },
     "metadata": {},
     "output_type": "display_data"
    },
    {
     "name": "stdout",
     "output_type": "stream",
     "text": [
      "林書豪轉戰中國CBA北京首鋼隊，日前受訪談到打完季前賽的初體驗以及融入球隊的情況。林書豪表示，去年這時候膝傷還沒恢復到百分之百，但現在可以很健康地打球很開心，「雖然與隊友的默契還沒有那麼好，但能在一起打球就很快樂，非常好玩」。\n",
      "\n",
      "《北京青年報》報導，透過這段時間的訓練與配合，林書豪正在熟悉以及積極融入新球隊的戰術體系。他說：「我覺得有機會能夠成為球隊的先發控球後衛，去帶一個球隊打比賽，這是我一直以來的特點，這也是我最舒服的場上角色。」\n",
      "\n",
      "林書豪提到，北京首鋼隊的防守、進攻體系非常聰明，教練也非常聰明，「這裡也與NBA有很多不同，比如防守、傳球角度等，我從中學習到很多東西」。\n",
      "\n",
      "林書豪也談到了CBA與NBA備戰新賽季的一些不同，這也是需要他盡快去適應的地方，比如規則。他說：「我覺得還是有一些不同的，比如規則，在CBA第一節與第四節在外援使用上的規則，這會影響到球隊體系與打法，當外援使用發生變化的時候，會讓場上的東西非常不一樣，但我也在慢慢習慣這些，也是一個很好玩的挑戰。」\n",
      "\n",
      "林書豪也非常期待新賽季在北京球迷面前打球，「因為我之前在吉林、西寧打過季前賽，但還沒在五棵松球場打過球，所以非常期待新賽季的開始」。\n",
      "\n",
      "另據《中新社》報導，談到在北京的生活，林書豪也不可避免地談到了美食。他表示，雖然大多數時候吃得很健康，但有時候還是忍不住要吃一些好吃的，並透露很喜歡北京烤鴨，「他們說聯賽開始我不能吃，但是我已經吃過幾次北京烤鴨」。\n",
      "\n",
      "---------------------------------------\n"
     ]
    },
    {
     "data": {
      "text/html": [
       "<h1>哈登熱身賽越戰越勇 丹東尼：他的天花板在哪？</h1>"
      ],
      "text/plain": [
       "<IPython.core.display.HTML object>"
      ]
     },
     "metadata": {},
     "output_type": "display_data"
    },
    {
     "data": {
      "text/html": [
       "<span style=\"color:blue\">2019-10-20 08:54</span>"
      ],
      "text/plain": [
       "<IPython.core.display.HTML object>"
      ]
     },
     "metadata": {},
     "output_type": "display_data"
    },
    {
     "name": "stdout",
     "output_type": "stream",
     "text": [
      "火箭19號最後一場熱身賽， 衛斯特布魯克（Russell Westbrook）第四節手指受傷提前退場，但並無大礙，哈登（James Harden）則大殺四方，三分球十六投八中、命中率高達五成，獨轟四十四分，率隊一四四比一三三擊敗熱火，表現讓主帥丹東尼（Mike D'Antoni）直呼「太扯」。\n",
      "\n",
      "哈登出賽卅五分鐘，另有七助攻，籃板、抄截各五，全隊轟下廿二記三分球，命中率達四成四，卡佩拉（Clint Capela）挹注廿分、十三籃板，替補上陣的葛登（Eric Gordon）廿三分，火箭熱身賽四勝兩敗迎接開季，開幕戰對決公鹿。\n",
      "\n",
      "「哈登太扯了，每場比賽都不斷進步，我不知道他的天花板究竟在哪」，丹東尼對哈登表現無可挑剔，想把他換下來都沒辦法，「只要一連上線就會有這種表現，如果可以，他肯定想打滿四十八分鐘」。\n",
      "\n",
      "「衛少」昨日出賽廿九分鐘，攻下十六分，助攻、抄截各四，外帶三籃板，第四節右手手指脫臼提前退場，丹東尼並不擔心，「他們兩個都告訴我OK，我也接受」。\n",
      "\n",
      "---------------------------------------\n"
     ]
    },
    {
     "data": {
      "text/html": [
       "<h1>傳中國球鞋品牌出手 欲搶羅素代言韋德產品分支</h1>"
      ],
      "text/plain": [
       "<IPython.core.display.HTML object>"
      ]
     },
     "metadata": {},
     "output_type": "display_data"
    },
    {
     "data": {
      "text/html": [
       "<span style=\"color:blue\">2019-10-20 08:48</span>"
      ],
      "text/plain": [
       "<IPython.core.display.HTML object>"
      ]
     },
     "metadata": {},
     "output_type": "display_data"
    },
    {
     "name": "stdout",
     "output_type": "stream",
     "text": [
      "近期因火箭總管莫雷（Daryl Morey）挺港推文風波，導致不少中國企業中止與NBA合作。不過，據知名記者史坦(Marc Stein)在個人推文中指出，中國品牌李寧正積極與勇士後衛羅素（D'Angelo Russell）商談，希望將其納至旗下。\n",
      "\n",
      "根據報導，羅素與Nike的合約在今年秋天到期，因此李寧抓準時機趁勢找羅素磋商，有望將他簽到旗下為退役傳奇球星韋德（Dwyane Wade）所創子品牌「Way of Wade」，若最終如願簽約，羅素將會成為該品牌形象大使。\n",
      "\n",
      "羅素本季進入生涯第5年，榜眼身份踏入聯盟的他，在加入勇士前，輾轉待過湖人、籃網，上季在籃網打出場均21.1分、7助攻的生涯代表作，首度入選明星賽，如今先簽後換加入勇士，被寄與厚望能夠填補明星後衛湯普森（Klay Thompson）休戰時的空缺。\n",
      "\n",
      "---------------------------------------\n"
     ]
    },
    {
     "data": {
      "text/html": [
       "<h1>鎖定未來核心 爵士執行米契爾合約選項</h1>"
      ],
      "text/plain": [
       "<IPython.core.display.HTML object>"
      ]
     },
     "metadata": {},
     "output_type": "display_data"
    },
    {
     "data": {
      "text/html": [
       "<span style=\"color:blue\">2019-10-19 16:55</span>"
      ],
      "text/plain": [
       "<IPython.core.display.HTML object>"
      ]
     },
     "metadata": {},
     "output_type": "display_data"
    },
    {
     "name": "stdout",
     "output_type": "stream",
     "text": [
      "\n",
      "猶他爵士官方宣佈，已經正式執行米契爾（Donovan Mitchell）和布萊德利（Tony Bradley）的新秀合約第4年球隊選項，兩人在2020-21年賽季的年薪分別是520萬美元、354萬美元。\n",
      "\n",
      "米契爾是在2017年以首輪第13順位加入爵士，憑藉出色體能條件和單打能力，菜鳥年就繳出平均20.5分3.7籃板3.7助攻1.5抄截的成績，幫助球隊打進季後賽。但可惜的是，米契爾在年度新秀票選中飲恨，不敵晚一年開始生涯的西蒙斯（Ben Simmons）。\n",
      "\n",
      "進入生涯第2年，米契爾累積出賽77場，平均拿到23.8分4.1籃板4.2助攻1.4抄截，投籃命中率43.2%，三分命中率36.2%，成為2004-05賽季的韋德之後，首位在生涯第2個賽季就可以拿到場均至少23分的後衛球員。\n",
      "\n",
      "做為同梯，6呎10吋高的布萊德利是首輪第28順位，不過多數時間都只能在發展聯盟。上個賽季，布萊德利僅為爵士出賽3場，場均拿到5.7分5籃板，投籃命中率50%。\n",
      "\n",
      "在確定執行選項後，爵士和米契爾將可以在明年夏天提前討論續約事宜。\n",
      "\n",
      "---------------------------------------\n"
     ]
    },
    {
     "data": {
      "text/html": [
       "<h1>威廉森膝傷恐成隱憂？ 皮爾斯：他必須減重</h1>"
      ],
      "text/plain": [
       "<IPython.core.display.HTML object>"
      ]
     },
     "metadata": {},
     "output_type": "display_data"
    },
    {
     "data": {
      "text/html": [
       "<span style=\"color:blue\">2019-10-19 15:59</span>"
      ],
      "text/plain": [
       "<IPython.core.display.HTML object>"
      ]
     },
     "metadata": {},
     "output_type": "display_data"
    },
    {
     "name": "stdout",
     "output_type": "stream",
     "text": [
      "\n",
      "狀元郎威廉森（Zion Williamson）再度出現膝蓋不適的狀況，除了缺席最後一場季前賽外，有可能也會缺席數周時間，如此頻繁的傷病情況，也讓外界對於威廉森的膝蓋產生不少疑慮。\n",
      "\n",
      "皮爾斯（Paul Pierce）在節目中表示：「Zion在季前賽非常吸睛，我已經等不及看他的表現。我認為鵜鶘是這個新賽季最值得期待的球隊之一，就是因為Zion的存在。」\n",
      "\n",
      "「在職業生涯初期就遇到這樣的傷病，往往會對未來生涯造成影響，有可能演變成內側副韌帶損傷，甚至是前十字韌帶撕裂。我希望這情況不會發生。他現在還這麼年輕，這是一個隱憂。」\n",
      "\n",
      "據媒體報導，鵜鶘內部對於威廉森的傷勢感到十分樂觀，縱使他可能會缺席季初前幾週的時間。\n",
      "\n",
      "皮爾斯也說道：「我想強調的是，我認為他必須減輕一些重量。在我19歲的時候，我曾減去10磅（4.5公斤）的體重，以求減輕膝蓋的壓力，那確實會有幫助。」\n",
      "\n",
      "\n",
      "---------------------------------------\n"
     ]
    },
    {
     "data": {
      "text/html": [
       "<h1>協助槍擊案受害者 歐尼爾伸出援手</h1>"
      ],
      "text/plain": [
       "<IPython.core.display.HTML object>"
      ]
     },
     "metadata": {},
     "output_type": "display_data"
    },
    {
     "data": {
      "text/html": [
       "<span style=\"color:blue\">2019-10-19 15:34</span>"
      ],
      "text/plain": [
       "<IPython.core.display.HTML object>"
      ]
     },
     "metadata": {},
     "output_type": "display_data"
    },
    {
     "name": "stdout",
     "output_type": "stream",
     "text": [
      "\n",
      "根據報導，一位名叫裴頓（Isaiah Payton）的12歲男孩遭到槍擊，導致胸部以下癱瘓，NBA名人堂傳奇球星歐尼爾（Shaquille O'Neal）得悉此事後，決定伸出援手。\n",
      "\n",
      "裴頓是在美國時間8月16日一場高中美式足球賽中遭到槍擊，雖然活命，胸部以下卻是全部癱瘓，他的母親艾莉森（Allison Woods）為了照顧兒子，甚至得辭掉工作。而除了需要長期照護外，裴頓可能還需要無障礙的設施，這對艾莉森的家庭來說可謂沉重負擔。\n",
      "\n",
      "歐尼爾在得知此事後，他決定為這個家庭找一間房子，並負擔所有家具費用，還有一年份的房租，希望能夠幫助他們重新站起來。\n",
      "\n",
      "「我聽了這件事情後，感到很難過。類似事件也有可能會發生在我們任何人身上。有可能是我的兒子，也有可能是你的親戚。」歐尼爾說。\n",
      "\n",
      "「所以我們在College Park為她找了一間房子。那是很棒的地方。我們會安裝一些監視器，添購家具、電視，幫他們支付一年的房租。」\n",
      "\n",
      "這場槍擊案受害者除了裴頓，另一位15歲的孩子史皮爾（Damean Spear）也受到輕傷。亞特蘭大警察局局長席爾茲（Erika Shields）表示：「這是一起魯莽、懦弱的暴力行為，這件事已經永遠改變一個12歲的孩子和他的家庭，也將深深影響到另一名少年。」\n",
      "\n",
      "---------------------------------------\n"
     ]
    },
    {
     "data": {
      "text/html": [
       "<h1>雷納德聯手板凳暴徒 快艇首戰衝破湖人</h1>"
      ],
      "text/plain": [
       "<IPython.core.display.HTML object>"
      ]
     },
     "metadata": {},
     "output_type": "display_data"
    },
    {
     "data": {
      "text/html": [
       "<span style=\"color:blue\">2019-10-23 13:29</span>"
      ],
      "text/plain": [
       "<IPython.core.display.HTML object>"
      ]
     },
     "metadata": {},
     "output_type": "display_data"
    },
    {
     "name": "stdout",
     "output_type": "stream",
     "text": [
      "\n",
      "眾所矚目的「洛城大戰」在今天點燃戰火，雷納德（Kawhi Leonard）全場攻下30分6籃板5助攻，快艇板凳部隊則是合力砍下60分。快艇在第二節逐漸掌握優勢，雖然第三節尾聲一波亂流讓湖人追平，但第四節穩住陣腳，又將分數拉開，最終以112比102擊敗湖人，取得開季首勝。\n",
      "\n",
      "這場比賽雙方都有主力球員面臨傷病麻煩，快艇傷了喬治（Paul George），湖人則是庫茲瑪（Kyle Kuzma）。一開賽湖人就展現猛烈攻勢，開局打了13比2的攻勢，在比賽中先聲奪人，首節取得領先優勢；不過快艇板凳部隊隨即發揮，加上雷納德精準中距離跳投，快艇第二節砍進40分，反而在上半場以62比54領先湖人。\n",
      "\n",
      "快艇的快節奏配合在下半場讓湖人難以應付，一度取得兩位數領先；不過接下來快艇外線命中率下滑，湖人在詹姆斯（LeBron James）場邊休息之際，反倒殺出一波15比3攻勢，三節結束雙方戰成平手。\n",
      "\n",
      "第四節之初，快艇找回手感，先是打了一波7比0的進攻，湖人不甘示弱連追兩球，快艇替補球員再度發威，又殺出一波11比2的攻勢，比分再度拉開。雷納德掌控節奏，哈瑞爾（Montrezl Harrell）也趁虛籃下建功，湖人反撲無力，只能目送快艇揚長而去。\n",
      "\n",
      "上季決賽MVP雷納德重返故鄉，此役上場32分鐘，雖然出現6次失誤還吞下5犯，但全場19投10中，還是砍下30分6籃板5助攻2抄截。\n",
      "\n",
      "以威廉斯（Lou Williams）為首的快艇板凳暴徒依舊強悍，威廉斯14投8中，拿下21分7助攻5籃板，哈瑞爾11投7中，得到17分7籃板4助攻，哈克雷斯（Moe Harkless）10分4籃板4抄截2阻攻，格林（JaMychal Green）12分6籃板。\n",
      "\n",
      "戴維斯披上湖人戰袍的首場正式比賽，21投8中，包括14罰9中，獨拿25分10籃板5助攻2阻攻1抄截；詹姆斯19投7中，得到18分9籃板8助攻。\n",
      "\n",
      "格林可說是湖人可以咬住比分的關鍵，全場14投10中，三分球9投7中，攻下全隊最高28分，外加7籃板2抄截，其中第三節獨拿18分。湖人陣中除了這3人之外，無人得分超過雙位數。\n",
      "\n",
      "---------------------------------------\n"
     ]
    },
    {
     "data": {
      "text/html": [
       "<h1>稱柯瑞更勝衛少 杜蘭特：哈登沒去火箭無法成MVP</h1>"
      ],
      "text/plain": [
       "<IPython.core.display.HTML object>"
      ]
     },
     "metadata": {},
     "output_type": "display_data"
    },
    {
     "data": {
      "text/html": [
       "<span style=\"color:blue\">2019-10-22 12:51</span>"
      ],
      "text/plain": [
       "<IPython.core.display.HTML object>"
      ]
     },
     "metadata": {},
     "output_type": "display_data"
    },
    {
     "name": "stdout",
     "output_type": "stream",
     "text": [
      "儘管在即將開打的新賽季中可能因傷全面缺陣，但今夏轉披布魯克林籃網戰袍的明星前鋒杜蘭特（Kevin Durant）製造話題的功力依舊，他在近日與前奧克拉荷馬雷霆隊友伊巴卡（Serge Ibaka）一同錄製網路節目時，被問到兩名合作過的後衛柯瑞（Stephen Curry）與衛斯特布魯克（Russell Westbrook）誰更好時，杜蘭特卻毫不猶疑地選擇了前者。\n",
      "\n",
      "杜蘭特在今年夏天透過先簽後換的方式轉戰籃網，儘管受到傷勢影響本賽季可能無法如願披上籃網戰袍登場，不過近日他在與前隊友伊巴卡錄製網路節目「How Hungry Are You?」時，再度靠著犀利回答搶佔媒體版面。\n",
      "\n",
      "其中在上賽季代表暴龍出賽的伊巴卡，先是問到了杜蘭特是否認為，假使自己沒有發生受傷狀況，勇士最終能否擊敗暴龍時，杜蘭特則是回答毫無疑問：「因為如果我在上場的話，你們是不可能在家擊敗我們的。」\n",
      "\n",
      "對於過去與哈登和衛斯特布魯克一起被稱作雷霆四少，杜蘭特與伊巴卡也談論到了兩名也都已經不在雷霆的前隊友們，兩人皆認為如果當年哈登未離開雷霆轉戰火箭，將無法達成拿下年度MVP的成就，而雷霆四少也有機會在相當年輕的情況下就挺進總冠軍賽。\n",
      "\n",
      "不過當伊巴卡問到，杜蘭特的兩位前搭擋柯瑞與衛斯特布魯克誰更好時，杜蘭特卻毫不猶豫地選擇了柯瑞，並認為兩者的差別就在於外線投射能力上，不過有趣的是，杜蘭特在轉戰籃網後將與另外一位聯盟頂尖控球後衛厄文（Kyrie Irving）攜手奮戰，屆時他又會如何評比這三名生涯合作過的頂尖後衛，也讓人相當好奇。\n",
      "\n",
      "---------------------------------------\n"
     ]
    },
    {
     "data": {
      "text/html": [
       "<h1>全員發揮狂轟141分 快艇快意客場踢館大勝勇士</h1>"
      ],
      "text/plain": [
       "<IPython.core.display.HTML object>"
      ]
     },
     "metadata": {},
     "output_type": "display_data"
    },
    {
     "data": {
      "text/html": [
       "<span style=\"color:blue\">2019-10-25 13:18</span>"
      ],
      "text/plain": [
       "<IPython.core.display.HTML object>"
      ]
     },
     "metadata": {},
     "output_type": "display_data"
    },
    {
     "name": "stdout",
     "output_type": "stream",
     "text": [
      "新賽季首戰就在「洛城內戰」中拔得頭籌，快艇今日（25號）又大勝勇士，終場141以122比再下一城，全隊整體命中率高達62.5%，三分線外也有54.5%高水準發揮，讓對手新主場初亮相就踢到鐵板。\n",
      "\n",
      "快艇一開賽就展現力壓對手的如虹氣勢，前3分多鐘打出14比0攻勢，且勇士防守中樞格林（Draymond Green）更因掩護時弄傷手肘，一度退場接受治療，所幸球隊靠羅素（D'Angelo Russell）、柯瑞（Stephen Curry）接力飆分及時止血。\n",
      "\n",
      "打完上半場之後，快艇暫握有11分領先，只是到了第三節攻勢如同水壩潰堤傾瀉而出，單節狠狠灌下46分讓勇士毫無招架之力，沙米特（Landry Shamet）與派特森（Patrick Patterson）各砍進3記三分球，比賽勝負自此底定。\n",
      "\n",
      "快艇此役讓一度落後多達31分的勇士全場未曾有任何翻轉機會，其中得分最高者為攻下22分的超級替補威廉斯（Lou Williams），雷納德（Kawhi Leonard）則有21分、9助攻進帳。\n",
      "\n",
      "此外，快艇2位先發長人表現也不俗，派特森得到20分，包括6記三分球，而祖巴茲（Ivica Zubac）繳出16分、10籃板雙十成績。勇士方面，柯瑞拿到23分，但個人出現8失誤且三分僅11投2中，羅素另挹注20分、8助攻。\n",
      "\n",
      "---------------------------------------\n"
     ]
    },
    {
     "data": {
      "text/html": [
       "<h1>頂著噓聲飆30分 雷納德：很高興拿下勝利</h1>"
      ],
      "text/plain": [
       "<IPython.core.display.HTML object>"
      ]
     },
     "metadata": {},
     "output_type": "display_data"
    },
    {
     "data": {
      "text/html": [
       "<span style=\"color:blue\">2019-10-23 16:39</span>"
      ],
      "text/plain": [
       "<IPython.core.display.HTML object>"
      ]
     },
     "metadata": {},
     "output_type": "display_data"
    },
    {
     "name": "stdout",
     "output_type": "stream",
     "text": [
      "\n",
      "「這將是一個偉大的賽季，我們每場比賽都會全力以赴，讓我們開始吧。」\n",
      "\n",
      "回到家鄉洛城、加盟快艇的首戰，雷納德（Kawhi Leonard）接受來自湖人球迷的噓聲伺候，不過他很快就展現精準的中距離跳投，全場19投10中，攻下30分6籃板5助攻2抄截1阻攻，其中他在第二節獨拿16分，是球隊能夠扭轉落後局面的關鍵。最終快艇就以10分之差擊退同城的湖人。\n",
      "\n",
      "「我很高興我們上場比賽然後拿下勝利。我們先前的訓練做得很棒，我們今晚延續了這樣的狀態。」雷納德說。雷納德此戰雖然出現6次失誤，還吞下5次犯規，但瑕不掩瑜。\n",
      "\n",
      "「他為我們創造機會，他就是這麼做的。」快艇總教練瑞佛斯（Doc Rivers）說。\n",
      "\n",
      "除了雷納德的高效率穩定表現外，快艇板凳暴徒再度有出色發揮，威廉斯（Lou Williams）攻下21分7助攻5籃板，哈瑞爾（Montrezl Harrell）得到17分7籃板4助攻，快艇替補合力砍下60分，足足比湖人替補球員多了41分，成了比賽勝負的關鍵之一。\n",
      "\n",
      "談到雷納德和威廉斯的搭配情況，瑞佛斯表示：「我認為他們現在彼此之間僅相互熟悉10%到15%。他們錯過很多機會，隨著時間的推移，他們會變得越來越危險。」\n",
      "\n",
      "\n",
      "---------------------------------------\n"
     ]
    },
    {
     "data": {
      "text/html": [
       "<h1>失分創柯爾時代新高 柯瑞：檢討時場面肯定難堪</h1>"
      ],
      "text/plain": [
       "<IPython.core.display.HTML object>"
      ]
     },
     "metadata": {},
     "output_type": "display_data"
    },
    {
     "data": {
      "text/html": [
       "<span style=\"color:blue\">2019-10-25 15:12</span>"
      ],
      "text/plain": [
       "<IPython.core.display.HTML object>"
      ]
     },
     "metadata": {},
     "output_type": "display_data"
    },
    {
     "name": "stdout",
     "output_type": "stream",
     "text": [
      "今日（25號）讓快艇單場繳出62.5%整體命中率還有54.5%三分命中率，勇士不但吞下敗仗且痛失141分也寫下柯爾（Steve Kerr）執教時代最高紀錄。\n",
      "\n",
      "柯爾2014年執教勇士開始，球隊算上例行賽還有季後賽的對手單場最高得分140分，是由鵜鶘在今年1月16號所攻下，不過勇士當時憑藉傲人火力硬是拿到147分，依然摘下勝利，但對快艇就無法複製過往經驗。\n",
      "\n",
      "格林（Draymond Green）賽後難掩失望表示：「我們這場比賽表現實在糟糕透頂了，防守更是災難一場。」當被記者問到防守哪點出了問題，他更回應：「每個地方。」柯瑞（Stephen Curry）也坦承：「明天看影片檢討場面肯定很難堪。」\n",
      "\n",
      "至於柯爾自己則是指出：「這就是NBA，過去5年我們就像存在另個世界一樣，現在終於回到現實了。」他甚至補充：「這不會只是個案而已，今年我們很可能也會再面臨同樣狀況。」言下之意似乎預言防守問題將困擾球隊整季。\n",
      "\n",
      "---------------------------------------\n"
     ]
    },
    {
     "data": {
      "text/html": [
       "<h1>湖人主力休兵 柯瑞砍32分領軍大勝</h1>"
      ],
      "text/plain": [
       "<IPython.core.display.HTML object>"
      ]
     },
     "metadata": {},
     "output_type": "display_data"
    },
    {
     "data": {
      "text/html": [
       "<span style=\"color:blue\">2019-10-19 14:35</span>"
      ],
      "text/plain": [
       "<IPython.core.display.HTML object>"
      ]
     },
     "metadata": {},
     "output_type": "display_data"
    },
    {
     "name": "stdout",
     "output_type": "stream",
     "text": [
      "\n",
      "勇士和湖人在今天進行季前賽第4次交手，這也是最後一場熱身賽，詹姆斯（LeBron James）、戴維斯（Anthony Davis）、哈沃德（Dwight Howard）、麥基（JaVale McGee）、庫茲瑪（Kyle Kuzma）等主力球員全部休兵。\n",
      "\n",
      "勇士在柯瑞（Stephen Curry）和羅素（D'Angelo Russell）聯手攻下61分的優勢下，以124比103拿下勝利，這也是兩隊季前賽4戰以來，勇士取得的唯一一勝。\n",
      "\n",
      "柯瑞此役20投9中，包括三分球15投6中，拿下32分6助攻；羅素同樣砍進6記三分球，得到29分3籃板3助攻，格林（Draymond Green）9分12籃板3助攻3抄截，克里斯（Marquese Chriss）9分7籃板5助攻3抄截。\n",
      "\n",
      "和湖人簽下雙向合約的諾維爾（Zach Norvell Jr.），這場比賽三分球10投5中，獨拿全隊最高29分，另一位落選新秀卡考克（Devontae Cacok）進帳16分10籃板4助攻，安戴托昆波（Kostas Antetokounmpo）得到7分6籃板5阻攻。凱威爾波普（Kentavious Caldwell-Pope）則有25分的表現。\n",
      "\n",
      "\n",
      "---------------------------------------\n"
     ]
    },
    {
     "data": {
      "text/html": [
       "<h1>難忘上季東決失利 字母哥：以為贏定了</h1>"
      ],
      "text/plain": [
       "<IPython.core.display.HTML object>"
      ]
     },
     "metadata": {},
     "output_type": "display_data"
    },
    {
     "data": {
      "text/html": [
       "<span style=\"color:blue\">2019-10-19 14:13</span>"
      ],
      "text/plain": [
       "<IPython.core.display.HTML object>"
      ]
     },
     "metadata": {},
     "output_type": "display_data"
    },
    {
     "name": "stdout",
     "output_type": "stream",
     "text": [
      "\n",
      "公鹿隊在上季打出全聯盟最佳的戰績挺進季後賽，卻在東區決賽遭後來奪冠的暴龍隊逆轉，「字母哥」安戴托昆波（Giannis Antetokounmpo）受訪時談到上季錯失爭冠機會，仍感到遺憾，放眼未來自己要從失敗中吸取教訓。\n",
      "\n",
      "「這有些苦澀，當時我們系列賽2：0領先暴龍時，我真的以為我們要進總冠軍賽了，並開始展望未來。」安戴托昆波談到上季東區冠軍賽說，「我當時真的以為我們會贏，卻連續輸了四場，整個球季沒發生的事都發生了，如果之前你跟我說事情會這樣發展，我會拿出房子跟你打賭，這是不可能。」\n",
      "\n",
      "最終公鹿在先贏兩場之後遭暴龍連拿4勝遭淘汰，無緣爭冠，「我和整支球隊都很失落，但我們必須從中學習，現在談起那個時刻，我只能說大概那時我還沒準備好，還不夠成熟，但最重要的是要從失敗中記取教訓。」\n",
      "\n",
      "儘管最終無緣爭冠，「字母哥」的整季亮眼表現也受到外界肯定，他擊敗尋求衛冕的火箭隊球星哈登（James Harden），拿下生涯首座MVP獎項，不過這也引來哈登不滿，曾批評沒能獲獎是因為聯盟的「政治操作」和媒體刻意給他營造的形象，也有些聲音質疑安戴托昆波。\n",
      "\n",
      "「那是他們的意見，他們可能更支持哈登，但我永遠不會說我比哈登強，也不代表我會放棄這一個獎項或為此道歉。」安戴托昆波説：「現在獎盃還在我家裡呢！」\n",
      "\n",
      "\n",
      "---------------------------------------\n"
     ]
    },
    {
     "data": {
      "text/html": [
       "<h1>76人目標搶60勝 安比德：不惜代價奪取東區第一</h1>"
      ],
      "text/plain": [
       "<IPython.core.display.HTML object>"
      ]
     },
     "metadata": {},
     "output_type": "display_data"
    },
    {
     "data": {
      "text/html": [
       "<span style=\"color:blue\">2019-10-19 12:23</span>"
      ],
      "text/plain": [
       "<IPython.core.display.HTML object>"
      ]
     },
     "metadata": {},
     "output_type": "display_data"
    },
    {
     "name": "stdout",
     "output_type": "stream",
     "text": [
      "\n",
      "近日，安比德（Joel Embiid）在接受採訪時重申，球隊在新賽季需要打出最強防守，不計一切代價爭取60勝成績，並且奪下東區第一寶座。\n",
      "\n",
      "2018-19賽季，76人拿到了51勝，連續兩年突破50勝，戰績名列東區第三，並且闖到東區第二輪。76人當時和暴龍廝殺到搶七大戰，最後慘遭雷納德（Kawhi Leonard）一記石破天驚的三分絕殺彈淘汰出局，當時安比德還留下遺憾的淚水。\n",
      "\n",
      "「我期待球隊打出聯盟最好的防守，並至少贏得60勝，」安比德說，「我們要不惜一切代價去爭取拿到東區第一，無論需要拿到多少勝，我們都會努力去做，我們要讓這樣的目標變成現實。」\n",
      "\n",
      "今年休賽季76人陣容出現不小變動，雖然走了巴特勒（Jimmy Butler），但先後補進霍福特（Al Horford）和理查森（Josh Richardson）等，並且續約哈里斯（Tobias Harris），組成五門齊。\n",
      "\n",
      "「我們的主要目標就是贏球，我必須成為實現這個目標的催化劑，我要扮演領袖的角色，引領他們前進，我需要他們，他們也需要我，我們都要去做好各自的事情。」安比德說。\n",
      "\n",
      "\n",
      "---------------------------------------\n"
     ]
    },
    {
     "data": {
      "text/html": [
       "<h1>厄文歸隊無用 籃網不敵暴龍吞熱身賽首敗</h1>"
      ],
      "text/plain": [
       "<IPython.core.display.HTML object>"
      ]
     },
     "metadata": {},
     "output_type": "display_data"
    },
    {
     "data": {
      "text/html": [
       "<span style=\"color:blue\">2019-10-19 12:21</span>"
      ],
      "text/plain": [
       "<IPython.core.display.HTML object>"
      ]
     },
     "metadata": {},
     "output_type": "display_data"
    },
    {
     "name": "stdout",
     "output_type": "stream",
     "text": [
      "\n",
      "日前在上海賽僅出賽一分鐘，因臉部又遭撞傷退場的厄文（Kyrie Irving）今天歸隊，上場25分鐘，得到19分、3籃板、4助攻，但無法幫助籃網隊取得勝利，以107：123不敵尋求連霸的暴龍隊，吞下熱身賽首敗。\n",
      "\n",
      "厄文在上個月的一次訓練中不慎遭對手撞傷，導致左臉骨折，儘管不影響接下來的訓練及比賽，中國賽也如願成行，但在首站上海賽又傳出傷退消息，他在一次防守過程中遭到湖人朗多（Rajon Rondo）上臂撞擊到臉部，他隨即脫下防護面罩，表情痛苦的走下場。\n",
      "\n",
      "經過多日休養，厄文今天又化身「面具俠」重返賽場，首節雙方戰成28平，不過「熱機」完成的暴龍在次節展現兇猛火力，在戴維斯（Terence Davis）單節攻下十分帶領下，全隊攻下46分，一舉轟垮籃網防線。\n",
      "\n",
      "暴龍此役三分球如雨下，全場47投24中，其中繳出全隊最高18分的阿努諾比（OG Anunoby）及上季季後賽表現亮眼的范弗利特（Fred VanVleet）各貢獻4記，轟得對手暈頭轉向。\n",
      "\n",
      "而季前賽前三戰都未嚐敗績的籃網，今天在主場迎回缺陣9天的厄文，儘管他繳出全場最高分的表現，仍無法助隊取勝，以季前賽3勝1負迎接新球季，新球季開幕戰將於24日在主場迎戰灰狼隊。\n",
      "\n",
      "\n",
      "---------------------------------------\n"
     ]
    },
    {
     "data": {
      "text/html": [
       "<h1>裁麥克金尼留克里斯 柯爾：艱難的決定</h1>"
      ],
      "text/plain": [
       "<IPython.core.display.HTML object>"
      ]
     },
     "metadata": {},
     "output_type": "display_data"
    },
    {
     "data": {
      "text/html": [
       "<span style=\"color:blue\">2019-10-19 11:08</span>"
      ],
      "text/plain": [
       "<IPython.core.display.HTML object>"
      ]
     },
     "metadata": {},
     "output_type": "display_data"
    },
    {
     "name": "stdout",
     "output_type": "stream",
     "text": [
      "\n",
      "根據《The Athletic》記者查拉尼亞（Shams Charania）的報導，勇士隊將裁掉麥克金尼（Alfonzo McKinnie），為克里斯（Marquese Chriss）騰出一個陣容名額，今天與湖人隊的最後一場季前賽賽前，主帥柯爾（Steve Kerr）談到此事，坦言這是一個很艱難的決定。\n",
      "\n",
      "麥金尼在2015年選秀會上落選，之後陸續前往盧森堡和墨西哥打職業聯賽，上個賽季他加入暴龍，不過大部分時間都待在發展聯盟，之後在2018年與勇士簽下一紙兩年底薪合約，但此合約是非保障合約。\n",
      "\n",
      "今天與湖人的最後一場季前賽賽前，勇士主帥柯爾也被問到球隊的這個決定，「這真的是一個很艱難的決定，因為我們非常尊重麥克金尼，不僅是他在場上的表現，還有他私下的性格，他一直很棒、非常職業，就是你想擁有的球員，是NBA等級的球員。」\n",
      "\n",
      "柯爾認為做出這樣的決定，除了中鋒位置上的傷病困擾外，還有就是薪資的問題，「我們嘗試過找出方法留下他們兩人，但是我們沒能做到。因為我們中鋒位置上的傷病問題，加上克里斯在訓練營中表現出色，所以我們打算留下他，明天官方就會宣布。」\n",
      "\n",
      "克里斯則表示，還未從球隊官方那邊聽到什麼消息，但今天的比賽依舊會全力以赴，「我會像過去幾場比賽一樣對待今天的比賽，我仍然在努力證明自己，努力展示我屬於這裡。」\n",
      "\n",
      "\n",
      "---------------------------------------\n"
     ]
    },
    {
     "data": {
      "text/html": [
       "<h1>哈登狂轟44分 火箭客場撲滅熱火</h1>"
      ],
      "text/plain": [
       "<IPython.core.display.HTML object>"
      ]
     },
     "metadata": {},
     "output_type": "display_data"
    },
    {
     "data": {
      "text/html": [
       "<span style=\"color:blue\">2019-10-19 11:06</span>"
      ],
      "text/plain": [
       "<IPython.core.display.HTML object>"
      ]
     },
     "metadata": {},
     "output_type": "display_data"
    },
    {
     "name": "stdout",
     "output_type": "stream",
     "text": [
      "\n",
      "狀態出色的哈登（James Harden），繼前一場對馬刺砍下40分後，今天季前賽最後一戰面對熱火更是狂飆44分，帶領火箭以144比133撲滅熱火。\n",
      "\n",
      "哈登此戰26投12中，包括三分球16投8中、13罰12中，狂攻44分7助攻5籃板5抄截。在今年季前賽中，哈登6戰全部上場，平均得到31.2分9助攻6.5籃板2抄截。\n",
      "\n",
      "\n",
      "火箭團隊命中率達到52.3%，全場砍進22顆三分球，而且獲得42次罰球機會，足足比熱火多了24次。\n",
      "\n",
      "卡佩拉（Clint Capela）10投8中，拿到20分13籃板，葛登（Eric Gordon）得到23分，衛斯特布魯克（Russell Westbrook）進帳16分4籃板4助攻3抄截，豪斯（Danuel House Jr.）14分。\n",
      "\n",
      "熱火雖然落敗，但陣中未經選秀的後衛納恩（Kendrick Nunn）卻是技驚四座，全場27投15中，三分球10投6中，獨拿40分，其中有17分集中在第四節。納恩的表現也贏得總教練史波史特拉（Erik Spoelstra）的讚賞。\n",
      "\n",
      "赫洛（Tyler Herro）得到14分6籃板，阿德巴約（Bam Adebayo）13分11籃板6助攻，瓊斯（Derrick Jones Jr.）13分，德拉基奇（Goran Dragic）12分7助攻。\n",
      "\n",
      "\n",
      "---------------------------------------\n"
     ]
    },
    {
     "data": {
      "text/html": [
       "<h1>握「Three peat」商標權 萊里無心插柳發大財</h1>"
      ],
      "text/plain": [
       "<IPython.core.display.HTML object>"
      ]
     },
     "metadata": {},
     "output_type": "display_data"
    },
    {
     "data": {
      "text/html": [
       "<span style=\"color:blue\">2019-10-19 10:19</span>"
      ],
      "text/plain": [
       "<IPython.core.display.HTML object>"
      ]
     },
     "metadata": {},
     "output_type": "display_data"
    },
    {
     "name": "stdout",
     "output_type": "stream",
     "text": [
      "\n",
      "Lamigo桃猿3連霸商品使用3peat字樣，引發侵權疑慮，握有此字樣商標權的人不是別人，是鼎鼎有名的前NBA洛杉磯湖人、邁阿密熱火教頭萊里（Pat Riley），背後更有饒富趣味的故事。\n",
      "\n",
      "Three-peat商標權的故事，開始於1988年11月，時任NBA洛杉磯湖人總教練的萊里在前兩年率湖人奪得連霸，正準備挑戰三連霸。萊里表示，隊上的得分後衛史考特（Byron Scott）是說出Three-peat這個名詞的第一人。也有另外一說，是另一名後衛馬修斯（Wes Matthews）發明這個詞彙。\n",
      "\n",
      "萊里認為這個詞頗富商機，名下公司Riles & Co.隨即向美國政府註冊Three-peat使用在T恤、外套和帽子上的商標權。隔年湖人挑戰三連霸功敗垂成，但是後來不少職業球隊寫下三連霸，週邊商品都使用Three-peat字樣，也都付給萊里為數可觀的使用權利金，包括1991-93與1996-98的芝加哥公牛，2000-2002年的湖人，以及1998-2000年的大聯盟MLB紐約洋基。\n",
      "\n",
      "萊里在隨後數年，逐漸將商標權延伸至馬克杯、盤子、所有服飾、海報與貼紙等各式商品，同時註冊更多商標，至今Three peat、Three-peat、3-peat和3peat這四組字，商標權都在萊里手中。\n",
      "\n",
      "根據福斯新聞網2013年6月的一篇報導指出，一般授權費的行情為銷售金額的7%，實際上則是從5%至10%都有可能。沒有人得知萊里多年下來究竟賺了多少權利金，但他自己曾說大部份權利金都捐給慈善單位作為公益用途。\n",
      "\n",
      "許多年來，美國也曾出現不少團隊與個人挑戰這項商標權，2005年一群人以南加大美式足球隊教頭PeteCarroll之名想註冊Three-Pete，準備慶祝球隊寫下全美三連霸，結果遭法院駁回。還有其他人聲稱three-peat是一個很普遍的字，不該註冊為商標，但不為法院接受。\n",
      "\n",
      "\n",
      "---------------------------------------\n"
     ]
    },
    {
     "data": {
      "text/html": [
       "<h1>狀元威廉森傷勢評估 鵜鶘主帥樂觀看待</h1>"
      ],
      "text/plain": [
       "<IPython.core.display.HTML object>"
      ]
     },
     "metadata": {},
     "output_type": "display_data"
    },
    {
     "data": {
      "text/html": [
       "<span style=\"color:blue\">2019-10-19 10:09</span>"
      ],
      "text/plain": [
       "<IPython.core.display.HTML object>"
      ]
     },
     "metadata": {},
     "output_type": "display_data"
    },
    {
     "name": "stdout",
     "output_type": "stream",
     "text": [
      "\n",
      "紐奧良鵜鶘昨天宣布，威廉森（Zion Williamson）因右膝痠痛的關係，會缺席今天最後一場對尼克的季前賽，將接受進一步的檢查和傷勢評估，對於狀元郎的傷勢，主帥簡崔（Alvin Gentry）樂觀看待，還開起玩笑說：「當然了，他很好，他又沒死。」\n",
      "\n",
      "背負著狀元之名踏入NBA戰場，外界都給予威廉森極大期望，也十分關注他在新球季的表現，不過日前傳出他身體不適的消息，昨天鵜鶘官方也宣布威廉森因右膝痠痛將缺席球隊最後一場季前賽，將進行進一步檢查。\n",
      "\n",
      "近日鵜鶘總教練簡崔談到子弟兵的傷勢問題説：「我覺得是在和馬刺（台灣時間10月14日）的那場比賽中感到不適的，但我目前也還不知道詳細的檢查結果。」記者繼續追問簡崔是否對威廉森的傷勢感到樂觀時，他笑著說：「當然了，他很好，他又沒死。」\n",
      "\n",
      "而威廉森在今年對北卡一戰曾發生右膝扭傷，導致缺席6場比賽，夏季聯賽首戰也因左膝傷勢只上場8分鐘，但撇除傷病困擾，他在季前賽表現十分亮眼，4場比賽繳出場均23.3分、6.5籃板、2.3助攻、1.5抄截的成績，投籃命中率高達7成14。\n",
      "\n",
      "\n",
      "---------------------------------------\n"
     ]
    },
    {
     "data": {
      "text/html": [
       "<h1>砸700萬美元修建診所 喬丹：提供弱勢族群醫療</h1>"
      ],
      "text/plain": [
       "<IPython.core.display.HTML object>"
      ]
     },
     "metadata": {},
     "output_type": "display_data"
    },
    {
     "data": {
      "text/html": [
       "<span style=\"color:blue\">2019-10-19 10:00</span>"
      ],
      "text/plain": [
       "<IPython.core.display.HTML object>"
      ]
     },
     "metadata": {},
     "output_type": "display_data"
    },
    {
     "name": "stdout",
     "output_type": "stream",
     "text": [
      "\n",
      "NBA傳奇巨星、黃蜂隊老闆喬丹（Michael Jordan）近日出席他在夏洛特所資助的診所開業儀式，並在致詞時一度情緒激動落淚，「對我來說，能夠回饋多年來支持我的社區，對我來說是非常令人激動的事情。」 \n",
      "\n",
      "喬丹投入了700萬美元為夏洛特的兩間診所進行修建，其中一間位於北卡羅來納周最大的低收入地區，將提供給社區中未投保或投保不足的個人，為貧困人口提供醫療服務。\n",
      "\n",
      "近日喬丹出席這間名為「Novant Health Michael Jordan家庭醫療診所」的開業儀式，並在致詞時一度情緒激動落淚，他說：「身為父母、兒子站在你們面前，我是這社區中的一員，我的大家庭需要得到更多的關注，您看到我的名字，仍看到很多人在我身後，尤其是我對母親的承諾，最重要的就是關懷他人。」\n",
      "\n",
      "喬丹表示，雖然自己曾遠赴他鄉，到芝加哥伊利諾伊州等地追逐夢想，仍不會忘記自己的根在哪裡，「我不需要母親的提醒，我知道我回饋給夏洛特的不及於它給我的那樣多，這不是出於投資的考量，而是發自內心的做法，受到這座城市的鼓舞而激發起的熱情，這只是一個開始。」\n",
      "\n",
      "\n",
      "\n",
      "\n",
      "---------------------------------------\n"
     ]
    },
    {
     "data": {
      "text/html": [
       "<h1>「詐傷」換取灌籃機會？ 麥基：真的有撞到膝蓋</h1>"
      ],
      "text/plain": [
       "<IPython.core.display.HTML object>"
      ]
     },
     "metadata": {},
     "output_type": "display_data"
    },
    {
     "data": {
      "text/html": [
       "<span style=\"color:blue\">2019-10-19 09:38</span>"
      ],
      "text/plain": [
       "<IPython.core.display.HTML object>"
      ]
     },
     "metadata": {},
     "output_type": "display_data"
    },
    {
     "name": "stdout",
     "output_type": "stream",
     "text": [
      "\n",
      "湖人中鋒麥基（JaVale McGee）日前對戰前東家勇士比賽時，疑似詐傷走出場外，隨後又跑回場內接獲傳球灌籃得分，此舉引起不少網友討論，不過當事人在受訪時無奈表示「那個時候真得有撞到膝蓋」。\n",
      "\n",
      "湖人昨天主場進行與勇士熱身賽，比賽進行至第三節，開局沒多久麥基在一波進攻擋拆下滑時，疑似與勇士球員發生擦撞，導致隨後一跛一跛走至場邊，誰料沒多久，麥基就又踏進場中接獲戴維斯（Anthony Davis）的傳球，灌籃得手。\n",
      "\n",
      "\n",
      "\n",
      "此畫面被網友廣為流傳分享，一些球迷認為麥基是利用「詐傷」的方式騙了防守者，不過麥基也出面解釋：「我真的撞到膝蓋了，我走到場邊時，看到格林（Draymond Green）在守戴維斯。當時我想著：『忘掉膝蓋的疼痛，我要拿下分數』，所以我就跑回場內，接獲傳球之後灌籃。」\n",
      "\n",
      "They need to run this play for JaVale McGee in the regular season 😅 pic.twitter.com/v8haT2COd3— SportsCenter (@SportsCenter) October 17, 2019  \n",
      "\n",
      "---------------------------------------\n"
     ]
    },
    {
     "data": {
      "text/html": [
       "<h1>雷納德聯手板凳暴徒 快艇首戰衝破湖人</h1>"
      ],
      "text/plain": [
       "<IPython.core.display.HTML object>"
      ]
     },
     "metadata": {},
     "output_type": "display_data"
    },
    {
     "data": {
      "text/html": [
       "<span style=\"color:blue\">2019-10-23 13:29</span>"
      ],
      "text/plain": [
       "<IPython.core.display.HTML object>"
      ]
     },
     "metadata": {},
     "output_type": "display_data"
    }
   ],
   "source": [
    "for i in range(100):\n",
    "    NBANews(f'https://nba.udn.com/nba/cate/6754/-1/newest/{i}')"
   ]
  },
  {
   "cell_type": "code",
   "execution_count": null,
   "metadata": {},
   "outputs": [],
   "source": []
  }
 ],
 "metadata": {
  "kernelspec": {
   "display_name": "Python 3",
   "language": "python",
   "name": "python3"
  },
  "language_info": {
   "codemirror_mode": {
    "name": "ipython",
    "version": 3
   },
   "file_extension": ".py",
   "mimetype": "text/x-python",
   "name": "python",
   "nbconvert_exporter": "python",
   "pygments_lexer": "ipython3",
   "version": "3.7.4"
  }
 },
 "nbformat": 4,
 "nbformat_minor": 2
}
